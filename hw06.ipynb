{
 "cells": [
  {
   "cell_type": "markdown",
   "id": "788b0db3-a996-4536-a02b-972f5f1c8b10",
   "metadata": {},
   "source": [
    "### Homework 06"
   ]
  },
  {
   "cell_type": "code",
   "execution_count": 1,
   "id": "943f3fd9-7d30-4f3d-89d9-20fdc08bf1c0",
   "metadata": {
    "execution": {
     "iopub.execute_input": "2023-11-11T01:41:58.094026Z",
     "iopub.status.busy": "2023-11-11T01:41:58.093769Z",
     "iopub.status.idle": "2023-11-11T01:41:58.103282Z",
     "shell.execute_reply": "2023-11-11T01:41:58.102352Z",
     "shell.execute_reply.started": "2023-11-11T01:41:58.094004Z"
    }
   },
   "outputs": [],
   "source": [
    "from joy import *"
   ]
  },
  {
   "cell_type": "markdown",
   "id": "b9c4f6d3-5afd-471f-8150-df71bb031ed8",
   "metadata": {},
   "source": [
    "## Super Grid V2"
   ]
  },
  {
   "cell_type": "markdown",
   "id": "b84ebc25-267d-4d10-8b59-00c7c7329f21",
   "metadata": {},
   "source": [
    "This homework requires the following code."
   ]
  },
  {
   "cell_type": "code",
   "execution_count": 9,
   "id": "32581393-8760-488d-abc4-398d293e29dc",
   "metadata": {
    "execution": {
     "iopub.execute_input": "2023-11-11T01:47:25.760407Z",
     "iopub.status.busy": "2023-11-11T01:47:25.760150Z",
     "iopub.status.idle": "2023-11-11T01:47:25.765194Z",
     "shell.execute_reply": "2023-11-11T01:47:25.764612Z",
     "shell.execute_reply.started": "2023-11-11T01:47:25.760385Z"
    }
   },
   "outputs": [],
   "source": [
    "def super_grid_v2(shape_maker, n):\n",
    "    size = 300/n\n",
    "    r = size/2\n",
    "    x = -150+r\n",
    "    y = -150+r\n",
    "    shapes = []\n",
    "    for j in range(n):\n",
    "        for i in range(n):\n",
    "            c = shape_maker(size, row=j, column=i, n=n)|translate(x=x, y=y)\n",
    "            shapes.append(c)\n",
    "            x = x+size\n",
    "        y = y+size\n",
    "        x = -150+r\n",
    "    return combine(shapes)"
   ]
  },
  {
   "cell_type": "markdown",
   "id": "22c35711-1af2-40fe-9f2d-f47536e58a00",
   "metadata": {},
   "source": [
    "A blank shape."
   ]
  },
  {
   "cell_type": "code",
   "execution_count": null,
   "id": "5c35dbaf-a787-487d-ba19-debdde710c75",
   "metadata": {},
   "outputs": [],
   "source": [
    "blank = circle(r=0, stroke=\"none\")"
   ]
  },
  {
   "cell_type": "markdown",
   "id": "84959c6e-6325-49b5-a374-5720f77c88f0",
   "metadata": {},
   "source": [
    "The `concentric_circles` function is updated to handle 0 and negative values for `n`."
   ]
  },
  {
   "cell_type": "code",
   "execution_count": 20,
   "id": "6cc950d6-43fd-4fda-9928-592aeed8abbd",
   "metadata": {
    "execution": {
     "iopub.execute_input": "2023-11-11T02:06:04.567991Z",
     "iopub.status.busy": "2023-11-11T02:06:04.567734Z",
     "iopub.status.idle": "2023-11-11T02:06:04.572498Z",
     "shell.execute_reply": "2023-11-11T02:06:04.571565Z",
     "shell.execute_reply.started": "2023-11-11T02:06:04.567969Z"
    }
   },
   "outputs": [],
   "source": [
    "def concentric_circles(radius, n):\n",
    "    if n <= 0:\n",
    "        return blank\n",
    "\n",
    "    delta = radius/n\n",
    "    circles = [circle(r=i*delta) for i in range(1, n+1)]\n",
    "    return combine(circles)"
   ]
  },
  {
   "cell_type": "code",
   "execution_count": null,
   "id": "dfcf2f48-963b-4676-a253-5e8f0e77cbbf",
   "metadata": {},
   "outputs": [],
   "source": []
  },
  {
   "cell_type": "code",
   "execution_count": null,
   "id": "d61462e5-43fb-4742-b404-58c4102481ca",
   "metadata": {},
   "outputs": [],
   "source": []
  },
  {
   "cell_type": "markdown",
   "id": "18242d9a-fc9e-499d-9f38-c19401451e36",
   "metadata": {},
   "source": [
    "## Utilities"
   ]
  },
  {
   "cell_type": "markdown",
   "id": "796854b7-85bc-4f46-9a06-d33ad4099702",
   "metadata": {
    "execution": {
     "iopub.execute_input": "2023-11-11T01:42:32.340157Z",
     "iopub.status.busy": "2023-11-11T01:42:32.339816Z",
     "iopub.status.idle": "2023-11-11T01:42:32.345565Z",
     "shell.execute_reply": "2023-11-11T01:42:32.344234Z",
     "shell.execute_reply.started": "2023-11-11T01:42:32.340132Z"
    }
   },
   "source": [
    "Here are some utilities for you to solve this exercise. "
   ]
  },
  {
   "cell_type": "markdown",
   "id": "d4098607-938a-4a14-93a0-0c1047b75b5d",
   "metadata": {},
   "source": [
    "Install the python package called tabulate to print tables by running the following command."
   ]
  },
  {
   "cell_type": "code",
   "execution_count": 3,
   "id": "2b8ce736-0c23-46ba-8d87-318b1b58bbea",
   "metadata": {
    "execution": {
     "iopub.execute_input": "2023-11-11T01:43:07.888524Z",
     "iopub.status.busy": "2023-11-11T01:43:07.888234Z",
     "iopub.status.idle": "2023-11-11T01:43:10.114437Z",
     "shell.execute_reply": "2023-11-11T01:43:10.113770Z",
     "shell.execute_reply.started": "2023-11-11T01:43:07.888500Z"
    }
   },
   "outputs": [
    {
     "name": "stdout",
     "output_type": "stream",
     "text": [
      "Defaulting to user installation because normal site-packages is not writeable\n",
      "Requirement already satisfied: tabulate in /opt/tljh/user/lib/python3.10/site-packages (0.9.0)\n"
     ]
    }
   ],
   "source": [
    "!python -m pip install tabulate"
   ]
  },
  {
   "cell_type": "markdown",
   "id": "172b56c0-7a8b-4099-a188-660d48340633",
   "metadata": {
    "execution": {
     "iopub.execute_input": "2023-11-11T01:44:24.003976Z",
     "iopub.status.busy": "2023-11-11T01:44:24.003720Z",
     "iopub.status.idle": "2023-11-11T01:44:24.007215Z",
     "shell.execute_reply": "2023-11-11T01:44:24.006642Z",
     "shell.execute_reply.started": "2023-11-11T01:44:24.003954Z"
    }
   },
   "source": [
    "### Show Table"
   ]
  },
  {
   "cell_type": "markdown",
   "id": "d53c3d47-aa3d-4aa7-81ec-b68846bdd5e6",
   "metadata": {},
   "source": [
    "The following `show_table` function takes an experession using `row`, `column` and `n` and shows the value of that expression for every cell in a grid of size `n`.\n",
    "\n",
    "Please note that you need to specify the expression as a string."
   ]
  },
  {
   "cell_type": "code",
   "execution_count": 4,
   "id": "bc3ddd3a-6a37-45ab-b2e4-14fc2ba4dc98",
   "metadata": {
    "execution": {
     "iopub.execute_input": "2023-11-11T01:44:01.975548Z",
     "iopub.status.busy": "2023-11-11T01:44:01.975271Z",
     "iopub.status.idle": "2023-11-11T01:44:01.985069Z",
     "shell.execute_reply": "2023-11-11T01:44:01.984105Z",
     "shell.execute_reply.started": "2023-11-11T01:44:01.975525Z"
    }
   },
   "outputs": [],
   "source": [
    "from tabulate import tabulate\n",
    "\n",
    "def show_table(n, expr):\n",
    "    rows = list(range(n))[::-1]\n",
    "    columns = list(range(n))\n",
    "    headers = [\"\"] + [f\"C{c}\" for c in columns]\n",
    "    data = [[f\"R{row}\"] +[eval(expr, {\"row\": row, \"column\": column, \"n\": n}) for column in columns] for row in rows]    \n",
    "    print(tabulate(data, headers=headers))"
   ]
  },
  {
   "cell_type": "code",
   "execution_count": 7,
   "id": "3c673671-d5de-4b1a-b72e-ce303284673f",
   "metadata": {
    "execution": {
     "iopub.execute_input": "2023-11-11T01:45:32.101764Z",
     "iopub.status.busy": "2023-11-11T01:45:32.101447Z",
     "iopub.status.idle": "2023-11-11T01:45:32.106995Z",
     "shell.execute_reply": "2023-11-11T01:45:32.106351Z",
     "shell.execute_reply.started": "2023-11-11T01:45:32.101737Z"
    }
   },
   "outputs": [
    {
     "name": "stdout",
     "output_type": "stream",
     "text": [
      "      C0    C1    C2    C3    C4\n",
      "--  ----  ----  ----  ----  ----\n",
      "R4     0     1     2     3     4\n",
      "R3     0     1     2     3     4\n",
      "R2     0     1     2     3     4\n",
      "R1     0     1     2     3     4\n",
      "R0     0     1     2     3     4\n"
     ]
    }
   ],
   "source": [
    "show_table(5, \"column\")"
   ]
  },
  {
   "cell_type": "code",
   "execution_count": 8,
   "id": "573fde5e-3f0a-42ab-994e-1faf51ef95e4",
   "metadata": {
    "execution": {
     "iopub.execute_input": "2023-11-11T01:45:36.094308Z",
     "iopub.status.busy": "2023-11-11T01:45:36.094049Z",
     "iopub.status.idle": "2023-11-11T01:45:36.099089Z",
     "shell.execute_reply": "2023-11-11T01:45:36.098429Z",
     "shell.execute_reply.started": "2023-11-11T01:45:36.094287Z"
    }
   },
   "outputs": [
    {
     "name": "stdout",
     "output_type": "stream",
     "text": [
      "      C0    C1    C2    C3    C4\n",
      "--  ----  ----  ----  ----  ----\n",
      "R4     1     2     3     4     5\n",
      "R3     1     2     3     4     5\n",
      "R2     1     2     3     4     5\n",
      "R1     1     2     3     4     5\n",
      "R0     1     2     3     4     5\n"
     ]
    }
   ],
   "source": [
    "show_table(5, \"column + 1\")"
   ]
  },
  {
   "cell_type": "markdown",
   "id": "58af061d-bb64-4935-984e-c0b726e5a050",
   "metadata": {},
   "source": [
    "You can explore interesting patterns with `show_table`, before using it with `super_grid_v2`."
   ]
  },
  {
   "cell_type": "markdown",
   "id": "d5c4196b-18fa-4554-b153-c1c08d57c237",
   "metadata": {},
   "source": [
    "You can try with interesting functions."
   ]
  },
  {
   "cell_type": "code",
   "execution_count": 11,
   "id": "c5539d91-a0a1-4d14-8010-11e4c6d42f42",
   "metadata": {
    "execution": {
     "iopub.execute_input": "2023-11-11T01:48:53.841563Z",
     "iopub.status.busy": "2023-11-11T01:48:53.841296Z",
     "iopub.status.idle": "2023-11-11T01:48:53.846343Z",
     "shell.execute_reply": "2023-11-11T01:48:53.845742Z",
     "shell.execute_reply.started": "2023-11-11T01:48:53.841540Z"
    }
   },
   "outputs": [
    {
     "name": "stdout",
     "output_type": "stream",
     "text": [
      "      C0    C1    C2    C3    C4\n",
      "--  ----  ----  ----  ----  ----\n",
      "R4     0     1     2     3     4\n",
      "R3     0     1     2     3     3\n",
      "R2     0     1     2     2     2\n",
      "R1     0     1     1     1     1\n",
      "R0     0     0     0     0     0\n"
     ]
    }
   ],
   "source": [
    "show_table(5, \"min(row, column)\")"
   ]
  },
  {
   "cell_type": "code",
   "execution_count": 12,
   "id": "fe28b1f2-b7dc-4a37-894d-c8f9864a4662",
   "metadata": {
    "execution": {
     "iopub.execute_input": "2023-11-11T01:49:01.554349Z",
     "iopub.status.busy": "2023-11-11T01:49:01.554080Z",
     "iopub.status.idle": "2023-11-11T01:49:01.559343Z",
     "shell.execute_reply": "2023-11-11T01:49:01.558167Z",
     "shell.execute_reply.started": "2023-11-11T01:49:01.554327Z"
    }
   },
   "outputs": [
    {
     "name": "stdout",
     "output_type": "stream",
     "text": [
      "      C0    C1    C2    C3    C4\n",
      "--  ----  ----  ----  ----  ----\n",
      "R4     4     4     4     4     4\n",
      "R3     3     3     3     3     4\n",
      "R2     2     2     2     3     4\n",
      "R1     1     1     2     3     4\n",
      "R0     0     1     2     3     4\n"
     ]
    }
   ],
   "source": [
    "show_table(5, \"max(row, column)\")"
   ]
  },
  {
   "cell_type": "code",
   "execution_count": 14,
   "id": "d6e25597-4f42-4c6d-8497-3b47369ae6b2",
   "metadata": {
    "execution": {
     "iopub.execute_input": "2023-11-11T01:50:05.104787Z",
     "iopub.status.busy": "2023-11-11T01:50:05.104277Z",
     "iopub.status.idle": "2023-11-11T01:50:05.109331Z",
     "shell.execute_reply": "2023-11-11T01:50:05.108527Z",
     "shell.execute_reply.started": "2023-11-11T01:50:05.104764Z"
    }
   },
   "outputs": [
    {
     "name": "stdout",
     "output_type": "stream",
     "text": [
      "      C0    C1    C2    C3    C4\n",
      "--  ----  ----  ----  ----  ----\n",
      "R4     4     3     2     1     0\n",
      "R3     3     2     1     0    -1\n",
      "R2     2     1     0    -1    -2\n",
      "R1     1     0    -1    -2    -3\n",
      "R0     0    -1    -2    -3    -4\n"
     ]
    }
   ],
   "source": [
    "show_table(5, \"row-column\")"
   ]
  },
  {
   "cell_type": "markdown",
   "id": "73fb40da-3021-4e0b-8247-c390cc1f4214",
   "metadata": {},
   "source": [
    "The `abs` function computes the absolute value of a number. If we give a negative number, it converts it to a positive number."
   ]
  },
  {
   "cell_type": "code",
   "execution_count": 15,
   "id": "f8d20bb1-a76a-48aa-90a5-c7b2dcdad493",
   "metadata": {
    "execution": {
     "iopub.execute_input": "2023-11-11T01:50:25.923850Z",
     "iopub.status.busy": "2023-11-11T01:50:25.923194Z",
     "iopub.status.idle": "2023-11-11T01:50:25.928549Z",
     "shell.execute_reply": "2023-11-11T01:50:25.927893Z",
     "shell.execute_reply.started": "2023-11-11T01:50:25.923827Z"
    }
   },
   "outputs": [
    {
     "name": "stdout",
     "output_type": "stream",
     "text": [
      "      C0    C1    C2    C3    C4\n",
      "--  ----  ----  ----  ----  ----\n",
      "R4     4     3     2     1     0\n",
      "R3     3     2     1     0     1\n",
      "R2     2     1     0     1     2\n",
      "R1     1     0     1     2     3\n",
      "R0     0     1     2     3     4\n"
     ]
    }
   ],
   "source": [
    "show_table(5, \"abs(row-column)\")"
   ]
  },
  {
   "cell_type": "code",
   "execution_count": 13,
   "id": "2d2fe37c-3020-437a-8cce-89335ce885ce",
   "metadata": {
    "execution": {
     "iopub.execute_input": "2023-11-11T01:49:16.366968Z",
     "iopub.status.busy": "2023-11-11T01:49:16.366701Z",
     "iopub.status.idle": "2023-11-11T01:49:16.371235Z",
     "shell.execute_reply": "2023-11-11T01:49:16.370644Z",
     "shell.execute_reply.started": "2023-11-11T01:49:16.366946Z"
    }
   },
   "outputs": [
    {
     "name": "stdout",
     "output_type": "stream",
     "text": [
      "      C0    C1    C2    C3    C4\n",
      "--  ----  ----  ----  ----  ----\n",
      "R4     1     1     1     1     1\n",
      "R3     2     2     2     2     2\n",
      "R2     3     3     3     3     3\n",
      "R1     4     4     4     4     4\n",
      "R0     5     5     5     5     5\n"
     ]
    }
   ],
   "source": [
    "show_table(5, \"n-row\")"
   ]
  },
  {
   "cell_type": "markdown",
   "id": "ec25eca1-ec8e-48ed-90ba-f1a8f85f7d82",
   "metadata": {},
   "source": [
    "The other interesting mathematical function is remainder. In Python, we use the `%` operator to compute the remainder."
   ]
  },
  {
   "cell_type": "code",
   "execution_count": 16,
   "id": "70605328-5f90-49af-9bce-7dfbfc52b0bd",
   "metadata": {
    "execution": {
     "iopub.execute_input": "2023-11-11T01:52:12.046467Z",
     "iopub.status.busy": "2023-11-11T01:52:12.046172Z",
     "iopub.status.idle": "2023-11-11T01:52:12.054567Z",
     "shell.execute_reply": "2023-11-11T01:52:12.053726Z",
     "shell.execute_reply.started": "2023-11-11T01:52:12.046445Z"
    }
   },
   "outputs": [
    {
     "data": {
      "text/plain": [
       "1"
      ]
     },
     "execution_count": 16,
     "metadata": {},
     "output_type": "execute_result"
    }
   ],
   "source": [
    "7 % 2"
   ]
  },
  {
   "cell_type": "code",
   "execution_count": 17,
   "id": "82631a4b-af7d-439a-bb3d-86e4b5c15b1a",
   "metadata": {
    "execution": {
     "iopub.execute_input": "2023-11-11T01:52:18.401502Z",
     "iopub.status.busy": "2023-11-11T01:52:18.401234Z",
     "iopub.status.idle": "2023-11-11T01:52:18.406801Z",
     "shell.execute_reply": "2023-11-11T01:52:18.405989Z",
     "shell.execute_reply.started": "2023-11-11T01:52:18.401480Z"
    }
   },
   "outputs": [
    {
     "data": {
      "text/plain": [
       "3"
      ]
     },
     "execution_count": 17,
     "metadata": {},
     "output_type": "execute_result"
    }
   ],
   "source": [
    "7 % 4"
   ]
  },
  {
   "cell_type": "markdown",
   "id": "db57dcb3-2345-40c1-b5e2-b33bb8f15b51",
   "metadata": {},
   "source": [
    "We can use remainder to create interesting repeating patterns."
   ]
  },
  {
   "cell_type": "code",
   "execution_count": 18,
   "id": "b3d73c25-50ac-4af9-96f8-93fa6b206bc5",
   "metadata": {
    "execution": {
     "iopub.execute_input": "2023-11-11T01:52:48.807975Z",
     "iopub.status.busy": "2023-11-11T01:52:48.807720Z",
     "iopub.status.idle": "2023-11-11T01:52:48.814966Z",
     "shell.execute_reply": "2023-11-11T01:52:48.814093Z",
     "shell.execute_reply.started": "2023-11-11T01:52:48.807953Z"
    }
   },
   "outputs": [
    {
     "name": "stdout",
     "output_type": "stream",
     "text": [
      "       C0    C1    C2    C3    C4    C5    C6    C7    C8    C9    C10    C11\n",
      "---  ----  ----  ----  ----  ----  ----  ----  ----  ----  ----  -----  -----\n",
      "R11     2     2     2     2     2     2     2     2     2     2      2      2\n",
      "R10     1     1     1     1     1     1     1     1     1     1      1      1\n",
      "R9      0     0     0     0     0     0     0     0     0     0      0      0\n",
      "R8      2     2     2     2     2     2     2     2     2     2      2      2\n",
      "R7      1     1     1     1     1     1     1     1     1     1      1      1\n",
      "R6      0     0     0     0     0     0     0     0     0     0      0      0\n",
      "R5      2     2     2     2     2     2     2     2     2     2      2      2\n",
      "R4      1     1     1     1     1     1     1     1     1     1      1      1\n",
      "R3      0     0     0     0     0     0     0     0     0     0      0      0\n",
      "R2      2     2     2     2     2     2     2     2     2     2      2      2\n",
      "R1      1     1     1     1     1     1     1     1     1     1      1      1\n",
      "R0      0     0     0     0     0     0     0     0     0     0      0      0\n"
     ]
    }
   ],
   "source": [
    "show_table(12, \"row%3\")"
   ]
  },
  {
   "cell_type": "markdown",
   "id": "8c5e1f16-2026-4ac1-a669-fcf1a8aa571a",
   "metadata": {},
   "source": [
    "## Problem 1"
   ]
  },
  {
   "cell_type": "markdown",
   "id": "d7d7b5a3-63f7-4a4b-ae67-1e4215c87cb6",
   "metadata": {},
   "source": [
    "Make the following pattern.\n",
    "\n",
    "![](images/hw06-supergrid-1.svg)"
   ]
  },
  {
   "cell_type": "code",
   "execution_count": null,
   "id": "d0d226be-6125-4ca2-add7-2bfd93046ccb",
   "metadata": {},
   "outputs": [],
   "source": []
  },
  {
   "cell_type": "code",
   "execution_count": null,
   "id": "b53068df-2a25-4367-a6bd-9a4ca43c0a31",
   "metadata": {},
   "outputs": [],
   "source": []
  },
  {
   "cell_type": "code",
   "execution_count": null,
   "id": "0333c99b-f147-471b-83f1-a050b5a7b33a",
   "metadata": {},
   "outputs": [],
   "source": []
  },
  {
   "cell_type": "markdown",
   "id": "0ef62c80-0961-47ce-84cb-2f06068ccdd2",
   "metadata": {
    "execution": {
     "iopub.execute_input": "2023-11-11T01:54:17.494440Z",
     "iopub.status.busy": "2023-11-11T01:54:17.493743Z",
     "iopub.status.idle": "2023-11-11T01:54:17.498067Z",
     "shell.execute_reply": "2023-11-11T01:54:17.497421Z",
     "shell.execute_reply.started": "2023-11-11T01:54:17.494406Z"
    }
   },
   "source": [
    "## Problem 2"
   ]
  },
  {
   "cell_type": "markdown",
   "id": "95123d5a-5c6c-48af-bbfd-431f817c0675",
   "metadata": {},
   "source": [
    "Make the following pattern.\n",
    "\n",
    "![](images/hw06-supergrid-2.svg)\n"
   ]
  },
  {
   "cell_type": "markdown",
   "id": "e42a0791-055f-471e-9b46-dc05e5093809",
   "metadata": {},
   "source": [
    "## Problem 3"
   ]
  },
  {
   "cell_type": "markdown",
   "id": "8528a682-f72c-4dfa-89a0-519b457ea380",
   "metadata": {},
   "source": [
    "Make the following pattern.\n",
    "\n",
    "![](images/hw06-supergrid-3.svg)\n"
   ]
  },
  {
   "cell_type": "code",
   "execution_count": null,
   "id": "fb2a51b4-df5e-4e1c-88f2-1fe44098fb91",
   "metadata": {},
   "outputs": [],
   "source": []
  },
  {
   "cell_type": "code",
   "execution_count": null,
   "id": "d6180c46-d1c3-48be-a22b-aa91d940272a",
   "metadata": {},
   "outputs": [],
   "source": []
  },
  {
   "cell_type": "markdown",
   "id": "af9f6394-d9de-4a9b-9628-13ce35ff68cd",
   "metadata": {},
   "source": [
    "## Problem 4"
   ]
  },
  {
   "cell_type": "markdown",
   "id": "e7f19eaa-3f04-4cf3-8c8f-dc6ac39423a2",
   "metadata": {},
   "source": [
    "Make the following pattern.\n",
    "\n",
    "![](images/hw06-supergrid-4.svg)\n"
   ]
  },
  {
   "cell_type": "code",
   "execution_count": null,
   "id": "dd4f6981-e63f-4e88-882f-7de3369f88ee",
   "metadata": {},
   "outputs": [],
   "source": []
  },
  {
   "cell_type": "code",
   "execution_count": null,
   "id": "2fd0888d-4b3e-41a4-9d6d-14c8439651f6",
   "metadata": {},
   "outputs": [],
   "source": []
  },
  {
   "cell_type": "markdown",
   "id": "a2fc1934-05fd-403c-a921-372db325ccec",
   "metadata": {},
   "source": [
    "## Problem 5"
   ]
  },
  {
   "cell_type": "markdown",
   "id": "26df3852-b261-4779-8013-c1e0574af345",
   "metadata": {},
   "source": [
    "Make the following pattern.\n",
    "\n",
    "![](images/hw06-supergrid-5.svg)"
   ]
  },
  {
   "cell_type": "code",
   "execution_count": null,
   "id": "64908146-77de-434c-95e4-2b4686426b86",
   "metadata": {},
   "outputs": [],
   "source": []
  }
 ],
 "metadata": {
  "kernelspec": {
   "display_name": "Python 3 (ipykernel)",
   "language": "python",
   "name": "python3"
  },
  "language_info": {
   "codemirror_mode": {
    "name": "ipython",
    "version": 3
   },
   "file_extension": ".py",
   "mimetype": "text/x-python",
   "name": "python",
   "nbconvert_exporter": "python",
   "pygments_lexer": "ipython3",
   "version": "3.10.10"
  }
 },
 "nbformat": 4,
 "nbformat_minor": 5
}
