{
 "cells": [
  {
   "cell_type": "markdown",
   "id": "2bd947d3-9615-45e3-bb56-67eb721eb881",
   "metadata": {},
   "source": [
    "# Home Work - 04"
   ]
  },
  {
   "cell_type": "code",
   "execution_count": 1,
   "id": "1e1332fe-6afc-4d2b-a061-6e3cfb5f0210",
   "metadata": {
    "execution": {
     "iopub.execute_input": "2023-10-13T03:55:11.419491Z",
     "iopub.status.busy": "2023-10-13T03:55:11.419157Z",
     "iopub.status.idle": "2023-10-13T03:55:11.430485Z",
     "shell.execute_reply": "2023-10-13T03:55:11.429300Z",
     "shell.execute_reply.started": "2023-10-13T03:55:11.419461Z"
    }
   },
   "outputs": [],
   "source": [
    "from joy import *"
   ]
  },
  {
   "cell_type": "markdown",
   "id": "1fd2daf2-d832-42de-8996-b9adddd77e3b",
   "metadata": {},
   "source": [
    "## Problem 1: Random Concentric Circles in a 6x6 Grid"
   ]
  },
  {
   "cell_type": "markdown",
   "id": "1195b326-699b-4a26-9681-fb9fd12b35c8",
   "metadata": {},
   "source": [
    "Arrange random concentric circles in a 6x6 grid as shown in the image below.\n",
    "\n",
    "\n",
    "![](images/hw4-random-circles-in-66grid.png)"
   ]
  },
  {
   "cell_type": "code",
   "execution_count": 4,
   "id": "f6757a44-0820-4af6-83b7-1adc333a61a5",
   "metadata": {
    "execution": {
     "iopub.execute_input": "2023-10-13T03:55:44.209470Z",
     "iopub.status.busy": "2023-10-13T03:55:44.209134Z",
     "iopub.status.idle": "2023-10-13T03:55:44.218227Z",
     "shell.execute_reply": "2023-10-13T03:55:44.217294Z",
     "shell.execute_reply.started": "2023-10-13T03:55:44.209447Z"
    }
   },
   "outputs": [],
   "source": [
    "def circle_row(n):\n",
    "    return circle(x=-125, y=125, r=(25))|repeat(n, translate(x=50))"
   ]
  },
  {
   "cell_type": "code",
   "execution_count": 6,
   "id": "1bc96fe7-48ac-4493-be6d-9bae9f0329c1",
   "metadata": {
    "execution": {
     "iopub.execute_input": "2023-10-13T03:55:49.429973Z",
     "iopub.status.busy": "2023-10-13T03:55:49.429477Z",
     "iopub.status.idle": "2023-10-13T03:55:49.437264Z",
     "shell.execute_reply": "2023-10-13T03:55:49.436250Z",
     "shell.execute_reply.started": "2023-10-13T03:55:49.429948Z"
    }
   },
   "outputs": [
    {
     "data": {
      "image/svg+xml": [
       "<svg width=\"300\" height=\"300\" viewBox=\"-150 -150 300 300\" fill=\"none\" stroke=\"black\" xmlns=\"http://www.w3.org/2000/svg\" xmlns:xlink=\"http://www.w3.org/1999/xlink\">\n",
       "<g transform=\"scale(1 -1)\">\n",
       "  <g>\n",
       "    <defs>\n",
       "      <g id=\"s-3-WsUV\">\n",
       "        <defs>\n",
       "          <circle cx=\"-125\" cy=\"125\" r=\"25\" id=\"s-2-WsUV\" />\n",
       "        </defs>\n",
       "        <g>\n",
       "          <use xlink:href=\"#s-2-WsUV\" />\n",
       "          <g transform=\"translate(50 0)\">\n",
       "            <use xlink:href=\"#s-2-WsUV\" />\n",
       "            <g transform=\"translate(50 0)\">\n",
       "              <use xlink:href=\"#s-2-WsUV\" />\n",
       "              <g transform=\"translate(50 0)\">\n",
       "                <use xlink:href=\"#s-2-WsUV\" />\n",
       "                <g transform=\"translate(50 0)\">\n",
       "                  <use xlink:href=\"#s-2-WsUV\" />\n",
       "                  <use xlink:href=\"#s-2-WsUV\" transform=\"translate(50 0)\" />\n",
       "                </g>\n",
       "              </g>\n",
       "            </g>\n",
       "          </g>\n",
       "        </g>\n",
       "      </g>\n",
       "    </defs>\n",
       "    <g>\n",
       "      <use xlink:href=\"#s-3-WsUV\" />\n",
       "      <g transform=\"translate(0 -50)\">\n",
       "        <use xlink:href=\"#s-3-WsUV\" />\n",
       "        <g transform=\"translate(0 -50)\">\n",
       "          <use xlink:href=\"#s-3-WsUV\" />\n",
       "          <g transform=\"translate(0 -50)\">\n",
       "            <use xlink:href=\"#s-3-WsUV\" />\n",
       "            <g transform=\"translate(0 -50)\">\n",
       "              <use xlink:href=\"#s-3-WsUV\" />\n",
       "              <use xlink:href=\"#s-3-WsUV\" transform=\"translate(0 -50)\" />\n",
       "            </g>\n",
       "          </g>\n",
       "        </g>\n",
       "      </g>\n",
       "    </g>\n",
       "  </g>\n",
       "</g>\n",
       "</svg>\n"
      ],
      "text/plain": [
       "<g {}>"
      ]
     },
     "execution_count": 6,
     "metadata": {},
     "output_type": "execute_result"
    }
   ],
   "source": [
    "circle_row(6)|repeat(6, translate(y=-50))"
   ]
  },
  {
   "cell_type": "code",
   "execution_count": null,
   "id": "b7230821-1e96-4029-a2c3-09b2efe07487",
   "metadata": {},
   "outputs": [],
   "source": []
  },
  {
   "cell_type": "code",
   "execution_count": null,
   "id": "9df33a3b-c44a-487d-b3b5-b2c7ab3f4672",
   "metadata": {},
   "outputs": [],
   "source": []
  },
  {
   "cell_type": "markdown",
   "id": "0d06c863-2a23-4a76-ad9d-25f93e15605e",
   "metadata": {},
   "source": [
    "## Problem 2: : Random Concentric Squares in a 6x6 Grid"
   ]
  },
  {
   "cell_type": "markdown",
   "id": "ed5d50d6-d91f-4286-b5a1-aa57469cae9c",
   "metadata": {},
   "source": [
    "Can you make the solution to the above problem generic enough that it could be used to make a 6x6 grid of random concentric squares as shown in the image below.\n",
    "\n",
    "![](images/hw4-random-squares-in-66grid.png)"
   ]
  },
  {
   "cell_type": "code",
   "execution_count": 7,
   "id": "e1e3606f-bda2-4e64-9eef-4379a01e92d8",
   "metadata": {
    "execution": {
     "iopub.execute_input": "2023-10-13T03:55:56.606748Z",
     "iopub.status.busy": "2023-10-13T03:55:56.606449Z",
     "iopub.status.idle": "2023-10-13T03:55:56.611852Z",
     "shell.execute_reply": "2023-10-13T03:55:56.610635Z",
     "shell.execute_reply.started": "2023-10-13T03:55:56.606724Z"
    }
   },
   "outputs": [],
   "source": [
    "def square_row():\n",
    "    return rectangle(w=45, h=45, x=-125, y=125)|repeat(6, translate(x=50))"
   ]
  },
  {
   "cell_type": "code",
   "execution_count": 8,
   "id": "19e1d89b-2168-4b38-ba28-cd5a5ffff3e3",
   "metadata": {
    "execution": {
     "iopub.execute_input": "2023-10-13T03:55:56.779650Z",
     "iopub.status.busy": "2023-10-13T03:55:56.779356Z",
     "iopub.status.idle": "2023-10-13T03:55:56.786134Z",
     "shell.execute_reply": "2023-10-13T03:55:56.785280Z",
     "shell.execute_reply.started": "2023-10-13T03:55:56.779625Z"
    }
   },
   "outputs": [
    {
     "data": {
      "image/svg+xml": [
       "<svg width=\"300\" height=\"300\" viewBox=\"-150 -150 300 300\" fill=\"none\" stroke=\"black\" xmlns=\"http://www.w3.org/2000/svg\" xmlns:xlink=\"http://www.w3.org/1999/xlink\">\n",
       "<g transform=\"scale(1 -1)\">\n",
       "  <g>\n",
       "    <defs>\n",
       "      <rect x=\"-147.5\" y=\"102.5\" width=\"45\" height=\"45\" id=\"s-4-WsUV\" />\n",
       "    </defs>\n",
       "    <g>\n",
       "      <use xlink:href=\"#s-4-WsUV\" />\n",
       "      <g transform=\"translate(50 0)\">\n",
       "        <use xlink:href=\"#s-4-WsUV\" />\n",
       "        <g transform=\"translate(50 0)\">\n",
       "          <use xlink:href=\"#s-4-WsUV\" />\n",
       "          <g transform=\"translate(50 0)\">\n",
       "            <use xlink:href=\"#s-4-WsUV\" />\n",
       "            <g transform=\"translate(50 0)\">\n",
       "              <use xlink:href=\"#s-4-WsUV\" />\n",
       "              <use xlink:href=\"#s-4-WsUV\" transform=\"translate(50 0)\" />\n",
       "            </g>\n",
       "          </g>\n",
       "        </g>\n",
       "      </g>\n",
       "    </g>\n",
       "  </g>\n",
       "</g>\n",
       "</svg>\n"
      ],
      "text/plain": [
       "<g {}>"
      ]
     },
     "execution_count": 8,
     "metadata": {},
     "output_type": "execute_result"
    }
   ],
   "source": [
    "square_row()"
   ]
  },
  {
   "cell_type": "code",
   "execution_count": 9,
   "id": "48c438d9-a17f-4126-a943-592d052644ac",
   "metadata": {
    "execution": {
     "iopub.execute_input": "2023-10-13T03:55:56.964070Z",
     "iopub.status.busy": "2023-10-13T03:55:56.963374Z",
     "iopub.status.idle": "2023-10-13T03:55:56.971008Z",
     "shell.execute_reply": "2023-10-13T03:55:56.970106Z",
     "shell.execute_reply.started": "2023-10-13T03:55:56.964042Z"
    }
   },
   "outputs": [
    {
     "data": {
      "image/svg+xml": [
       "<svg width=\"300\" height=\"300\" viewBox=\"-150 -150 300 300\" fill=\"none\" stroke=\"black\" xmlns=\"http://www.w3.org/2000/svg\" xmlns:xlink=\"http://www.w3.org/1999/xlink\">\n",
       "<g transform=\"scale(1 -1)\">\n",
       "  <g>\n",
       "    <defs>\n",
       "      <g id=\"s-6-WsUV\">\n",
       "        <defs>\n",
       "          <rect x=\"-147.5\" y=\"102.5\" width=\"45\" height=\"45\" id=\"s-5-WsUV\" />\n",
       "        </defs>\n",
       "        <g>\n",
       "          <use xlink:href=\"#s-5-WsUV\" />\n",
       "          <g transform=\"translate(50 0)\">\n",
       "            <use xlink:href=\"#s-5-WsUV\" />\n",
       "            <g transform=\"translate(50 0)\">\n",
       "              <use xlink:href=\"#s-5-WsUV\" />\n",
       "              <g transform=\"translate(50 0)\">\n",
       "                <use xlink:href=\"#s-5-WsUV\" />\n",
       "                <g transform=\"translate(50 0)\">\n",
       "                  <use xlink:href=\"#s-5-WsUV\" />\n",
       "                  <use xlink:href=\"#s-5-WsUV\" transform=\"translate(50 0)\" />\n",
       "                </g>\n",
       "              </g>\n",
       "            </g>\n",
       "          </g>\n",
       "        </g>\n",
       "      </g>\n",
       "    </defs>\n",
       "    <g>\n",
       "      <use xlink:href=\"#s-6-WsUV\" />\n",
       "      <g transform=\"translate(0 -50)\">\n",
       "        <use xlink:href=\"#s-6-WsUV\" />\n",
       "        <g transform=\"translate(0 -50)\">\n",
       "          <use xlink:href=\"#s-6-WsUV\" />\n",
       "          <g transform=\"translate(0 -50)\">\n",
       "            <use xlink:href=\"#s-6-WsUV\" />\n",
       "            <g transform=\"translate(0 -50)\">\n",
       "              <use xlink:href=\"#s-6-WsUV\" />\n",
       "              <use xlink:href=\"#s-6-WsUV\" transform=\"translate(0 -50)\" />\n",
       "            </g>\n",
       "          </g>\n",
       "        </g>\n",
       "      </g>\n",
       "    </g>\n",
       "  </g>\n",
       "</g>\n",
       "</svg>\n"
      ],
      "text/plain": [
       "<g {}>"
      ]
     },
     "execution_count": 9,
     "metadata": {},
     "output_type": "execute_result"
    }
   ],
   "source": [
    "square_row()|repeat(6, translate(y=-50))"
   ]
  },
  {
   "cell_type": "code",
   "execution_count": null,
   "id": "0e14a930-ca8b-4f15-9958-4b5fff090e60",
   "metadata": {},
   "outputs": [],
   "source": []
  },
  {
   "cell_type": "markdown",
   "id": "abc234d1-c199-486d-a92b-65879671fc1a",
   "metadata": {},
   "source": [
    "## Problem 3: Concentric circles"
   ]
  },
  {
   "cell_type": "markdown",
   "id": "befb365d-f5dd-47e6-b570-3d1725d8232a",
   "metadata": {},
   "source": [
    "Write a function `concentric_circles` that takes two arguments `r` and `n`, and creates `n` concentric circles with the outer most circle with radius `r` and with all circles equally distributed from the center, as shown in the pictures below.\n",
    "\n",
    "\n",
    "\n",
    "<table>\n",
    "    <tr>\n",
    "        <td>\n",
    "            <figure>\n",
    "              <img src=\"images/hw4-concentric-circles-2.svg\" alt=\"\" />\n",
    "              <figcaption style=\"text-align: center;\"><code>concentric_circles(r=100, n=2)</code></figcaption>\n",
    "            </figure>\n",
    "        </td>\n",
    "        <td>\n",
    "            <figure>\n",
    "              <img src=\"images/hw4-concentric-circles-4.svg\" alt=\"\" />\n",
    "              <figcaption style=\"text-align: center;\"><code>concentric_circles(r=100, n=4)</code></figcaption>\n",
    "            </figure>\n",
    "        </td>\n",
    "        <td>\n",
    "            <figure>\n",
    "              <img src=\"images/hw4-concentric-circles-8.svg\" alt=\"\" />\n",
    "              <figcaption style=\"text-align: center;\"><code>concentric_circles(r=100, n=8)</code></figcaption>\n",
    "            </figure>\n",
    "        </td>\n",
    "    </tr>\n",
    "</table>\n"
   ]
  },
  {
   "cell_type": "code",
   "execution_count": 28,
   "id": "20bbe227-9cd5-4964-8d63-e474ead9ed62",
   "metadata": {
    "execution": {
     "iopub.execute_input": "2023-10-13T04:06:05.030941Z",
     "iopub.status.busy": "2023-10-13T04:06:05.030617Z",
     "iopub.status.idle": "2023-10-13T04:06:05.035310Z",
     "shell.execute_reply": "2023-10-13T04:06:05.034457Z",
     "shell.execute_reply.started": "2023-10-13T04:06:05.030916Z"
    }
   },
   "outputs": [],
   "source": [
    "def concentric_circles(n=4):\n",
    "    return circle(r=100)| repeat(n, scale(1-1/n))"
   ]
  },
  {
   "cell_type": "code",
   "execution_count": 29,
   "id": "6baa1d87-8bf6-4c4a-92e2-2c8b7df5ee09",
   "metadata": {
    "execution": {
     "iopub.execute_input": "2023-10-13T04:06:05.358736Z",
     "iopub.status.busy": "2023-10-13T04:06:05.358473Z",
     "iopub.status.idle": "2023-10-13T04:06:05.365232Z",
     "shell.execute_reply": "2023-10-13T04:06:05.364209Z",
     "shell.execute_reply.started": "2023-10-13T04:06:05.358714Z"
    }
   },
   "outputs": [
    {
     "data": {
      "image/svg+xml": [
       "<svg width=\"300\" height=\"300\" viewBox=\"-150 -150 300 300\" fill=\"none\" stroke=\"black\" xmlns=\"http://www.w3.org/2000/svg\" xmlns:xlink=\"http://www.w3.org/1999/xlink\">\n",
       "<g transform=\"scale(1 -1)\">\n",
       "  <g>\n",
       "    <defs>\n",
       "      <circle cx=\"0\" cy=\"0\" r=\"100\" id=\"s-23-WsUV\" />\n",
       "    </defs>\n",
       "    <g>\n",
       "      <use xlink:href=\"#s-23-WsUV\" />\n",
       "      <g transform=\"scale(0.75 0.75)\">\n",
       "        <use xlink:href=\"#s-23-WsUV\" />\n",
       "        <g transform=\"scale(0.75 0.75)\">\n",
       "          <use xlink:href=\"#s-23-WsUV\" />\n",
       "          <use xlink:href=\"#s-23-WsUV\" transform=\"scale(0.75 0.75)\" />\n",
       "        </g>\n",
       "      </g>\n",
       "    </g>\n",
       "  </g>\n",
       "</g>\n",
       "</svg>\n"
      ],
      "text/plain": [
       "<g {}>"
      ]
     },
     "execution_count": 29,
     "metadata": {},
     "output_type": "execute_result"
    }
   ],
   "source": [
    "concentric_circles()"
   ]
  },
  {
   "cell_type": "code",
   "execution_count": null,
   "id": "8d891146-28ca-415c-8af2-533d73d5ed82",
   "metadata": {},
   "outputs": [],
   "source": []
  },
  {
   "cell_type": "code",
   "execution_count": null,
   "id": "0151b7e1-1b38-4642-8a21-73ef15b2a439",
   "metadata": {},
   "outputs": [],
   "source": []
  },
  {
   "cell_type": "markdown",
   "id": "9a2e1777-5aea-4ae8-8c8e-e4e8ffa54b55",
   "metadata": {},
   "source": [
    "## Problem 4: Concentric Circles in a Grid"
   ]
  },
  {
   "cell_type": "markdown",
   "id": "5bac6408-02fc-4e90-8c29-67c1429032bd",
   "metadata": {},
   "source": [
    "Write a program to create a grid of concentric circles as shown in the image below.\n",
    "\n",
    "![](images/hw4-concentric-circles-in-grid.svg)\n"
   ]
  },
  {
   "cell_type": "code",
   "execution_count": 26,
   "id": "fac48438-2228-4b06-a9dd-0a15deb1bd33",
   "metadata": {
    "execution": {
     "iopub.execute_input": "2023-10-13T04:05:50.872792Z",
     "iopub.status.busy": "2023-10-13T04:05:50.872462Z",
     "iopub.status.idle": "2023-10-13T04:05:50.950491Z",
     "shell.execute_reply": "2023-10-13T04:05:50.949842Z",
     "shell.execute_reply.started": "2023-10-13T04:05:50.872768Z"
    }
   },
   "outputs": [],
   "source": [
    "from wizard import *\n",
    "\n",
    "def repeat4(shape):\n",
    "    return grid(shape, shape, shape, shape)\n",
    "\n",
    "def grid(s1, s2, s3, s4):\n",
    "    return below(\n",
    "        beside(s1, s2),\n",
    "        beside(s3, s4))\n",
    "\n",
    "def grid_1(shape_maker):\n",
    "    return grid(shape_maker(), shape_maker(), shape_maker(), shape_maker())\n",
    "\n",
    "def grid_2(shape_maker):\n",
    "    def grid_maker():\n",
    "        return grid_1(shape_maker)\n",
    "    return grid_1(grid_maker)"
   ]
  },
  {
   "cell_type": "code",
   "execution_count": 31,
   "id": "9d44cddb-69eb-4d38-8cb1-15546c49ba1e",
   "metadata": {
    "execution": {
     "iopub.execute_input": "2023-10-13T04:06:22.007782Z",
     "iopub.status.busy": "2023-10-13T04:06:22.007517Z",
     "iopub.status.idle": "2023-10-13T04:06:22.015918Z",
     "shell.execute_reply": "2023-10-13T04:06:22.014913Z",
     "shell.execute_reply.started": "2023-10-13T04:06:22.007760Z"
    }
   },
   "outputs": [
    {
     "data": {
      "image/svg+xml": [
       "<svg width=\"300\" height=\"300\" viewBox=\"-150 -150 300 300\" fill=\"none\" stroke=\"black\" xmlns=\"http://www.w3.org/2000/svg\" xmlns:xlink=\"http://www.w3.org/1999/xlink\">\n",
       "<g transform=\"scale(1 -1)\">\n",
       "  <g>\n",
       "    <g transform=\"translate(0 75) scale(1 0.5)\">\n",
       "      <g transform=\"translate(-75 0) scale(0.5 1)\">\n",
       "        <g transform=\"translate(0 75) scale(1 0.5)\">\n",
       "          <g transform=\"translate(-75 0) scale(0.5 1)\">\n",
       "            <defs>\n",
       "              <circle cx=\"0\" cy=\"0\" r=\"100\" id=\"s-28-WsUV\" />\n",
       "            </defs>\n",
       "            <g>\n",
       "              <use xlink:href=\"#s-28-WsUV\" />\n",
       "              <g transform=\"scale(0.75 0.75)\">\n",
       "                <use xlink:href=\"#s-28-WsUV\" />\n",
       "                <g transform=\"scale(0.75 0.75)\">\n",
       "                  <use xlink:href=\"#s-28-WsUV\" />\n",
       "                  <use xlink:href=\"#s-28-WsUV\" transform=\"scale(0.75 0.75)\" />\n",
       "                </g>\n",
       "              </g>\n",
       "            </g>\n",
       "          </g>\n",
       "          <g transform=\"translate(75 0) scale(0.5 1)\">\n",
       "            <defs>\n",
       "              <circle cx=\"0\" cy=\"0\" r=\"100\" id=\"s-29-WsUV\" />\n",
       "            </defs>\n",
       "            <g>\n",
       "              <use xlink:href=\"#s-29-WsUV\" />\n",
       "              <g transform=\"scale(0.75 0.75)\">\n",
       "                <use xlink:href=\"#s-29-WsUV\" />\n",
       "                <g transform=\"scale(0.75 0.75)\">\n",
       "                  <use xlink:href=\"#s-29-WsUV\" />\n",
       "                  <use xlink:href=\"#s-29-WsUV\" transform=\"scale(0.75 0.75)\" />\n",
       "                </g>\n",
       "              </g>\n",
       "            </g>\n",
       "          </g>\n",
       "        </g>\n",
       "        <g transform=\"translate(0 -75) scale(1 0.5)\">\n",
       "          <g transform=\"translate(-75 0) scale(0.5 1)\">\n",
       "            <defs>\n",
       "              <circle cx=\"0\" cy=\"0\" r=\"100\" id=\"s-30-WsUV\" />\n",
       "            </defs>\n",
       "            <g>\n",
       "              <use xlink:href=\"#s-30-WsUV\" />\n",
       "              <g transform=\"scale(0.75 0.75)\">\n",
       "                <use xlink:href=\"#s-30-WsUV\" />\n",
       "                <g transform=\"scale(0.75 0.75)\">\n",
       "                  <use xlink:href=\"#s-30-WsUV\" />\n",
       "                  <use xlink:href=\"#s-30-WsUV\" transform=\"scale(0.75 0.75)\" />\n",
       "                </g>\n",
       "              </g>\n",
       "            </g>\n",
       "          </g>\n",
       "          <g transform=\"translate(75 0) scale(0.5 1)\">\n",
       "            <defs>\n",
       "              <circle cx=\"0\" cy=\"0\" r=\"100\" id=\"s-31-WsUV\" />\n",
       "            </defs>\n",
       "            <g>\n",
       "              <use xlink:href=\"#s-31-WsUV\" />\n",
       "              <g transform=\"scale(0.75 0.75)\">\n",
       "                <use xlink:href=\"#s-31-WsUV\" />\n",
       "                <g transform=\"scale(0.75 0.75)\">\n",
       "                  <use xlink:href=\"#s-31-WsUV\" />\n",
       "                  <use xlink:href=\"#s-31-WsUV\" transform=\"scale(0.75 0.75)\" />\n",
       "                </g>\n",
       "              </g>\n",
       "            </g>\n",
       "          </g>\n",
       "        </g>\n",
       "      </g>\n",
       "      <g transform=\"translate(75 0) scale(0.5 1)\">\n",
       "        <g transform=\"translate(0 75) scale(1 0.5)\">\n",
       "          <g transform=\"translate(-75 0) scale(0.5 1)\">\n",
       "            <defs>\n",
       "              <circle cx=\"0\" cy=\"0\" r=\"100\" id=\"s-32-WsUV\" />\n",
       "            </defs>\n",
       "            <g>\n",
       "              <use xlink:href=\"#s-32-WsUV\" />\n",
       "              <g transform=\"scale(0.75 0.75)\">\n",
       "                <use xlink:href=\"#s-32-WsUV\" />\n",
       "                <g transform=\"scale(0.75 0.75)\">\n",
       "                  <use xlink:href=\"#s-32-WsUV\" />\n",
       "                  <use xlink:href=\"#s-32-WsUV\" transform=\"scale(0.75 0.75)\" />\n",
       "                </g>\n",
       "              </g>\n",
       "            </g>\n",
       "          </g>\n",
       "          <g transform=\"translate(75 0) scale(0.5 1)\">\n",
       "            <defs>\n",
       "              <circle cx=\"0\" cy=\"0\" r=\"100\" id=\"s-33-WsUV\" />\n",
       "            </defs>\n",
       "            <g>\n",
       "              <use xlink:href=\"#s-33-WsUV\" />\n",
       "              <g transform=\"scale(0.75 0.75)\">\n",
       "                <use xlink:href=\"#s-33-WsUV\" />\n",
       "                <g transform=\"scale(0.75 0.75)\">\n",
       "                  <use xlink:href=\"#s-33-WsUV\" />\n",
       "                  <use xlink:href=\"#s-33-WsUV\" transform=\"scale(0.75 0.75)\" />\n",
       "                </g>\n",
       "              </g>\n",
       "            </g>\n",
       "          </g>\n",
       "        </g>\n",
       "        <g transform=\"translate(0 -75) scale(1 0.5)\">\n",
       "          <g transform=\"translate(-75 0) scale(0.5 1)\">\n",
       "            <defs>\n",
       "              <circle cx=\"0\" cy=\"0\" r=\"100\" id=\"s-34-WsUV\" />\n",
       "            </defs>\n",
       "            <g>\n",
       "              <use xlink:href=\"#s-34-WsUV\" />\n",
       "              <g transform=\"scale(0.75 0.75)\">\n",
       "                <use xlink:href=\"#s-34-WsUV\" />\n",
       "                <g transform=\"scale(0.75 0.75)\">\n",
       "                  <use xlink:href=\"#s-34-WsUV\" />\n",
       "                  <use xlink:href=\"#s-34-WsUV\" transform=\"scale(0.75 0.75)\" />\n",
       "                </g>\n",
       "              </g>\n",
       "            </g>\n",
       "          </g>\n",
       "          <g transform=\"translate(75 0) scale(0.5 1)\">\n",
       "            <defs>\n",
       "              <circle cx=\"0\" cy=\"0\" r=\"100\" id=\"s-35-WsUV\" />\n",
       "            </defs>\n",
       "            <g>\n",
       "              <use xlink:href=\"#s-35-WsUV\" />\n",
       "              <g transform=\"scale(0.75 0.75)\">\n",
       "                <use xlink:href=\"#s-35-WsUV\" />\n",
       "                <g transform=\"scale(0.75 0.75)\">\n",
       "                  <use xlink:href=\"#s-35-WsUV\" />\n",
       "                  <use xlink:href=\"#s-35-WsUV\" transform=\"scale(0.75 0.75)\" />\n",
       "                </g>\n",
       "              </g>\n",
       "            </g>\n",
       "          </g>\n",
       "        </g>\n",
       "      </g>\n",
       "    </g>\n",
       "    <g transform=\"translate(0 -75) scale(1 0.5)\">\n",
       "      <g transform=\"translate(-75 0) scale(0.5 1)\">\n",
       "        <g transform=\"translate(0 75) scale(1 0.5)\">\n",
       "          <g transform=\"translate(-75 0) scale(0.5 1)\">\n",
       "            <defs>\n",
       "              <circle cx=\"0\" cy=\"0\" r=\"100\" id=\"s-36-WsUV\" />\n",
       "            </defs>\n",
       "            <g>\n",
       "              <use xlink:href=\"#s-36-WsUV\" />\n",
       "              <g transform=\"scale(0.75 0.75)\">\n",
       "                <use xlink:href=\"#s-36-WsUV\" />\n",
       "                <g transform=\"scale(0.75 0.75)\">\n",
       "                  <use xlink:href=\"#s-36-WsUV\" />\n",
       "                  <use xlink:href=\"#s-36-WsUV\" transform=\"scale(0.75 0.75)\" />\n",
       "                </g>\n",
       "              </g>\n",
       "            </g>\n",
       "          </g>\n",
       "          <g transform=\"translate(75 0) scale(0.5 1)\">\n",
       "            <defs>\n",
       "              <circle cx=\"0\" cy=\"0\" r=\"100\" id=\"s-37-WsUV\" />\n",
       "            </defs>\n",
       "            <g>\n",
       "              <use xlink:href=\"#s-37-WsUV\" />\n",
       "              <g transform=\"scale(0.75 0.75)\">\n",
       "                <use xlink:href=\"#s-37-WsUV\" />\n",
       "                <g transform=\"scale(0.75 0.75)\">\n",
       "                  <use xlink:href=\"#s-37-WsUV\" />\n",
       "                  <use xlink:href=\"#s-37-WsUV\" transform=\"scale(0.75 0.75)\" />\n",
       "                </g>\n",
       "              </g>\n",
       "            </g>\n",
       "          </g>\n",
       "        </g>\n",
       "        <g transform=\"translate(0 -75) scale(1 0.5)\">\n",
       "          <g transform=\"translate(-75 0) scale(0.5 1)\">\n",
       "            <defs>\n",
       "              <circle cx=\"0\" cy=\"0\" r=\"100\" id=\"s-38-WsUV\" />\n",
       "            </defs>\n",
       "            <g>\n",
       "              <use xlink:href=\"#s-38-WsUV\" />\n",
       "              <g transform=\"scale(0.75 0.75)\">\n",
       "                <use xlink:href=\"#s-38-WsUV\" />\n",
       "                <g transform=\"scale(0.75 0.75)\">\n",
       "                  <use xlink:href=\"#s-38-WsUV\" />\n",
       "                  <use xlink:href=\"#s-38-WsUV\" transform=\"scale(0.75 0.75)\" />\n",
       "                </g>\n",
       "              </g>\n",
       "            </g>\n",
       "          </g>\n",
       "          <g transform=\"translate(75 0) scale(0.5 1)\">\n",
       "            <defs>\n",
       "              <circle cx=\"0\" cy=\"0\" r=\"100\" id=\"s-39-WsUV\" />\n",
       "            </defs>\n",
       "            <g>\n",
       "              <use xlink:href=\"#s-39-WsUV\" />\n",
       "              <g transform=\"scale(0.75 0.75)\">\n",
       "                <use xlink:href=\"#s-39-WsUV\" />\n",
       "                <g transform=\"scale(0.75 0.75)\">\n",
       "                  <use xlink:href=\"#s-39-WsUV\" />\n",
       "                  <use xlink:href=\"#s-39-WsUV\" transform=\"scale(0.75 0.75)\" />\n",
       "                </g>\n",
       "              </g>\n",
       "            </g>\n",
       "          </g>\n",
       "        </g>\n",
       "      </g>\n",
       "      <g transform=\"translate(75 0) scale(0.5 1)\">\n",
       "        <g transform=\"translate(0 75) scale(1 0.5)\">\n",
       "          <g transform=\"translate(-75 0) scale(0.5 1)\">\n",
       "            <defs>\n",
       "              <circle cx=\"0\" cy=\"0\" r=\"100\" id=\"s-40-WsUV\" />\n",
       "            </defs>\n",
       "            <g>\n",
       "              <use xlink:href=\"#s-40-WsUV\" />\n",
       "              <g transform=\"scale(0.75 0.75)\">\n",
       "                <use xlink:href=\"#s-40-WsUV\" />\n",
       "                <g transform=\"scale(0.75 0.75)\">\n",
       "                  <use xlink:href=\"#s-40-WsUV\" />\n",
       "                  <use xlink:href=\"#s-40-WsUV\" transform=\"scale(0.75 0.75)\" />\n",
       "                </g>\n",
       "              </g>\n",
       "            </g>\n",
       "          </g>\n",
       "          <g transform=\"translate(75 0) scale(0.5 1)\">\n",
       "            <defs>\n",
       "              <circle cx=\"0\" cy=\"0\" r=\"100\" id=\"s-41-WsUV\" />\n",
       "            </defs>\n",
       "            <g>\n",
       "              <use xlink:href=\"#s-41-WsUV\" />\n",
       "              <g transform=\"scale(0.75 0.75)\">\n",
       "                <use xlink:href=\"#s-41-WsUV\" />\n",
       "                <g transform=\"scale(0.75 0.75)\">\n",
       "                  <use xlink:href=\"#s-41-WsUV\" />\n",
       "                  <use xlink:href=\"#s-41-WsUV\" transform=\"scale(0.75 0.75)\" />\n",
       "                </g>\n",
       "              </g>\n",
       "            </g>\n",
       "          </g>\n",
       "        </g>\n",
       "        <g transform=\"translate(0 -75) scale(1 0.5)\">\n",
       "          <g transform=\"translate(-75 0) scale(0.5 1)\">\n",
       "            <defs>\n",
       "              <circle cx=\"0\" cy=\"0\" r=\"100\" id=\"s-42-WsUV\" />\n",
       "            </defs>\n",
       "            <g>\n",
       "              <use xlink:href=\"#s-42-WsUV\" />\n",
       "              <g transform=\"scale(0.75 0.75)\">\n",
       "                <use xlink:href=\"#s-42-WsUV\" />\n",
       "                <g transform=\"scale(0.75 0.75)\">\n",
       "                  <use xlink:href=\"#s-42-WsUV\" />\n",
       "                  <use xlink:href=\"#s-42-WsUV\" transform=\"scale(0.75 0.75)\" />\n",
       "                </g>\n",
       "              </g>\n",
       "            </g>\n",
       "          </g>\n",
       "          <g transform=\"translate(75 0) scale(0.5 1)\">\n",
       "            <defs>\n",
       "              <circle cx=\"0\" cy=\"0\" r=\"100\" id=\"s-43-WsUV\" />\n",
       "            </defs>\n",
       "            <g>\n",
       "              <use xlink:href=\"#s-43-WsUV\" />\n",
       "              <g transform=\"scale(0.75 0.75)\">\n",
       "                <use xlink:href=\"#s-43-WsUV\" />\n",
       "                <g transform=\"scale(0.75 0.75)\">\n",
       "                  <use xlink:href=\"#s-43-WsUV\" />\n",
       "                  <use xlink:href=\"#s-43-WsUV\" transform=\"scale(0.75 0.75)\" />\n",
       "                </g>\n",
       "              </g>\n",
       "            </g>\n",
       "          </g>\n",
       "        </g>\n",
       "      </g>\n",
       "    </g>\n",
       "  </g>\n",
       "</g>\n",
       "</svg>\n"
      ],
      "text/plain": [
       "<g {}>"
      ]
     },
     "execution_count": 31,
     "metadata": {},
     "output_type": "execute_result"
    }
   ],
   "source": [
    "grid_2(concentric_circles)"
   ]
  },
  {
   "cell_type": "code",
   "execution_count": null,
   "id": "c9472ad4-fa21-4a94-8a15-640ab93f719d",
   "metadata": {},
   "outputs": [],
   "source": []
  },
  {
   "cell_type": "code",
   "execution_count": null,
   "id": "d283ab31-5e16-498d-bd2a-579099ac4f76",
   "metadata": {},
   "outputs": [],
   "source": []
  },
  {
   "cell_type": "markdown",
   "id": "3324de81-0711-42af-b653-53c6ed48fa11",
   "metadata": {},
   "source": [
    "## Problem 5: Ellipse Stars in a Grid"
   ]
  },
  {
   "cell_type": "markdown",
   "id": "98dc250b-965c-4e25-bd09-34ede667bee6",
   "metadata": {},
   "source": [
    "Can you generalize the above program and use it to draw ellipse stars in a grid instead of concentric circles.\n",
    "\n",
    "![](images/hw4-ellipse-stars-in-grid.svg)\n"
   ]
  },
  {
   "cell_type": "code",
   "execution_count": null,
   "id": "47648a4b-5c51-49bc-93c8-d7853a90cba9",
   "metadata": {},
   "outputs": [],
   "source": []
  }
 ],
 "metadata": {
  "kernelspec": {
   "display_name": "Python 3 (ipykernel)",
   "language": "python",
   "name": "python3"
  },
  "language_info": {
   "codemirror_mode": {
    "name": "ipython",
    "version": 3
   },
   "file_extension": ".py",
   "mimetype": "text/x-python",
   "name": "python",
   "nbconvert_exporter": "python",
   "pygments_lexer": "ipython3",
   "version": "3.10.10"
  }
 },
 "nbformat": 4,
 "nbformat_minor": 5
}
