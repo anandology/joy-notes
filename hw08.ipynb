{
 "cells": [
  {
   "cell_type": "markdown",
   "id": "2c46e748-1591-4e90-b7a3-dba423903b72",
   "metadata": {},
   "source": [
    "## Homework 08"
   ]
  },
  {
   "cell_type": "code",
   "execution_count": 2,
   "id": "fa9a189c-d03b-448b-863c-0b083a7fc536",
   "metadata": {
    "execution": {
     "iopub.execute_input": "2023-11-27T12:25:06.722875Z",
     "iopub.status.busy": "2023-11-27T12:25:06.721959Z",
     "iopub.status.idle": "2023-11-27T12:25:06.728099Z",
     "shell.execute_reply": "2023-11-27T12:25:06.727312Z",
     "shell.execute_reply.started": "2023-11-27T12:25:06.722830Z"
    }
   },
   "outputs": [],
   "source": [
    "from joy import *"
   ]
  },
  {
   "cell_type": "markdown",
   "id": "69f1b723-6493-4715-ba96-b487c0107c47",
   "metadata": {},
   "source": [
    "## Problem 1"
   ]
  },
  {
   "cell_type": "markdown",
   "id": "305d1000-5696-4e40-ad87-bb4fc7bc76ff",
   "metadata": {},
   "source": [
    "Write a recursive function `circle_clouds` to draw the figure shown below. \n",
    "\n",
    "The function should take two arguments `r`, the radius of the circle at the centre and `n`, the number of times to repeat the recursive process. For each turn, it draws a circle in the centre and draw a smaller version of itself with half the size on the left and right ends.\n",
    "\n",
    "Hint: Use `fill=\"white\"` to fill the circles.\n",
    "\n",
    "\n",
    "![](images/hw08-circle-clouds.svg)\n",
    "\n",
    "`circle_clouds(r=75, n=5)`\n"
   ]
  },
  {
   "cell_type": "code",
   "execution_count": null,
   "id": "0423aa94-376a-4427-adfe-04d042734471",
   "metadata": {},
   "outputs": [],
   "source": [
    "# your code here\n",
    "\n",
    "\n"
   ]
  },
  {
   "cell_type": "code",
   "execution_count": null,
   "id": "10ebb112-efbd-46df-8997-43199e3af909",
   "metadata": {},
   "outputs": [],
   "source": []
  },
  {
   "cell_type": "code",
   "execution_count": null,
   "id": "165d79dc-d4ab-42b5-a27b-15caf21aa5cf",
   "metadata": {},
   "outputs": [],
   "source": []
  },
  {
   "cell_type": "markdown",
   "id": "1f0236ae-a9fc-4955-b9b9-5279d2bb6810",
   "metadata": {},
   "source": [
    "## Problem 2"
   ]
  },
  {
   "cell_type": "markdown",
   "id": "c49394ec-00fe-4e24-88f2-8c5e39153a37",
   "metadata": {
    "execution": {
     "iopub.execute_input": "2023-11-26T12:18:50.740876Z",
     "iopub.status.busy": "2023-11-26T12:18:50.740560Z",
     "iopub.status.idle": "2023-11-26T12:18:50.748295Z",
     "shell.execute_reply": "2023-11-26T12:18:50.747290Z",
     "shell.execute_reply.started": "2023-11-26T12:18:50.740850Z"
    }
   },
   "source": [
    "What happens if you modify the above `circle_clouds` function to draw three smaller shapes, seperated by $120\\degree$ instead of two?\n",
    "\n",
    "Can you write a function `circle_clouds_3` to achive that? \n",
    "\n",
    "How does the figure look like when you call `circle_clouds_3(r=75, n=5)`?"
   ]
  },
  {
   "cell_type": "code",
   "execution_count": 7,
   "id": "6ee8f692-ca26-4f7e-b1f7-339379c57d66",
   "metadata": {
    "execution": {
     "iopub.execute_input": "2023-11-27T12:55:06.318842Z",
     "iopub.status.busy": "2023-11-27T12:55:06.318519Z",
     "iopub.status.idle": "2023-11-27T12:55:06.323290Z",
     "shell.execute_reply": "2023-11-27T12:55:06.322055Z",
     "shell.execute_reply.started": "2023-11-27T12:55:06.318815Z"
    }
   },
   "outputs": [],
   "source": [
    "# your code here\n",
    "\n",
    "\n"
   ]
  },
  {
   "cell_type": "code",
   "execution_count": null,
   "id": "0c0be01b-8c25-4588-a4a4-a66cccab8e9a",
   "metadata": {},
   "outputs": [],
   "source": []
  },
  {
   "cell_type": "code",
   "execution_count": null,
   "id": "82486ea3-95f2-415e-9995-dcbcc926e5f4",
   "metadata": {},
   "outputs": [],
   "source": []
  },
  {
   "cell_type": "markdown",
   "id": "95155aeb-b263-4f57-ba2a-484ae5804c65",
   "metadata": {},
   "source": [
    "## Problem 3"
   ]
  },
  {
   "cell_type": "markdown",
   "id": "6175f931-dd92-48e3-9b3e-12aa90f26d3f",
   "metadata": {},
   "source": [
    "Write a program to draw the image below.\n",
    "    \n",
    "![Problem 3](images/hw08-four-circles.svg)"
   ]
  },
  {
   "cell_type": "code",
   "execution_count": 8,
   "id": "ab0eb8c5-7c98-4211-a9ee-e15103649dd9",
   "metadata": {
    "execution": {
     "iopub.execute_input": "2023-11-27T12:55:12.061492Z",
     "iopub.status.busy": "2023-11-27T12:55:12.061199Z",
     "iopub.status.idle": "2023-11-27T12:55:12.065446Z",
     "shell.execute_reply": "2023-11-27T12:55:12.064813Z",
     "shell.execute_reply.started": "2023-11-27T12:55:12.061467Z"
    }
   },
   "outputs": [],
   "source": [
    "# your code here\n",
    "\n",
    "\n"
   ]
  },
  {
   "cell_type": "code",
   "execution_count": null,
   "id": "ae42579c-bfc7-455f-8048-d000efc0ee36",
   "metadata": {},
   "outputs": [],
   "source": []
  },
  {
   "cell_type": "code",
   "execution_count": null,
   "id": "b6cc119c-0d79-425f-8c9c-516a4637f8c5",
   "metadata": {},
   "outputs": [],
   "source": []
  },
  {
   "cell_type": "markdown",
   "id": "955174d1-5a5b-4d31-badf-0cdc847f697c",
   "metadata": {},
   "source": [
    "### Problem 4"
   ]
  },
  {
   "cell_type": "markdown",
   "id": "927dfc04-ffc2-40a2-bca7-3272528aa212",
   "metadata": {},
   "source": [
    "Consider the following program."
   ]
  },
  {
   "cell_type": "code",
   "execution_count": 3,
   "id": "65822f08-e04e-4c41-81e6-96cd81ab6eab",
   "metadata": {
    "execution": {
     "iopub.execute_input": "2023-11-27T12:25:12.329964Z",
     "iopub.status.busy": "2023-11-27T12:25:12.329683Z",
     "iopub.status.idle": "2023-11-27T12:25:12.338362Z",
     "shell.execute_reply": "2023-11-27T12:25:12.337565Z",
     "shell.execute_reply.started": "2023-11-27T12:25:12.329941Z"
    }
   },
   "outputs": [
    {
     "data": {
      "image/svg+xml": [
       "<svg width=\"300\" height=\"300\" viewBox=\"-150 -150 300 300\" fill=\"none\" stroke=\"black\" xmlns=\"http://www.w3.org/2000/svg\" xmlns:xlink=\"http://www.w3.org/1999/xlink\">\n",
       "<g transform=\"scale(1 -1)\">\n",
       "  <g>\n",
       "    <defs>\n",
       "      <circle cx=\"125\" cy=\"0\" r=\"25\" id=\"s-0-smEe\" />\n",
       "    </defs>\n",
       "    <g>\n",
       "      <use xlink:href=\"#s-0-smEe\" />\n",
       "      <g transform=\"rotate(30)\">\n",
       "        <use xlink:href=\"#s-0-smEe\" />\n",
       "        <g transform=\"rotate(30)\">\n",
       "          <use xlink:href=\"#s-0-smEe\" />\n",
       "          <g transform=\"rotate(30)\">\n",
       "            <use xlink:href=\"#s-0-smEe\" />\n",
       "            <g transform=\"rotate(30)\">\n",
       "              <use xlink:href=\"#s-0-smEe\" />\n",
       "              <g transform=\"rotate(30)\">\n",
       "                <use xlink:href=\"#s-0-smEe\" />\n",
       "                <g transform=\"rotate(30)\">\n",
       "                  <use xlink:href=\"#s-0-smEe\" />\n",
       "                  <g transform=\"rotate(30)\">\n",
       "                    <use xlink:href=\"#s-0-smEe\" />\n",
       "                    <g transform=\"rotate(30)\">\n",
       "                      <use xlink:href=\"#s-0-smEe\" />\n",
       "                      <g transform=\"rotate(30)\">\n",
       "                        <use xlink:href=\"#s-0-smEe\" />\n",
       "                        <g transform=\"rotate(30)\">\n",
       "                          <use xlink:href=\"#s-0-smEe\" />\n",
       "                          <use xlink:href=\"#s-0-smEe\" transform=\"rotate(30)\" />\n",
       "                        </g>\n",
       "                      </g>\n",
       "                    </g>\n",
       "                  </g>\n",
       "                </g>\n",
       "              </g>\n",
       "            </g>\n",
       "          </g>\n",
       "        </g>\n",
       "      </g>\n",
       "    </g>\n",
       "  </g>\n",
       "</g>\n",
       "</svg>\n"
      ],
      "text/plain": [
       "<g {}>"
      ]
     },
     "execution_count": 3,
     "metadata": {},
     "output_type": "execute_result"
    }
   ],
   "source": [
    "circle(x=125, r=25) | repeat(12, rotate(30))"
   ]
  },
  {
   "cell_type": "markdown",
   "id": "459f257a-d8da-437f-bd7f-324ac39c9ce3",
   "metadata": {},
   "source": [
    "Can you implement the same without using the `repeat` transformation?"
   ]
  },
  {
   "cell_type": "code",
   "execution_count": 6,
   "id": "d7cc7ab4-3ba0-44a5-bfc1-40d1f455b781",
   "metadata": {
    "execution": {
     "iopub.execute_input": "2023-11-27T12:27:19.360463Z",
     "iopub.status.busy": "2023-11-27T12:27:19.360196Z",
     "iopub.status.idle": "2023-11-27T12:27:19.363822Z",
     "shell.execute_reply": "2023-11-27T12:27:19.363053Z",
     "shell.execute_reply.started": "2023-11-27T12:27:19.360441Z"
    }
   },
   "outputs": [],
   "source": [
    "# your code here\n",
    "\n"
   ]
  },
  {
   "cell_type": "code",
   "execution_count": null,
   "id": "5075bd3c-89d3-479c-b18d-ba6ef763066b",
   "metadata": {},
   "outputs": [],
   "source": []
  },
  {
   "cell_type": "code",
   "execution_count": null,
   "id": "4873363e-03fb-44fa-92d7-0b56c3436013",
   "metadata": {},
   "outputs": [],
   "source": []
  },
  {
   "cell_type": "markdown",
   "id": "4032c33f-0df2-4736-bf40-dc57a3036934",
   "metadata": {},
   "source": [
    "## Problem 5"
   ]
  },
  {
   "cell_type": "markdown",
   "id": "1365e4c4-0bb2-4282-9f48-20652c55c2f2",
   "metadata": {},
   "source": [
    "Consider the following program."
   ]
  },
  {
   "cell_type": "code",
   "execution_count": 5,
   "id": "da5e131a-1ffc-45f2-8f89-5e92aef4449d",
   "metadata": {
    "execution": {
     "iopub.execute_input": "2023-11-27T12:26:12.437238Z",
     "iopub.status.busy": "2023-11-27T12:26:12.436954Z",
     "iopub.status.idle": "2023-11-27T12:26:12.445272Z",
     "shell.execute_reply": "2023-11-27T12:26:12.444409Z",
     "shell.execute_reply.started": "2023-11-27T12:26:12.437215Z"
    }
   },
   "outputs": [
    {
     "data": {
      "image/svg+xml": [
       "<svg width=\"300\" height=\"300\" viewBox=\"-150 -150 300 300\" fill=\"none\" stroke=\"black\" xmlns=\"http://www.w3.org/2000/svg\" xmlns:xlink=\"http://www.w3.org/1999/xlink\">\n",
       "<g transform=\"scale(1 -1)\">\n",
       "  <g>\n",
       "    <defs>\n",
       "      <circle cx=\"100\" cy=\"0\" r=\"50\" id=\"s-1-smEe\" />\n",
       "    </defs>\n",
       "    <g>\n",
       "      <use xlink:href=\"#s-1-smEe\" />\n",
       "      <g transform=\"scale(0.97 0.97) rotate(10)\">\n",
       "        <use xlink:href=\"#s-1-smEe\" />\n",
       "        <g transform=\"scale(0.97 0.97) rotate(10)\">\n",
       "          <use xlink:href=\"#s-1-smEe\" />\n",
       "          <g transform=\"scale(0.97 0.97) rotate(10)\">\n",
       "            <use xlink:href=\"#s-1-smEe\" />\n",
       "            <g transform=\"scale(0.97 0.97) rotate(10)\">\n",
       "              <use xlink:href=\"#s-1-smEe\" />\n",
       "              <g transform=\"scale(0.97 0.97) rotate(10)\">\n",
       "                <use xlink:href=\"#s-1-smEe\" />\n",
       "                <g transform=\"scale(0.97 0.97) rotate(10)\">\n",
       "                  <use xlink:href=\"#s-1-smEe\" />\n",
       "                  <g transform=\"scale(0.97 0.97) rotate(10)\">\n",
       "                    <use xlink:href=\"#s-1-smEe\" />\n",
       "                    <g transform=\"scale(0.97 0.97) rotate(10)\">\n",
       "                      <use xlink:href=\"#s-1-smEe\" />\n",
       "                      <g transform=\"scale(0.97 0.97) rotate(10)\">\n",
       "                        <use xlink:href=\"#s-1-smEe\" />\n",
       "                        <g transform=\"scale(0.97 0.97) rotate(10)\">\n",
       "                          <use xlink:href=\"#s-1-smEe\" />\n",
       "                          <g transform=\"scale(0.97 0.97) rotate(10)\">\n",
       "                            <use xlink:href=\"#s-1-smEe\" />\n",
       "                            <g transform=\"scale(0.97 0.97) rotate(10)\">\n",
       "                              <use xlink:href=\"#s-1-smEe\" />\n",
       "                              <g transform=\"scale(0.97 0.97) rotate(10)\">\n",
       "                                <use xlink:href=\"#s-1-smEe\" />\n",
       "                                <g transform=\"scale(0.97 0.97) rotate(10)\">\n",
       "                                  <use xlink:href=\"#s-1-smEe\" />\n",
       "                                  <g transform=\"scale(0.97 0.97) rotate(10)\">\n",
       "                                    <use xlink:href=\"#s-1-smEe\" />\n",
       "                                    <g transform=\"scale(0.97 0.97) rotate(10)\">\n",
       "                                      <use xlink:href=\"#s-1-smEe\" />\n",
       "                                      <g transform=\"scale(0.97 0.97) rotate(10)\">\n",
       "                                        <use xlink:href=\"#s-1-smEe\" />\n",
       "                                        <g transform=\"scale(0.97 0.97) rotate(10)\">\n",
       "                                          <use xlink:href=\"#s-1-smEe\" />\n",
       "                                          <g transform=\"scale(0.97 0.97) rotate(10)\">\n",
       "                                            <use xlink:href=\"#s-1-smEe\" />\n",
       "                                            <g transform=\"scale(0.97 0.97) rotate(10)\">\n",
       "                                              <use xlink:href=\"#s-1-smEe\" />\n",
       "                                              <g transform=\"scale(0.97 0.97) rotate(10)\">\n",
       "                                                <use xlink:href=\"#s-1-smEe\" />\n",
       "                                                <g transform=\"scale(0.97 0.97) rotate(10)\">\n",
       "                                                  <use xlink:href=\"#s-1-smEe\" />\n",
       "                                                  <g transform=\"scale(0.97 0.97) rotate(10)\">\n",
       "                                                    <use xlink:href=\"#s-1-smEe\" />\n",
       "                                                    <g transform=\"scale(0.97 0.97) rotate(10)\">\n",
       "                                                      <use xlink:href=\"#s-1-smEe\" />\n",
       "                                                      <g transform=\"scale(0.97 0.97) rotate(10)\">\n",
       "                                                        <use xlink:href=\"#s-1-smEe\" />\n",
       "                                                        <g transform=\"scale(0.97 0.97) rotate(10)\">\n",
       "                                                          <use xlink:href=\"#s-1-smEe\" />\n",
       "                                                          <g transform=\"scale(0.97 0.97) rotate(10)\">\n",
       "                                                            <use xlink:href=\"#s-1-smEe\" />\n",
       "                                                            <g transform=\"scale(0.97 0.97) rotate(10)\">\n",
       "                                                              <use xlink:href=\"#s-1-smEe\" />\n",
       "                                                              <g transform=\"scale(0.97 0.97) rotate(10)\">\n",
       "                                                                <use xlink:href=\"#s-1-smEe\" />\n",
       "                                                                <g transform=\"scale(0.97 0.97) rotate(10)\">\n",
       "                                                                  <use xlink:href=\"#s-1-smEe\" />\n",
       "                                                                  <g transform=\"scale(0.97 0.97) rotate(10)\">\n",
       "                                                                    <use xlink:href=\"#s-1-smEe\" />\n",
       "                                                                    <g transform=\"scale(0.97 0.97) rotate(10)\">\n",
       "                                                                      <use xlink:href=\"#s-1-smEe\" />\n",
       "                                                                      <g transform=\"scale(0.97 0.97) rotate(10)\">\n",
       "                                                                        <use xlink:href=\"#s-1-smEe\" />\n",
       "                                                                        <g transform=\"scale(0.97 0.97) rotate(10)\">\n",
       "                                                                          <use xlink:href=\"#s-1-smEe\" />\n",
       "                                                                          <g transform=\"scale(0.97 0.97) rotate(10)\">\n",
       "                                                                            <use xlink:href=\"#s-1-smEe\" />\n",
       "                                                                            <g transform=\"scale(0.97 0.97) rotate(10)\">\n",
       "                                                                              <use xlink:href=\"#s-1-smEe\" />\n",
       "                                                                              <g transform=\"scale(0.97 0.97) rotate(10)\">\n",
       "                                                                                <use xlink:href=\"#s-1-smEe\" />\n",
       "                                                                                <g transform=\"scale(0.97 0.97) rotate(10)\">\n",
       "                                                                                  <use xlink:href=\"#s-1-smEe\" />\n",
       "                                                                                  <g transform=\"scale(0.97 0.97) rotate(10)\">\n",
       "                                                                                    <use xlink:href=\"#s-1-smEe\" />\n",
       "                                                                                    <g transform=\"scale(0.97 0.97) rotate(10)\">\n",
       "                                                                                      <use xlink:href=\"#s-1-smEe\" />\n",
       "                                                                                      <g transform=\"scale(0.97 0.97) rotate(10)\">\n",
       "                                                                                        <use xlink:href=\"#s-1-smEe\" />\n",
       "                                                                                        <g transform=\"scale(0.97 0.97) rotate(10)\">\n",
       "                                                                                          <use xlink:href=\"#s-1-smEe\" />\n",
       "                                                                                          <g transform=\"scale(0.97 0.97) rotate(10)\">\n",
       "                                                                                            <use xlink:href=\"#s-1-smEe\" />\n",
       "                                                                                            <g transform=\"scale(0.97 0.97) rotate(10)\">\n",
       "                                                                                              <use xlink:href=\"#s-1-smEe\" />\n",
       "                                                                                              <g transform=\"scale(0.97 0.97) rotate(10)\">\n",
       "                                                                                                <use xlink:href=\"#s-1-smEe\" />\n",
       "                                                                                                <g transform=\"scale(0.97 0.97) rotate(10)\">\n",
       "                                                                                                  <use xlink:href=\"#s-1-smEe\" />\n",
       "                                                                                                  <g transform=\"scale(0.97 0.97) rotate(10)\">\n",
       "                                                                                                    <use xlink:href=\"#s-1-smEe\" />\n",
       "                                                                                                    <g transform=\"scale(0.97 0.97) rotate(10)\">\n",
       "                                                                                                      <use xlink:href=\"#s-1-smEe\" />\n",
       "                                                                                                      <g transform=\"scale(0.97 0.97) rotate(10)\">\n",
       "                                                                                                        <use xlink:href=\"#s-1-smEe\" />\n",
       "                                                                                                        <g transform=\"scale(0.97 0.97) rotate(10)\">\n",
       "                                                                                                          <use xlink:href=\"#s-1-smEe\" />\n",
       "                                                                                                          <g transform=\"scale(0.97 0.97) rotate(10)\">\n",
       "                                                                                                            <use xlink:href=\"#s-1-smEe\" />\n",
       "                                                                                                            <g transform=\"scale(0.97 0.97) rotate(10)\">\n",
       "                                                                                                              <use xlink:href=\"#s-1-smEe\" />\n",
       "                                                                                                              <g transform=\"scale(0.97 0.97) rotate(10)\">\n",
       "                                                                                                                <use xlink:href=\"#s-1-smEe\" />\n",
       "                                                                                                                <g transform=\"scale(0.97 0.97) rotate(10)\">\n",
       "                                                                                                                  <use xlink:href=\"#s-1-smEe\" />\n",
       "                                                                                                                  <g transform=\"scale(0.97 0.97) rotate(10)\">\n",
       "                                                                                                                    <use xlink:href=\"#s-1-smEe\" />\n",
       "                                                                                                                    <g transform=\"scale(0.97 0.97) rotate(10)\">\n",
       "                                                                                                                      <use xlink:href=\"#s-1-smEe\" />\n",
       "                                                                                                                      <g transform=\"scale(0.97 0.97) rotate(10)\">\n",
       "                                                                                                                        <use xlink:href=\"#s-1-smEe\" />\n",
       "                                                                                                                        <g transform=\"scale(0.97 0.97) rotate(10)\">\n",
       "                                                                                                                          <use xlink:href=\"#s-1-smEe\" />\n",
       "                                                                                                                          <g transform=\"scale(0.97 0.97) rotate(10)\">\n",
       "                                                                                                                            <use xlink:href=\"#s-1-smEe\" />\n",
       "                                                                                                                            <g transform=\"scale(0.97 0.97) rotate(10)\">\n",
       "                                                                                                                              <use xlink:href=\"#s-1-smEe\" />\n",
       "                                                                                                                              <g transform=\"scale(0.97 0.97) rotate(10)\">\n",
       "                                                                                                                                <use xlink:href=\"#s-1-smEe\" />\n",
       "                                                                                                                                <g transform=\"scale(0.97 0.97) rotate(10)\">\n",
       "                                                                                                                                  <use xlink:href=\"#s-1-smEe\" />\n",
       "                                                                                                                                  <g transform=\"scale(0.97 0.97) rotate(10)\">\n",
       "                                                                                                                                    <use xlink:href=\"#s-1-smEe\" />\n",
       "                                                                                                                                    <g transform=\"scale(0.97 0.97) rotate(10)\">\n",
       "                                                                                                                                      <use xlink:href=\"#s-1-smEe\" />\n",
       "                                                                                                                                      <g transform=\"scale(0.97 0.97) rotate(10)\">\n",
       "                                                                                                                                        <use xlink:href=\"#s-1-smEe\" />\n",
       "                                                                                                                                        <g transform=\"scale(0.97 0.97) rotate(10)\">\n",
       "                                                                                                                                          <use xlink:href=\"#s-1-smEe\" />\n",
       "                                                                                                                                          <g transform=\"scale(0.97 0.97) rotate(10)\">\n",
       "                                                                                                                                            <use xlink:href=\"#s-1-smEe\" />\n",
       "                                                                                                                                            <g transform=\"scale(0.97 0.97) rotate(10)\">\n",
       "                                                                                                                                              <use xlink:href=\"#s-1-smEe\" />\n",
       "                                                                                                                                              <g transform=\"scale(0.97 0.97) rotate(10)\">\n",
       "                                                                                                                                                <use xlink:href=\"#s-1-smEe\" />\n",
       "                                                                                                                                                <g transform=\"scale(0.97 0.97) rotate(10)\">\n",
       "                                                                                                                                                  <use xlink:href=\"#s-1-smEe\" />\n",
       "                                                                                                                                                  <g transform=\"scale(0.97 0.97) rotate(10)\">\n",
       "                                                                                                                                                    <use xlink:href=\"#s-1-smEe\" />\n",
       "                                                                                                                                                    <g transform=\"scale(0.97 0.97) rotate(10)\">\n",
       "                                                                                                                                                      <use xlink:href=\"#s-1-smEe\" />\n",
       "                                                                                                                                                      <g transform=\"scale(0.97 0.97) rotate(10)\">\n",
       "                                                                                                                                                        <use xlink:href=\"#s-1-smEe\" />\n",
       "                                                                                                                                                        <g transform=\"scale(0.97 0.97) rotate(10)\">\n",
       "                                                                                                                                                          <use xlink:href=\"#s-1-smEe\" />\n",
       "                                                                                                                                                          <g transform=\"scale(0.97 0.97) rotate(10)\">\n",
       "                                                                                                                                                            <use xlink:href=\"#s-1-smEe\" />\n",
       "                                                                                                                                                            <g transform=\"scale(0.97 0.97) rotate(10)\">\n",
       "                                                                                                                                                              <use xlink:href=\"#s-1-smEe\" />\n",
       "                                                                                                                                                              <g transform=\"scale(0.97 0.97) rotate(10)\">\n",
       "                                                                                                                                                                <use xlink:href=\"#s-1-smEe\" />\n",
       "                                                                                                                                                                <g transform=\"scale(0.97 0.97) rotate(10)\">\n",
       "                                                                                                                                                                  <use xlink:href=\"#s-1-smEe\" />\n",
       "                                                                                                                                                                  <g transform=\"scale(0.97 0.97) rotate(10)\">\n",
       "                                                                                                                                                                    <use xlink:href=\"#s-1-smEe\" />\n",
       "                                                                                                                                                                    <g transform=\"scale(0.97 0.97) rotate(10)\">\n",
       "                                                                                                                                                                      <use xlink:href=\"#s-1-smEe\" />\n",
       "                                                                                                                                                                      <g transform=\"scale(0.97 0.97) rotate(10)\">\n",
       "                                                                                                                                                                        <use xlink:href=\"#s-1-smEe\" />\n",
       "                                                                                                                                                                        <g transform=\"scale(0.97 0.97) rotate(10)\">\n",
       "                                                                                                                                                                          <use xlink:href=\"#s-1-smEe\" />\n",
       "                                                                                                                                                                          <g transform=\"scale(0.97 0.97) rotate(10)\">\n",
       "                                                                                                                                                                            <use xlink:href=\"#s-1-smEe\" />\n",
       "                                                                                                                                                                            <g transform=\"scale(0.97 0.97) rotate(10)\">\n",
       "                                                                                                                                                                              <use xlink:href=\"#s-1-smEe\" />\n",
       "                                                                                                                                                                              <g transform=\"scale(0.97 0.97) rotate(10)\">\n",
       "                                                                                                                                                                                <use xlink:href=\"#s-1-smEe\" />\n",
       "                                                                                                                                                                                <g transform=\"scale(0.97 0.97) rotate(10)\">\n",
       "                                                                                                                                                                                  <use xlink:href=\"#s-1-smEe\" />\n",
       "                                                                                                                                                                                  <g transform=\"scale(0.97 0.97) rotate(10)\">\n",
       "                                                                                                                                                                                    <use xlink:href=\"#s-1-smEe\" />\n",
       "                                                                                                                                                                                    <g transform=\"scale(0.97 0.97) rotate(10)\">\n",
       "                                                                                                                                                                                      <use xlink:href=\"#s-1-smEe\" />\n",
       "                                                                                                                                                                                      <g transform=\"scale(0.97 0.97) rotate(10)\">\n",
       "                                                                                                                                                                                        <use xlink:href=\"#s-1-smEe\" />\n",
       "                                                                                                                                                                                        <g transform=\"scale(0.97 0.97) rotate(10)\">\n",
       "                                                                                                                                                                                          <use xlink:href=\"#s-1-smEe\" />\n",
       "                                                                                                                                                                                          <g transform=\"scale(0.97 0.97) rotate(10)\">\n",
       "                                                                                                                                                                                            <use xlink:href=\"#s-1-smEe\" />\n",
       "                                                                                                                                                                                            <g transform=\"scale(0.97 0.97) rotate(10)\">\n",
       "                                                                                                                                                                                              <use xlink:href=\"#s-1-smEe\" />\n",
       "                                                                                                                                                                                              <g transform=\"scale(0.97 0.97) rotate(10)\">\n",
       "                                                                                                                                                                                                <use xlink:href=\"#s-1-smEe\" />\n",
       "                                                                                                                                                                                                <g transform=\"scale(0.97 0.97) rotate(10)\">\n",
       "                                                                                                                                                                                                  <use xlink:href=\"#s-1-smEe\" />\n",
       "                                                                                                                                                                                                  <g transform=\"scale(0.97 0.97) rotate(10)\">\n",
       "                                                                                                                                                                                                    <use xlink:href=\"#s-1-smEe\" />\n",
       "                                                                                                                                                                                                    <g transform=\"scale(0.97 0.97) rotate(10)\">\n",
       "                                                                                                                                                                                                      <use xlink:href=\"#s-1-smEe\" />\n",
       "                                                                                                                                                                                                      <g transform=\"scale(0.97 0.97) rotate(10)\">\n",
       "                                                                                                                                                                                                        <use xlink:href=\"#s-1-smEe\" />\n",
       "                                                                                                                                                                                                        <g transform=\"scale(0.97 0.97) rotate(10)\">\n",
       "                                                                                                                                                                                                          <use xlink:href=\"#s-1-smEe\" />\n",
       "                                                                                                                                                                                                          <use xlink:href=\"#s-1-smEe\" transform=\"scale(0.97 0.97) rotate(10)\" />\n",
       "                                                                                                                                                                                                        </g>\n",
       "                                                                                                                                                                                                      </g>\n",
       "                                                                                                                                                                                                    </g>\n",
       "                                                                                                                                                                                                  </g>\n",
       "                                                                                                                                                                                                </g>\n",
       "                                                                                                                                                                                              </g>\n",
       "                                                                                                                                                                                            </g>\n",
       "                                                                                                                                                                                          </g>\n",
       "                                                                                                                                                                                        </g>\n",
       "                                                                                                                                                                                      </g>\n",
       "                                                                                                                                                                                    </g>\n",
       "                                                                                                                                                                                  </g>\n",
       "                                                                                                                                                                                </g>\n",
       "                                                                                                                                                                              </g>\n",
       "                                                                                                                                                                            </g>\n",
       "                                                                                                                                                                          </g>\n",
       "                                                                                                                                                                        </g>\n",
       "                                                                                                                                                                      </g>\n",
       "                                                                                                                                                                    </g>\n",
       "                                                                                                                                                                  </g>\n",
       "                                                                                                                                                                </g>\n",
       "                                                                                                                                                              </g>\n",
       "                                                                                                                                                            </g>\n",
       "                                                                                                                                                          </g>\n",
       "                                                                                                                                                        </g>\n",
       "                                                                                                                                                      </g>\n",
       "                                                                                                                                                    </g>\n",
       "                                                                                                                                                  </g>\n",
       "                                                                                                                                                </g>\n",
       "                                                                                                                                              </g>\n",
       "                                                                                                                                            </g>\n",
       "                                                                                                                                          </g>\n",
       "                                                                                                                                        </g>\n",
       "                                                                                                                                      </g>\n",
       "                                                                                                                                    </g>\n",
       "                                                                                                                                  </g>\n",
       "                                                                                                                                </g>\n",
       "                                                                                                                              </g>\n",
       "                                                                                                                            </g>\n",
       "                                                                                                                          </g>\n",
       "                                                                                                                        </g>\n",
       "                                                                                                                      </g>\n",
       "                                                                                                                    </g>\n",
       "                                                                                                                  </g>\n",
       "                                                                                                                </g>\n",
       "                                                                                                              </g>\n",
       "                                                                                                            </g>\n",
       "                                                                                                          </g>\n",
       "                                                                                                        </g>\n",
       "                                                                                                      </g>\n",
       "                                                                                                    </g>\n",
       "                                                                                                  </g>\n",
       "                                                                                                </g>\n",
       "                                                                                              </g>\n",
       "                                                                                            </g>\n",
       "                                                                                          </g>\n",
       "                                                                                        </g>\n",
       "                                                                                      </g>\n",
       "                                                                                    </g>\n",
       "                                                                                  </g>\n",
       "                                                                                </g>\n",
       "                                                                              </g>\n",
       "                                                                            </g>\n",
       "                                                                          </g>\n",
       "                                                                        </g>\n",
       "                                                                      </g>\n",
       "                                                                    </g>\n",
       "                                                                  </g>\n",
       "                                                                </g>\n",
       "                                                              </g>\n",
       "                                                            </g>\n",
       "                                                          </g>\n",
       "                                                        </g>\n",
       "                                                      </g>\n",
       "                                                    </g>\n",
       "                                                  </g>\n",
       "                                                </g>\n",
       "                                              </g>\n",
       "                                            </g>\n",
       "                                          </g>\n",
       "                                        </g>\n",
       "                                      </g>\n",
       "                                    </g>\n",
       "                                  </g>\n",
       "                                </g>\n",
       "                              </g>\n",
       "                            </g>\n",
       "                          </g>\n",
       "                        </g>\n",
       "                      </g>\n",
       "                    </g>\n",
       "                  </g>\n",
       "                </g>\n",
       "              </g>\n",
       "            </g>\n",
       "          </g>\n",
       "        </g>\n",
       "      </g>\n",
       "    </g>\n",
       "  </g>\n",
       "</g>\n",
       "</svg>\n"
      ],
      "text/plain": [
       "<g {}>"
      ]
     },
     "execution_count": 5,
     "metadata": {},
     "output_type": "execute_result"
    }
   ],
   "source": [
    "circle(x=100, r=50) | repeat(100, rotate(10) | scale(0.97))"
   ]
  },
  {
   "cell_type": "markdown",
   "id": "9f99a5a2-88d1-4204-9e05-d9d5d44a9f26",
   "metadata": {},
   "source": [
    "Can you implement the same without using the `repeat` transformation?\n",
    "\n",
    "Hint: Try if you can write a function `repeat_transform(shape, n, transform)`."
   ]
  },
  {
   "cell_type": "code",
   "execution_count": null,
   "id": "ba317384-efcb-4a3b-b85e-7fb3cef36b61",
   "metadata": {},
   "outputs": [],
   "source": [
    "# Your code here\n",
    "\n"
   ]
  },
  {
   "cell_type": "code",
   "execution_count": null,
   "id": "dab9ac22-b19e-4e23-9319-4d6769d6c3f3",
   "metadata": {},
   "outputs": [],
   "source": []
  },
  {
   "cell_type": "code",
   "execution_count": null,
   "id": "c7d3df46-514b-4705-a11f-6e92b7cb3fc2",
   "metadata": {},
   "outputs": [],
   "source": []
  }
 ],
 "metadata": {
  "kernelspec": {
   "display_name": "Python 3 (ipykernel)",
   "language": "python",
   "name": "python3"
  },
  "language_info": {
   "codemirror_mode": {
    "name": "ipython",
    "version": 3
   },
   "file_extension": ".py",
   "mimetype": "text/x-python",
   "name": "python",
   "nbconvert_exporter": "python",
   "pygments_lexer": "ipython3",
   "version": "3.10.10"
  }
 },
 "nbformat": 4,
 "nbformat_minor": 5
}
