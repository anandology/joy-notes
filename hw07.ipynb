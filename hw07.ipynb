{
 "cells": [
  {
   "cell_type": "markdown",
   "id": "1cfd9ef2-db6a-4f6f-9d07-5f0e994bb55e",
   "metadata": {},
   "source": [
    "# Homework 07"
   ]
  },
  {
   "cell_type": "code",
   "execution_count": 1,
   "id": "60b5bcea-6dee-4303-9ebc-1d75d72aa2d7",
   "metadata": {
    "execution": {
     "iopub.execute_input": "2023-11-19T00:19:00.316621Z",
     "iopub.status.busy": "2023-11-19T00:19:00.316326Z",
     "iopub.status.idle": "2023-11-19T00:19:00.325255Z",
     "shell.execute_reply": "2023-11-19T00:19:00.324374Z",
     "shell.execute_reply.started": "2023-11-19T00:19:00.316586Z"
    }
   },
   "outputs": [],
   "source": [
    "from joy import *"
   ]
  },
  {
   "cell_type": "markdown",
   "id": "e5fc6460-3516-4920-8807-d2c4009bf173",
   "metadata": {},
   "source": [
    "## Utilities"
   ]
  },
  {
   "cell_type": "markdown",
   "id": "38bd8ce6-dd3f-419f-8261-af9453beaa15",
   "metadata": {},
   "source": [
    "You may need to use the following functions of this homework."
   ]
  },
  {
   "cell_type": "markdown",
   "id": "217b0396-74c5-4449-b5b3-997896a8a3bb",
   "metadata": {},
   "source": [
    "### Super Grid V2"
   ]
  },
  {
   "cell_type": "markdown",
   "id": "0abc3f17-d400-4763-a510-0e74b0c9c146",
   "metadata": {},
   "source": [
    "The `super_grid_v2` function creates a nxn grid and calls the `shape_maker` function to draw a shape in each cell of the grid.\n",
    "\n",
    "The `shape_maker` function gets `size` - the size of the cell, `row`, `column` and `n` as arguments."
   ]
  },
  {
   "cell_type": "code",
   "execution_count": 3,
   "id": "afc32165-cfac-4844-a05f-9939dbb7735d",
   "metadata": {
    "execution": {
     "iopub.execute_input": "2023-11-19T00:20:11.751732Z",
     "iopub.status.busy": "2023-11-19T00:20:11.751096Z",
     "iopub.status.idle": "2023-11-19T00:20:11.757111Z",
     "shell.execute_reply": "2023-11-19T00:20:11.756353Z",
     "shell.execute_reply.started": "2023-11-19T00:20:11.751707Z"
    }
   },
   "outputs": [],
   "source": [
    "def super_grid_v2(shape_maker, n):\n",
    "    size = 300/n\n",
    "    r = size/2\n",
    "    x = -150+r\n",
    "    y = -150+r\n",
    "    shapes = []\n",
    "    for j in range(n):\n",
    "        for i in range(n):\n",
    "            c = shape_maker(size, row=j, column=i, n=n)|translate(x=x, y=y)\n",
    "            shapes.append(c)\n",
    "            x = x+size\n",
    "        y = y+size\n",
    "        x = -150+r\n",
    "    return combine(shapes)"
   ]
  },
  {
   "cell_type": "code",
   "execution_count": 5,
   "id": "6336ed3f-d4bb-485e-a2b7-e3f5ca518ace",
   "metadata": {
    "execution": {
     "iopub.execute_input": "2023-11-19T00:23:09.661566Z",
     "iopub.status.busy": "2023-11-19T00:23:09.661289Z",
     "iopub.status.idle": "2023-11-19T00:23:09.665159Z",
     "shell.execute_reply": "2023-11-19T00:23:09.664333Z",
     "shell.execute_reply.started": "2023-11-19T00:23:09.661543Z"
    }
   },
   "outputs": [],
   "source": [
    "def make_circle(size, row, column, n):\n",
    "    return circle(r=size/2)"
   ]
  },
  {
   "cell_type": "code",
   "execution_count": 6,
   "id": "5286355d-d226-41fd-8378-5e0196e50fd3",
   "metadata": {
    "execution": {
     "iopub.execute_input": "2023-11-19T00:23:28.454324Z",
     "iopub.status.busy": "2023-11-19T00:23:28.454055Z",
     "iopub.status.idle": "2023-11-19T00:23:28.462433Z",
     "shell.execute_reply": "2023-11-19T00:23:28.461612Z",
     "shell.execute_reply.started": "2023-11-19T00:23:28.454301Z"
    }
   },
   "outputs": [
    {
     "data": {
      "image/svg+xml": [
       "<svg width=\"300\" height=\"300\" viewBox=\"-150 -150 300 300\" fill=\"none\" stroke=\"black\" xmlns=\"http://www.w3.org/2000/svg\" xmlns:xlink=\"http://www.w3.org/1999/xlink\">\n",
       "<g transform=\"scale(1 -1)\">\n",
       "  <g>\n",
       "    <circle cx=\"0\" cy=\"0\" r=\"30.0\" transform=\"translate(-120.0 -120.0)\" />\n",
       "    <circle cx=\"0\" cy=\"0\" r=\"30.0\" transform=\"translate(-60.0 -120.0)\" />\n",
       "    <circle cx=\"0\" cy=\"0\" r=\"30.0\" transform=\"translate(0.0 -120.0)\" />\n",
       "    <circle cx=\"0\" cy=\"0\" r=\"30.0\" transform=\"translate(60.0 -120.0)\" />\n",
       "    <circle cx=\"0\" cy=\"0\" r=\"30.0\" transform=\"translate(120.0 -120.0)\" />\n",
       "    <circle cx=\"0\" cy=\"0\" r=\"30.0\" transform=\"translate(-120.0 -60.0)\" />\n",
       "    <circle cx=\"0\" cy=\"0\" r=\"30.0\" transform=\"translate(-60.0 -60.0)\" />\n",
       "    <circle cx=\"0\" cy=\"0\" r=\"30.0\" transform=\"translate(0.0 -60.0)\" />\n",
       "    <circle cx=\"0\" cy=\"0\" r=\"30.0\" transform=\"translate(60.0 -60.0)\" />\n",
       "    <circle cx=\"0\" cy=\"0\" r=\"30.0\" transform=\"translate(120.0 -60.0)\" />\n",
       "    <circle cx=\"0\" cy=\"0\" r=\"30.0\" transform=\"translate(-120.0 0.0)\" />\n",
       "    <circle cx=\"0\" cy=\"0\" r=\"30.0\" transform=\"translate(-60.0 0.0)\" />\n",
       "    <circle cx=\"0\" cy=\"0\" r=\"30.0\" transform=\"translate(0.0 0.0)\" />\n",
       "    <circle cx=\"0\" cy=\"0\" r=\"30.0\" transform=\"translate(60.0 0.0)\" />\n",
       "    <circle cx=\"0\" cy=\"0\" r=\"30.0\" transform=\"translate(120.0 0.0)\" />\n",
       "    <circle cx=\"0\" cy=\"0\" r=\"30.0\" transform=\"translate(-120.0 60.0)\" />\n",
       "    <circle cx=\"0\" cy=\"0\" r=\"30.0\" transform=\"translate(-60.0 60.0)\" />\n",
       "    <circle cx=\"0\" cy=\"0\" r=\"30.0\" transform=\"translate(0.0 60.0)\" />\n",
       "    <circle cx=\"0\" cy=\"0\" r=\"30.0\" transform=\"translate(60.0 60.0)\" />\n",
       "    <circle cx=\"0\" cy=\"0\" r=\"30.0\" transform=\"translate(120.0 60.0)\" />\n",
       "    <circle cx=\"0\" cy=\"0\" r=\"30.0\" transform=\"translate(-120.0 120.0)\" />\n",
       "    <circle cx=\"0\" cy=\"0\" r=\"30.0\" transform=\"translate(-60.0 120.0)\" />\n",
       "    <circle cx=\"0\" cy=\"0\" r=\"30.0\" transform=\"translate(0.0 120.0)\" />\n",
       "    <circle cx=\"0\" cy=\"0\" r=\"30.0\" transform=\"translate(60.0 120.0)\" />\n",
       "    <circle cx=\"0\" cy=\"0\" r=\"30.0\" transform=\"translate(120.0 120.0)\" />\n",
       "  </g>\n",
       "</g>\n",
       "</svg>\n"
      ],
      "text/plain": [
       "<g {}>"
      ]
     },
     "execution_count": 6,
     "metadata": {},
     "output_type": "execute_result"
    }
   ],
   "source": [
    "super_grid_v2(make_circle, 5)"
   ]
  },
  {
   "cell_type": "markdown",
   "id": "6f0884e2-2bd1-4022-ac9c-def047998395",
   "metadata": {},
   "source": [
    "### Concentric Circles"
   ]
  },
  {
   "cell_type": "markdown",
   "id": "c072a554-6b3f-465a-b9a9-73b76f1d03fa",
   "metadata": {},
   "source": [
    "The `concentric_circles` function draws `n` concentric circles with outer circle taking the specified `radius`."
   ]
  },
  {
   "cell_type": "code",
   "execution_count": 8,
   "id": "c17ffa60-2fd0-45d5-a73b-fffe14ca8b02",
   "metadata": {
    "execution": {
     "iopub.execute_input": "2023-11-19T00:25:04.915518Z",
     "iopub.status.busy": "2023-11-19T00:25:04.915208Z",
     "iopub.status.idle": "2023-11-19T00:25:04.920696Z",
     "shell.execute_reply": "2023-11-19T00:25:04.919871Z",
     "shell.execute_reply.started": "2023-11-19T00:25:04.915492Z"
    }
   },
   "outputs": [],
   "source": [
    "blank = circle(r=0, stroke=\"none\")\n",
    "\n",
    "def concentric_circles(radius, n):\n",
    "    if n <= 0:\n",
    "        return blank\n",
    "\n",
    "    delta = radius/n\n",
    "    circles = [circle(r=i*delta) for i in range(1, n+1)]\n",
    "    return combine(circles)"
   ]
  },
  {
   "cell_type": "code",
   "execution_count": 9,
   "id": "a3eb4873-ecd0-490a-b245-ba1c457fb497",
   "metadata": {
    "execution": {
     "iopub.execute_input": "2023-11-19T00:25:08.281147Z",
     "iopub.status.busy": "2023-11-19T00:25:08.280438Z",
     "iopub.status.idle": "2023-11-19T00:25:08.286914Z",
     "shell.execute_reply": "2023-11-19T00:25:08.286234Z",
     "shell.execute_reply.started": "2023-11-19T00:25:08.281112Z"
    }
   },
   "outputs": [
    {
     "data": {
      "image/svg+xml": [
       "<svg width=\"300\" height=\"300\" viewBox=\"-150 -150 300 300\" fill=\"none\" stroke=\"black\" xmlns=\"http://www.w3.org/2000/svg\" xmlns:xlink=\"http://www.w3.org/1999/xlink\">\n",
       "<g transform=\"scale(1 -1)\">\n",
       "  <g>\n",
       "    <circle cx=\"0\" cy=\"0\" r=\"33.333333333333336\" />\n",
       "    <circle cx=\"0\" cy=\"0\" r=\"66.66666666666667\" />\n",
       "    <circle cx=\"0\" cy=\"0\" r=\"100.0\" />\n",
       "  </g>\n",
       "</g>\n",
       "</svg>\n"
      ],
      "text/plain": [
       "<g {}>"
      ]
     },
     "execution_count": 9,
     "metadata": {},
     "output_type": "execute_result"
    }
   ],
   "source": [
    "concentric_circles(radius=100, n=3)"
   ]
  },
  {
   "cell_type": "markdown",
   "id": "eedf4770-6768-4abc-b76a-7f3e504a4b93",
   "metadata": {},
   "source": [
    "### Show Table"
   ]
  },
  {
   "cell_type": "markdown",
   "id": "4543562c-4ac7-41ab-9ac1-24dd2d8f2c60",
   "metadata": {},
   "source": [
    "The `show_table` is a utility to see the values an expression over row and column as a table."
   ]
  },
  {
   "cell_type": "code",
   "execution_count": 10,
   "id": "98a6cffa-df5c-421a-80fa-35150b8cfb8e",
   "metadata": {
    "execution": {
     "iopub.execute_input": "2023-11-19T00:26:08.361538Z",
     "iopub.status.busy": "2023-11-19T00:26:08.361266Z",
     "iopub.status.idle": "2023-11-19T00:26:08.371622Z",
     "shell.execute_reply": "2023-11-19T00:26:08.370968Z",
     "shell.execute_reply.started": "2023-11-19T00:26:08.361516Z"
    }
   },
   "outputs": [],
   "source": [
    "from tabulate import tabulate\n",
    "\n",
    "def show_table(n, expr):\n",
    "    rows = list(range(n))[::-1]\n",
    "    columns = list(range(n))\n",
    "    headers = [\"\"] + [f\"C{c}\" for c in columns]\n",
    "    data = [[f\"R{row}\"] +[eval(expr, {\"row\": row, \"column\": column, \"n\": n}) for column in columns] for row in rows]    \n",
    "    print(tabulate(data, headers=headers))"
   ]
  },
  {
   "cell_type": "code",
   "execution_count": 11,
   "id": "f1b9991c-6c7c-4875-8aa6-036a9b9817fd",
   "metadata": {
    "execution": {
     "iopub.execute_input": "2023-11-19T00:26:21.844961Z",
     "iopub.status.busy": "2023-11-19T00:26:21.844289Z",
     "iopub.status.idle": "2023-11-19T00:26:21.849718Z",
     "shell.execute_reply": "2023-11-19T00:26:21.848855Z",
     "shell.execute_reply.started": "2023-11-19T00:26:21.844937Z"
    }
   },
   "outputs": [
    {
     "name": "stdout",
     "output_type": "stream",
     "text": [
      "      C0    C1    C2    C3\n",
      "--  ----  ----  ----  ----\n",
      "R3     4     5     6     7\n",
      "R2     3     4     5     6\n",
      "R1     2     3     4     5\n",
      "R0     1     2     3     4\n"
     ]
    }
   ],
   "source": [
    "show_table(4, \"row + column + 1\")"
   ]
  },
  {
   "cell_type": "code",
   "execution_count": null,
   "id": "d22b5f7e-d09f-4439-bdfe-f72ec41f8a77",
   "metadata": {},
   "outputs": [],
   "source": []
  },
  {
   "cell_type": "code",
   "execution_count": null,
   "id": "410db572-9235-4233-a53c-b1368ffc6694",
   "metadata": {},
   "outputs": [],
   "source": []
  },
  {
   "cell_type": "markdown",
   "id": "b9905add-97a8-4b42-8a10-f0a9fe98e17e",
   "metadata": {},
   "source": [
    "## Problem 1"
   ]
  },
  {
   "cell_type": "markdown",
   "id": "073093db-e62a-4cea-8404-ddb07d33b00d",
   "metadata": {},
   "source": [
    "Draw the following shape.\n",
    "\n",
    "![Problem 1](images/hw07-ellipse-stars.svg)"
   ]
  },
  {
   "cell_type": "code",
   "execution_count": null,
   "id": "6cb2c903-9507-4ec8-918d-b5e9ba5d28eb",
   "metadata": {},
   "outputs": [],
   "source": []
  },
  {
   "cell_type": "code",
   "execution_count": null,
   "id": "2f38a1dc-8961-41df-a91e-5e647ed6bbb2",
   "metadata": {},
   "outputs": [],
   "source": []
  },
  {
   "cell_type": "markdown",
   "id": "851529a4-ac4c-4263-8833-a99e5dd5a4a9",
   "metadata": {},
   "source": [
    "## Problem 2"
   ]
  },
  {
   "cell_type": "markdown",
   "id": "59251fb3-ef19-4bb7-8c1f-136dee16bbe4",
   "metadata": {},
   "source": [
    "Draw the following shape.\n",
    "\n",
    "![Problem 2](images/hw07-circles.svg)"
   ]
  },
  {
   "cell_type": "code",
   "execution_count": null,
   "id": "15da290e-a7cf-4d12-b99f-384ca5f572c4",
   "metadata": {},
   "outputs": [],
   "source": []
  },
  {
   "cell_type": "code",
   "execution_count": null,
   "id": "923bb815-f368-491e-8e86-5ed8db8a0831",
   "metadata": {},
   "outputs": [],
   "source": []
  },
  {
   "cell_type": "code",
   "execution_count": null,
   "id": "363a4fee-8003-4825-8f10-19d0aceb6381",
   "metadata": {},
   "outputs": [],
   "source": []
  },
  {
   "cell_type": "markdown",
   "id": "97db38f0-a0ed-44b6-8198-5ca78e6a34f0",
   "metadata": {},
   "source": [
    "## Problem 3"
   ]
  },
  {
   "cell_type": "markdown",
   "id": "ca441fff-401a-463e-b0b7-4f43a8017544",
   "metadata": {},
   "source": [
    "Draw the following shape.\n",
    "\n",
    "![Problem 2](images/hw07-six-circles.svg)"
   ]
  },
  {
   "cell_type": "code",
   "execution_count": null,
   "id": "653dc1fe-c228-46d3-9501-d6c6a817b947",
   "metadata": {},
   "outputs": [],
   "source": []
  },
  {
   "cell_type": "code",
   "execution_count": null,
   "id": "5627e293-ccc4-456c-bacd-ab6f4a4646aa",
   "metadata": {},
   "outputs": [],
   "source": []
  },
  {
   "cell_type": "code",
   "execution_count": null,
   "id": "c04e2675-c0b3-4808-afd7-c662076cbcd1",
   "metadata": {},
   "outputs": [],
   "source": []
  },
  {
   "cell_type": "markdown",
   "id": "4e373e85-7e2f-4492-a79c-58f61aa44300",
   "metadata": {},
   "source": [
    "## problem 4"
   ]
  },
  {
   "cell_type": "markdown",
   "id": "1622d0d4-78e9-4516-87b1-ac90a4a003fe",
   "metadata": {},
   "source": [
    "Write a function `circle_pattern` that takes `size` and `n` as arguments and creates the following pattern. The `size` indicates the width and height of the picture and `n` indicates the number of circles draws in each part of the picture.\n",
    "\n",
    "\n",
    "<table>\n",
    "    <tr>\n",
    "        <td>\n",
    "            <figure>\n",
    "              <img src=\"images/hw07-circle-pattern-3.svg\" alt=\"\" />\n",
    "              <figcaption style=\"text-align: center;\"><code>circle_pattern(200, 3)</code></figcaption>\n",
    "            </figure>\n",
    "        </td>\n",
    "        <td>\n",
    "            <figure>\n",
    "              <img src=\"images/hw07-circle-pattern-8.svg\" alt=\"\" />\n",
    "              <figcaption style=\"text-align: center;\"><code>concentric_circles(300, 8)</code></figcaption>\n",
    "            </figure>\n",
    "        </td>\n",
    "    </tr>\n",
    "</table>\n"
   ]
  },
  {
   "cell_type": "code",
   "execution_count": null,
   "id": "e63b2612-be53-44da-b13d-33bdf87a3cd5",
   "metadata": {},
   "outputs": [],
   "source": []
  },
  {
   "cell_type": "code",
   "execution_count": null,
   "id": "30152441-1de1-458a-a4e3-75cc4a7b2db7",
   "metadata": {},
   "outputs": [],
   "source": []
  },
  {
   "cell_type": "code",
   "execution_count": null,
   "id": "a179993e-a3f1-41b9-997f-23f7a8edc5d3",
   "metadata": {},
   "outputs": [],
   "source": []
  },
  {
   "cell_type": "markdown",
   "id": "d643e7d9-51fa-4f86-824f-9472ee42292f",
   "metadata": {},
   "source": [
    "## Problem 5"
   ]
  },
  {
   "cell_type": "markdown",
   "id": "71df9b76-e78c-4f6f-93e1-95deea5f4120",
   "metadata": {},
   "source": [
    "Can you draw the following shape?\n",
    "\n",
    "![Problem 5](images/hw07-circles-in-triangle.svg)\n",
    "\n",
    "Hint: Look at the `super_grid` and `super_grid_v2` functions that you have written before and see if you can modify them to achieve this."
   ]
  },
  {
   "cell_type": "code",
   "execution_count": null,
   "id": "50ae9389-b936-4205-a14a-92c0a7e10ad8",
   "metadata": {},
   "outputs": [],
   "source": []
  },
  {
   "cell_type": "code",
   "execution_count": null,
   "id": "3af46b1f-5796-40ad-bf1c-97641fc5891e",
   "metadata": {},
   "outputs": [],
   "source": []
  },
  {
   "cell_type": "code",
   "execution_count": null,
   "id": "2d3ca350-8150-410c-a535-163cf3c38894",
   "metadata": {},
   "outputs": [],
   "source": []
  },
  {
   "cell_type": "code",
   "execution_count": null,
   "id": "4d9609e6-924b-4eff-a904-254ec4d4ba40",
   "metadata": {},
   "outputs": [],
   "source": []
  },
  {
   "cell_type": "markdown",
   "id": "5f919e6a-6bcc-4f16-9af1-1e852772472f",
   "metadata": {},
   "source": [
    "### Problem 6 (_Optional_)"
   ]
  },
  {
   "cell_type": "markdown",
   "id": "7190002c-d66d-4c1e-9d53-9c1c5fda1c59",
   "metadata": {},
   "source": [
    "Can you generalize the solution to Problem 5 and use it to draw the following image?\n",
    "\n",
    "You want to create a function `traingular_grid` that takes `shape_maker` and `n` as arguments, with an approach similar to `super_grid_v2`. \n",
    "\n",
    "![Problem 6](images/hw07-circles-in-triangle-parametric.svg)"
   ]
  },
  {
   "cell_type": "code",
   "execution_count": null,
   "id": "c53ee3b9-ca1d-47e2-a111-7ce70ca26dfd",
   "metadata": {},
   "outputs": [],
   "source": []
  },
  {
   "cell_type": "code",
   "execution_count": null,
   "id": "c38014a9-dbbd-4717-ba25-91ef368b6066",
   "metadata": {},
   "outputs": [],
   "source": []
  },
  {
   "cell_type": "code",
   "execution_count": null,
   "id": "9e5f07b2-c761-4c02-be21-76941f31d701",
   "metadata": {},
   "outputs": [],
   "source": []
  }
 ],
 "metadata": {
  "kernelspec": {
   "display_name": "Python 3 (ipykernel)",
   "language": "python",
   "name": "python3"
  },
  "language_info": {
   "codemirror_mode": {
    "name": "ipython",
    "version": 3
   },
   "file_extension": ".py",
   "mimetype": "text/x-python",
   "name": "python",
   "nbconvert_exporter": "python",
   "pygments_lexer": "ipython3",
   "version": "3.10.10"
  }
 },
 "nbformat": 4,
 "nbformat_minor": 5
}
