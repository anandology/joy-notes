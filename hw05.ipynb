{
 "cells": [
  {
   "cell_type": "markdown",
   "id": "9a3b31ca-d1ad-414a-9a96-49040d314bfe",
   "metadata": {},
   "source": [
    "### Homework 05"
   ]
  },
  {
   "cell_type": "code",
   "execution_count": 28,
   "id": "e5131a84-31a4-4b87-9a0e-f0109679a782",
   "metadata": {},
   "outputs": [],
   "source": [
    "from joy import *"
   ]
  },
  {
   "cell_type": "code",
   "execution_count": 29,
   "id": "d8250dde-75f6-46e1-a85e-4c494fb874ad",
   "metadata": {},
   "outputs": [
    {
     "data": {
      "text/html": [
       "\n",
       "<style type=\"text/css\">\n",
       "img {\n",
       "  border: 3px solid #aaa;\n",
       "}\n",
       "figure {\n",
       "  text-align: center;\n",
       "}\n",
       "figcaption code {\n",
       "  background: none !important;\n",
       "}\n",
       "</style>\n"
      ],
      "text/plain": [
       "<IPython.core.display.HTML object>"
      ]
     },
     "execution_count": 29,
     "metadata": {},
     "output_type": "execute_result"
    }
   ],
   "source": [
    "# Run this cell to make the figures look better with a nice border\n",
    "from IPython.core.display import HTML\n",
    "\n",
    "css=\"\"\"\n",
    "<style type=\"text/css\">\n",
    "img {\n",
    "  border: 3px solid #aaa;\n",
    "}\n",
    "figure {\n",
    "  text-align: center;\n",
    "}\n",
    "figcaption code {\n",
    "  background: none !important;\n",
    "}\n",
    "</style>\n",
    "\"\"\"\n",
    "HTML(css)"
   ]
  },
  {
   "cell_type": "markdown",
   "id": "0a340770-f4ba-43a0-af38-9f699be0dbe4",
   "metadata": {},
   "source": [
    "## Problem 1: Concentric Squares"
   ]
  },
  {
   "cell_type": "markdown",
   "id": "4b76f2fe-7562-4f5b-a627-7436cf0e18ce",
   "metadata": {},
   "source": [
    "Write a function `concentric_sqares` that takes the `size` and `n` as arguments and creates `n` equally spaced concentric squares with the outer square having width and height of `size`.\n",
    "\n",
    "\n",
    "<table>\n",
    "    <tr>\n",
    "        <td>\n",
    "            <figure>\n",
    "              <img src=\"images/hw05-concentric-squares-4.svg\" alt=\"\" />\n",
    "              <figcaption><code>concentric_squares(200, 4)</code></figcaption>\n",
    "            </figure>\n",
    "        </td>\n",
    "        <td>\n",
    "            <figure>\n",
    "              <img src=\"images/hw05-concentric-squares-6.svg\" alt=\"\" />\n",
    "              <figcaption><code>concentric_squares(200, 6)</code></figcaption>\n",
    "            </figure>\n",
    "        </td>\n",
    "    </tr>\n",
    "</table>"
   ]
  },
  {
   "cell_type": "code",
   "execution_count": 30,
   "id": "efb5a3d4-3103-4f45-ab62-89f5bcb29274",
   "metadata": {},
   "outputs": [],
   "source": [
    "from wizard import *"
   ]
  },
  {
   "cell_type": "code",
   "execution_count": 31,
   "id": "b6452d29-d84f-4417-aec4-15d8a7f470dc",
   "metadata": {},
   "outputs": [],
   "source": [
    "def concentric_circles(radius, n):\n",
    "    delta = radius/n\n",
    "    circles = [circle(r=i*delta) for i in range(1, n+1)]\n",
    "    return combine(circles)"
   ]
  },
  {
   "cell_type": "code",
   "execution_count": 32,
   "id": "8f495d17-408b-45ea-bcac-8e54478c3f65",
   "metadata": {},
   "outputs": [],
   "source": [
    "def concentric_squares(w, n):\n",
    "    dx = w/n\n",
    "    squares = [rectangle(w=i*dx, h=i*dx) for i in range(1, n+1)]\n",
    "    return combine(squares)"
   ]
  },
  {
   "cell_type": "code",
   "execution_count": 33,
   "id": "1b9ebfc1-2ac5-4793-89b9-ed0e03ba1d90",
   "metadata": {},
   "outputs": [
    {
     "data": {
      "image/svg+xml": [
       "<svg width=\"300\" height=\"300\" viewBox=\"-150 -150 300 300\" fill=\"none\" stroke=\"black\" xmlns=\"http://www.w3.org/2000/svg\" xmlns:xlink=\"http://www.w3.org/1999/xlink\">\n",
       "<g transform=\"scale(1 -1)\">\n",
       "  <g>\n",
       "    <rect x=\"-2.9411764705882355\" y=\"-2.9411764705882355\" width=\"5.882352941176471\" height=\"5.882352941176471\" />\n",
       "    <rect x=\"-5.882352941176471\" y=\"-5.882352941176471\" width=\"11.764705882352942\" height=\"11.764705882352942\" />\n",
       "    <rect x=\"-8.823529411764707\" y=\"-8.823529411764707\" width=\"17.647058823529413\" height=\"17.647058823529413\" />\n",
       "    <rect x=\"-11.764705882352942\" y=\"-11.764705882352942\" width=\"23.529411764705884\" height=\"23.529411764705884\" />\n",
       "    <rect x=\"-14.705882352941178\" y=\"-14.705882352941178\" width=\"29.411764705882355\" height=\"29.411764705882355\" />\n",
       "    <rect x=\"-17.647058823529413\" y=\"-17.647058823529413\" width=\"35.294117647058826\" height=\"35.294117647058826\" />\n",
       "    <rect x=\"-20.58823529411765\" y=\"-20.58823529411765\" width=\"41.1764705882353\" height=\"41.1764705882353\" />\n",
       "    <rect x=\"-23.529411764705884\" y=\"-23.529411764705884\" width=\"47.05882352941177\" height=\"47.05882352941177\" />\n",
       "    <rect x=\"-26.47058823529412\" y=\"-26.47058823529412\" width=\"52.94117647058824\" height=\"52.94117647058824\" />\n",
       "    <rect x=\"-29.411764705882355\" y=\"-29.411764705882355\" width=\"58.82352941176471\" height=\"58.82352941176471\" />\n",
       "    <rect x=\"-32.352941176470594\" y=\"-32.352941176470594\" width=\"64.70588235294119\" height=\"64.70588235294119\" />\n",
       "    <rect x=\"-35.294117647058826\" y=\"-35.294117647058826\" width=\"70.58823529411765\" height=\"70.58823529411765\" />\n",
       "    <rect x=\"-38.23529411764706\" y=\"-38.23529411764706\" width=\"76.47058823529412\" height=\"76.47058823529412\" />\n",
       "    <rect x=\"-41.1764705882353\" y=\"-41.1764705882353\" width=\"82.3529411764706\" height=\"82.3529411764706\" />\n",
       "    <rect x=\"-44.117647058823536\" y=\"-44.117647058823536\" width=\"88.23529411764707\" height=\"88.23529411764707\" />\n",
       "    <rect x=\"-47.05882352941177\" y=\"-47.05882352941177\" width=\"94.11764705882354\" height=\"94.11764705882354\" />\n",
       "    <rect x=\"-50.0\" y=\"-50.0\" width=\"100.0\" height=\"100.0\" />\n",
       "    <rect x=\"-52.94117647058824\" y=\"-52.94117647058824\" width=\"105.88235294117648\" height=\"105.88235294117648\" />\n",
       "    <rect x=\"-55.88235294117648\" y=\"-55.88235294117648\" width=\"111.76470588235296\" height=\"111.76470588235296\" />\n",
       "    <rect x=\"-58.82352941176471\" y=\"-58.82352941176471\" width=\"117.64705882352942\" height=\"117.64705882352942\" />\n",
       "    <rect x=\"-61.76470588235294\" y=\"-61.76470588235294\" width=\"123.52941176470588\" height=\"123.52941176470588\" />\n",
       "    <rect x=\"-64.70588235294119\" y=\"-64.70588235294119\" width=\"129.41176470588238\" height=\"129.41176470588238\" />\n",
       "    <rect x=\"-67.64705882352942\" y=\"-67.64705882352942\" width=\"135.29411764705884\" height=\"135.29411764705884\" />\n",
       "    <rect x=\"-70.58823529411765\" y=\"-70.58823529411765\" width=\"141.1764705882353\" height=\"141.1764705882353\" />\n",
       "    <rect x=\"-73.52941176470588\" y=\"-73.52941176470588\" width=\"147.05882352941177\" height=\"147.05882352941177\" />\n",
       "    <rect x=\"-76.47058823529412\" y=\"-76.47058823529412\" width=\"152.94117647058823\" height=\"152.94117647058823\" />\n",
       "    <rect x=\"-79.41176470588236\" y=\"-79.41176470588236\" width=\"158.82352941176472\" height=\"158.82352941176472\" />\n",
       "    <rect x=\"-82.3529411764706\" y=\"-82.3529411764706\" width=\"164.7058823529412\" height=\"164.7058823529412\" />\n",
       "    <rect x=\"-85.29411764705883\" y=\"-85.29411764705883\" width=\"170.58823529411765\" height=\"170.58823529411765\" />\n",
       "    <rect x=\"-88.23529411764707\" y=\"-88.23529411764707\" width=\"176.47058823529414\" height=\"176.47058823529414\" />\n",
       "    <rect x=\"-91.1764705882353\" y=\"-91.1764705882353\" width=\"182.3529411764706\" height=\"182.3529411764706\" />\n",
       "    <rect x=\"-94.11764705882354\" y=\"-94.11764705882354\" width=\"188.23529411764707\" height=\"188.23529411764707\" />\n",
       "    <rect x=\"-97.05882352941177\" y=\"-97.05882352941177\" width=\"194.11764705882354\" height=\"194.11764705882354\" />\n",
       "    <rect x=\"-100.0\" y=\"-100.0\" width=\"200.0\" height=\"200.0\" />\n",
       "  </g>\n",
       "</g>\n",
       "</svg>\n"
      ],
      "text/plain": [
       "<g {}>"
      ]
     },
     "execution_count": 33,
     "metadata": {},
     "output_type": "execute_result"
    }
   ],
   "source": [
    "concentric_squares(200, 34)"
   ]
  },
  {
   "cell_type": "markdown",
   "id": "b765da28-bf80-4060-af48-cc580b6ac716",
   "metadata": {},
   "source": [
    "## Problem 2: Column of Shapes"
   ]
  },
  {
   "cell_type": "markdown",
   "id": "3bda89bc-5243-4090-b2d2-c8b1377cbee0",
   "metadata": {},
   "source": [
    "Write a function `column` that takes a list of shapes and arranges them in a column, from top to bottom.\n",
    "\n",
    "<figure>\n",
    "  <img src=\"images/hw05-column-of-shapes.svg\" alt=\"\" />\n",
    "  <figcaption><code>column([circle(), ellipse(), rectangle(), line()])</code></figcaption>\n",
    "</figure>\n"
   ]
  },
  {
   "cell_type": "code",
   "execution_count": 34,
   "id": "90ceac8c-df43-4ba6-beeb-9405b0aeafd1",
   "metadata": {},
   "outputs": [],
   "source": [
    "def row(shapes):\n",
    "    n=len(shapes)\n",
    "    dx=300/n\n",
    "    offset=-150 + dx/2\n",
    "    new_shapes=[shapes[i]|scale(1/n)|translate(x=dx*i) for i in range(n)]\n",
    "    return combine(new_shapes)|translate(x=offset)"
   ]
  },
  {
   "cell_type": "code",
   "execution_count": 35,
   "id": "8dda2436-92d6-45cb-9f2f-831fb57e056a",
   "metadata": {},
   "outputs": [
    {
     "data": {
      "image/svg+xml": [
       "<svg width=\"300\" height=\"300\" viewBox=\"-150 -150 300 300\" fill=\"none\" stroke=\"black\" xmlns=\"http://www.w3.org/2000/svg\" xmlns:xlink=\"http://www.w3.org/1999/xlink\">\n",
       "<g transform=\"scale(1 -1)\">\n",
       "  <g transform=\"translate(-112.5 0)\">\n",
       "    <circle cx=\"0\" cy=\"0\" r=\"100\" transform=\"translate(0.0 0) scale(0.25 0.25)\" />\n",
       "    <rect x=\"-100.0\" y=\"-50.0\" width=\"200\" height=\"100\" transform=\"translate(75.0 0) scale(0.25 0.25)\" />\n",
       "    <ellipse cx=\"0\" cy=\"0\" rx=\"100.0\" ry=\"50.0\" transform=\"translate(150.0 0) scale(0.25 0.25)\" />\n",
       "    <line x1=\"-100\" y1=\"0\" x2=\"100\" y2=\"0\" transform=\"translate(225.0 0) scale(0.25 0.25)\" />\n",
       "  </g>\n",
       "</g>\n",
       "</svg>\n"
      ],
      "text/plain": [
       "<g {}>"
      ]
     },
     "execution_count": 35,
     "metadata": {},
     "output_type": "execute_result"
    }
   ],
   "source": [
    "row([circle(), rectangle(), ellipse(), line()])"
   ]
  },
  {
   "cell_type": "code",
   "execution_count": null,
   "id": "f8c44438-4492-4f36-a8d9-dc18bc6ef1e8",
   "metadata": {},
   "outputs": [],
   "source": []
  },
  {
   "cell_type": "code",
   "execution_count": null,
   "id": "7eb524c6-29e2-4348-a282-21afe223c3c0",
   "metadata": {},
   "outputs": [],
   "source": []
  },
  {
   "cell_type": "markdown",
   "id": "c1d08bbb-289c-444a-b7e7-a96688f96c11",
   "metadata": {},
   "source": [
    "## Problem 3: Row of Ellipse Stars"
   ]
  },
  {
   "cell_type": "markdown",
   "id": "a65ca42e-a3bf-4836-b00f-d84726a256ae",
   "metadata": {},
   "source": [
    "Write a function `row_of_ellipse_stars` that take a number `n` as argument and create `n` ellipse stars with number of ellipses from `1` to `n`, placed in a row.\n",
    "\n",
    "<table>\n",
    "    <tr>\n",
    "        <td>\n",
    "            <figure>\n",
    "              <img src=\"images/hw05-row-of-ellipse-stars-3.svg\" alt=\"\" />\n",
    "              <figcaption style=\"text-align: center;\"><code>row_of_ellipse_stars(3)</code></figcaption>\n",
    "            </figure>\n",
    "        </td>\n",
    "        <td>\n",
    "            <figure>\n",
    "              <img src=\"images/hw05-row-of-ellipse-stars-6.svg\" alt=\"\" />\n",
    "              <figcaption style=\"text-align: center;\"><code>row_of_ellipse_stars(6)</code></figcaption>\n",
    "            </figure>\n",
    "        </td>\n",
    "    </tr>\n",
    "</table>"
   ]
  },
  {
   "cell_type": "code",
   "execution_count": 36,
   "id": "d68e8cd0-e102-4b15-a1b6-9d6af51dc3d7",
   "metadata": {},
   "outputs": [],
   "source": [
    "def ellipse_star(n):\n",
    "    return ellipse(w=150, h=75)|repeat(n, rotate(180/n))"
   ]
  },
  {
   "cell_type": "code",
   "execution_count": 37,
   "id": "459a87df-7453-437e-a2fc-7126511cc5bc",
   "metadata": {},
   "outputs": [],
   "source": [
    "def row_of_ellipse_stars(n):\n",
    "    sequence = [ellipse_star(n) for i in range(1, n+1)]\n",
    "    return sequence"
   ]
  },
  {
   "cell_type": "code",
   "execution_count": 38,
   "id": "225f9a13-0dc5-471b-ad56-e15979f18603",
   "metadata": {},
   "outputs": [
    {
     "data": {
      "text/plain": [
       "[<g {}>, <g {}>, <g {}>]"
      ]
     },
     "execution_count": 38,
     "metadata": {},
     "output_type": "execute_result"
    }
   ],
   "source": [
    "row_of_ellipse_stars(3)"
   ]
  },
  {
   "cell_type": "markdown",
   "id": "623de364-7cc8-4fb7-ab6b-bb9f794f4912",
   "metadata": {},
   "source": [
    "## Problem 4: Con-bottom-ic Circles"
   ]
  },
  {
   "cell_type": "markdown",
   "id": "05b4c486-102e-4fd6-adbc-4a45906c68e9",
   "metadata": {},
   "source": [
    "Write a function `conbottomic_circles` that takes `r` and `n` as arguments and draws `n` circles touching at the bottom point, with uniformly increasing radius and the outermost circle having a radius of `r`.\n",
    "\n",
    "Please note that radii of circles in drawn here is exactly same as that in concentric circles with same `r` and `n`.\n",
    "\n",
    "<table>\n",
    "    <tr>\n",
    "        <td>\n",
    "            <figure>\n",
    "              <img src=\"images/hw05-conbottomic-circles-5.svg\" alt=\"\" />\n",
    "              <figcaption style=\"text-align: center;\"><code>conbottomic_circles(50, 5)</code></figcaption>\n",
    "            </figure>\n",
    "        </td>\n",
    "        <td>\n",
    "            <figure>\n",
    "              <img src=\"images/hw05-conbottomic-circles-10.svg\" alt=\"\" />\n",
    "              <figcaption style=\"text-align: center;\"><code>conbottomic_circles(70, 10)</code></figcaption>\n",
    "            </figure>\n",
    "        </td>\n",
    "    </tr>\n",
    "</table>"
   ]
  },
  {
   "cell_type": "code",
   "execution_count": 39,
   "id": "49d2f951-65a7-4aa4-aa5c-23e3dd5eaf02",
   "metadata": {},
   "outputs": [
    {
     "data": {
      "image/svg+xml": [
       "<svg width=\"300\" height=\"300\" viewBox=\"-150 -150 300 300\" fill=\"none\" stroke=\"black\" xmlns=\"http://www.w3.org/2000/svg\" xmlns:xlink=\"http://www.w3.org/1999/xlink\">\n",
       "<g transform=\"scale(1 -1)\">\n",
       "  <g>\n",
       "    <circle cx=\"0\" cy=\"0\" r=\"10.0\" />\n",
       "    <circle cx=\"0\" cy=\"0\" r=\"20.0\" />\n",
       "    <circle cx=\"0\" cy=\"0\" r=\"30.0\" />\n",
       "    <circle cx=\"0\" cy=\"0\" r=\"40.0\" />\n",
       "    <circle cx=\"0\" cy=\"0\" r=\"50.0\" />\n",
       "  </g>\n",
       "</g>\n",
       "</svg>\n"
      ],
      "text/plain": [
       "<g {}>"
      ]
     },
     "execution_count": 39,
     "metadata": {},
     "output_type": "execute_result"
    }
   ],
   "source": [
    "concentric_circles(50, 5)"
   ]
  },
  {
   "cell_type": "code",
   "execution_count": 40,
   "id": "f348f836-42db-4977-8773-218d15da69d6",
   "metadata": {},
   "outputs": [],
   "source": [
    "def concentric_circles(radius, n):\n",
    "    delta = radius/n\n",
    "    circles = [circle(r=i*delta) for i in range(1, n+1)]\n",
    "    return combine(circles)\n",
    "\n",
    "def bcircle(bx=0, by=0, r=50):\n",
    "    cx = bx\n",
    "    cy = by+r\n",
    "    return circle(x=cx, y=cy, r=r)\n",
    "\n",
    "def conbottomic_circles(r, n):\n",
    "    shift = r/n\n",
    "    design = [bcircle(r=i*shift) for i in range(1, n+1)]\n",
    "    return combine(design)|translate(y=-r)"
   ]
  },
  {
   "cell_type": "code",
   "execution_count": 41,
   "id": "817432c1-8d6f-4cc4-93dd-4544e3cd24d6",
   "metadata": {},
   "outputs": [
    {
     "data": {
      "image/svg+xml": [
       "<svg width=\"300\" height=\"300\" viewBox=\"-150 -150 300 300\" fill=\"none\" stroke=\"black\" xmlns=\"http://www.w3.org/2000/svg\" xmlns:xlink=\"http://www.w3.org/1999/xlink\">\n",
       "<g transform=\"scale(1 -1)\">\n",
       "  <g transform=\"translate(0 -100)\">\n",
       "    <circle cx=\"0\" cy=\"14.285714285714286\" r=\"14.285714285714286\" />\n",
       "    <circle cx=\"0\" cy=\"28.571428571428573\" r=\"28.571428571428573\" />\n",
       "    <circle cx=\"0\" cy=\"42.85714285714286\" r=\"42.85714285714286\" />\n",
       "    <circle cx=\"0\" cy=\"57.142857142857146\" r=\"57.142857142857146\" />\n",
       "    <circle cx=\"0\" cy=\"71.42857142857143\" r=\"71.42857142857143\" />\n",
       "    <circle cx=\"0\" cy=\"85.71428571428572\" r=\"85.71428571428572\" />\n",
       "    <circle cx=\"0\" cy=\"100.0\" r=\"100.0\" />\n",
       "  </g>\n",
       "</g>\n",
       "</svg>\n"
      ],
      "text/plain": [
       "<g {}>"
      ]
     },
     "execution_count": 41,
     "metadata": {},
     "output_type": "execute_result"
    }
   ],
   "source": [
    "conbottomic_circles(100, 7)"
   ]
  },
  {
   "cell_type": "code",
   "execution_count": 42,
   "id": "679f86d0-7611-4703-84e9-1acbb96afc7e",
   "metadata": {},
   "outputs": [
    {
     "data": {
      "image/svg+xml": [
       "<svg width=\"300\" height=\"300\" viewBox=\"-150 -150 300 300\" fill=\"none\" stroke=\"black\" xmlns=\"http://www.w3.org/2000/svg\" xmlns:xlink=\"http://www.w3.org/1999/xlink\">\n",
       "<g transform=\"scale(1 -1)\">\n",
       "  <g transform=\"translate(0 -50)\">\n",
       "    <circle cx=\"0\" cy=\"16.666666666666668\" r=\"16.666666666666668\" />\n",
       "    <circle cx=\"0\" cy=\"33.333333333333336\" r=\"33.333333333333336\" />\n",
       "    <circle cx=\"0\" cy=\"50.0\" r=\"50.0\" />\n",
       "  </g>\n",
       "</g>\n",
       "</svg>\n"
      ],
      "text/plain": [
       "<g {}>"
      ]
     },
     "execution_count": 42,
     "metadata": {},
     "output_type": "execute_result"
    }
   ],
   "source": [
    "conbottomic_circles(50,3)"
   ]
  },
  {
   "cell_type": "code",
   "execution_count": 43,
   "id": "b56562fd-5edc-4f79-8ed9-e184b5d2508a",
   "metadata": {},
   "outputs": [],
   "source": [
    "def bcircle(bx=0, by=0, r=50):\n",
    "    cx = bx\n",
    "    cy = by+r\n",
    "    return circle(x=cx, y=cy, r=r)"
   ]
  },
  {
   "cell_type": "code",
   "execution_count": 44,
   "id": "0e482169-acfc-4261-9958-6ae8d071ff1a",
   "metadata": {},
   "outputs": [
    {
     "data": {
      "image/svg+xml": [
       "<svg width=\"300\" height=\"300\" viewBox=\"-150 -150 300 300\" fill=\"none\" stroke=\"black\" xmlns=\"http://www.w3.org/2000/svg\" xmlns:xlink=\"http://www.w3.org/1999/xlink\">\n",
       "<g transform=\"scale(1 -1)\">\n",
       "  <g>\n",
       "    <g>\n",
       "      <circle cx=\"0\" cy=\"25\" r=\"25\" />\n",
       "      <circle cx=\"0\" cy=\"50\" r=\"50\" />\n",
       "    </g>\n",
       "    <circle cx=\"0\" cy=\"75\" r=\"75\" />\n",
       "  </g>\n",
       "</g>\n",
       "</svg>\n"
      ],
      "text/plain": [
       "<g {}>"
      ]
     },
     "execution_count": 44,
     "metadata": {},
     "output_type": "execute_result"
    }
   ],
   "source": [
    "bcircle(r=25)+bcircle(r=50)+bcircle(r=75)"
   ]
  },
  {
   "cell_type": "markdown",
   "id": "cf407139-a3df-43c2-bd2d-5592499bd90d",
   "metadata": {},
   "source": [
    "## Problem 5: Touching Circles"
   ]
  },
  {
   "cell_type": "markdown",
   "id": "755599d9-684d-414a-85d0-c3364fdd2271",
   "metadata": {},
   "source": [
    "Draw 5 circles with radius $r$, $2r$, $3r$, $4r$ and $5r$ in a row such that consequetive circles are touching each other and the combined figure takes the full width of 300 px.\n",
    "\n",
    "![](images/hw05-touching-circles-5.svg)"
   ]
  },
  {
   "cell_type": "code",
   "execution_count": 45,
   "id": "d0131e56-a366-4bf0-8939-bdcdbe67a96c",
   "metadata": {},
   "outputs": [
    {
     "data": {
      "image/svg+xml": [
       "<svg width=\"300\" height=\"300\" viewBox=\"-150 -150 300 300\" fill=\"none\" stroke=\"black\" xmlns=\"http://www.w3.org/2000/svg\" xmlns:xlink=\"http://www.w3.org/1999/xlink\">\n",
       "<g transform=\"scale(1 -1)\">\n",
       "  <g>\n",
       "    <g>\n",
       "      <g>\n",
       "        <g>\n",
       "          <circle cx=\"-140\" cy=\"0\" r=\"10\" />\n",
       "          <circle cx=\"-110\" cy=\"0\" r=\"20\" />\n",
       "        </g>\n",
       "        <circle cx=\"-60\" cy=\"0\" r=\"30\" />\n",
       "      </g>\n",
       "      <circle cx=\"10\" cy=\"0\" r=\"40\" />\n",
       "    </g>\n",
       "    <circle cx=\"100\" cy=\"0\" r=\"50\" />\n",
       "  </g>\n",
       "</g>\n",
       "</svg>\n"
      ],
      "text/plain": [
       "<g {}>"
      ]
     },
     "execution_count": 45,
     "metadata": {},
     "output_type": "execute_result"
    }
   ],
   "source": [
    "a = circle(r=10,x=-140)\n",
    "b = circle(r=20,x=-110)\n",
    "c = circle(r=30, x=-60)\n",
    "d = circle(r=40,x=10)\n",
    "e = circle(r=50,x=100)\n",
    "a+b+c+d+e"
   ]
  },
  {
   "cell_type": "code",
   "execution_count": null,
   "id": "8d6ad7c3-41f7-4a16-94bc-4a0d71224a71",
   "metadata": {},
   "outputs": [],
   "source": []
  },
  {
   "cell_type": "code",
   "execution_count": null,
   "id": "9fb7a5bd-5ddf-4496-8728-019345c8f5da",
   "metadata": {},
   "outputs": [],
   "source": []
  },
  {
   "cell_type": "markdown",
   "id": "c98a8e68-e4b6-407e-bb06-ca3e5b9964a4",
   "metadata": {},
   "source": [
    "## Problem 6: Generic Touching Circles (Bonus Problem)"
   ]
  },
  {
   "cell_type": "markdown",
   "id": "8fbf0639-5999-4d4a-a43c-97750ea8454b",
   "metadata": {},
   "source": [
    "Write a function `touching_circles` that takes a number `n` as argument and creates a shape with `n` circles in a row with the consequetive circles touching each other. The radii of the circles uniformly increases from the first circle to the last.\n",
    "\n",
    "\n",
    "<table>\n",
    "    <tr>\n",
    "        <td>\n",
    "            <figure>\n",
    "              <img src=\"images/hw05-touching-circles-5.svg\" alt=\"\" />\n",
    "              <figcaption style=\"text-align: center;\"><code>touching_circles(5)</code></figcaption>\n",
    "            </figure>\n",
    "        </td>\n",
    "        <td>\n",
    "            <figure>\n",
    "              <img src=\"images/hw05-touching-circles-8.svg\" alt=\"\" />\n",
    "              <figcaption style=\"text-align: center;\"><code>touching_circles(8)</code></figcaption>\n",
    "            </figure>\n",
    "        </td>\n",
    "    </tr>\n",
    "</table>"
   ]
  },
  {
   "cell_type": "code",
   "execution_count": 46,
   "id": "afad0ff8-5875-4d9f-916a-228ef0ec94d4",
   "metadata": {},
   "outputs": [],
   "source": [
    "def sigma(n):\n",
    "    return sum(range(1, n+1))\n",
    "\n",
    "def lcircle(x, y, r):\n",
    "    cx = x+r\n",
    "    cy = y\n",
    "    c = circle(x=cx, y=cy, r=r)\n",
    "    return c\n",
    "\n",
    "def rcircle(x, y, r):\n",
    "    cx = x-r\n",
    "    cy = y\n",
    "    c = circle(x=cx, y=cy, r=r)\n",
    "    return c\n",
    "\n",
    "def left_touching_circles(n):\n",
    "    r0 = 150/sigma(n)\n",
    "    x = -150\n",
    "    y = 0\n",
    "    r = r0\n",
    "    shapes = []\n",
    "    for i in range(n):\n",
    "        c = lcircle(x, y, r)\n",
    "        x = x+2*r\n",
    "        y = 0\n",
    "        r = r+r0\n",
    "        shapes.append(c)\n",
    "    return combine(shapes)"
   ]
  },
  {
   "cell_type": "markdown",
   "id": "efe1cd4a-5c58-455d-bf8a-2ec1f302ffc8",
   "metadata": {},
   "source": [
    "# Solution Functions for Touching Circles\n",
    "\n",
    "First, I wrote the function sigma(n), which adds up all the numbers from 1 to n and returns the result.\n",
    "\n",
    "Following that, I wrote the function lcircle(x, y, r). This function takes cx = x+r and cy=y(y doesn't change). After that, lcircle takes c = a circle with x = cx, y = cy and r = r(the second r being the one in the original function). The final result, c, is returned.\n",
    "\n",
    "I further modified lcircle to make a function rcircle(x, y, r). The rcircle function is almost identical to lcircle, except that cx in rcircle = x-r, not x+r.\n",
    "\n",
    "I rounded off by creating the left_touching_circles function, with n as the argument. This crowning piece takes x to be -150 and y = 0. A special variable, r0, is used, which equals 150/sigma(n)(remember that n is the argument for left_touching_circles). The variable r equals r0.\n",
    "\n",
    "For the touching circles, I took an empty list called 'shapes'. Then I instituted a loop for i in range(n), which produces c = lcircle(x, y, r). This is to make the circles with. Further, x = x+2*r, since the centre of each circle is separated by 2 times the radius. y = 0, because again, y doesn't change. Since the smallest circle's radius = r0, and since the radius of each circle after that increases upon r0, r = r+r0. Finally, each c is appended onto shapes, and combine(shapes) is returned to give you the final result."
   ]
  },
  {
   "cell_type": "code",
   "execution_count": 55,
   "id": "eff83d4f-3e8f-4d3c-ab57-197366c6ed66",
   "metadata": {},
   "outputs": [
    {
     "data": {
      "image/svg+xml": [
       "<svg width=\"300\" height=\"300\" viewBox=\"-150 -150 300 300\" fill=\"none\" stroke=\"black\" xmlns=\"http://www.w3.org/2000/svg\" xmlns:xlink=\"http://www.w3.org/1999/xlink\">\n",
       "<g transform=\"scale(1 -1)\">\n",
       "  <g>\n",
       "    <circle cx=\"-145.83333333333334\" cy=\"0\" r=\"4.166666666666667\" />\n",
       "    <circle cx=\"-133.33333333333331\" cy=\"0\" r=\"8.333333333333334\" />\n",
       "    <circle cx=\"-112.49999999999999\" cy=\"0\" r=\"12.5\" />\n",
       "    <circle cx=\"-83.33333333333331\" cy=\"0\" r=\"16.666666666666668\" />\n",
       "    <circle cx=\"-45.83333333333332\" cy=\"0\" r=\"20.833333333333336\" />\n",
       "    <circle cx=\"1.7763568394002505e-14\" cy=\"0\" r=\"25.000000000000004\" />\n",
       "    <circle cx=\"54.16666666666669\" cy=\"0\" r=\"29.16666666666667\" />\n",
       "    <circle cx=\"116.66666666666671\" cy=\"0\" r=\"33.333333333333336\" />\n",
       "  </g>\n",
       "</g>\n",
       "</svg>\n"
      ],
      "text/plain": [
       "<g {}>"
      ]
     },
     "execution_count": 55,
     "metadata": {},
     "output_type": "execute_result"
    }
   ],
   "source": [
    "left_touching_circles(8)"
   ]
  },
  {
   "cell_type": "code",
   "execution_count": 48,
   "id": "3590cb50-e222-4017-abfe-c055b31fc5fa",
   "metadata": {},
   "outputs": [],
   "source": [
    "def right_touching_circles(n):\n",
    "    r0 = 150/sigma(n)\n",
    "    x = 150\n",
    "    y = 0\n",
    "    r = r0\n",
    "    circles = []\n",
    "    for i in range(n):\n",
    "        c = rcircle(x, y, r)\n",
    "        x = x-2*r\n",
    "        y = 0\n",
    "        r = r+r0\n",
    "        circles.append(c)\n",
    "    return combine(circles)"
   ]
  },
  {
   "cell_type": "code",
   "execution_count": 56,
   "id": "4b9e71b1-e3ee-4d88-ade6-aefa93758abf",
   "metadata": {},
   "outputs": [
    {
     "data": {
      "image/svg+xml": [
       "<svg width=\"300\" height=\"300\" viewBox=\"-150 -150 300 300\" fill=\"none\" stroke=\"black\" xmlns=\"http://www.w3.org/2000/svg\" xmlns:xlink=\"http://www.w3.org/1999/xlink\">\n",
       "<g transform=\"scale(1 -1)\">\n",
       "  <g>\n",
       "    <circle cx=\"147.27272727272728\" cy=\"0\" r=\"2.727272727272727\" />\n",
       "    <circle cx=\"139.09090909090907\" cy=\"0\" r=\"5.454545454545454\" />\n",
       "    <circle cx=\"125.45454545454544\" cy=\"0\" r=\"8.181818181818182\" />\n",
       "    <circle cx=\"106.36363636363636\" cy=\"0\" r=\"10.909090909090908\" />\n",
       "    <circle cx=\"81.81818181818181\" cy=\"0\" r=\"13.636363636363635\" />\n",
       "    <circle cx=\"51.81818181818183\" cy=\"0\" r=\"16.363636363636363\" />\n",
       "    <circle cx=\"16.36363636363637\" cy=\"0\" r=\"19.09090909090909\" />\n",
       "    <circle cx=\"-24.545454545454536\" cy=\"0\" r=\"21.818181818181817\" />\n",
       "    <circle cx=\"-70.90909090909089\" cy=\"0\" r=\"24.545454545454543\" />\n",
       "    <circle cx=\"-122.7272727272727\" cy=\"0\" r=\"27.27272727272727\" />\n",
       "  </g>\n",
       "</g>\n",
       "</svg>\n"
      ],
      "text/plain": [
       "<g {}>"
      ]
     },
     "execution_count": 56,
     "metadata": {},
     "output_type": "execute_result"
    }
   ],
   "source": [
    "right_touching_circles(10)"
   ]
  },
  {
   "cell_type": "code",
   "execution_count": 50,
   "id": "6537fa9a-7017-4ed4-ad2e-2a2820243737",
   "metadata": {},
   "outputs": [
    {
     "name": "stdout",
     "output_type": "stream",
     "text": [
      "[1, 2, 3]\n"
     ]
    }
   ],
   "source": [
    "x = [1,2]\n",
    "x.append(3)\n",
    "print(x)"
   ]
  },
  {
   "cell_type": "code",
   "execution_count": 51,
   "id": "e4088bc8-4bf1-4cb7-aa2b-fe92433b0c2f",
   "metadata": {},
   "outputs": [
    {
     "data": {
      "image/svg+xml": [
       "<svg width=\"300\" height=\"300\" viewBox=\"-150 -150 300 300\" fill=\"none\" stroke=\"black\" xmlns=\"http://www.w3.org/2000/svg\" xmlns:xlink=\"http://www.w3.org/1999/xlink\">\n",
       "<g transform=\"scale(1 -1)\">\n",
       "  <circle cx=\"0\" cy=\"0\" r=\"100\" />\n",
       "</g>\n",
       "</svg>\n"
      ],
      "text/plain": [
       "<circle {'cx': 0, 'cy': 0, 'r': 100}>"
      ]
     },
     "execution_count": 51,
     "metadata": {},
     "output_type": "execute_result"
    }
   ],
   "source": [
    "circle()"
   ]
  },
  {
   "cell_type": "code",
   "execution_count": 53,
   "id": "3360b29d-f661-4229-b05c-485c6ed339f5",
   "metadata": {},
   "outputs": [
    {
     "data": {
      "text/plain": [
       "15"
      ]
     },
     "execution_count": 53,
     "metadata": {},
     "output_type": "execute_result"
    }
   ],
   "source": [
    "sigma(5)"
   ]
  },
  {
   "cell_type": "code",
   "execution_count": null,
   "id": "46b7c2f0-02ad-4905-8be9-31f12a591d15",
   "metadata": {},
   "outputs": [],
   "source": []
  }
 ],
 "metadata": {
  "kernelspec": {
   "display_name": "Python 3 (ipykernel)",
   "language": "python",
   "name": "python3"
  },
  "language_info": {
   "codemirror_mode": {
    "name": "ipython",
    "version": 3
   },
   "file_extension": ".py",
   "mimetype": "text/x-python",
   "name": "python",
   "nbconvert_exporter": "python",
   "pygments_lexer": "ipython3",
   "version": "3.8.17"
  }
 },
 "nbformat": 4,
 "nbformat_minor": 5
}
