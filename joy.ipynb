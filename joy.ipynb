{
 "cells": [
  {
   "cell_type": "markdown",
   "id": "0aca32b1-ad46-4c7b-87ab-5ad687d9cce9",
   "metadata": {
    "execution": {
     "iopub.execute_input": "2023-09-29T02:56:03.750284Z",
     "iopub.status.busy": "2023-09-29T02:56:03.749946Z",
     "iopub.status.idle": "2023-09-29T02:56:03.755095Z",
     "shell.execute_reply": "2023-09-29T02:56:03.754018Z",
     "shell.execute_reply.started": "2023-09-29T02:56:03.750255Z"
    }
   },
   "source": [
    "# Joy of Programming"
   ]
  },
  {
   "cell_type": "code",
   "execution_count": 126,
   "id": "d9daa5f3-180e-473b-afee-f7e338a09e00",
   "metadata": {
    "execution": {
     "iopub.execute_input": "2023-10-17T13:49:16.735786Z",
     "iopub.status.busy": "2023-10-17T13:49:16.735488Z",
     "iopub.status.idle": "2023-10-17T13:49:16.739907Z",
     "shell.execute_reply": "2023-10-17T13:49:16.738844Z",
     "shell.execute_reply.started": "2023-10-17T13:49:16.735761Z"
    }
   },
   "outputs": [],
   "source": [
    "from joy import *\n",
    "from ipywidgets import interact, IntSlider, FloatSlider"
   ]
  },
  {
   "cell_type": "code",
   "execution_count": 127,
   "id": "bb4a29dd-6b31-499f-8e4c-b3d752d5697e",
   "metadata": {
    "execution": {
     "iopub.execute_input": "2023-10-17T13:49:16.755403Z",
     "iopub.status.busy": "2023-10-17T13:49:16.754854Z",
     "iopub.status.idle": "2023-10-17T13:49:16.759133Z",
     "shell.execute_reply": "2023-10-17T13:49:16.758250Z",
     "shell.execute_reply.started": "2023-10-17T13:49:16.755375Z"
    }
   },
   "outputs": [],
   "source": [
    "# increase the recursion limit to avoid the \"maximum recursion depth\" error\n",
    "import sys\n",
    "sys.setrecursionlimit(10000)"
   ]
  },
  {
   "cell_type": "code",
   "execution_count": null,
   "id": "4de14ad6-dba6-4512-af95-a54209a7076c",
   "metadata": {},
   "outputs": [],
   "source": []
  },
  {
   "cell_type": "markdown",
   "id": "9c1f0e82-1574-47d1-836b-3aea00c64d11",
   "metadata": {},
   "source": [
    "## Joy"
   ]
  },
  {
   "cell_type": "markdown",
   "id": "331d9164-e42b-4eb6-ab3b-71cf1cea0aaa",
   "metadata": {},
   "source": [
    "Joy supports working with Jupyter notebooks. Is displays a shape automatically, without having to call the `show` function."
   ]
  },
  {
   "cell_type": "code",
   "execution_count": 128,
   "id": "5afda36e-5a29-4761-85e8-5791e2bbdfe7",
   "metadata": {
    "execution": {
     "iopub.execute_input": "2023-10-17T13:49:16.770290Z",
     "iopub.status.busy": "2023-10-17T13:49:16.770023Z",
     "iopub.status.idle": "2023-10-17T13:49:16.775835Z",
     "shell.execute_reply": "2023-10-17T13:49:16.774975Z",
     "shell.execute_reply.started": "2023-10-17T13:49:16.770264Z"
    }
   },
   "outputs": [
    {
     "data": {
      "image/svg+xml": [
       "<svg width=\"300\" height=\"300\" viewBox=\"-150 -150 300 300\" fill=\"none\" stroke=\"black\" xmlns=\"http://www.w3.org/2000/svg\" xmlns:xlink=\"http://www.w3.org/1999/xlink\">\n",
       "<g transform=\"scale(1 -1)\">\n",
       "  <circle cx=\"0\" cy=\"0\" r=\"100\" />\n",
       "</g>\n",
       "</svg>\n"
      ],
      "text/plain": [
       "<circle {'cx': 0, 'cy': 0, 'r': 100}>"
      ]
     },
     "execution_count": 128,
     "metadata": {},
     "output_type": "execute_result"
    }
   ],
   "source": [
    "circle()"
   ]
  },
  {
   "cell_type": "code",
   "execution_count": 129,
   "id": "8606bc0b-412b-4e22-890d-38dbacbe8f19",
   "metadata": {
    "execution": {
     "iopub.execute_input": "2023-10-17T13:49:16.778031Z",
     "iopub.status.busy": "2023-10-17T13:49:16.777533Z",
     "iopub.status.idle": "2023-10-17T13:49:16.791668Z",
     "shell.execute_reply": "2023-10-17T13:49:16.790883Z",
     "shell.execute_reply.started": "2023-10-17T13:49:16.778003Z"
    }
   },
   "outputs": [
    {
     "data": {
      "image/svg+xml": [
       "<svg width=\"300\" height=\"300\" viewBox=\"-150 -150 300 300\" fill=\"none\" stroke=\"black\" xmlns=\"http://www.w3.org/2000/svg\" xmlns:xlink=\"http://www.w3.org/1999/xlink\">\n",
       "<g transform=\"scale(1 -1)\">\n",
       "  <g>\n",
       "    <defs>\n",
       "      <circle cx=\"100\" cy=\"0\" r=\"25\" id=\"s-20-p3ld\" />\n",
       "    </defs>\n",
       "    <g>\n",
       "      <use xlink:href=\"#s-20-p3ld\" />\n",
       "      <g transform=\"scale(0.985 0.985) rotate(10)\">\n",
       "        <use xlink:href=\"#s-20-p3ld\" />\n",
       "        <g transform=\"scale(0.985 0.985) rotate(10)\">\n",
       "          <use xlink:href=\"#s-20-p3ld\" />\n",
       "          <g transform=\"scale(0.985 0.985) rotate(10)\">\n",
       "            <use xlink:href=\"#s-20-p3ld\" />\n",
       "            <g transform=\"scale(0.985 0.985) rotate(10)\">\n",
       "              <use xlink:href=\"#s-20-p3ld\" />\n",
       "              <g transform=\"scale(0.985 0.985) rotate(10)\">\n",
       "                <use xlink:href=\"#s-20-p3ld\" />\n",
       "                <g transform=\"scale(0.985 0.985) rotate(10)\">\n",
       "                  <use xlink:href=\"#s-20-p3ld\" />\n",
       "                  <g transform=\"scale(0.985 0.985) rotate(10)\">\n",
       "                    <use xlink:href=\"#s-20-p3ld\" />\n",
       "                    <g transform=\"scale(0.985 0.985) rotate(10)\">\n",
       "                      <use xlink:href=\"#s-20-p3ld\" />\n",
       "                      <g transform=\"scale(0.985 0.985) rotate(10)\">\n",
       "                        <use xlink:href=\"#s-20-p3ld\" />\n",
       "                        <g transform=\"scale(0.985 0.985) rotate(10)\">\n",
       "                          <use xlink:href=\"#s-20-p3ld\" />\n",
       "                          <g transform=\"scale(0.985 0.985) rotate(10)\">\n",
       "                            <use xlink:href=\"#s-20-p3ld\" />\n",
       "                            <g transform=\"scale(0.985 0.985) rotate(10)\">\n",
       "                              <use xlink:href=\"#s-20-p3ld\" />\n",
       "                              <g transform=\"scale(0.985 0.985) rotate(10)\">\n",
       "                                <use xlink:href=\"#s-20-p3ld\" />\n",
       "                                <g transform=\"scale(0.985 0.985) rotate(10)\">\n",
       "                                  <use xlink:href=\"#s-20-p3ld\" />\n",
       "                                  <g transform=\"scale(0.985 0.985) rotate(10)\">\n",
       "                                    <use xlink:href=\"#s-20-p3ld\" />\n",
       "                                    <g transform=\"scale(0.985 0.985) rotate(10)\">\n",
       "                                      <use xlink:href=\"#s-20-p3ld\" />\n",
       "                                      <g transform=\"scale(0.985 0.985) rotate(10)\">\n",
       "                                        <use xlink:href=\"#s-20-p3ld\" />\n",
       "                                        <g transform=\"scale(0.985 0.985) rotate(10)\">\n",
       "                                          <use xlink:href=\"#s-20-p3ld\" />\n",
       "                                          <g transform=\"scale(0.985 0.985) rotate(10)\">\n",
       "                                            <use xlink:href=\"#s-20-p3ld\" />\n",
       "                                            <g transform=\"scale(0.985 0.985) rotate(10)\">\n",
       "                                              <use xlink:href=\"#s-20-p3ld\" />\n",
       "                                              <g transform=\"scale(0.985 0.985) rotate(10)\">\n",
       "                                                <use xlink:href=\"#s-20-p3ld\" />\n",
       "                                                <g transform=\"scale(0.985 0.985) rotate(10)\">\n",
       "                                                  <use xlink:href=\"#s-20-p3ld\" />\n",
       "                                                  <g transform=\"scale(0.985 0.985) rotate(10)\">\n",
       "                                                    <use xlink:href=\"#s-20-p3ld\" />\n",
       "                                                    <g transform=\"scale(0.985 0.985) rotate(10)\">\n",
       "                                                      <use xlink:href=\"#s-20-p3ld\" />\n",
       "                                                      <g transform=\"scale(0.985 0.985) rotate(10)\">\n",
       "                                                        <use xlink:href=\"#s-20-p3ld\" />\n",
       "                                                        <g transform=\"scale(0.985 0.985) rotate(10)\">\n",
       "                                                          <use xlink:href=\"#s-20-p3ld\" />\n",
       "                                                          <g transform=\"scale(0.985 0.985) rotate(10)\">\n",
       "                                                            <use xlink:href=\"#s-20-p3ld\" />\n",
       "                                                            <g transform=\"scale(0.985 0.985) rotate(10)\">\n",
       "                                                              <use xlink:href=\"#s-20-p3ld\" />\n",
       "                                                              <g transform=\"scale(0.985 0.985) rotate(10)\">\n",
       "                                                                <use xlink:href=\"#s-20-p3ld\" />\n",
       "                                                                <g transform=\"scale(0.985 0.985) rotate(10)\">\n",
       "                                                                  <use xlink:href=\"#s-20-p3ld\" />\n",
       "                                                                  <g transform=\"scale(0.985 0.985) rotate(10)\">\n",
       "                                                                    <use xlink:href=\"#s-20-p3ld\" />\n",
       "                                                                    <g transform=\"scale(0.985 0.985) rotate(10)\">\n",
       "                                                                      <use xlink:href=\"#s-20-p3ld\" />\n",
       "                                                                      <g transform=\"scale(0.985 0.985) rotate(10)\">\n",
       "                                                                        <use xlink:href=\"#s-20-p3ld\" />\n",
       "                                                                        <g transform=\"scale(0.985 0.985) rotate(10)\">\n",
       "                                                                          <use xlink:href=\"#s-20-p3ld\" />\n",
       "                                                                          <g transform=\"scale(0.985 0.985) rotate(10)\">\n",
       "                                                                            <use xlink:href=\"#s-20-p3ld\" />\n",
       "                                                                            <g transform=\"scale(0.985 0.985) rotate(10)\">\n",
       "                                                                              <use xlink:href=\"#s-20-p3ld\" />\n",
       "                                                                              <g transform=\"scale(0.985 0.985) rotate(10)\">\n",
       "                                                                                <use xlink:href=\"#s-20-p3ld\" />\n",
       "                                                                                <g transform=\"scale(0.985 0.985) rotate(10)\">\n",
       "                                                                                  <use xlink:href=\"#s-20-p3ld\" />\n",
       "                                                                                  <g transform=\"scale(0.985 0.985) rotate(10)\">\n",
       "                                                                                    <use xlink:href=\"#s-20-p3ld\" />\n",
       "                                                                                    <g transform=\"scale(0.985 0.985) rotate(10)\">\n",
       "                                                                                      <use xlink:href=\"#s-20-p3ld\" />\n",
       "                                                                                      <g transform=\"scale(0.985 0.985) rotate(10)\">\n",
       "                                                                                        <use xlink:href=\"#s-20-p3ld\" />\n",
       "                                                                                        <g transform=\"scale(0.985 0.985) rotate(10)\">\n",
       "                                                                                          <use xlink:href=\"#s-20-p3ld\" />\n",
       "                                                                                          <g transform=\"scale(0.985 0.985) rotate(10)\">\n",
       "                                                                                            <use xlink:href=\"#s-20-p3ld\" />\n",
       "                                                                                            <g transform=\"scale(0.985 0.985) rotate(10)\">\n",
       "                                                                                              <use xlink:href=\"#s-20-p3ld\" />\n",
       "                                                                                              <g transform=\"scale(0.985 0.985) rotate(10)\">\n",
       "                                                                                                <use xlink:href=\"#s-20-p3ld\" />\n",
       "                                                                                                <g transform=\"scale(0.985 0.985) rotate(10)\">\n",
       "                                                                                                  <use xlink:href=\"#s-20-p3ld\" />\n",
       "                                                                                                  <g transform=\"scale(0.985 0.985) rotate(10)\">\n",
       "                                                                                                    <use xlink:href=\"#s-20-p3ld\" />\n",
       "                                                                                                    <g transform=\"scale(0.985 0.985) rotate(10)\">\n",
       "                                                                                                      <use xlink:href=\"#s-20-p3ld\" />\n",
       "                                                                                                      <g transform=\"scale(0.985 0.985) rotate(10)\">\n",
       "                                                                                                        <use xlink:href=\"#s-20-p3ld\" />\n",
       "                                                                                                        <g transform=\"scale(0.985 0.985) rotate(10)\">\n",
       "                                                                                                          <use xlink:href=\"#s-20-p3ld\" />\n",
       "                                                                                                          <g transform=\"scale(0.985 0.985) rotate(10)\">\n",
       "                                                                                                            <use xlink:href=\"#s-20-p3ld\" />\n",
       "                                                                                                            <g transform=\"scale(0.985 0.985) rotate(10)\">\n",
       "                                                                                                              <use xlink:href=\"#s-20-p3ld\" />\n",
       "                                                                                                              <g transform=\"scale(0.985 0.985) rotate(10)\">\n",
       "                                                                                                                <use xlink:href=\"#s-20-p3ld\" />\n",
       "                                                                                                                <g transform=\"scale(0.985 0.985) rotate(10)\">\n",
       "                                                                                                                  <use xlink:href=\"#s-20-p3ld\" />\n",
       "                                                                                                                  <g transform=\"scale(0.985 0.985) rotate(10)\">\n",
       "                                                                                                                    <use xlink:href=\"#s-20-p3ld\" />\n",
       "                                                                                                                    <g transform=\"scale(0.985 0.985) rotate(10)\">\n",
       "                                                                                                                      <use xlink:href=\"#s-20-p3ld\" />\n",
       "                                                                                                                      <g transform=\"scale(0.985 0.985) rotate(10)\">\n",
       "                                                                                                                        <use xlink:href=\"#s-20-p3ld\" />\n",
       "                                                                                                                        <g transform=\"scale(0.985 0.985) rotate(10)\">\n",
       "                                                                                                                          <use xlink:href=\"#s-20-p3ld\" />\n",
       "                                                                                                                          <g transform=\"scale(0.985 0.985) rotate(10)\">\n",
       "                                                                                                                            <use xlink:href=\"#s-20-p3ld\" />\n",
       "                                                                                                                            <g transform=\"scale(0.985 0.985) rotate(10)\">\n",
       "                                                                                                                              <use xlink:href=\"#s-20-p3ld\" />\n",
       "                                                                                                                              <g transform=\"scale(0.985 0.985) rotate(10)\">\n",
       "                                                                                                                                <use xlink:href=\"#s-20-p3ld\" />\n",
       "                                                                                                                                <g transform=\"scale(0.985 0.985) rotate(10)\">\n",
       "                                                                                                                                  <use xlink:href=\"#s-20-p3ld\" />\n",
       "                                                                                                                                  <g transform=\"scale(0.985 0.985) rotate(10)\">\n",
       "                                                                                                                                    <use xlink:href=\"#s-20-p3ld\" />\n",
       "                                                                                                                                    <g transform=\"scale(0.985 0.985) rotate(10)\">\n",
       "                                                                                                                                      <use xlink:href=\"#s-20-p3ld\" />\n",
       "                                                                                                                                      <g transform=\"scale(0.985 0.985) rotate(10)\">\n",
       "                                                                                                                                        <use xlink:href=\"#s-20-p3ld\" />\n",
       "                                                                                                                                        <g transform=\"scale(0.985 0.985) rotate(10)\">\n",
       "                                                                                                                                          <use xlink:href=\"#s-20-p3ld\" />\n",
       "                                                                                                                                          <g transform=\"scale(0.985 0.985) rotate(10)\">\n",
       "                                                                                                                                            <use xlink:href=\"#s-20-p3ld\" />\n",
       "                                                                                                                                            <g transform=\"scale(0.985 0.985) rotate(10)\">\n",
       "                                                                                                                                              <use xlink:href=\"#s-20-p3ld\" />\n",
       "                                                                                                                                              <g transform=\"scale(0.985 0.985) rotate(10)\">\n",
       "                                                                                                                                                <use xlink:href=\"#s-20-p3ld\" />\n",
       "                                                                                                                                                <g transform=\"scale(0.985 0.985) rotate(10)\">\n",
       "                                                                                                                                                  <use xlink:href=\"#s-20-p3ld\" />\n",
       "                                                                                                                                                  <g transform=\"scale(0.985 0.985) rotate(10)\">\n",
       "                                                                                                                                                    <use xlink:href=\"#s-20-p3ld\" />\n",
       "                                                                                                                                                    <g transform=\"scale(0.985 0.985) rotate(10)\">\n",
       "                                                                                                                                                      <use xlink:href=\"#s-20-p3ld\" />\n",
       "                                                                                                                                                      <g transform=\"scale(0.985 0.985) rotate(10)\">\n",
       "                                                                                                                                                        <use xlink:href=\"#s-20-p3ld\" />\n",
       "                                                                                                                                                        <g transform=\"scale(0.985 0.985) rotate(10)\">\n",
       "                                                                                                                                                          <use xlink:href=\"#s-20-p3ld\" />\n",
       "                                                                                                                                                          <g transform=\"scale(0.985 0.985) rotate(10)\">\n",
       "                                                                                                                                                            <use xlink:href=\"#s-20-p3ld\" />\n",
       "                                                                                                                                                            <g transform=\"scale(0.985 0.985) rotate(10)\">\n",
       "                                                                                                                                                              <use xlink:href=\"#s-20-p3ld\" />\n",
       "                                                                                                                                                              <g transform=\"scale(0.985 0.985) rotate(10)\">\n",
       "                                                                                                                                                                <use xlink:href=\"#s-20-p3ld\" />\n",
       "                                                                                                                                                                <g transform=\"scale(0.985 0.985) rotate(10)\">\n",
       "                                                                                                                                                                  <use xlink:href=\"#s-20-p3ld\" />\n",
       "                                                                                                                                                                  <g transform=\"scale(0.985 0.985) rotate(10)\">\n",
       "                                                                                                                                                                    <use xlink:href=\"#s-20-p3ld\" />\n",
       "                                                                                                                                                                    <g transform=\"scale(0.985 0.985) rotate(10)\">\n",
       "                                                                                                                                                                      <use xlink:href=\"#s-20-p3ld\" />\n",
       "                                                                                                                                                                      <g transform=\"scale(0.985 0.985) rotate(10)\">\n",
       "                                                                                                                                                                        <use xlink:href=\"#s-20-p3ld\" />\n",
       "                                                                                                                                                                        <g transform=\"scale(0.985 0.985) rotate(10)\">\n",
       "                                                                                                                                                                          <use xlink:href=\"#s-20-p3ld\" />\n",
       "                                                                                                                                                                          <g transform=\"scale(0.985 0.985) rotate(10)\">\n",
       "                                                                                                                                                                            <use xlink:href=\"#s-20-p3ld\" />\n",
       "                                                                                                                                                                            <g transform=\"scale(0.985 0.985) rotate(10)\">\n",
       "                                                                                                                                                                              <use xlink:href=\"#s-20-p3ld\" />\n",
       "                                                                                                                                                                              <g transform=\"scale(0.985 0.985) rotate(10)\">\n",
       "                                                                                                                                                                                <use xlink:href=\"#s-20-p3ld\" />\n",
       "                                                                                                                                                                                <g transform=\"scale(0.985 0.985) rotate(10)\">\n",
       "                                                                                                                                                                                  <use xlink:href=\"#s-20-p3ld\" />\n",
       "                                                                                                                                                                                  <g transform=\"scale(0.985 0.985) rotate(10)\">\n",
       "                                                                                                                                                                                    <use xlink:href=\"#s-20-p3ld\" />\n",
       "                                                                                                                                                                                    <g transform=\"scale(0.985 0.985) rotate(10)\">\n",
       "                                                                                                                                                                                      <use xlink:href=\"#s-20-p3ld\" />\n",
       "                                                                                                                                                                                      <g transform=\"scale(0.985 0.985) rotate(10)\">\n",
       "                                                                                                                                                                                        <use xlink:href=\"#s-20-p3ld\" />\n",
       "                                                                                                                                                                                        <g transform=\"scale(0.985 0.985) rotate(10)\">\n",
       "                                                                                                                                                                                          <use xlink:href=\"#s-20-p3ld\" />\n",
       "                                                                                                                                                                                          <g transform=\"scale(0.985 0.985) rotate(10)\">\n",
       "                                                                                                                                                                                            <use xlink:href=\"#s-20-p3ld\" />\n",
       "                                                                                                                                                                                            <g transform=\"scale(0.985 0.985) rotate(10)\">\n",
       "                                                                                                                                                                                              <use xlink:href=\"#s-20-p3ld\" />\n",
       "                                                                                                                                                                                              <g transform=\"scale(0.985 0.985) rotate(10)\">\n",
       "                                                                                                                                                                                                <use xlink:href=\"#s-20-p3ld\" />\n",
       "                                                                                                                                                                                                <g transform=\"scale(0.985 0.985) rotate(10)\">\n",
       "                                                                                                                                                                                                  <use xlink:href=\"#s-20-p3ld\" />\n",
       "                                                                                                                                                                                                  <g transform=\"scale(0.985 0.985) rotate(10)\">\n",
       "                                                                                                                                                                                                    <use xlink:href=\"#s-20-p3ld\" />\n",
       "                                                                                                                                                                                                    <g transform=\"scale(0.985 0.985) rotate(10)\">\n",
       "                                                                                                                                                                                                      <use xlink:href=\"#s-20-p3ld\" />\n",
       "                                                                                                                                                                                                      <g transform=\"scale(0.985 0.985) rotate(10)\">\n",
       "                                                                                                                                                                                                        <use xlink:href=\"#s-20-p3ld\" />\n",
       "                                                                                                                                                                                                        <g transform=\"scale(0.985 0.985) rotate(10)\">\n",
       "                                                                                                                                                                                                          <use xlink:href=\"#s-20-p3ld\" />\n",
       "                                                                                                                                                                                                          <g transform=\"scale(0.985 0.985) rotate(10)\">\n",
       "                                                                                                                                                                                                            <use xlink:href=\"#s-20-p3ld\" />\n",
       "                                                                                                                                                                                                            <g transform=\"scale(0.985 0.985) rotate(10)\">\n",
       "                                                                                                                                                                                                              <use xlink:href=\"#s-20-p3ld\" />\n",
       "                                                                                                                                                                                                              <g transform=\"scale(0.985 0.985) rotate(10)\">\n",
       "                                                                                                                                                                                                                <use xlink:href=\"#s-20-p3ld\" />\n",
       "                                                                                                                                                                                                                <g transform=\"scale(0.985 0.985) rotate(10)\">\n",
       "                                                                                                                                                                                                                  <use xlink:href=\"#s-20-p3ld\" />\n",
       "                                                                                                                                                                                                                  <g transform=\"scale(0.985 0.985) rotate(10)\">\n",
       "                                                                                                                                                                                                                    <use xlink:href=\"#s-20-p3ld\" />\n",
       "                                                                                                                                                                                                                    <g transform=\"scale(0.985 0.985) rotate(10)\">\n",
       "                                                                                                                                                                                                                      <use xlink:href=\"#s-20-p3ld\" />\n",
       "                                                                                                                                                                                                                      <g transform=\"scale(0.985 0.985) rotate(10)\">\n",
       "                                                                                                                                                                                                                        <use xlink:href=\"#s-20-p3ld\" />\n",
       "                                                                                                                                                                                                                        <g transform=\"scale(0.985 0.985) rotate(10)\">\n",
       "                                                                                                                                                                                                                          <use xlink:href=\"#s-20-p3ld\" />\n",
       "                                                                                                                                                                                                                          <g transform=\"scale(0.985 0.985) rotate(10)\">\n",
       "                                                                                                                                                                                                                            <use xlink:href=\"#s-20-p3ld\" />\n",
       "                                                                                                                                                                                                                            <g transform=\"scale(0.985 0.985) rotate(10)\">\n",
       "                                                                                                                                                                                                                              <use xlink:href=\"#s-20-p3ld\" />\n",
       "                                                                                                                                                                                                                              <g transform=\"scale(0.985 0.985) rotate(10)\">\n",
       "                                                                                                                                                                                                                                <use xlink:href=\"#s-20-p3ld\" />\n",
       "                                                                                                                                                                                                                                <g transform=\"scale(0.985 0.985) rotate(10)\">\n",
       "                                                                                                                                                                                                                                  <use xlink:href=\"#s-20-p3ld\" />\n",
       "                                                                                                                                                                                                                                  <g transform=\"scale(0.985 0.985) rotate(10)\">\n",
       "                                                                                                                                                                                                                                    <use xlink:href=\"#s-20-p3ld\" />\n",
       "                                                                                                                                                                                                                                    <g transform=\"scale(0.985 0.985) rotate(10)\">\n",
       "                                                                                                                                                                                                                                      <use xlink:href=\"#s-20-p3ld\" />\n",
       "                                                                                                                                                                                                                                      <g transform=\"scale(0.985 0.985) rotate(10)\">\n",
       "                                                                                                                                                                                                                                        <use xlink:href=\"#s-20-p3ld\" />\n",
       "                                                                                                                                                                                                                                        <g transform=\"scale(0.985 0.985) rotate(10)\">\n",
       "                                                                                                                                                                                                                                          <use xlink:href=\"#s-20-p3ld\" />\n",
       "                                                                                                                                                                                                                                          <g transform=\"scale(0.985 0.985) rotate(10)\">\n",
       "                                                                                                                                                                                                                                            <use xlink:href=\"#s-20-p3ld\" />\n",
       "                                                                                                                                                                                                                                            <g transform=\"scale(0.985 0.985) rotate(10)\">\n",
       "                                                                                                                                                                                                                                              <use xlink:href=\"#s-20-p3ld\" />\n",
       "                                                                                                                                                                                                                                              <g transform=\"scale(0.985 0.985) rotate(10)\">\n",
       "                                                                                                                                                                                                                                                <use xlink:href=\"#s-20-p3ld\" />\n",
       "                                                                                                                                                                                                                                                <g transform=\"scale(0.985 0.985) rotate(10)\">\n",
       "                                                                                                                                                                                                                                                  <use xlink:href=\"#s-20-p3ld\" />\n",
       "                                                                                                                                                                                                                                                  <g transform=\"scale(0.985 0.985) rotate(10)\">\n",
       "                                                                                                                                                                                                                                                    <use xlink:href=\"#s-20-p3ld\" />\n",
       "                                                                                                                                                                                                                                                    <g transform=\"scale(0.985 0.985) rotate(10)\">\n",
       "                                                                                                                                                                                                                                                      <use xlink:href=\"#s-20-p3ld\" />\n",
       "                                                                                                                                                                                                                                                      <g transform=\"scale(0.985 0.985) rotate(10)\">\n",
       "                                                                                                                                                                                                                                                        <use xlink:href=\"#s-20-p3ld\" />\n",
       "                                                                                                                                                                                                                                                        <g transform=\"scale(0.985 0.985) rotate(10)\">\n",
       "                                                                                                                                                                                                                                                          <use xlink:href=\"#s-20-p3ld\" />\n",
       "                                                                                                                                                                                                                                                          <g transform=\"scale(0.985 0.985) rotate(10)\">\n",
       "                                                                                                                                                                                                                                                            <use xlink:href=\"#s-20-p3ld\" />\n",
       "                                                                                                                                                                                                                                                            <g transform=\"scale(0.985 0.985) rotate(10)\">\n",
       "                                                                                                                                                                                                                                                              <use xlink:href=\"#s-20-p3ld\" />\n",
       "                                                                                                                                                                                                                                                              <g transform=\"scale(0.985 0.985) rotate(10)\">\n",
       "                                                                                                                                                                                                                                                                <use xlink:href=\"#s-20-p3ld\" />\n",
       "                                                                                                                                                                                                                                                                <g transform=\"scale(0.985 0.985) rotate(10)\">\n",
       "                                                                                                                                                                                                                                                                  <use xlink:href=\"#s-20-p3ld\" />\n",
       "                                                                                                                                                                                                                                                                  <g transform=\"scale(0.985 0.985) rotate(10)\">\n",
       "                                                                                                                                                                                                                                                                    <use xlink:href=\"#s-20-p3ld\" />\n",
       "                                                                                                                                                                                                                                                                    <g transform=\"scale(0.985 0.985) rotate(10)\">\n",
       "                                                                                                                                                                                                                                                                      <use xlink:href=\"#s-20-p3ld\" />\n",
       "                                                                                                                                                                                                                                                                      <g transform=\"scale(0.985 0.985) rotate(10)\">\n",
       "                                                                                                                                                                                                                                                                        <use xlink:href=\"#s-20-p3ld\" />\n",
       "                                                                                                                                                                                                                                                                        <g transform=\"scale(0.985 0.985) rotate(10)\">\n",
       "                                                                                                                                                                                                                                                                          <use xlink:href=\"#s-20-p3ld\" />\n",
       "                                                                                                                                                                                                                                                                          <g transform=\"scale(0.985 0.985) rotate(10)\">\n",
       "                                                                                                                                                                                                                                                                            <use xlink:href=\"#s-20-p3ld\" />\n",
       "                                                                                                                                                                                                                                                                            <g transform=\"scale(0.985 0.985) rotate(10)\">\n",
       "                                                                                                                                                                                                                                                                              <use xlink:href=\"#s-20-p3ld\" />\n",
       "                                                                                                                                                                                                                                                                              <g transform=\"scale(0.985 0.985) rotate(10)\">\n",
       "                                                                                                                                                                                                                                                                                <use xlink:href=\"#s-20-p3ld\" />\n",
       "                                                                                                                                                                                                                                                                                <g transform=\"scale(0.985 0.985) rotate(10)\">\n",
       "                                                                                                                                                                                                                                                                                  <use xlink:href=\"#s-20-p3ld\" />\n",
       "                                                                                                                                                                                                                                                                                  <g transform=\"scale(0.985 0.985) rotate(10)\">\n",
       "                                                                                                                                                                                                                                                                                    <use xlink:href=\"#s-20-p3ld\" />\n",
       "                                                                                                                                                                                                                                                                                    <g transform=\"scale(0.985 0.985) rotate(10)\">\n",
       "                                                                                                                                                                                                                                                                                      <use xlink:href=\"#s-20-p3ld\" />\n",
       "                                                                                                                                                                                                                                                                                      <g transform=\"scale(0.985 0.985) rotate(10)\">\n",
       "                                                                                                                                                                                                                                                                                        <use xlink:href=\"#s-20-p3ld\" />\n",
       "                                                                                                                                                                                                                                                                                        <g transform=\"scale(0.985 0.985) rotate(10)\">\n",
       "                                                                                                                                                                                                                                                                                          <use xlink:href=\"#s-20-p3ld\" />\n",
       "                                                                                                                                                                                                                                                                                          <g transform=\"scale(0.985 0.985) rotate(10)\">\n",
       "                                                                                                                                                                                                                                                                                            <use xlink:href=\"#s-20-p3ld\" />\n",
       "                                                                                                                                                                                                                                                                                            <g transform=\"scale(0.985 0.985) rotate(10)\">\n",
       "                                                                                                                                                                                                                                                                                              <use xlink:href=\"#s-20-p3ld\" />\n",
       "                                                                                                                                                                                                                                                                                              <g transform=\"scale(0.985 0.985) rotate(10)\">\n",
       "                                                                                                                                                                                                                                                                                                <use xlink:href=\"#s-20-p3ld\" />\n",
       "                                                                                                                                                                                                                                                                                                <g transform=\"scale(0.985 0.985) rotate(10)\">\n",
       "                                                                                                                                                                                                                                                                                                  <use xlink:href=\"#s-20-p3ld\" />\n",
       "                                                                                                                                                                                                                                                                                                  <g transform=\"scale(0.985 0.985) rotate(10)\">\n",
       "                                                                                                                                                                                                                                                                                                    <use xlink:href=\"#s-20-p3ld\" />\n",
       "                                                                                                                                                                                                                                                                                                    <g transform=\"scale(0.985 0.985) rotate(10)\">\n",
       "                                                                                                                                                                                                                                                                                                      <use xlink:href=\"#s-20-p3ld\" />\n",
       "                                                                                                                                                                                                                                                                                                      <g transform=\"scale(0.985 0.985) rotate(10)\">\n",
       "                                                                                                                                                                                                                                                                                                        <use xlink:href=\"#s-20-p3ld\" />\n",
       "                                                                                                                                                                                                                                                                                                        <g transform=\"scale(0.985 0.985) rotate(10)\">\n",
       "                                                                                                                                                                                                                                                                                                          <use xlink:href=\"#s-20-p3ld\" />\n",
       "                                                                                                                                                                                                                                                                                                          <g transform=\"scale(0.985 0.985) rotate(10)\">\n",
       "                                                                                                                                                                                                                                                                                                            <use xlink:href=\"#s-20-p3ld\" />\n",
       "                                                                                                                                                                                                                                                                                                            <g transform=\"scale(0.985 0.985) rotate(10)\">\n",
       "                                                                                                                                                                                                                                                                                                              <use xlink:href=\"#s-20-p3ld\" />\n",
       "                                                                                                                                                                                                                                                                                                              <g transform=\"scale(0.985 0.985) rotate(10)\">\n",
       "                                                                                                                                                                                                                                                                                                                <use xlink:href=\"#s-20-p3ld\" />\n",
       "                                                                                                                                                                                                                                                                                                                <g transform=\"scale(0.985 0.985) rotate(10)\">\n",
       "                                                                                                                                                                                                                                                                                                                  <use xlink:href=\"#s-20-p3ld\" />\n",
       "                                                                                                                                                                                                                                                                                                                  <g transform=\"scale(0.985 0.985) rotate(10)\">\n",
       "                                                                                                                                                                                                                                                                                                                    <use xlink:href=\"#s-20-p3ld\" />\n",
       "                                                                                                                                                                                                                                                                                                                    <g transform=\"scale(0.985 0.985) rotate(10)\">\n",
       "                                                                                                                                                                                                                                                                                                                      <use xlink:href=\"#s-20-p3ld\" />\n",
       "                                                                                                                                                                                                                                                                                                                      <g transform=\"scale(0.985 0.985) rotate(10)\">\n",
       "                                                                                                                                                                                                                                                                                                                        <use xlink:href=\"#s-20-p3ld\" />\n",
       "                                                                                                                                                                                                                                                                                                                        <g transform=\"scale(0.985 0.985) rotate(10)\">\n",
       "                                                                                                                                                                                                                                                                                                                          <use xlink:href=\"#s-20-p3ld\" />\n",
       "                                                                                                                                                                                                                                                                                                                          <g transform=\"scale(0.985 0.985) rotate(10)\">\n",
       "                                                                                                                                                                                                                                                                                                                            <use xlink:href=\"#s-20-p3ld\" />\n",
       "                                                                                                                                                                                                                                                                                                                            <g transform=\"scale(0.985 0.985) rotate(10)\">\n",
       "                                                                                                                                                                                                                                                                                                                              <use xlink:href=\"#s-20-p3ld\" />\n",
       "                                                                                                                                                                                                                                                                                                                              <g transform=\"scale(0.985 0.985) rotate(10)\">\n",
       "                                                                                                                                                                                                                                                                                                                                <use xlink:href=\"#s-20-p3ld\" />\n",
       "                                                                                                                                                                                                                                                                                                                                <g transform=\"scale(0.985 0.985) rotate(10)\">\n",
       "                                                                                                                                                                                                                                                                                                                                  <use xlink:href=\"#s-20-p3ld\" />\n",
       "                                                                                                                                                                                                                                                                                                                                  <g transform=\"scale(0.985 0.985) rotate(10)\">\n",
       "                                                                                                                                                                                                                                                                                                                                    <use xlink:href=\"#s-20-p3ld\" />\n",
       "                                                                                                                                                                                                                                                                                                                                    <g transform=\"scale(0.985 0.985) rotate(10)\">\n",
       "                                                                                                                                                                                                                                                                                                                                      <use xlink:href=\"#s-20-p3ld\" />\n",
       "                                                                                                                                                                                                                                                                                                                                      <g transform=\"scale(0.985 0.985) rotate(10)\">\n",
       "                                                                                                                                                                                                                                                                                                                                        <use xlink:href=\"#s-20-p3ld\" />\n",
       "                                                                                                                                                                                                                                                                                                                                        <g transform=\"scale(0.985 0.985) rotate(10)\">\n",
       "                                                                                                                                                                                                                                                                                                                                          <use xlink:href=\"#s-20-p3ld\" />\n",
       "                                                                                                                                                                                                                                                                                                                                          <g transform=\"scale(0.985 0.985) rotate(10)\">\n",
       "                                                                                                                                                                                                                                                                                                                                            <use xlink:href=\"#s-20-p3ld\" />\n",
       "                                                                                                                                                                                                                                                                                                                                            <g transform=\"scale(0.985 0.985) rotate(10)\">\n",
       "                                                                                                                                                                                                                                                                                                                                              <use xlink:href=\"#s-20-p3ld\" />\n",
       "                                                                                                                                                                                                                                                                                                                                              <g transform=\"scale(0.985 0.985) rotate(10)\">\n",
       "                                                                                                                                                                                                                                                                                                                                                <use xlink:href=\"#s-20-p3ld\" />\n",
       "                                                                                                                                                                                                                                                                                                                                                <g transform=\"scale(0.985 0.985) rotate(10)\">\n",
       "                                                                                                                                                                                                                                                                                                                                                  <use xlink:href=\"#s-20-p3ld\" />\n",
       "                                                                                                                                                                                                                                                                                                                                                  <g transform=\"scale(0.985 0.985) rotate(10)\">\n",
       "                                                                                                                                                                                                                                                                                                                                                    <use xlink:href=\"#s-20-p3ld\" />\n",
       "                                                                                                                                                                                                                                                                                                                                                    <g transform=\"scale(0.985 0.985) rotate(10)\">\n",
       "                                                                                                                                                                                                                                                                                                                                                      <use xlink:href=\"#s-20-p3ld\" />\n",
       "                                                                                                                                                                                                                                                                                                                                                      <g transform=\"scale(0.985 0.985) rotate(10)\">\n",
       "                                                                                                                                                                                                                                                                                                                                                        <use xlink:href=\"#s-20-p3ld\" />\n",
       "                                                                                                                                                                                                                                                                                                                                                        <g transform=\"scale(0.985 0.985) rotate(10)\">\n",
       "                                                                                                                                                                                                                                                                                                                                                          <use xlink:href=\"#s-20-p3ld\" />\n",
       "                                                                                                                                                                                                                                                                                                                                                          <g transform=\"scale(0.985 0.985) rotate(10)\">\n",
       "                                                                                                                                                                                                                                                                                                                                                            <use xlink:href=\"#s-20-p3ld\" />\n",
       "                                                                                                                                                                                                                                                                                                                                                            <g transform=\"scale(0.985 0.985) rotate(10)\">\n",
       "                                                                                                                                                                                                                                                                                                                                                              <use xlink:href=\"#s-20-p3ld\" />\n",
       "                                                                                                                                                                                                                                                                                                                                                              <g transform=\"scale(0.985 0.985) rotate(10)\">\n",
       "                                                                                                                                                                                                                                                                                                                                                                <use xlink:href=\"#s-20-p3ld\" />\n",
       "                                                                                                                                                                                                                                                                                                                                                                <g transform=\"scale(0.985 0.985) rotate(10)\">\n",
       "                                                                                                                                                                                                                                                                                                                                                                  <use xlink:href=\"#s-20-p3ld\" />\n",
       "                                                                                                                                                                                                                                                                                                                                                                  <g transform=\"scale(0.985 0.985) rotate(10)\">\n",
       "                                                                                                                                                                                                                                                                                                                                                                    <use xlink:href=\"#s-20-p3ld\" />\n",
       "                                                                                                                                                                                                                                                                                                                                                                    <g transform=\"scale(0.985 0.985) rotate(10)\">\n",
       "                                                                                                                                                                                                                                                                                                                                                                      <use xlink:href=\"#s-20-p3ld\" />\n",
       "                                                                                                                                                                                                                                                                                                                                                                      <g transform=\"scale(0.985 0.985) rotate(10)\">\n",
       "                                                                                                                                                                                                                                                                                                                                                                        <use xlink:href=\"#s-20-p3ld\" />\n",
       "                                                                                                                                                                                                                                                                                                                                                                        <g transform=\"scale(0.985 0.985) rotate(10)\">\n",
       "                                                                                                                                                                                                                                                                                                                                                                          <use xlink:href=\"#s-20-p3ld\" />\n",
       "                                                                                                                                                                                                                                                                                                                                                                          <g transform=\"scale(0.985 0.985) rotate(10)\">\n",
       "                                                                                                                                                                                                                                                                                                                                                                            <use xlink:href=\"#s-20-p3ld\" />\n",
       "                                                                                                                                                                                                                                                                                                                                                                            <g transform=\"scale(0.985 0.985) rotate(10)\">\n",
       "                                                                                                                                                                                                                                                                                                                                                                              <use xlink:href=\"#s-20-p3ld\" />\n",
       "                                                                                                                                                                                                                                                                                                                                                                              <g transform=\"scale(0.985 0.985) rotate(10)\">\n",
       "                                                                                                                                                                                                                                                                                                                                                                                <use xlink:href=\"#s-20-p3ld\" />\n",
       "                                                                                                                                                                                                                                                                                                                                                                                <g transform=\"scale(0.985 0.985) rotate(10)\">\n",
       "                                                                                                                                                                                                                                                                                                                                                                                  <use xlink:href=\"#s-20-p3ld\" />\n",
       "                                                                                                                                                                                                                                                                                                                                                                                  <g transform=\"scale(0.985 0.985) rotate(10)\">\n",
       "                                                                                                                                                                                                                                                                                                                                                                                    <use xlink:href=\"#s-20-p3ld\" />\n",
       "                                                                                                                                                                                                                                                                                                                                                                                    <g transform=\"scale(0.985 0.985) rotate(10)\">\n",
       "                                                                                                                                                                                                                                                                                                                                                                                      <use xlink:href=\"#s-20-p3ld\" />\n",
       "                                                                                                                                                                                                                                                                                                                                                                                      <g transform=\"scale(0.985 0.985) rotate(10)\">\n",
       "                                                                                                                                                                                                                                                                                                                                                                                        <use xlink:href=\"#s-20-p3ld\" />\n",
       "                                                                                                                                                                                                                                                                                                                                                                                        <g transform=\"scale(0.985 0.985) rotate(10)\">\n",
       "                                                                                                                                                                                                                                                                                                                                                                                          <use xlink:href=\"#s-20-p3ld\" />\n",
       "                                                                                                                                                                                                                                                                                                                                                                                          <g transform=\"scale(0.985 0.985) rotate(10)\">\n",
       "                                                                                                                                                                                                                                                                                                                                                                                            <use xlink:href=\"#s-20-p3ld\" />\n",
       "                                                                                                                                                                                                                                                                                                                                                                                            <g transform=\"scale(0.985 0.985) rotate(10)\">\n",
       "                                                                                                                                                                                                                                                                                                                                                                                              <use xlink:href=\"#s-20-p3ld\" />\n",
       "                                                                                                                                                                                                                                                                                                                                                                                              <g transform=\"scale(0.985 0.985) rotate(10)\">\n",
       "                                                                                                                                                                                                                                                                                                                                                                                                <use xlink:href=\"#s-20-p3ld\" />\n",
       "                                                                                                                                                                                                                                                                                                                                                                                                <g transform=\"scale(0.985 0.985) rotate(10)\">\n",
       "                                                                                                                                                                                                                                                                                                                                                                                                  <use xlink:href=\"#s-20-p3ld\" />\n",
       "                                                                                                                                                                                                                                                                                                                                                                                                  <g transform=\"scale(0.985 0.985) rotate(10)\">\n",
       "                                                                                                                                                                                                                                                                                                                                                                                                    <use xlink:href=\"#s-20-p3ld\" />\n",
       "                                                                                                                                                                                                                                                                                                                                                                                                    <g transform=\"scale(0.985 0.985) rotate(10)\">\n",
       "                                                                                                                                                                                                                                                                                                                                                                                                      <use xlink:href=\"#s-20-p3ld\" />\n",
       "                                                                                                                                                                                                                                                                                                                                                                                                      <g transform=\"scale(0.985 0.985) rotate(10)\">\n",
       "                                                                                                                                                                                                                                                                                                                                                                                                        <use xlink:href=\"#s-20-p3ld\" />\n",
       "                                                                                                                                                                                                                                                                                                                                                                                                        <g transform=\"scale(0.985 0.985) rotate(10)\">\n",
       "                                                                                                                                                                                                                                                                                                                                                                                                          <use xlink:href=\"#s-20-p3ld\" />\n",
       "                                                                                                                                                                                                                                                                                                                                                                                                          <g transform=\"scale(0.985 0.985) rotate(10)\">\n",
       "                                                                                                                                                                                                                                                                                                                                                                                                            <use xlink:href=\"#s-20-p3ld\" />\n",
       "                                                                                                                                                                                                                                                                                                                                                                                                            <g transform=\"scale(0.985 0.985) rotate(10)\">\n",
       "                                                                                                                                                                                                                                                                                                                                                                                                              <use xlink:href=\"#s-20-p3ld\" />\n",
       "                                                                                                                                                                                                                                                                                                                                                                                                              <g transform=\"scale(0.985 0.985) rotate(10)\">\n",
       "                                                                                                                                                                                                                                                                                                                                                                                                                <use xlink:href=\"#s-20-p3ld\" />\n",
       "                                                                                                                                                                                                                                                                                                                                                                                                                <g transform=\"scale(0.985 0.985) rotate(10)\">\n",
       "                                                                                                                                                                                                                                                                                                                                                                                                                  <use xlink:href=\"#s-20-p3ld\" />\n",
       "                                                                                                                                                                                                                                                                                                                                                                                                                  <use xlink:href=\"#s-20-p3ld\" transform=\"scale(0.985 0.985) rotate(10)\" />\n",
       "                                                                                                                                                                                                                                                                                                                                                                                                                </g>\n",
       "                                                                                                                                                                                                                                                                                                                                                                                                              </g>\n",
       "                                                                                                                                                                                                                                                                                                                                                                                                            </g>\n",
       "                                                                                                                                                                                                                                                                                                                                                                                                          </g>\n",
       "                                                                                                                                                                                                                                                                                                                                                                                                        </g>\n",
       "                                                                                                                                                                                                                                                                                                                                                                                                      </g>\n",
       "                                                                                                                                                                                                                                                                                                                                                                                                    </g>\n",
       "                                                                                                                                                                                                                                                                                                                                                                                                  </g>\n",
       "                                                                                                                                                                                                                                                                                                                                                                                                </g>\n",
       "                                                                                                                                                                                                                                                                                                                                                                                              </g>\n",
       "                                                                                                                                                                                                                                                                                                                                                                                            </g>\n",
       "                                                                                                                                                                                                                                                                                                                                                                                          </g>\n",
       "                                                                                                                                                                                                                                                                                                                                                                                        </g>\n",
       "                                                                                                                                                                                                                                                                                                                                                                                      </g>\n",
       "                                                                                                                                                                                                                                                                                                                                                                                    </g>\n",
       "                                                                                                                                                                                                                                                                                                                                                                                  </g>\n",
       "                                                                                                                                                                                                                                                                                                                                                                                </g>\n",
       "                                                                                                                                                                                                                                                                                                                                                                              </g>\n",
       "                                                                                                                                                                                                                                                                                                                                                                            </g>\n",
       "                                                                                                                                                                                                                                                                                                                                                                          </g>\n",
       "                                                                                                                                                                                                                                                                                                                                                                        </g>\n",
       "                                                                                                                                                                                                                                                                                                                                                                      </g>\n",
       "                                                                                                                                                                                                                                                                                                                                                                    </g>\n",
       "                                                                                                                                                                                                                                                                                                                                                                  </g>\n",
       "                                                                                                                                                                                                                                                                                                                                                                </g>\n",
       "                                                                                                                                                                                                                                                                                                                                                              </g>\n",
       "                                                                                                                                                                                                                                                                                                                                                            </g>\n",
       "                                                                                                                                                                                                                                                                                                                                                          </g>\n",
       "                                                                                                                                                                                                                                                                                                                                                        </g>\n",
       "                                                                                                                                                                                                                                                                                                                                                      </g>\n",
       "                                                                                                                                                                                                                                                                                                                                                    </g>\n",
       "                                                                                                                                                                                                                                                                                                                                                  </g>\n",
       "                                                                                                                                                                                                                                                                                                                                                </g>\n",
       "                                                                                                                                                                                                                                                                                                                                              </g>\n",
       "                                                                                                                                                                                                                                                                                                                                            </g>\n",
       "                                                                                                                                                                                                                                                                                                                                          </g>\n",
       "                                                                                                                                                                                                                                                                                                                                        </g>\n",
       "                                                                                                                                                                                                                                                                                                                                      </g>\n",
       "                                                                                                                                                                                                                                                                                                                                    </g>\n",
       "                                                                                                                                                                                                                                                                                                                                  </g>\n",
       "                                                                                                                                                                                                                                                                                                                                </g>\n",
       "                                                                                                                                                                                                                                                                                                                              </g>\n",
       "                                                                                                                                                                                                                                                                                                                            </g>\n",
       "                                                                                                                                                                                                                                                                                                                          </g>\n",
       "                                                                                                                                                                                                                                                                                                                        </g>\n",
       "                                                                                                                                                                                                                                                                                                                      </g>\n",
       "                                                                                                                                                                                                                                                                                                                    </g>\n",
       "                                                                                                                                                                                                                                                                                                                  </g>\n",
       "                                                                                                                                                                                                                                                                                                                </g>\n",
       "                                                                                                                                                                                                                                                                                                              </g>\n",
       "                                                                                                                                                                                                                                                                                                            </g>\n",
       "                                                                                                                                                                                                                                                                                                          </g>\n",
       "                                                                                                                                                                                                                                                                                                        </g>\n",
       "                                                                                                                                                                                                                                                                                                      </g>\n",
       "                                                                                                                                                                                                                                                                                                    </g>\n",
       "                                                                                                                                                                                                                                                                                                  </g>\n",
       "                                                                                                                                                                                                                                                                                                </g>\n",
       "                                                                                                                                                                                                                                                                                              </g>\n",
       "                                                                                                                                                                                                                                                                                            </g>\n",
       "                                                                                                                                                                                                                                                                                          </g>\n",
       "                                                                                                                                                                                                                                                                                        </g>\n",
       "                                                                                                                                                                                                                                                                                      </g>\n",
       "                                                                                                                                                                                                                                                                                    </g>\n",
       "                                                                                                                                                                                                                                                                                  </g>\n",
       "                                                                                                                                                                                                                                                                                </g>\n",
       "                                                                                                                                                                                                                                                                              </g>\n",
       "                                                                                                                                                                                                                                                                            </g>\n",
       "                                                                                                                                                                                                                                                                          </g>\n",
       "                                                                                                                                                                                                                                                                        </g>\n",
       "                                                                                                                                                                                                                                                                      </g>\n",
       "                                                                                                                                                                                                                                                                    </g>\n",
       "                                                                                                                                                                                                                                                                  </g>\n",
       "                                                                                                                                                                                                                                                                </g>\n",
       "                                                                                                                                                                                                                                                              </g>\n",
       "                                                                                                                                                                                                                                                            </g>\n",
       "                                                                                                                                                                                                                                                          </g>\n",
       "                                                                                                                                                                                                                                                        </g>\n",
       "                                                                                                                                                                                                                                                      </g>\n",
       "                                                                                                                                                                                                                                                    </g>\n",
       "                                                                                                                                                                                                                                                  </g>\n",
       "                                                                                                                                                                                                                                                </g>\n",
       "                                                                                                                                                                                                                                              </g>\n",
       "                                                                                                                                                                                                                                            </g>\n",
       "                                                                                                                                                                                                                                          </g>\n",
       "                                                                                                                                                                                                                                        </g>\n",
       "                                                                                                                                                                                                                                      </g>\n",
       "                                                                                                                                                                                                                                    </g>\n",
       "                                                                                                                                                                                                                                  </g>\n",
       "                                                                                                                                                                                                                                </g>\n",
       "                                                                                                                                                                                                                              </g>\n",
       "                                                                                                                                                                                                                            </g>\n",
       "                                                                                                                                                                                                                          </g>\n",
       "                                                                                                                                                                                                                        </g>\n",
       "                                                                                                                                                                                                                      </g>\n",
       "                                                                                                                                                                                                                    </g>\n",
       "                                                                                                                                                                                                                  </g>\n",
       "                                                                                                                                                                                                                </g>\n",
       "                                                                                                                                                                                                              </g>\n",
       "                                                                                                                                                                                                            </g>\n",
       "                                                                                                                                                                                                          </g>\n",
       "                                                                                                                                                                                                        </g>\n",
       "                                                                                                                                                                                                      </g>\n",
       "                                                                                                                                                                                                    </g>\n",
       "                                                                                                                                                                                                  </g>\n",
       "                                                                                                                                                                                                </g>\n",
       "                                                                                                                                                                                              </g>\n",
       "                                                                                                                                                                                            </g>\n",
       "                                                                                                                                                                                          </g>\n",
       "                                                                                                                                                                                        </g>\n",
       "                                                                                                                                                                                      </g>\n",
       "                                                                                                                                                                                    </g>\n",
       "                                                                                                                                                                                  </g>\n",
       "                                                                                                                                                                                </g>\n",
       "                                                                                                                                                                              </g>\n",
       "                                                                                                                                                                            </g>\n",
       "                                                                                                                                                                          </g>\n",
       "                                                                                                                                                                        </g>\n",
       "                                                                                                                                                                      </g>\n",
       "                                                                                                                                                                    </g>\n",
       "                                                                                                                                                                  </g>\n",
       "                                                                                                                                                                </g>\n",
       "                                                                                                                                                              </g>\n",
       "                                                                                                                                                            </g>\n",
       "                                                                                                                                                          </g>\n",
       "                                                                                                                                                        </g>\n",
       "                                                                                                                                                      </g>\n",
       "                                                                                                                                                    </g>\n",
       "                                                                                                                                                  </g>\n",
       "                                                                                                                                                </g>\n",
       "                                                                                                                                              </g>\n",
       "                                                                                                                                            </g>\n",
       "                                                                                                                                          </g>\n",
       "                                                                                                                                        </g>\n",
       "                                                                                                                                      </g>\n",
       "                                                                                                                                    </g>\n",
       "                                                                                                                                  </g>\n",
       "                                                                                                                                </g>\n",
       "                                                                                                                              </g>\n",
       "                                                                                                                            </g>\n",
       "                                                                                                                          </g>\n",
       "                                                                                                                        </g>\n",
       "                                                                                                                      </g>\n",
       "                                                                                                                    </g>\n",
       "                                                                                                                  </g>\n",
       "                                                                                                                </g>\n",
       "                                                                                                              </g>\n",
       "                                                                                                            </g>\n",
       "                                                                                                          </g>\n",
       "                                                                                                        </g>\n",
       "                                                                                                      </g>\n",
       "                                                                                                    </g>\n",
       "                                                                                                  </g>\n",
       "                                                                                                </g>\n",
       "                                                                                              </g>\n",
       "                                                                                            </g>\n",
       "                                                                                          </g>\n",
       "                                                                                        </g>\n",
       "                                                                                      </g>\n",
       "                                                                                    </g>\n",
       "                                                                                  </g>\n",
       "                                                                                </g>\n",
       "                                                                              </g>\n",
       "                                                                            </g>\n",
       "                                                                          </g>\n",
       "                                                                        </g>\n",
       "                                                                      </g>\n",
       "                                                                    </g>\n",
       "                                                                  </g>\n",
       "                                                                </g>\n",
       "                                                              </g>\n",
       "                                                            </g>\n",
       "                                                          </g>\n",
       "                                                        </g>\n",
       "                                                      </g>\n",
       "                                                    </g>\n",
       "                                                  </g>\n",
       "                                                </g>\n",
       "                                              </g>\n",
       "                                            </g>\n",
       "                                          </g>\n",
       "                                        </g>\n",
       "                                      </g>\n",
       "                                    </g>\n",
       "                                  </g>\n",
       "                                </g>\n",
       "                              </g>\n",
       "                            </g>\n",
       "                          </g>\n",
       "                        </g>\n",
       "                      </g>\n",
       "                    </g>\n",
       "                  </g>\n",
       "                </g>\n",
       "              </g>\n",
       "            </g>\n",
       "          </g>\n",
       "        </g>\n",
       "      </g>\n",
       "    </g>\n",
       "  </g>\n",
       "</g>\n",
       "</svg>\n"
      ],
      "text/plain": [
       "<g {}>"
      ]
     },
     "execution_count": 129,
     "metadata": {},
     "output_type": "execute_result"
    }
   ],
   "source": [
    "circle(r=25, x=100) | repeat(200, rotate(10)|scale(0.985))"
   ]
  },
  {
   "cell_type": "markdown",
   "id": "df108e81-974e-4de2-be7e-167080d95f79",
   "metadata": {},
   "source": [
    "## Interactive Widgets"
   ]
  },
  {
   "cell_type": "markdown",
   "id": "8ab6c963-daf5-41e7-869c-0b36ded17851",
   "metadata": {},
   "source": [
    "Jupyter supports interactive widgets that allow adding a slider to change values and see the updated image in real-time."
   ]
  },
  {
   "cell_type": "markdown",
   "id": "dd32a651-06ca-4a15-b6a8-aed574f7040d",
   "metadata": {},
   "source": [
    "Let's start with a simple example of star and see if we can make it interactive."
   ]
  },
  {
   "cell_type": "code",
   "execution_count": 130,
   "id": "6c8bc4a5-7949-4c19-8a2b-fff9e190e10a",
   "metadata": {
    "execution": {
     "iopub.execute_input": "2023-10-17T13:49:16.793126Z",
     "iopub.status.busy": "2023-10-17T13:49:16.792667Z",
     "iopub.status.idle": "2023-10-17T13:49:16.797892Z",
     "shell.execute_reply": "2023-10-17T13:49:16.797079Z",
     "shell.execute_reply.started": "2023-10-17T13:49:16.793095Z"
    }
   },
   "outputs": [],
   "source": [
    "def star(n):\n",
    "    angle = 180/n\n",
    "    return line() | repeat(n, rotate(angle))"
   ]
  },
  {
   "cell_type": "code",
   "execution_count": 131,
   "id": "9b24dff5-d806-4d05-8011-17422a007e8f",
   "metadata": {
    "execution": {
     "iopub.execute_input": "2023-10-17T13:49:16.799444Z",
     "iopub.status.busy": "2023-10-17T13:49:16.798965Z",
     "iopub.status.idle": "2023-10-17T13:49:16.806207Z",
     "shell.execute_reply": "2023-10-17T13:49:16.805561Z",
     "shell.execute_reply.started": "2023-10-17T13:49:16.799411Z"
    }
   },
   "outputs": [
    {
     "data": {
      "image/svg+xml": [
       "<svg width=\"300\" height=\"300\" viewBox=\"-150 -150 300 300\" fill=\"none\" stroke=\"black\" xmlns=\"http://www.w3.org/2000/svg\" xmlns:xlink=\"http://www.w3.org/1999/xlink\">\n",
       "<g transform=\"scale(1 -1)\">\n",
       "  <g>\n",
       "    <defs>\n",
       "      <line x1=\"-100\" y1=\"0\" x2=\"100\" y2=\"0\" id=\"s-21-p3ld\" />\n",
       "    </defs>\n",
       "    <g>\n",
       "      <use xlink:href=\"#s-21-p3ld\" />\n",
       "      <g transform=\"rotate(36.0)\">\n",
       "        <use xlink:href=\"#s-21-p3ld\" />\n",
       "        <g transform=\"rotate(36.0)\">\n",
       "          <use xlink:href=\"#s-21-p3ld\" />\n",
       "          <g transform=\"rotate(36.0)\">\n",
       "            <use xlink:href=\"#s-21-p3ld\" />\n",
       "            <use xlink:href=\"#s-21-p3ld\" transform=\"rotate(36.0)\" />\n",
       "          </g>\n",
       "        </g>\n",
       "      </g>\n",
       "    </g>\n",
       "  </g>\n",
       "</g>\n",
       "</svg>\n"
      ],
      "text/plain": [
       "<g {}>"
      ]
     },
     "execution_count": 131,
     "metadata": {},
     "output_type": "execute_result"
    }
   ],
   "source": [
    "star(5)"
   ]
  },
  {
   "cell_type": "markdown",
   "id": "4230837d-526d-4110-bf2f-7e909732d2c8",
   "metadata": {},
   "source": [
    "Let's make it interactive using the `interactive` function. Notice that we have specified the value of `n` as an `IntSlider`."
   ]
  },
  {
   "cell_type": "code",
   "execution_count": 132,
   "id": "02738b42-c734-48ab-ae33-f33e7df6c75e",
   "metadata": {
    "execution": {
     "iopub.execute_input": "2023-10-17T13:49:16.808090Z",
     "iopub.status.busy": "2023-10-17T13:49:16.807858Z",
     "iopub.status.idle": "2023-10-17T13:49:16.824769Z",
     "shell.execute_reply": "2023-10-17T13:49:16.823892Z",
     "shell.execute_reply.started": "2023-10-17T13:49:16.808067Z"
    }
   },
   "outputs": [
    {
     "data": {
      "application/vnd.jupyter.widget-view+json": {
       "model_id": "4178bbc28e0b4ee4b269ff19d4fa2b2c",
       "version_major": 2,
       "version_minor": 0
      },
      "text/plain": [
       "interactive(children=(IntSlider(value=5, description='n', max=30, min=1), Output()), _dom_classes=('widget-int…"
      ]
     },
     "metadata": {},
     "output_type": "display_data"
    },
    {
     "data": {
      "text/plain": [
       "<function __main__.star(n)>"
      ]
     },
     "execution_count": 132,
     "metadata": {},
     "output_type": "execute_result"
    }
   ],
   "source": [
    "interact(star, n=IntSlider(value=5, min=1, max=30))"
   ]
  },
  {
   "cell_type": "markdown",
   "id": "f2887b6d-ddaf-4fcd-8aba-28c24d85f667",
   "metadata": {},
   "source": [
    "Interactive widgets makes it easy to discover the correct value of scale or angle when making complex shapes."
   ]
  },
  {
   "cell_type": "code",
   "execution_count": 133,
   "id": "b8770928-7a85-4c81-8344-d5a63b7ad34c",
   "metadata": {
    "execution": {
     "iopub.execute_input": "2023-10-17T13:49:16.825768Z",
     "iopub.status.busy": "2023-10-17T13:49:16.825547Z",
     "iopub.status.idle": "2023-10-17T13:49:16.829730Z",
     "shell.execute_reply": "2023-10-17T13:49:16.828913Z",
     "shell.execute_reply.started": "2023-10-17T13:49:16.825746Z"
    }
   },
   "outputs": [],
   "source": [
    "def spiral(scale_factor):\n",
    "    return circle(r=25, x=100) | repeat(200, rotate(10)|scale(scale_factor))"
   ]
  },
  {
   "cell_type": "code",
   "execution_count": 134,
   "id": "743f2a13-bf97-4679-bbf9-fb30e66edd9c",
   "metadata": {
    "execution": {
     "iopub.execute_input": "2023-10-17T13:49:16.830922Z",
     "iopub.status.busy": "2023-10-17T13:49:16.830510Z",
     "iopub.status.idle": "2023-10-17T13:49:16.844358Z",
     "shell.execute_reply": "2023-10-17T13:49:16.843626Z",
     "shell.execute_reply.started": "2023-10-17T13:49:16.830896Z"
    }
   },
   "outputs": [
    {
     "data": {
      "image/svg+xml": [
       "<svg width=\"300\" height=\"300\" viewBox=\"-150 -150 300 300\" fill=\"none\" stroke=\"black\" xmlns=\"http://www.w3.org/2000/svg\" xmlns:xlink=\"http://www.w3.org/1999/xlink\">\n",
       "<g transform=\"scale(1 -1)\">\n",
       "  <g>\n",
       "    <defs>\n",
       "      <circle cx=\"100\" cy=\"0\" r=\"25\" id=\"s-23-p3ld\" />\n",
       "    </defs>\n",
       "    <g>\n",
       "      <use xlink:href=\"#s-23-p3ld\" />\n",
       "      <g transform=\"scale(0.95 0.95) rotate(10)\">\n",
       "        <use xlink:href=\"#s-23-p3ld\" />\n",
       "        <g transform=\"scale(0.95 0.95) rotate(10)\">\n",
       "          <use xlink:href=\"#s-23-p3ld\" />\n",
       "          <g transform=\"scale(0.95 0.95) rotate(10)\">\n",
       "            <use xlink:href=\"#s-23-p3ld\" />\n",
       "            <g transform=\"scale(0.95 0.95) rotate(10)\">\n",
       "              <use xlink:href=\"#s-23-p3ld\" />\n",
       "              <g transform=\"scale(0.95 0.95) rotate(10)\">\n",
       "                <use xlink:href=\"#s-23-p3ld\" />\n",
       "                <g transform=\"scale(0.95 0.95) rotate(10)\">\n",
       "                  <use xlink:href=\"#s-23-p3ld\" />\n",
       "                  <g transform=\"scale(0.95 0.95) rotate(10)\">\n",
       "                    <use xlink:href=\"#s-23-p3ld\" />\n",
       "                    <g transform=\"scale(0.95 0.95) rotate(10)\">\n",
       "                      <use xlink:href=\"#s-23-p3ld\" />\n",
       "                      <g transform=\"scale(0.95 0.95) rotate(10)\">\n",
       "                        <use xlink:href=\"#s-23-p3ld\" />\n",
       "                        <g transform=\"scale(0.95 0.95) rotate(10)\">\n",
       "                          <use xlink:href=\"#s-23-p3ld\" />\n",
       "                          <g transform=\"scale(0.95 0.95) rotate(10)\">\n",
       "                            <use xlink:href=\"#s-23-p3ld\" />\n",
       "                            <g transform=\"scale(0.95 0.95) rotate(10)\">\n",
       "                              <use xlink:href=\"#s-23-p3ld\" />\n",
       "                              <g transform=\"scale(0.95 0.95) rotate(10)\">\n",
       "                                <use xlink:href=\"#s-23-p3ld\" />\n",
       "                                <g transform=\"scale(0.95 0.95) rotate(10)\">\n",
       "                                  <use xlink:href=\"#s-23-p3ld\" />\n",
       "                                  <g transform=\"scale(0.95 0.95) rotate(10)\">\n",
       "                                    <use xlink:href=\"#s-23-p3ld\" />\n",
       "                                    <g transform=\"scale(0.95 0.95) rotate(10)\">\n",
       "                                      <use xlink:href=\"#s-23-p3ld\" />\n",
       "                                      <g transform=\"scale(0.95 0.95) rotate(10)\">\n",
       "                                        <use xlink:href=\"#s-23-p3ld\" />\n",
       "                                        <g transform=\"scale(0.95 0.95) rotate(10)\">\n",
       "                                          <use xlink:href=\"#s-23-p3ld\" />\n",
       "                                          <g transform=\"scale(0.95 0.95) rotate(10)\">\n",
       "                                            <use xlink:href=\"#s-23-p3ld\" />\n",
       "                                            <g transform=\"scale(0.95 0.95) rotate(10)\">\n",
       "                                              <use xlink:href=\"#s-23-p3ld\" />\n",
       "                                              <g transform=\"scale(0.95 0.95) rotate(10)\">\n",
       "                                                <use xlink:href=\"#s-23-p3ld\" />\n",
       "                                                <g transform=\"scale(0.95 0.95) rotate(10)\">\n",
       "                                                  <use xlink:href=\"#s-23-p3ld\" />\n",
       "                                                  <g transform=\"scale(0.95 0.95) rotate(10)\">\n",
       "                                                    <use xlink:href=\"#s-23-p3ld\" />\n",
       "                                                    <g transform=\"scale(0.95 0.95) rotate(10)\">\n",
       "                                                      <use xlink:href=\"#s-23-p3ld\" />\n",
       "                                                      <g transform=\"scale(0.95 0.95) rotate(10)\">\n",
       "                                                        <use xlink:href=\"#s-23-p3ld\" />\n",
       "                                                        <g transform=\"scale(0.95 0.95) rotate(10)\">\n",
       "                                                          <use xlink:href=\"#s-23-p3ld\" />\n",
       "                                                          <g transform=\"scale(0.95 0.95) rotate(10)\">\n",
       "                                                            <use xlink:href=\"#s-23-p3ld\" />\n",
       "                                                            <g transform=\"scale(0.95 0.95) rotate(10)\">\n",
       "                                                              <use xlink:href=\"#s-23-p3ld\" />\n",
       "                                                              <g transform=\"scale(0.95 0.95) rotate(10)\">\n",
       "                                                                <use xlink:href=\"#s-23-p3ld\" />\n",
       "                                                                <g transform=\"scale(0.95 0.95) rotate(10)\">\n",
       "                                                                  <use xlink:href=\"#s-23-p3ld\" />\n",
       "                                                                  <g transform=\"scale(0.95 0.95) rotate(10)\">\n",
       "                                                                    <use xlink:href=\"#s-23-p3ld\" />\n",
       "                                                                    <g transform=\"scale(0.95 0.95) rotate(10)\">\n",
       "                                                                      <use xlink:href=\"#s-23-p3ld\" />\n",
       "                                                                      <g transform=\"scale(0.95 0.95) rotate(10)\">\n",
       "                                                                        <use xlink:href=\"#s-23-p3ld\" />\n",
       "                                                                        <g transform=\"scale(0.95 0.95) rotate(10)\">\n",
       "                                                                          <use xlink:href=\"#s-23-p3ld\" />\n",
       "                                                                          <g transform=\"scale(0.95 0.95) rotate(10)\">\n",
       "                                                                            <use xlink:href=\"#s-23-p3ld\" />\n",
       "                                                                            <g transform=\"scale(0.95 0.95) rotate(10)\">\n",
       "                                                                              <use xlink:href=\"#s-23-p3ld\" />\n",
       "                                                                              <g transform=\"scale(0.95 0.95) rotate(10)\">\n",
       "                                                                                <use xlink:href=\"#s-23-p3ld\" />\n",
       "                                                                                <g transform=\"scale(0.95 0.95) rotate(10)\">\n",
       "                                                                                  <use xlink:href=\"#s-23-p3ld\" />\n",
       "                                                                                  <g transform=\"scale(0.95 0.95) rotate(10)\">\n",
       "                                                                                    <use xlink:href=\"#s-23-p3ld\" />\n",
       "                                                                                    <g transform=\"scale(0.95 0.95) rotate(10)\">\n",
       "                                                                                      <use xlink:href=\"#s-23-p3ld\" />\n",
       "                                                                                      <g transform=\"scale(0.95 0.95) rotate(10)\">\n",
       "                                                                                        <use xlink:href=\"#s-23-p3ld\" />\n",
       "                                                                                        <g transform=\"scale(0.95 0.95) rotate(10)\">\n",
       "                                                                                          <use xlink:href=\"#s-23-p3ld\" />\n",
       "                                                                                          <g transform=\"scale(0.95 0.95) rotate(10)\">\n",
       "                                                                                            <use xlink:href=\"#s-23-p3ld\" />\n",
       "                                                                                            <g transform=\"scale(0.95 0.95) rotate(10)\">\n",
       "                                                                                              <use xlink:href=\"#s-23-p3ld\" />\n",
       "                                                                                              <g transform=\"scale(0.95 0.95) rotate(10)\">\n",
       "                                                                                                <use xlink:href=\"#s-23-p3ld\" />\n",
       "                                                                                                <g transform=\"scale(0.95 0.95) rotate(10)\">\n",
       "                                                                                                  <use xlink:href=\"#s-23-p3ld\" />\n",
       "                                                                                                  <g transform=\"scale(0.95 0.95) rotate(10)\">\n",
       "                                                                                                    <use xlink:href=\"#s-23-p3ld\" />\n",
       "                                                                                                    <g transform=\"scale(0.95 0.95) rotate(10)\">\n",
       "                                                                                                      <use xlink:href=\"#s-23-p3ld\" />\n",
       "                                                                                                      <g transform=\"scale(0.95 0.95) rotate(10)\">\n",
       "                                                                                                        <use xlink:href=\"#s-23-p3ld\" />\n",
       "                                                                                                        <g transform=\"scale(0.95 0.95) rotate(10)\">\n",
       "                                                                                                          <use xlink:href=\"#s-23-p3ld\" />\n",
       "                                                                                                          <g transform=\"scale(0.95 0.95) rotate(10)\">\n",
       "                                                                                                            <use xlink:href=\"#s-23-p3ld\" />\n",
       "                                                                                                            <g transform=\"scale(0.95 0.95) rotate(10)\">\n",
       "                                                                                                              <use xlink:href=\"#s-23-p3ld\" />\n",
       "                                                                                                              <g transform=\"scale(0.95 0.95) rotate(10)\">\n",
       "                                                                                                                <use xlink:href=\"#s-23-p3ld\" />\n",
       "                                                                                                                <g transform=\"scale(0.95 0.95) rotate(10)\">\n",
       "                                                                                                                  <use xlink:href=\"#s-23-p3ld\" />\n",
       "                                                                                                                  <g transform=\"scale(0.95 0.95) rotate(10)\">\n",
       "                                                                                                                    <use xlink:href=\"#s-23-p3ld\" />\n",
       "                                                                                                                    <g transform=\"scale(0.95 0.95) rotate(10)\">\n",
       "                                                                                                                      <use xlink:href=\"#s-23-p3ld\" />\n",
       "                                                                                                                      <g transform=\"scale(0.95 0.95) rotate(10)\">\n",
       "                                                                                                                        <use xlink:href=\"#s-23-p3ld\" />\n",
       "                                                                                                                        <g transform=\"scale(0.95 0.95) rotate(10)\">\n",
       "                                                                                                                          <use xlink:href=\"#s-23-p3ld\" />\n",
       "                                                                                                                          <g transform=\"scale(0.95 0.95) rotate(10)\">\n",
       "                                                                                                                            <use xlink:href=\"#s-23-p3ld\" />\n",
       "                                                                                                                            <g transform=\"scale(0.95 0.95) rotate(10)\">\n",
       "                                                                                                                              <use xlink:href=\"#s-23-p3ld\" />\n",
       "                                                                                                                              <g transform=\"scale(0.95 0.95) rotate(10)\">\n",
       "                                                                                                                                <use xlink:href=\"#s-23-p3ld\" />\n",
       "                                                                                                                                <g transform=\"scale(0.95 0.95) rotate(10)\">\n",
       "                                                                                                                                  <use xlink:href=\"#s-23-p3ld\" />\n",
       "                                                                                                                                  <g transform=\"scale(0.95 0.95) rotate(10)\">\n",
       "                                                                                                                                    <use xlink:href=\"#s-23-p3ld\" />\n",
       "                                                                                                                                    <g transform=\"scale(0.95 0.95) rotate(10)\">\n",
       "                                                                                                                                      <use xlink:href=\"#s-23-p3ld\" />\n",
       "                                                                                                                                      <g transform=\"scale(0.95 0.95) rotate(10)\">\n",
       "                                                                                                                                        <use xlink:href=\"#s-23-p3ld\" />\n",
       "                                                                                                                                        <g transform=\"scale(0.95 0.95) rotate(10)\">\n",
       "                                                                                                                                          <use xlink:href=\"#s-23-p3ld\" />\n",
       "                                                                                                                                          <g transform=\"scale(0.95 0.95) rotate(10)\">\n",
       "                                                                                                                                            <use xlink:href=\"#s-23-p3ld\" />\n",
       "                                                                                                                                            <g transform=\"scale(0.95 0.95) rotate(10)\">\n",
       "                                                                                                                                              <use xlink:href=\"#s-23-p3ld\" />\n",
       "                                                                                                                                              <g transform=\"scale(0.95 0.95) rotate(10)\">\n",
       "                                                                                                                                                <use xlink:href=\"#s-23-p3ld\" />\n",
       "                                                                                                                                                <g transform=\"scale(0.95 0.95) rotate(10)\">\n",
       "                                                                                                                                                  <use xlink:href=\"#s-23-p3ld\" />\n",
       "                                                                                                                                                  <g transform=\"scale(0.95 0.95) rotate(10)\">\n",
       "                                                                                                                                                    <use xlink:href=\"#s-23-p3ld\" />\n",
       "                                                                                                                                                    <g transform=\"scale(0.95 0.95) rotate(10)\">\n",
       "                                                                                                                                                      <use xlink:href=\"#s-23-p3ld\" />\n",
       "                                                                                                                                                      <g transform=\"scale(0.95 0.95) rotate(10)\">\n",
       "                                                                                                                                                        <use xlink:href=\"#s-23-p3ld\" />\n",
       "                                                                                                                                                        <g transform=\"scale(0.95 0.95) rotate(10)\">\n",
       "                                                                                                                                                          <use xlink:href=\"#s-23-p3ld\" />\n",
       "                                                                                                                                                          <g transform=\"scale(0.95 0.95) rotate(10)\">\n",
       "                                                                                                                                                            <use xlink:href=\"#s-23-p3ld\" />\n",
       "                                                                                                                                                            <g transform=\"scale(0.95 0.95) rotate(10)\">\n",
       "                                                                                                                                                              <use xlink:href=\"#s-23-p3ld\" />\n",
       "                                                                                                                                                              <g transform=\"scale(0.95 0.95) rotate(10)\">\n",
       "                                                                                                                                                                <use xlink:href=\"#s-23-p3ld\" />\n",
       "                                                                                                                                                                <g transform=\"scale(0.95 0.95) rotate(10)\">\n",
       "                                                                                                                                                                  <use xlink:href=\"#s-23-p3ld\" />\n",
       "                                                                                                                                                                  <g transform=\"scale(0.95 0.95) rotate(10)\">\n",
       "                                                                                                                                                                    <use xlink:href=\"#s-23-p3ld\" />\n",
       "                                                                                                                                                                    <g transform=\"scale(0.95 0.95) rotate(10)\">\n",
       "                                                                                                                                                                      <use xlink:href=\"#s-23-p3ld\" />\n",
       "                                                                                                                                                                      <g transform=\"scale(0.95 0.95) rotate(10)\">\n",
       "                                                                                                                                                                        <use xlink:href=\"#s-23-p3ld\" />\n",
       "                                                                                                                                                                        <g transform=\"scale(0.95 0.95) rotate(10)\">\n",
       "                                                                                                                                                                          <use xlink:href=\"#s-23-p3ld\" />\n",
       "                                                                                                                                                                          <g transform=\"scale(0.95 0.95) rotate(10)\">\n",
       "                                                                                                                                                                            <use xlink:href=\"#s-23-p3ld\" />\n",
       "                                                                                                                                                                            <g transform=\"scale(0.95 0.95) rotate(10)\">\n",
       "                                                                                                                                                                              <use xlink:href=\"#s-23-p3ld\" />\n",
       "                                                                                                                                                                              <g transform=\"scale(0.95 0.95) rotate(10)\">\n",
       "                                                                                                                                                                                <use xlink:href=\"#s-23-p3ld\" />\n",
       "                                                                                                                                                                                <g transform=\"scale(0.95 0.95) rotate(10)\">\n",
       "                                                                                                                                                                                  <use xlink:href=\"#s-23-p3ld\" />\n",
       "                                                                                                                                                                                  <g transform=\"scale(0.95 0.95) rotate(10)\">\n",
       "                                                                                                                                                                                    <use xlink:href=\"#s-23-p3ld\" />\n",
       "                                                                                                                                                                                    <g transform=\"scale(0.95 0.95) rotate(10)\">\n",
       "                                                                                                                                                                                      <use xlink:href=\"#s-23-p3ld\" />\n",
       "                                                                                                                                                                                      <g transform=\"scale(0.95 0.95) rotate(10)\">\n",
       "                                                                                                                                                                                        <use xlink:href=\"#s-23-p3ld\" />\n",
       "                                                                                                                                                                                        <g transform=\"scale(0.95 0.95) rotate(10)\">\n",
       "                                                                                                                                                                                          <use xlink:href=\"#s-23-p3ld\" />\n",
       "                                                                                                                                                                                          <g transform=\"scale(0.95 0.95) rotate(10)\">\n",
       "                                                                                                                                                                                            <use xlink:href=\"#s-23-p3ld\" />\n",
       "                                                                                                                                                                                            <g transform=\"scale(0.95 0.95) rotate(10)\">\n",
       "                                                                                                                                                                                              <use xlink:href=\"#s-23-p3ld\" />\n",
       "                                                                                                                                                                                              <g transform=\"scale(0.95 0.95) rotate(10)\">\n",
       "                                                                                                                                                                                                <use xlink:href=\"#s-23-p3ld\" />\n",
       "                                                                                                                                                                                                <g transform=\"scale(0.95 0.95) rotate(10)\">\n",
       "                                                                                                                                                                                                  <use xlink:href=\"#s-23-p3ld\" />\n",
       "                                                                                                                                                                                                  <g transform=\"scale(0.95 0.95) rotate(10)\">\n",
       "                                                                                                                                                                                                    <use xlink:href=\"#s-23-p3ld\" />\n",
       "                                                                                                                                                                                                    <g transform=\"scale(0.95 0.95) rotate(10)\">\n",
       "                                                                                                                                                                                                      <use xlink:href=\"#s-23-p3ld\" />\n",
       "                                                                                                                                                                                                      <g transform=\"scale(0.95 0.95) rotate(10)\">\n",
       "                                                                                                                                                                                                        <use xlink:href=\"#s-23-p3ld\" />\n",
       "                                                                                                                                                                                                        <g transform=\"scale(0.95 0.95) rotate(10)\">\n",
       "                                                                                                                                                                                                          <use xlink:href=\"#s-23-p3ld\" />\n",
       "                                                                                                                                                                                                          <g transform=\"scale(0.95 0.95) rotate(10)\">\n",
       "                                                                                                                                                                                                            <use xlink:href=\"#s-23-p3ld\" />\n",
       "                                                                                                                                                                                                            <g transform=\"scale(0.95 0.95) rotate(10)\">\n",
       "                                                                                                                                                                                                              <use xlink:href=\"#s-23-p3ld\" />\n",
       "                                                                                                                                                                                                              <g transform=\"scale(0.95 0.95) rotate(10)\">\n",
       "                                                                                                                                                                                                                <use xlink:href=\"#s-23-p3ld\" />\n",
       "                                                                                                                                                                                                                <g transform=\"scale(0.95 0.95) rotate(10)\">\n",
       "                                                                                                                                                                                                                  <use xlink:href=\"#s-23-p3ld\" />\n",
       "                                                                                                                                                                                                                  <g transform=\"scale(0.95 0.95) rotate(10)\">\n",
       "                                                                                                                                                                                                                    <use xlink:href=\"#s-23-p3ld\" />\n",
       "                                                                                                                                                                                                                    <g transform=\"scale(0.95 0.95) rotate(10)\">\n",
       "                                                                                                                                                                                                                      <use xlink:href=\"#s-23-p3ld\" />\n",
       "                                                                                                                                                                                                                      <g transform=\"scale(0.95 0.95) rotate(10)\">\n",
       "                                                                                                                                                                                                                        <use xlink:href=\"#s-23-p3ld\" />\n",
       "                                                                                                                                                                                                                        <g transform=\"scale(0.95 0.95) rotate(10)\">\n",
       "                                                                                                                                                                                                                          <use xlink:href=\"#s-23-p3ld\" />\n",
       "                                                                                                                                                                                                                          <g transform=\"scale(0.95 0.95) rotate(10)\">\n",
       "                                                                                                                                                                                                                            <use xlink:href=\"#s-23-p3ld\" />\n",
       "                                                                                                                                                                                                                            <g transform=\"scale(0.95 0.95) rotate(10)\">\n",
       "                                                                                                                                                                                                                              <use xlink:href=\"#s-23-p3ld\" />\n",
       "                                                                                                                                                                                                                              <g transform=\"scale(0.95 0.95) rotate(10)\">\n",
       "                                                                                                                                                                                                                                <use xlink:href=\"#s-23-p3ld\" />\n",
       "                                                                                                                                                                                                                                <g transform=\"scale(0.95 0.95) rotate(10)\">\n",
       "                                                                                                                                                                                                                                  <use xlink:href=\"#s-23-p3ld\" />\n",
       "                                                                                                                                                                                                                                  <g transform=\"scale(0.95 0.95) rotate(10)\">\n",
       "                                                                                                                                                                                                                                    <use xlink:href=\"#s-23-p3ld\" />\n",
       "                                                                                                                                                                                                                                    <g transform=\"scale(0.95 0.95) rotate(10)\">\n",
       "                                                                                                                                                                                                                                      <use xlink:href=\"#s-23-p3ld\" />\n",
       "                                                                                                                                                                                                                                      <g transform=\"scale(0.95 0.95) rotate(10)\">\n",
       "                                                                                                                                                                                                                                        <use xlink:href=\"#s-23-p3ld\" />\n",
       "                                                                                                                                                                                                                                        <g transform=\"scale(0.95 0.95) rotate(10)\">\n",
       "                                                                                                                                                                                                                                          <use xlink:href=\"#s-23-p3ld\" />\n",
       "                                                                                                                                                                                                                                          <g transform=\"scale(0.95 0.95) rotate(10)\">\n",
       "                                                                                                                                                                                                                                            <use xlink:href=\"#s-23-p3ld\" />\n",
       "                                                                                                                                                                                                                                            <g transform=\"scale(0.95 0.95) rotate(10)\">\n",
       "                                                                                                                                                                                                                                              <use xlink:href=\"#s-23-p3ld\" />\n",
       "                                                                                                                                                                                                                                              <g transform=\"scale(0.95 0.95) rotate(10)\">\n",
       "                                                                                                                                                                                                                                                <use xlink:href=\"#s-23-p3ld\" />\n",
       "                                                                                                                                                                                                                                                <g transform=\"scale(0.95 0.95) rotate(10)\">\n",
       "                                                                                                                                                                                                                                                  <use xlink:href=\"#s-23-p3ld\" />\n",
       "                                                                                                                                                                                                                                                  <g transform=\"scale(0.95 0.95) rotate(10)\">\n",
       "                                                                                                                                                                                                                                                    <use xlink:href=\"#s-23-p3ld\" />\n",
       "                                                                                                                                                                                                                                                    <g transform=\"scale(0.95 0.95) rotate(10)\">\n",
       "                                                                                                                                                                                                                                                      <use xlink:href=\"#s-23-p3ld\" />\n",
       "                                                                                                                                                                                                                                                      <g transform=\"scale(0.95 0.95) rotate(10)\">\n",
       "                                                                                                                                                                                                                                                        <use xlink:href=\"#s-23-p3ld\" />\n",
       "                                                                                                                                                                                                                                                        <g transform=\"scale(0.95 0.95) rotate(10)\">\n",
       "                                                                                                                                                                                                                                                          <use xlink:href=\"#s-23-p3ld\" />\n",
       "                                                                                                                                                                                                                                                          <g transform=\"scale(0.95 0.95) rotate(10)\">\n",
       "                                                                                                                                                                                                                                                            <use xlink:href=\"#s-23-p3ld\" />\n",
       "                                                                                                                                                                                                                                                            <g transform=\"scale(0.95 0.95) rotate(10)\">\n",
       "                                                                                                                                                                                                                                                              <use xlink:href=\"#s-23-p3ld\" />\n",
       "                                                                                                                                                                                                                                                              <g transform=\"scale(0.95 0.95) rotate(10)\">\n",
       "                                                                                                                                                                                                                                                                <use xlink:href=\"#s-23-p3ld\" />\n",
       "                                                                                                                                                                                                                                                                <g transform=\"scale(0.95 0.95) rotate(10)\">\n",
       "                                                                                                                                                                                                                                                                  <use xlink:href=\"#s-23-p3ld\" />\n",
       "                                                                                                                                                                                                                                                                  <g transform=\"scale(0.95 0.95) rotate(10)\">\n",
       "                                                                                                                                                                                                                                                                    <use xlink:href=\"#s-23-p3ld\" />\n",
       "                                                                                                                                                                                                                                                                    <g transform=\"scale(0.95 0.95) rotate(10)\">\n",
       "                                                                                                                                                                                                                                                                      <use xlink:href=\"#s-23-p3ld\" />\n",
       "                                                                                                                                                                                                                                                                      <g transform=\"scale(0.95 0.95) rotate(10)\">\n",
       "                                                                                                                                                                                                                                                                        <use xlink:href=\"#s-23-p3ld\" />\n",
       "                                                                                                                                                                                                                                                                        <g transform=\"scale(0.95 0.95) rotate(10)\">\n",
       "                                                                                                                                                                                                                                                                          <use xlink:href=\"#s-23-p3ld\" />\n",
       "                                                                                                                                                                                                                                                                          <g transform=\"scale(0.95 0.95) rotate(10)\">\n",
       "                                                                                                                                                                                                                                                                            <use xlink:href=\"#s-23-p3ld\" />\n",
       "                                                                                                                                                                                                                                                                            <g transform=\"scale(0.95 0.95) rotate(10)\">\n",
       "                                                                                                                                                                                                                                                                              <use xlink:href=\"#s-23-p3ld\" />\n",
       "                                                                                                                                                                                                                                                                              <g transform=\"scale(0.95 0.95) rotate(10)\">\n",
       "                                                                                                                                                                                                                                                                                <use xlink:href=\"#s-23-p3ld\" />\n",
       "                                                                                                                                                                                                                                                                                <g transform=\"scale(0.95 0.95) rotate(10)\">\n",
       "                                                                                                                                                                                                                                                                                  <use xlink:href=\"#s-23-p3ld\" />\n",
       "                                                                                                                                                                                                                                                                                  <g transform=\"scale(0.95 0.95) rotate(10)\">\n",
       "                                                                                                                                                                                                                                                                                    <use xlink:href=\"#s-23-p3ld\" />\n",
       "                                                                                                                                                                                                                                                                                    <g transform=\"scale(0.95 0.95) rotate(10)\">\n",
       "                                                                                                                                                                                                                                                                                      <use xlink:href=\"#s-23-p3ld\" />\n",
       "                                                                                                                                                                                                                                                                                      <g transform=\"scale(0.95 0.95) rotate(10)\">\n",
       "                                                                                                                                                                                                                                                                                        <use xlink:href=\"#s-23-p3ld\" />\n",
       "                                                                                                                                                                                                                                                                                        <g transform=\"scale(0.95 0.95) rotate(10)\">\n",
       "                                                                                                                                                                                                                                                                                          <use xlink:href=\"#s-23-p3ld\" />\n",
       "                                                                                                                                                                                                                                                                                          <g transform=\"scale(0.95 0.95) rotate(10)\">\n",
       "                                                                                                                                                                                                                                                                                            <use xlink:href=\"#s-23-p3ld\" />\n",
       "                                                                                                                                                                                                                                                                                            <g transform=\"scale(0.95 0.95) rotate(10)\">\n",
       "                                                                                                                                                                                                                                                                                              <use xlink:href=\"#s-23-p3ld\" />\n",
       "                                                                                                                                                                                                                                                                                              <g transform=\"scale(0.95 0.95) rotate(10)\">\n",
       "                                                                                                                                                                                                                                                                                                <use xlink:href=\"#s-23-p3ld\" />\n",
       "                                                                                                                                                                                                                                                                                                <g transform=\"scale(0.95 0.95) rotate(10)\">\n",
       "                                                                                                                                                                                                                                                                                                  <use xlink:href=\"#s-23-p3ld\" />\n",
       "                                                                                                                                                                                                                                                                                                  <g transform=\"scale(0.95 0.95) rotate(10)\">\n",
       "                                                                                                                                                                                                                                                                                                    <use xlink:href=\"#s-23-p3ld\" />\n",
       "                                                                                                                                                                                                                                                                                                    <g transform=\"scale(0.95 0.95) rotate(10)\">\n",
       "                                                                                                                                                                                                                                                                                                      <use xlink:href=\"#s-23-p3ld\" />\n",
       "                                                                                                                                                                                                                                                                                                      <g transform=\"scale(0.95 0.95) rotate(10)\">\n",
       "                                                                                                                                                                                                                                                                                                        <use xlink:href=\"#s-23-p3ld\" />\n",
       "                                                                                                                                                                                                                                                                                                        <g transform=\"scale(0.95 0.95) rotate(10)\">\n",
       "                                                                                                                                                                                                                                                                                                          <use xlink:href=\"#s-23-p3ld\" />\n",
       "                                                                                                                                                                                                                                                                                                          <g transform=\"scale(0.95 0.95) rotate(10)\">\n",
       "                                                                                                                                                                                                                                                                                                            <use xlink:href=\"#s-23-p3ld\" />\n",
       "                                                                                                                                                                                                                                                                                                            <g transform=\"scale(0.95 0.95) rotate(10)\">\n",
       "                                                                                                                                                                                                                                                                                                              <use xlink:href=\"#s-23-p3ld\" />\n",
       "                                                                                                                                                                                                                                                                                                              <g transform=\"scale(0.95 0.95) rotate(10)\">\n",
       "                                                                                                                                                                                                                                                                                                                <use xlink:href=\"#s-23-p3ld\" />\n",
       "                                                                                                                                                                                                                                                                                                                <g transform=\"scale(0.95 0.95) rotate(10)\">\n",
       "                                                                                                                                                                                                                                                                                                                  <use xlink:href=\"#s-23-p3ld\" />\n",
       "                                                                                                                                                                                                                                                                                                                  <g transform=\"scale(0.95 0.95) rotate(10)\">\n",
       "                                                                                                                                                                                                                                                                                                                    <use xlink:href=\"#s-23-p3ld\" />\n",
       "                                                                                                                                                                                                                                                                                                                    <g transform=\"scale(0.95 0.95) rotate(10)\">\n",
       "                                                                                                                                                                                                                                                                                                                      <use xlink:href=\"#s-23-p3ld\" />\n",
       "                                                                                                                                                                                                                                                                                                                      <g transform=\"scale(0.95 0.95) rotate(10)\">\n",
       "                                                                                                                                                                                                                                                                                                                        <use xlink:href=\"#s-23-p3ld\" />\n",
       "                                                                                                                                                                                                                                                                                                                        <g transform=\"scale(0.95 0.95) rotate(10)\">\n",
       "                                                                                                                                                                                                                                                                                                                          <use xlink:href=\"#s-23-p3ld\" />\n",
       "                                                                                                                                                                                                                                                                                                                          <g transform=\"scale(0.95 0.95) rotate(10)\">\n",
       "                                                                                                                                                                                                                                                                                                                            <use xlink:href=\"#s-23-p3ld\" />\n",
       "                                                                                                                                                                                                                                                                                                                            <g transform=\"scale(0.95 0.95) rotate(10)\">\n",
       "                                                                                                                                                                                                                                                                                                                              <use xlink:href=\"#s-23-p3ld\" />\n",
       "                                                                                                                                                                                                                                                                                                                              <g transform=\"scale(0.95 0.95) rotate(10)\">\n",
       "                                                                                                                                                                                                                                                                                                                                <use xlink:href=\"#s-23-p3ld\" />\n",
       "                                                                                                                                                                                                                                                                                                                                <g transform=\"scale(0.95 0.95) rotate(10)\">\n",
       "                                                                                                                                                                                                                                                                                                                                  <use xlink:href=\"#s-23-p3ld\" />\n",
       "                                                                                                                                                                                                                                                                                                                                  <g transform=\"scale(0.95 0.95) rotate(10)\">\n",
       "                                                                                                                                                                                                                                                                                                                                    <use xlink:href=\"#s-23-p3ld\" />\n",
       "                                                                                                                                                                                                                                                                                                                                    <g transform=\"scale(0.95 0.95) rotate(10)\">\n",
       "                                                                                                                                                                                                                                                                                                                                      <use xlink:href=\"#s-23-p3ld\" />\n",
       "                                                                                                                                                                                                                                                                                                                                      <g transform=\"scale(0.95 0.95) rotate(10)\">\n",
       "                                                                                                                                                                                                                                                                                                                                        <use xlink:href=\"#s-23-p3ld\" />\n",
       "                                                                                                                                                                                                                                                                                                                                        <g transform=\"scale(0.95 0.95) rotate(10)\">\n",
       "                                                                                                                                                                                                                                                                                                                                          <use xlink:href=\"#s-23-p3ld\" />\n",
       "                                                                                                                                                                                                                                                                                                                                          <g transform=\"scale(0.95 0.95) rotate(10)\">\n",
       "                                                                                                                                                                                                                                                                                                                                            <use xlink:href=\"#s-23-p3ld\" />\n",
       "                                                                                                                                                                                                                                                                                                                                            <g transform=\"scale(0.95 0.95) rotate(10)\">\n",
       "                                                                                                                                                                                                                                                                                                                                              <use xlink:href=\"#s-23-p3ld\" />\n",
       "                                                                                                                                                                                                                                                                                                                                              <g transform=\"scale(0.95 0.95) rotate(10)\">\n",
       "                                                                                                                                                                                                                                                                                                                                                <use xlink:href=\"#s-23-p3ld\" />\n",
       "                                                                                                                                                                                                                                                                                                                                                <g transform=\"scale(0.95 0.95) rotate(10)\">\n",
       "                                                                                                                                                                                                                                                                                                                                                  <use xlink:href=\"#s-23-p3ld\" />\n",
       "                                                                                                                                                                                                                                                                                                                                                  <g transform=\"scale(0.95 0.95) rotate(10)\">\n",
       "                                                                                                                                                                                                                                                                                                                                                    <use xlink:href=\"#s-23-p3ld\" />\n",
       "                                                                                                                                                                                                                                                                                                                                                    <g transform=\"scale(0.95 0.95) rotate(10)\">\n",
       "                                                                                                                                                                                                                                                                                                                                                      <use xlink:href=\"#s-23-p3ld\" />\n",
       "                                                                                                                                                                                                                                                                                                                                                      <g transform=\"scale(0.95 0.95) rotate(10)\">\n",
       "                                                                                                                                                                                                                                                                                                                                                        <use xlink:href=\"#s-23-p3ld\" />\n",
       "                                                                                                                                                                                                                                                                                                                                                        <g transform=\"scale(0.95 0.95) rotate(10)\">\n",
       "                                                                                                                                                                                                                                                                                                                                                          <use xlink:href=\"#s-23-p3ld\" />\n",
       "                                                                                                                                                                                                                                                                                                                                                          <g transform=\"scale(0.95 0.95) rotate(10)\">\n",
       "                                                                                                                                                                                                                                                                                                                                                            <use xlink:href=\"#s-23-p3ld\" />\n",
       "                                                                                                                                                                                                                                                                                                                                                            <g transform=\"scale(0.95 0.95) rotate(10)\">\n",
       "                                                                                                                                                                                                                                                                                                                                                              <use xlink:href=\"#s-23-p3ld\" />\n",
       "                                                                                                                                                                                                                                                                                                                                                              <g transform=\"scale(0.95 0.95) rotate(10)\">\n",
       "                                                                                                                                                                                                                                                                                                                                                                <use xlink:href=\"#s-23-p3ld\" />\n",
       "                                                                                                                                                                                                                                                                                                                                                                <g transform=\"scale(0.95 0.95) rotate(10)\">\n",
       "                                                                                                                                                                                                                                                                                                                                                                  <use xlink:href=\"#s-23-p3ld\" />\n",
       "                                                                                                                                                                                                                                                                                                                                                                  <g transform=\"scale(0.95 0.95) rotate(10)\">\n",
       "                                                                                                                                                                                                                                                                                                                                                                    <use xlink:href=\"#s-23-p3ld\" />\n",
       "                                                                                                                                                                                                                                                                                                                                                                    <g transform=\"scale(0.95 0.95) rotate(10)\">\n",
       "                                                                                                                                                                                                                                                                                                                                                                      <use xlink:href=\"#s-23-p3ld\" />\n",
       "                                                                                                                                                                                                                                                                                                                                                                      <g transform=\"scale(0.95 0.95) rotate(10)\">\n",
       "                                                                                                                                                                                                                                                                                                                                                                        <use xlink:href=\"#s-23-p3ld\" />\n",
       "                                                                                                                                                                                                                                                                                                                                                                        <g transform=\"scale(0.95 0.95) rotate(10)\">\n",
       "                                                                                                                                                                                                                                                                                                                                                                          <use xlink:href=\"#s-23-p3ld\" />\n",
       "                                                                                                                                                                                                                                                                                                                                                                          <g transform=\"scale(0.95 0.95) rotate(10)\">\n",
       "                                                                                                                                                                                                                                                                                                                                                                            <use xlink:href=\"#s-23-p3ld\" />\n",
       "                                                                                                                                                                                                                                                                                                                                                                            <g transform=\"scale(0.95 0.95) rotate(10)\">\n",
       "                                                                                                                                                                                                                                                                                                                                                                              <use xlink:href=\"#s-23-p3ld\" />\n",
       "                                                                                                                                                                                                                                                                                                                                                                              <g transform=\"scale(0.95 0.95) rotate(10)\">\n",
       "                                                                                                                                                                                                                                                                                                                                                                                <use xlink:href=\"#s-23-p3ld\" />\n",
       "                                                                                                                                                                                                                                                                                                                                                                                <g transform=\"scale(0.95 0.95) rotate(10)\">\n",
       "                                                                                                                                                                                                                                                                                                                                                                                  <use xlink:href=\"#s-23-p3ld\" />\n",
       "                                                                                                                                                                                                                                                                                                                                                                                  <g transform=\"scale(0.95 0.95) rotate(10)\">\n",
       "                                                                                                                                                                                                                                                                                                                                                                                    <use xlink:href=\"#s-23-p3ld\" />\n",
       "                                                                                                                                                                                                                                                                                                                                                                                    <g transform=\"scale(0.95 0.95) rotate(10)\">\n",
       "                                                                                                                                                                                                                                                                                                                                                                                      <use xlink:href=\"#s-23-p3ld\" />\n",
       "                                                                                                                                                                                                                                                                                                                                                                                      <g transform=\"scale(0.95 0.95) rotate(10)\">\n",
       "                                                                                                                                                                                                                                                                                                                                                                                        <use xlink:href=\"#s-23-p3ld\" />\n",
       "                                                                                                                                                                                                                                                                                                                                                                                        <g transform=\"scale(0.95 0.95) rotate(10)\">\n",
       "                                                                                                                                                                                                                                                                                                                                                                                          <use xlink:href=\"#s-23-p3ld\" />\n",
       "                                                                                                                                                                                                                                                                                                                                                                                          <g transform=\"scale(0.95 0.95) rotate(10)\">\n",
       "                                                                                                                                                                                                                                                                                                                                                                                            <use xlink:href=\"#s-23-p3ld\" />\n",
       "                                                                                                                                                                                                                                                                                                                                                                                            <g transform=\"scale(0.95 0.95) rotate(10)\">\n",
       "                                                                                                                                                                                                                                                                                                                                                                                              <use xlink:href=\"#s-23-p3ld\" />\n",
       "                                                                                                                                                                                                                                                                                                                                                                                              <g transform=\"scale(0.95 0.95) rotate(10)\">\n",
       "                                                                                                                                                                                                                                                                                                                                                                                                <use xlink:href=\"#s-23-p3ld\" />\n",
       "                                                                                                                                                                                                                                                                                                                                                                                                <g transform=\"scale(0.95 0.95) rotate(10)\">\n",
       "                                                                                                                                                                                                                                                                                                                                                                                                  <use xlink:href=\"#s-23-p3ld\" />\n",
       "                                                                                                                                                                                                                                                                                                                                                                                                  <g transform=\"scale(0.95 0.95) rotate(10)\">\n",
       "                                                                                                                                                                                                                                                                                                                                                                                                    <use xlink:href=\"#s-23-p3ld\" />\n",
       "                                                                                                                                                                                                                                                                                                                                                                                                    <g transform=\"scale(0.95 0.95) rotate(10)\">\n",
       "                                                                                                                                                                                                                                                                                                                                                                                                      <use xlink:href=\"#s-23-p3ld\" />\n",
       "                                                                                                                                                                                                                                                                                                                                                                                                      <g transform=\"scale(0.95 0.95) rotate(10)\">\n",
       "                                                                                                                                                                                                                                                                                                                                                                                                        <use xlink:href=\"#s-23-p3ld\" />\n",
       "                                                                                                                                                                                                                                                                                                                                                                                                        <g transform=\"scale(0.95 0.95) rotate(10)\">\n",
       "                                                                                                                                                                                                                                                                                                                                                                                                          <use xlink:href=\"#s-23-p3ld\" />\n",
       "                                                                                                                                                                                                                                                                                                                                                                                                          <g transform=\"scale(0.95 0.95) rotate(10)\">\n",
       "                                                                                                                                                                                                                                                                                                                                                                                                            <use xlink:href=\"#s-23-p3ld\" />\n",
       "                                                                                                                                                                                                                                                                                                                                                                                                            <g transform=\"scale(0.95 0.95) rotate(10)\">\n",
       "                                                                                                                                                                                                                                                                                                                                                                                                              <use xlink:href=\"#s-23-p3ld\" />\n",
       "                                                                                                                                                                                                                                                                                                                                                                                                              <g transform=\"scale(0.95 0.95) rotate(10)\">\n",
       "                                                                                                                                                                                                                                                                                                                                                                                                                <use xlink:href=\"#s-23-p3ld\" />\n",
       "                                                                                                                                                                                                                                                                                                                                                                                                                <g transform=\"scale(0.95 0.95) rotate(10)\">\n",
       "                                                                                                                                                                                                                                                                                                                                                                                                                  <use xlink:href=\"#s-23-p3ld\" />\n",
       "                                                                                                                                                                                                                                                                                                                                                                                                                  <use xlink:href=\"#s-23-p3ld\" transform=\"scale(0.95 0.95) rotate(10)\" />\n",
       "                                                                                                                                                                                                                                                                                                                                                                                                                </g>\n",
       "                                                                                                                                                                                                                                                                                                                                                                                                              </g>\n",
       "                                                                                                                                                                                                                                                                                                                                                                                                            </g>\n",
       "                                                                                                                                                                                                                                                                                                                                                                                                          </g>\n",
       "                                                                                                                                                                                                                                                                                                                                                                                                        </g>\n",
       "                                                                                                                                                                                                                                                                                                                                                                                                      </g>\n",
       "                                                                                                                                                                                                                                                                                                                                                                                                    </g>\n",
       "                                                                                                                                                                                                                                                                                                                                                                                                  </g>\n",
       "                                                                                                                                                                                                                                                                                                                                                                                                </g>\n",
       "                                                                                                                                                                                                                                                                                                                                                                                              </g>\n",
       "                                                                                                                                                                                                                                                                                                                                                                                            </g>\n",
       "                                                                                                                                                                                                                                                                                                                                                                                          </g>\n",
       "                                                                                                                                                                                                                                                                                                                                                                                        </g>\n",
       "                                                                                                                                                                                                                                                                                                                                                                                      </g>\n",
       "                                                                                                                                                                                                                                                                                                                                                                                    </g>\n",
       "                                                                                                                                                                                                                                                                                                                                                                                  </g>\n",
       "                                                                                                                                                                                                                                                                                                                                                                                </g>\n",
       "                                                                                                                                                                                                                                                                                                                                                                              </g>\n",
       "                                                                                                                                                                                                                                                                                                                                                                            </g>\n",
       "                                                                                                                                                                                                                                                                                                                                                                          </g>\n",
       "                                                                                                                                                                                                                                                                                                                                                                        </g>\n",
       "                                                                                                                                                                                                                                                                                                                                                                      </g>\n",
       "                                                                                                                                                                                                                                                                                                                                                                    </g>\n",
       "                                                                                                                                                                                                                                                                                                                                                                  </g>\n",
       "                                                                                                                                                                                                                                                                                                                                                                </g>\n",
       "                                                                                                                                                                                                                                                                                                                                                              </g>\n",
       "                                                                                                                                                                                                                                                                                                                                                            </g>\n",
       "                                                                                                                                                                                                                                                                                                                                                          </g>\n",
       "                                                                                                                                                                                                                                                                                                                                                        </g>\n",
       "                                                                                                                                                                                                                                                                                                                                                      </g>\n",
       "                                                                                                                                                                                                                                                                                                                                                    </g>\n",
       "                                                                                                                                                                                                                                                                                                                                                  </g>\n",
       "                                                                                                                                                                                                                                                                                                                                                </g>\n",
       "                                                                                                                                                                                                                                                                                                                                              </g>\n",
       "                                                                                                                                                                                                                                                                                                                                            </g>\n",
       "                                                                                                                                                                                                                                                                                                                                          </g>\n",
       "                                                                                                                                                                                                                                                                                                                                        </g>\n",
       "                                                                                                                                                                                                                                                                                                                                      </g>\n",
       "                                                                                                                                                                                                                                                                                                                                    </g>\n",
       "                                                                                                                                                                                                                                                                                                                                  </g>\n",
       "                                                                                                                                                                                                                                                                                                                                </g>\n",
       "                                                                                                                                                                                                                                                                                                                              </g>\n",
       "                                                                                                                                                                                                                                                                                                                            </g>\n",
       "                                                                                                                                                                                                                                                                                                                          </g>\n",
       "                                                                                                                                                                                                                                                                                                                        </g>\n",
       "                                                                                                                                                                                                                                                                                                                      </g>\n",
       "                                                                                                                                                                                                                                                                                                                    </g>\n",
       "                                                                                                                                                                                                                                                                                                                  </g>\n",
       "                                                                                                                                                                                                                                                                                                                </g>\n",
       "                                                                                                                                                                                                                                                                                                              </g>\n",
       "                                                                                                                                                                                                                                                                                                            </g>\n",
       "                                                                                                                                                                                                                                                                                                          </g>\n",
       "                                                                                                                                                                                                                                                                                                        </g>\n",
       "                                                                                                                                                                                                                                                                                                      </g>\n",
       "                                                                                                                                                                                                                                                                                                    </g>\n",
       "                                                                                                                                                                                                                                                                                                  </g>\n",
       "                                                                                                                                                                                                                                                                                                </g>\n",
       "                                                                                                                                                                                                                                                                                              </g>\n",
       "                                                                                                                                                                                                                                                                                            </g>\n",
       "                                                                                                                                                                                                                                                                                          </g>\n",
       "                                                                                                                                                                                                                                                                                        </g>\n",
       "                                                                                                                                                                                                                                                                                      </g>\n",
       "                                                                                                                                                                                                                                                                                    </g>\n",
       "                                                                                                                                                                                                                                                                                  </g>\n",
       "                                                                                                                                                                                                                                                                                </g>\n",
       "                                                                                                                                                                                                                                                                              </g>\n",
       "                                                                                                                                                                                                                                                                            </g>\n",
       "                                                                                                                                                                                                                                                                          </g>\n",
       "                                                                                                                                                                                                                                                                        </g>\n",
       "                                                                                                                                                                                                                                                                      </g>\n",
       "                                                                                                                                                                                                                                                                    </g>\n",
       "                                                                                                                                                                                                                                                                  </g>\n",
       "                                                                                                                                                                                                                                                                </g>\n",
       "                                                                                                                                                                                                                                                              </g>\n",
       "                                                                                                                                                                                                                                                            </g>\n",
       "                                                                                                                                                                                                                                                          </g>\n",
       "                                                                                                                                                                                                                                                        </g>\n",
       "                                                                                                                                                                                                                                                      </g>\n",
       "                                                                                                                                                                                                                                                    </g>\n",
       "                                                                                                                                                                                                                                                  </g>\n",
       "                                                                                                                                                                                                                                                </g>\n",
       "                                                                                                                                                                                                                                              </g>\n",
       "                                                                                                                                                                                                                                            </g>\n",
       "                                                                                                                                                                                                                                          </g>\n",
       "                                                                                                                                                                                                                                        </g>\n",
       "                                                                                                                                                                                                                                      </g>\n",
       "                                                                                                                                                                                                                                    </g>\n",
       "                                                                                                                                                                                                                                  </g>\n",
       "                                                                                                                                                                                                                                </g>\n",
       "                                                                                                                                                                                                                              </g>\n",
       "                                                                                                                                                                                                                            </g>\n",
       "                                                                                                                                                                                                                          </g>\n",
       "                                                                                                                                                                                                                        </g>\n",
       "                                                                                                                                                                                                                      </g>\n",
       "                                                                                                                                                                                                                    </g>\n",
       "                                                                                                                                                                                                                  </g>\n",
       "                                                                                                                                                                                                                </g>\n",
       "                                                                                                                                                                                                              </g>\n",
       "                                                                                                                                                                                                            </g>\n",
       "                                                                                                                                                                                                          </g>\n",
       "                                                                                                                                                                                                        </g>\n",
       "                                                                                                                                                                                                      </g>\n",
       "                                                                                                                                                                                                    </g>\n",
       "                                                                                                                                                                                                  </g>\n",
       "                                                                                                                                                                                                </g>\n",
       "                                                                                                                                                                                              </g>\n",
       "                                                                                                                                                                                            </g>\n",
       "                                                                                                                                                                                          </g>\n",
       "                                                                                                                                                                                        </g>\n",
       "                                                                                                                                                                                      </g>\n",
       "                                                                                                                                                                                    </g>\n",
       "                                                                                                                                                                                  </g>\n",
       "                                                                                                                                                                                </g>\n",
       "                                                                                                                                                                              </g>\n",
       "                                                                                                                                                                            </g>\n",
       "                                                                                                                                                                          </g>\n",
       "                                                                                                                                                                        </g>\n",
       "                                                                                                                                                                      </g>\n",
       "                                                                                                                                                                    </g>\n",
       "                                                                                                                                                                  </g>\n",
       "                                                                                                                                                                </g>\n",
       "                                                                                                                                                              </g>\n",
       "                                                                                                                                                            </g>\n",
       "                                                                                                                                                          </g>\n",
       "                                                                                                                                                        </g>\n",
       "                                                                                                                                                      </g>\n",
       "                                                                                                                                                    </g>\n",
       "                                                                                                                                                  </g>\n",
       "                                                                                                                                                </g>\n",
       "                                                                                                                                              </g>\n",
       "                                                                                                                                            </g>\n",
       "                                                                                                                                          </g>\n",
       "                                                                                                                                        </g>\n",
       "                                                                                                                                      </g>\n",
       "                                                                                                                                    </g>\n",
       "                                                                                                                                  </g>\n",
       "                                                                                                                                </g>\n",
       "                                                                                                                              </g>\n",
       "                                                                                                                            </g>\n",
       "                                                                                                                          </g>\n",
       "                                                                                                                        </g>\n",
       "                                                                                                                      </g>\n",
       "                                                                                                                    </g>\n",
       "                                                                                                                  </g>\n",
       "                                                                                                                </g>\n",
       "                                                                                                              </g>\n",
       "                                                                                                            </g>\n",
       "                                                                                                          </g>\n",
       "                                                                                                        </g>\n",
       "                                                                                                      </g>\n",
       "                                                                                                    </g>\n",
       "                                                                                                  </g>\n",
       "                                                                                                </g>\n",
       "                                                                                              </g>\n",
       "                                                                                            </g>\n",
       "                                                                                          </g>\n",
       "                                                                                        </g>\n",
       "                                                                                      </g>\n",
       "                                                                                    </g>\n",
       "                                                                                  </g>\n",
       "                                                                                </g>\n",
       "                                                                              </g>\n",
       "                                                                            </g>\n",
       "                                                                          </g>\n",
       "                                                                        </g>\n",
       "                                                                      </g>\n",
       "                                                                    </g>\n",
       "                                                                  </g>\n",
       "                                                                </g>\n",
       "                                                              </g>\n",
       "                                                            </g>\n",
       "                                                          </g>\n",
       "                                                        </g>\n",
       "                                                      </g>\n",
       "                                                    </g>\n",
       "                                                  </g>\n",
       "                                                </g>\n",
       "                                              </g>\n",
       "                                            </g>\n",
       "                                          </g>\n",
       "                                        </g>\n",
       "                                      </g>\n",
       "                                    </g>\n",
       "                                  </g>\n",
       "                                </g>\n",
       "                              </g>\n",
       "                            </g>\n",
       "                          </g>\n",
       "                        </g>\n",
       "                      </g>\n",
       "                    </g>\n",
       "                  </g>\n",
       "                </g>\n",
       "              </g>\n",
       "            </g>\n",
       "          </g>\n",
       "        </g>\n",
       "      </g>\n",
       "    </g>\n",
       "  </g>\n",
       "</g>\n",
       "</svg>\n"
      ],
      "text/plain": [
       "<g {}>"
      ]
     },
     "execution_count": 134,
     "metadata": {},
     "output_type": "execute_result"
    }
   ],
   "source": [
    "spiral(0.95)"
   ]
  },
  {
   "cell_type": "code",
   "execution_count": 135,
   "id": "6a994468-1314-44da-a9ab-5dd505fb3354",
   "metadata": {
    "execution": {
     "iopub.execute_input": "2023-10-17T13:49:16.845684Z",
     "iopub.status.busy": "2023-10-17T13:49:16.845442Z",
     "iopub.status.idle": "2023-10-17T13:49:16.869407Z",
     "shell.execute_reply": "2023-10-17T13:49:16.868471Z",
     "shell.execute_reply.started": "2023-10-17T13:49:16.845659Z"
    }
   },
   "outputs": [
    {
     "data": {
      "application/vnd.jupyter.widget-view+json": {
       "model_id": "8e32c35e69674f1c9eb3335f821bae0d",
       "version_major": 2,
       "version_minor": 0
      },
      "text/plain": [
       "interactive(children=(FloatSlider(value=0.9, description='scale_factor', max=1.0, min=0.8, readout_format='0.3…"
      ]
     },
     "metadata": {},
     "output_type": "display_data"
    },
    {
     "data": {
      "text/plain": [
       "<function __main__.spiral(scale_factor)>"
      ]
     },
     "execution_count": 135,
     "metadata": {},
     "output_type": "execute_result"
    }
   ],
   "source": [
    "interact(spiral, \n",
    "         scale_factor=FloatSlider(value=0.9, min=0.8, max=1.0, step=0.001, readout_format=\"0.3f\"))"
   ]
  },
  {
   "cell_type": "markdown",
   "id": "6aac6197-5a55-4bf6-834f-53c1b4324fc4",
   "metadata": {},
   "source": [
    "Try doing the interactive widget for drawing a magic squares."
   ]
  },
  {
   "cell_type": "code",
   "execution_count": 136,
   "id": "e2519a38-c78d-4bf1-8d42-528b506db087",
   "metadata": {
    "execution": {
     "iopub.execute_input": "2023-10-17T13:49:16.870498Z",
     "iopub.status.busy": "2023-10-17T13:49:16.870258Z",
     "iopub.status.idle": "2023-10-17T13:49:16.883359Z",
     "shell.execute_reply": "2023-10-17T13:49:16.882743Z",
     "shell.execute_reply.started": "2023-10-17T13:49:16.870474Z"
    }
   },
   "outputs": [
    {
     "data": {
      "image/svg+xml": [
       "<svg width=\"300\" height=\"300\" viewBox=\"-150 -150 300 300\" fill=\"none\" stroke=\"black\" xmlns=\"http://www.w3.org/2000/svg\" xmlns:xlink=\"http://www.w3.org/1999/xlink\">\n",
       "<g transform=\"scale(1 -1)\">\n",
       "  <g>\n",
       "    <defs>\n",
       "      <rect x=\"-125.0\" y=\"-125.0\" width=\"250\" height=\"250\" id=\"s-25-p3ld\" />\n",
       "    </defs>\n",
       "    <g>\n",
       "      <use xlink:href=\"#s-25-p3ld\" />\n",
       "      <g transform=\"scale(0.8 0.8) rotate(10)\">\n",
       "        <use xlink:href=\"#s-25-p3ld\" />\n",
       "        <g transform=\"scale(0.8 0.8) rotate(10)\">\n",
       "          <use xlink:href=\"#s-25-p3ld\" />\n",
       "          <g transform=\"scale(0.8 0.8) rotate(10)\">\n",
       "            <use xlink:href=\"#s-25-p3ld\" />\n",
       "            <g transform=\"scale(0.8 0.8) rotate(10)\">\n",
       "              <use xlink:href=\"#s-25-p3ld\" />\n",
       "              <g transform=\"scale(0.8 0.8) rotate(10)\">\n",
       "                <use xlink:href=\"#s-25-p3ld\" />\n",
       "                <g transform=\"scale(0.8 0.8) rotate(10)\">\n",
       "                  <use xlink:href=\"#s-25-p3ld\" />\n",
       "                  <g transform=\"scale(0.8 0.8) rotate(10)\">\n",
       "                    <use xlink:href=\"#s-25-p3ld\" />\n",
       "                    <g transform=\"scale(0.8 0.8) rotate(10)\">\n",
       "                      <use xlink:href=\"#s-25-p3ld\" />\n",
       "                      <g transform=\"scale(0.8 0.8) rotate(10)\">\n",
       "                        <use xlink:href=\"#s-25-p3ld\" />\n",
       "                        <g transform=\"scale(0.8 0.8) rotate(10)\">\n",
       "                          <use xlink:href=\"#s-25-p3ld\" />\n",
       "                          <g transform=\"scale(0.8 0.8) rotate(10)\">\n",
       "                            <use xlink:href=\"#s-25-p3ld\" />\n",
       "                            <g transform=\"scale(0.8 0.8) rotate(10)\">\n",
       "                              <use xlink:href=\"#s-25-p3ld\" />\n",
       "                              <g transform=\"scale(0.8 0.8) rotate(10)\">\n",
       "                                <use xlink:href=\"#s-25-p3ld\" />\n",
       "                                <g transform=\"scale(0.8 0.8) rotate(10)\">\n",
       "                                  <use xlink:href=\"#s-25-p3ld\" />\n",
       "                                  <g transform=\"scale(0.8 0.8) rotate(10)\">\n",
       "                                    <use xlink:href=\"#s-25-p3ld\" />\n",
       "                                    <g transform=\"scale(0.8 0.8) rotate(10)\">\n",
       "                                      <use xlink:href=\"#s-25-p3ld\" />\n",
       "                                      <g transform=\"scale(0.8 0.8) rotate(10)\">\n",
       "                                        <use xlink:href=\"#s-25-p3ld\" />\n",
       "                                        <g transform=\"scale(0.8 0.8) rotate(10)\">\n",
       "                                          <use xlink:href=\"#s-25-p3ld\" />\n",
       "                                          <g transform=\"scale(0.8 0.8) rotate(10)\">\n",
       "                                            <use xlink:href=\"#s-25-p3ld\" />\n",
       "                                            <g transform=\"scale(0.8 0.8) rotate(10)\">\n",
       "                                              <use xlink:href=\"#s-25-p3ld\" />\n",
       "                                              <g transform=\"scale(0.8 0.8) rotate(10)\">\n",
       "                                                <use xlink:href=\"#s-25-p3ld\" />\n",
       "                                                <g transform=\"scale(0.8 0.8) rotate(10)\">\n",
       "                                                  <use xlink:href=\"#s-25-p3ld\" />\n",
       "                                                  <g transform=\"scale(0.8 0.8) rotate(10)\">\n",
       "                                                    <use xlink:href=\"#s-25-p3ld\" />\n",
       "                                                    <g transform=\"scale(0.8 0.8) rotate(10)\">\n",
       "                                                      <use xlink:href=\"#s-25-p3ld\" />\n",
       "                                                      <g transform=\"scale(0.8 0.8) rotate(10)\">\n",
       "                                                        <use xlink:href=\"#s-25-p3ld\" />\n",
       "                                                        <g transform=\"scale(0.8 0.8) rotate(10)\">\n",
       "                                                          <use xlink:href=\"#s-25-p3ld\" />\n",
       "                                                          <g transform=\"scale(0.8 0.8) rotate(10)\">\n",
       "                                                            <use xlink:href=\"#s-25-p3ld\" />\n",
       "                                                            <g transform=\"scale(0.8 0.8) rotate(10)\">\n",
       "                                                              <use xlink:href=\"#s-25-p3ld\" />\n",
       "                                                              <g transform=\"scale(0.8 0.8) rotate(10)\">\n",
       "                                                                <use xlink:href=\"#s-25-p3ld\" />\n",
       "                                                                <g transform=\"scale(0.8 0.8) rotate(10)\">\n",
       "                                                                  <use xlink:href=\"#s-25-p3ld\" />\n",
       "                                                                  <g transform=\"scale(0.8 0.8) rotate(10)\">\n",
       "                                                                    <use xlink:href=\"#s-25-p3ld\" />\n",
       "                                                                    <g transform=\"scale(0.8 0.8) rotate(10)\">\n",
       "                                                                      <use xlink:href=\"#s-25-p3ld\" />\n",
       "                                                                      <g transform=\"scale(0.8 0.8) rotate(10)\">\n",
       "                                                                        <use xlink:href=\"#s-25-p3ld\" />\n",
       "                                                                        <g transform=\"scale(0.8 0.8) rotate(10)\">\n",
       "                                                                          <use xlink:href=\"#s-25-p3ld\" />\n",
       "                                                                          <g transform=\"scale(0.8 0.8) rotate(10)\">\n",
       "                                                                            <use xlink:href=\"#s-25-p3ld\" />\n",
       "                                                                            <g transform=\"scale(0.8 0.8) rotate(10)\">\n",
       "                                                                              <use xlink:href=\"#s-25-p3ld\" />\n",
       "                                                                              <g transform=\"scale(0.8 0.8) rotate(10)\">\n",
       "                                                                                <use xlink:href=\"#s-25-p3ld\" />\n",
       "                                                                                <g transform=\"scale(0.8 0.8) rotate(10)\">\n",
       "                                                                                  <use xlink:href=\"#s-25-p3ld\" />\n",
       "                                                                                  <g transform=\"scale(0.8 0.8) rotate(10)\">\n",
       "                                                                                    <use xlink:href=\"#s-25-p3ld\" />\n",
       "                                                                                    <g transform=\"scale(0.8 0.8) rotate(10)\">\n",
       "                                                                                      <use xlink:href=\"#s-25-p3ld\" />\n",
       "                                                                                      <g transform=\"scale(0.8 0.8) rotate(10)\">\n",
       "                                                                                        <use xlink:href=\"#s-25-p3ld\" />\n",
       "                                                                                        <g transform=\"scale(0.8 0.8) rotate(10)\">\n",
       "                                                                                          <use xlink:href=\"#s-25-p3ld\" />\n",
       "                                                                                          <g transform=\"scale(0.8 0.8) rotate(10)\">\n",
       "                                                                                            <use xlink:href=\"#s-25-p3ld\" />\n",
       "                                                                                            <g transform=\"scale(0.8 0.8) rotate(10)\">\n",
       "                                                                                              <use xlink:href=\"#s-25-p3ld\" />\n",
       "                                                                                              <g transform=\"scale(0.8 0.8) rotate(10)\">\n",
       "                                                                                                <use xlink:href=\"#s-25-p3ld\" />\n",
       "                                                                                                <g transform=\"scale(0.8 0.8) rotate(10)\">\n",
       "                                                                                                  <use xlink:href=\"#s-25-p3ld\" />\n",
       "                                                                                                  <g transform=\"scale(0.8 0.8) rotate(10)\">\n",
       "                                                                                                    <use xlink:href=\"#s-25-p3ld\" />\n",
       "                                                                                                    <g transform=\"scale(0.8 0.8) rotate(10)\">\n",
       "                                                                                                      <use xlink:href=\"#s-25-p3ld\" />\n",
       "                                                                                                      <g transform=\"scale(0.8 0.8) rotate(10)\">\n",
       "                                                                                                        <use xlink:href=\"#s-25-p3ld\" />\n",
       "                                                                                                        <g transform=\"scale(0.8 0.8) rotate(10)\">\n",
       "                                                                                                          <use xlink:href=\"#s-25-p3ld\" />\n",
       "                                                                                                          <g transform=\"scale(0.8 0.8) rotate(10)\">\n",
       "                                                                                                            <use xlink:href=\"#s-25-p3ld\" />\n",
       "                                                                                                            <g transform=\"scale(0.8 0.8) rotate(10)\">\n",
       "                                                                                                              <use xlink:href=\"#s-25-p3ld\" />\n",
       "                                                                                                              <g transform=\"scale(0.8 0.8) rotate(10)\">\n",
       "                                                                                                                <use xlink:href=\"#s-25-p3ld\" />\n",
       "                                                                                                                <g transform=\"scale(0.8 0.8) rotate(10)\">\n",
       "                                                                                                                  <use xlink:href=\"#s-25-p3ld\" />\n",
       "                                                                                                                  <g transform=\"scale(0.8 0.8) rotate(10)\">\n",
       "                                                                                                                    <use xlink:href=\"#s-25-p3ld\" />\n",
       "                                                                                                                    <g transform=\"scale(0.8 0.8) rotate(10)\">\n",
       "                                                                                                                      <use xlink:href=\"#s-25-p3ld\" />\n",
       "                                                                                                                      <g transform=\"scale(0.8 0.8) rotate(10)\">\n",
       "                                                                                                                        <use xlink:href=\"#s-25-p3ld\" />\n",
       "                                                                                                                        <g transform=\"scale(0.8 0.8) rotate(10)\">\n",
       "                                                                                                                          <use xlink:href=\"#s-25-p3ld\" />\n",
       "                                                                                                                          <g transform=\"scale(0.8 0.8) rotate(10)\">\n",
       "                                                                                                                            <use xlink:href=\"#s-25-p3ld\" />\n",
       "                                                                                                                            <g transform=\"scale(0.8 0.8) rotate(10)\">\n",
       "                                                                                                                              <use xlink:href=\"#s-25-p3ld\" />\n",
       "                                                                                                                              <g transform=\"scale(0.8 0.8) rotate(10)\">\n",
       "                                                                                                                                <use xlink:href=\"#s-25-p3ld\" />\n",
       "                                                                                                                                <g transform=\"scale(0.8 0.8) rotate(10)\">\n",
       "                                                                                                                                  <use xlink:href=\"#s-25-p3ld\" />\n",
       "                                                                                                                                  <g transform=\"scale(0.8 0.8) rotate(10)\">\n",
       "                                                                                                                                    <use xlink:href=\"#s-25-p3ld\" />\n",
       "                                                                                                                                    <g transform=\"scale(0.8 0.8) rotate(10)\">\n",
       "                                                                                                                                      <use xlink:href=\"#s-25-p3ld\" />\n",
       "                                                                                                                                      <g transform=\"scale(0.8 0.8) rotate(10)\">\n",
       "                                                                                                                                        <use xlink:href=\"#s-25-p3ld\" />\n",
       "                                                                                                                                        <g transform=\"scale(0.8 0.8) rotate(10)\">\n",
       "                                                                                                                                          <use xlink:href=\"#s-25-p3ld\" />\n",
       "                                                                                                                                          <g transform=\"scale(0.8 0.8) rotate(10)\">\n",
       "                                                                                                                                            <use xlink:href=\"#s-25-p3ld\" />\n",
       "                                                                                                                                            <g transform=\"scale(0.8 0.8) rotate(10)\">\n",
       "                                                                                                                                              <use xlink:href=\"#s-25-p3ld\" />\n",
       "                                                                                                                                              <g transform=\"scale(0.8 0.8) rotate(10)\">\n",
       "                                                                                                                                                <use xlink:href=\"#s-25-p3ld\" />\n",
       "                                                                                                                                                <g transform=\"scale(0.8 0.8) rotate(10)\">\n",
       "                                                                                                                                                  <use xlink:href=\"#s-25-p3ld\" />\n",
       "                                                                                                                                                  <g transform=\"scale(0.8 0.8) rotate(10)\">\n",
       "                                                                                                                                                    <use xlink:href=\"#s-25-p3ld\" />\n",
       "                                                                                                                                                    <g transform=\"scale(0.8 0.8) rotate(10)\">\n",
       "                                                                                                                                                      <use xlink:href=\"#s-25-p3ld\" />\n",
       "                                                                                                                                                      <g transform=\"scale(0.8 0.8) rotate(10)\">\n",
       "                                                                                                                                                        <use xlink:href=\"#s-25-p3ld\" />\n",
       "                                                                                                                                                        <g transform=\"scale(0.8 0.8) rotate(10)\">\n",
       "                                                                                                                                                          <use xlink:href=\"#s-25-p3ld\" />\n",
       "                                                                                                                                                          <g transform=\"scale(0.8 0.8) rotate(10)\">\n",
       "                                                                                                                                                            <use xlink:href=\"#s-25-p3ld\" />\n",
       "                                                                                                                                                            <g transform=\"scale(0.8 0.8) rotate(10)\">\n",
       "                                                                                                                                                              <use xlink:href=\"#s-25-p3ld\" />\n",
       "                                                                                                                                                              <g transform=\"scale(0.8 0.8) rotate(10)\">\n",
       "                                                                                                                                                                <use xlink:href=\"#s-25-p3ld\" />\n",
       "                                                                                                                                                                <g transform=\"scale(0.8 0.8) rotate(10)\">\n",
       "                                                                                                                                                                  <use xlink:href=\"#s-25-p3ld\" />\n",
       "                                                                                                                                                                  <g transform=\"scale(0.8 0.8) rotate(10)\">\n",
       "                                                                                                                                                                    <use xlink:href=\"#s-25-p3ld\" />\n",
       "                                                                                                                                                                    <g transform=\"scale(0.8 0.8) rotate(10)\">\n",
       "                                                                                                                                                                      <use xlink:href=\"#s-25-p3ld\" />\n",
       "                                                                                                                                                                      <g transform=\"scale(0.8 0.8) rotate(10)\">\n",
       "                                                                                                                                                                        <use xlink:href=\"#s-25-p3ld\" />\n",
       "                                                                                                                                                                        <g transform=\"scale(0.8 0.8) rotate(10)\">\n",
       "                                                                                                                                                                          <use xlink:href=\"#s-25-p3ld\" />\n",
       "                                                                                                                                                                          <g transform=\"scale(0.8 0.8) rotate(10)\">\n",
       "                                                                                                                                                                            <use xlink:href=\"#s-25-p3ld\" />\n",
       "                                                                                                                                                                            <g transform=\"scale(0.8 0.8) rotate(10)\">\n",
       "                                                                                                                                                                              <use xlink:href=\"#s-25-p3ld\" />\n",
       "                                                                                                                                                                              <g transform=\"scale(0.8 0.8) rotate(10)\">\n",
       "                                                                                                                                                                                <use xlink:href=\"#s-25-p3ld\" />\n",
       "                                                                                                                                                                                <g transform=\"scale(0.8 0.8) rotate(10)\">\n",
       "                                                                                                                                                                                  <use xlink:href=\"#s-25-p3ld\" />\n",
       "                                                                                                                                                                                  <g transform=\"scale(0.8 0.8) rotate(10)\">\n",
       "                                                                                                                                                                                    <use xlink:href=\"#s-25-p3ld\" />\n",
       "                                                                                                                                                                                    <g transform=\"scale(0.8 0.8) rotate(10)\">\n",
       "                                                                                                                                                                                      <use xlink:href=\"#s-25-p3ld\" />\n",
       "                                                                                                                                                                                      <g transform=\"scale(0.8 0.8) rotate(10)\">\n",
       "                                                                                                                                                                                        <use xlink:href=\"#s-25-p3ld\" />\n",
       "                                                                                                                                                                                        <g transform=\"scale(0.8 0.8) rotate(10)\">\n",
       "                                                                                                                                                                                          <use xlink:href=\"#s-25-p3ld\" />\n",
       "                                                                                                                                                                                          <g transform=\"scale(0.8 0.8) rotate(10)\">\n",
       "                                                                                                                                                                                            <use xlink:href=\"#s-25-p3ld\" />\n",
       "                                                                                                                                                                                            <g transform=\"scale(0.8 0.8) rotate(10)\">\n",
       "                                                                                                                                                                                              <use xlink:href=\"#s-25-p3ld\" />\n",
       "                                                                                                                                                                                              <g transform=\"scale(0.8 0.8) rotate(10)\">\n",
       "                                                                                                                                                                                                <use xlink:href=\"#s-25-p3ld\" />\n",
       "                                                                                                                                                                                                <g transform=\"scale(0.8 0.8) rotate(10)\">\n",
       "                                                                                                                                                                                                  <use xlink:href=\"#s-25-p3ld\" />\n",
       "                                                                                                                                                                                                  <g transform=\"scale(0.8 0.8) rotate(10)\">\n",
       "                                                                                                                                                                                                    <use xlink:href=\"#s-25-p3ld\" />\n",
       "                                                                                                                                                                                                    <g transform=\"scale(0.8 0.8) rotate(10)\">\n",
       "                                                                                                                                                                                                      <use xlink:href=\"#s-25-p3ld\" />\n",
       "                                                                                                                                                                                                      <g transform=\"scale(0.8 0.8) rotate(10)\">\n",
       "                                                                                                                                                                                                        <use xlink:href=\"#s-25-p3ld\" />\n",
       "                                                                                                                                                                                                        <g transform=\"scale(0.8 0.8) rotate(10)\">\n",
       "                                                                                                                                                                                                          <use xlink:href=\"#s-25-p3ld\" />\n",
       "                                                                                                                                                                                                          <g transform=\"scale(0.8 0.8) rotate(10)\">\n",
       "                                                                                                                                                                                                            <use xlink:href=\"#s-25-p3ld\" />\n",
       "                                                                                                                                                                                                            <g transform=\"scale(0.8 0.8) rotate(10)\">\n",
       "                                                                                                                                                                                                              <use xlink:href=\"#s-25-p3ld\" />\n",
       "                                                                                                                                                                                                              <g transform=\"scale(0.8 0.8) rotate(10)\">\n",
       "                                                                                                                                                                                                                <use xlink:href=\"#s-25-p3ld\" />\n",
       "                                                                                                                                                                                                                <g transform=\"scale(0.8 0.8) rotate(10)\">\n",
       "                                                                                                                                                                                                                  <use xlink:href=\"#s-25-p3ld\" />\n",
       "                                                                                                                                                                                                                  <g transform=\"scale(0.8 0.8) rotate(10)\">\n",
       "                                                                                                                                                                                                                    <use xlink:href=\"#s-25-p3ld\" />\n",
       "                                                                                                                                                                                                                    <g transform=\"scale(0.8 0.8) rotate(10)\">\n",
       "                                                                                                                                                                                                                      <use xlink:href=\"#s-25-p3ld\" />\n",
       "                                                                                                                                                                                                                      <g transform=\"scale(0.8 0.8) rotate(10)\">\n",
       "                                                                                                                                                                                                                        <use xlink:href=\"#s-25-p3ld\" />\n",
       "                                                                                                                                                                                                                        <g transform=\"scale(0.8 0.8) rotate(10)\">\n",
       "                                                                                                                                                                                                                          <use xlink:href=\"#s-25-p3ld\" />\n",
       "                                                                                                                                                                                                                          <g transform=\"scale(0.8 0.8) rotate(10)\">\n",
       "                                                                                                                                                                                                                            <use xlink:href=\"#s-25-p3ld\" />\n",
       "                                                                                                                                                                                                                            <g transform=\"scale(0.8 0.8) rotate(10)\">\n",
       "                                                                                                                                                                                                                              <use xlink:href=\"#s-25-p3ld\" />\n",
       "                                                                                                                                                                                                                              <g transform=\"scale(0.8 0.8) rotate(10)\">\n",
       "                                                                                                                                                                                                                                <use xlink:href=\"#s-25-p3ld\" />\n",
       "                                                                                                                                                                                                                                <g transform=\"scale(0.8 0.8) rotate(10)\">\n",
       "                                                                                                                                                                                                                                  <use xlink:href=\"#s-25-p3ld\" />\n",
       "                                                                                                                                                                                                                                  <g transform=\"scale(0.8 0.8) rotate(10)\">\n",
       "                                                                                                                                                                                                                                    <use xlink:href=\"#s-25-p3ld\" />\n",
       "                                                                                                                                                                                                                                    <g transform=\"scale(0.8 0.8) rotate(10)\">\n",
       "                                                                                                                                                                                                                                      <use xlink:href=\"#s-25-p3ld\" />\n",
       "                                                                                                                                                                                                                                      <g transform=\"scale(0.8 0.8) rotate(10)\">\n",
       "                                                                                                                                                                                                                                        <use xlink:href=\"#s-25-p3ld\" />\n",
       "                                                                                                                                                                                                                                        <g transform=\"scale(0.8 0.8) rotate(10)\">\n",
       "                                                                                                                                                                                                                                          <use xlink:href=\"#s-25-p3ld\" />\n",
       "                                                                                                                                                                                                                                          <g transform=\"scale(0.8 0.8) rotate(10)\">\n",
       "                                                                                                                                                                                                                                            <use xlink:href=\"#s-25-p3ld\" />\n",
       "                                                                                                                                                                                                                                            <g transform=\"scale(0.8 0.8) rotate(10)\">\n",
       "                                                                                                                                                                                                                                              <use xlink:href=\"#s-25-p3ld\" />\n",
       "                                                                                                                                                                                                                                              <g transform=\"scale(0.8 0.8) rotate(10)\">\n",
       "                                                                                                                                                                                                                                                <use xlink:href=\"#s-25-p3ld\" />\n",
       "                                                                                                                                                                                                                                                <g transform=\"scale(0.8 0.8) rotate(10)\">\n",
       "                                                                                                                                                                                                                                                  <use xlink:href=\"#s-25-p3ld\" />\n",
       "                                                                                                                                                                                                                                                  <g transform=\"scale(0.8 0.8) rotate(10)\">\n",
       "                                                                                                                                                                                                                                                    <use xlink:href=\"#s-25-p3ld\" />\n",
       "                                                                                                                                                                                                                                                    <g transform=\"scale(0.8 0.8) rotate(10)\">\n",
       "                                                                                                                                                                                                                                                      <use xlink:href=\"#s-25-p3ld\" />\n",
       "                                                                                                                                                                                                                                                      <g transform=\"scale(0.8 0.8) rotate(10)\">\n",
       "                                                                                                                                                                                                                                                        <use xlink:href=\"#s-25-p3ld\" />\n",
       "                                                                                                                                                                                                                                                        <g transform=\"scale(0.8 0.8) rotate(10)\">\n",
       "                                                                                                                                                                                                                                                          <use xlink:href=\"#s-25-p3ld\" />\n",
       "                                                                                                                                                                                                                                                          <g transform=\"scale(0.8 0.8) rotate(10)\">\n",
       "                                                                                                                                                                                                                                                            <use xlink:href=\"#s-25-p3ld\" />\n",
       "                                                                                                                                                                                                                                                            <g transform=\"scale(0.8 0.8) rotate(10)\">\n",
       "                                                                                                                                                                                                                                                              <use xlink:href=\"#s-25-p3ld\" />\n",
       "                                                                                                                                                                                                                                                              <g transform=\"scale(0.8 0.8) rotate(10)\">\n",
       "                                                                                                                                                                                                                                                                <use xlink:href=\"#s-25-p3ld\" />\n",
       "                                                                                                                                                                                                                                                                <g transform=\"scale(0.8 0.8) rotate(10)\">\n",
       "                                                                                                                                                                                                                                                                  <use xlink:href=\"#s-25-p3ld\" />\n",
       "                                                                                                                                                                                                                                                                  <g transform=\"scale(0.8 0.8) rotate(10)\">\n",
       "                                                                                                                                                                                                                                                                    <use xlink:href=\"#s-25-p3ld\" />\n",
       "                                                                                                                                                                                                                                                                    <g transform=\"scale(0.8 0.8) rotate(10)\">\n",
       "                                                                                                                                                                                                                                                                      <use xlink:href=\"#s-25-p3ld\" />\n",
       "                                                                                                                                                                                                                                                                      <g transform=\"scale(0.8 0.8) rotate(10)\">\n",
       "                                                                                                                                                                                                                                                                        <use xlink:href=\"#s-25-p3ld\" />\n",
       "                                                                                                                                                                                                                                                                        <g transform=\"scale(0.8 0.8) rotate(10)\">\n",
       "                                                                                                                                                                                                                                                                          <use xlink:href=\"#s-25-p3ld\" />\n",
       "                                                                                                                                                                                                                                                                          <g transform=\"scale(0.8 0.8) rotate(10)\">\n",
       "                                                                                                                                                                                                                                                                            <use xlink:href=\"#s-25-p3ld\" />\n",
       "                                                                                                                                                                                                                                                                            <g transform=\"scale(0.8 0.8) rotate(10)\">\n",
       "                                                                                                                                                                                                                                                                              <use xlink:href=\"#s-25-p3ld\" />\n",
       "                                                                                                                                                                                                                                                                              <g transform=\"scale(0.8 0.8) rotate(10)\">\n",
       "                                                                                                                                                                                                                                                                                <use xlink:href=\"#s-25-p3ld\" />\n",
       "                                                                                                                                                                                                                                                                                <g transform=\"scale(0.8 0.8) rotate(10)\">\n",
       "                                                                                                                                                                                                                                                                                  <use xlink:href=\"#s-25-p3ld\" />\n",
       "                                                                                                                                                                                                                                                                                  <g transform=\"scale(0.8 0.8) rotate(10)\">\n",
       "                                                                                                                                                                                                                                                                                    <use xlink:href=\"#s-25-p3ld\" />\n",
       "                                                                                                                                                                                                                                                                                    <g transform=\"scale(0.8 0.8) rotate(10)\">\n",
       "                                                                                                                                                                                                                                                                                      <use xlink:href=\"#s-25-p3ld\" />\n",
       "                                                                                                                                                                                                                                                                                      <g transform=\"scale(0.8 0.8) rotate(10)\">\n",
       "                                                                                                                                                                                                                                                                                        <use xlink:href=\"#s-25-p3ld\" />\n",
       "                                                                                                                                                                                                                                                                                        <g transform=\"scale(0.8 0.8) rotate(10)\">\n",
       "                                                                                                                                                                                                                                                                                          <use xlink:href=\"#s-25-p3ld\" />\n",
       "                                                                                                                                                                                                                                                                                          <g transform=\"scale(0.8 0.8) rotate(10)\">\n",
       "                                                                                                                                                                                                                                                                                            <use xlink:href=\"#s-25-p3ld\" />\n",
       "                                                                                                                                                                                                                                                                                            <g transform=\"scale(0.8 0.8) rotate(10)\">\n",
       "                                                                                                                                                                                                                                                                                              <use xlink:href=\"#s-25-p3ld\" />\n",
       "                                                                                                                                                                                                                                                                                              <g transform=\"scale(0.8 0.8) rotate(10)\">\n",
       "                                                                                                                                                                                                                                                                                                <use xlink:href=\"#s-25-p3ld\" />\n",
       "                                                                                                                                                                                                                                                                                                <g transform=\"scale(0.8 0.8) rotate(10)\">\n",
       "                                                                                                                                                                                                                                                                                                  <use xlink:href=\"#s-25-p3ld\" />\n",
       "                                                                                                                                                                                                                                                                                                  <g transform=\"scale(0.8 0.8) rotate(10)\">\n",
       "                                                                                                                                                                                                                                                                                                    <use xlink:href=\"#s-25-p3ld\" />\n",
       "                                                                                                                                                                                                                                                                                                    <g transform=\"scale(0.8 0.8) rotate(10)\">\n",
       "                                                                                                                                                                                                                                                                                                      <use xlink:href=\"#s-25-p3ld\" />\n",
       "                                                                                                                                                                                                                                                                                                      <g transform=\"scale(0.8 0.8) rotate(10)\">\n",
       "                                                                                                                                                                                                                                                                                                        <use xlink:href=\"#s-25-p3ld\" />\n",
       "                                                                                                                                                                                                                                                                                                        <g transform=\"scale(0.8 0.8) rotate(10)\">\n",
       "                                                                                                                                                                                                                                                                                                          <use xlink:href=\"#s-25-p3ld\" />\n",
       "                                                                                                                                                                                                                                                                                                          <g transform=\"scale(0.8 0.8) rotate(10)\">\n",
       "                                                                                                                                                                                                                                                                                                            <use xlink:href=\"#s-25-p3ld\" />\n",
       "                                                                                                                                                                                                                                                                                                            <g transform=\"scale(0.8 0.8) rotate(10)\">\n",
       "                                                                                                                                                                                                                                                                                                              <use xlink:href=\"#s-25-p3ld\" />\n",
       "                                                                                                                                                                                                                                                                                                              <g transform=\"scale(0.8 0.8) rotate(10)\">\n",
       "                                                                                                                                                                                                                                                                                                                <use xlink:href=\"#s-25-p3ld\" />\n",
       "                                                                                                                                                                                                                                                                                                                <g transform=\"scale(0.8 0.8) rotate(10)\">\n",
       "                                                                                                                                                                                                                                                                                                                  <use xlink:href=\"#s-25-p3ld\" />\n",
       "                                                                                                                                                                                                                                                                                                                  <g transform=\"scale(0.8 0.8) rotate(10)\">\n",
       "                                                                                                                                                                                                                                                                                                                    <use xlink:href=\"#s-25-p3ld\" />\n",
       "                                                                                                                                                                                                                                                                                                                    <g transform=\"scale(0.8 0.8) rotate(10)\">\n",
       "                                                                                                                                                                                                                                                                                                                      <use xlink:href=\"#s-25-p3ld\" />\n",
       "                                                                                                                                                                                                                                                                                                                      <g transform=\"scale(0.8 0.8) rotate(10)\">\n",
       "                                                                                                                                                                                                                                                                                                                        <use xlink:href=\"#s-25-p3ld\" />\n",
       "                                                                                                                                                                                                                                                                                                                        <g transform=\"scale(0.8 0.8) rotate(10)\">\n",
       "                                                                                                                                                                                                                                                                                                                          <use xlink:href=\"#s-25-p3ld\" />\n",
       "                                                                                                                                                                                                                                                                                                                          <g transform=\"scale(0.8 0.8) rotate(10)\">\n",
       "                                                                                                                                                                                                                                                                                                                            <use xlink:href=\"#s-25-p3ld\" />\n",
       "                                                                                                                                                                                                                                                                                                                            <g transform=\"scale(0.8 0.8) rotate(10)\">\n",
       "                                                                                                                                                                                                                                                                                                                              <use xlink:href=\"#s-25-p3ld\" />\n",
       "                                                                                                                                                                                                                                                                                                                              <g transform=\"scale(0.8 0.8) rotate(10)\">\n",
       "                                                                                                                                                                                                                                                                                                                                <use xlink:href=\"#s-25-p3ld\" />\n",
       "                                                                                                                                                                                                                                                                                                                                <g transform=\"scale(0.8 0.8) rotate(10)\">\n",
       "                                                                                                                                                                                                                                                                                                                                  <use xlink:href=\"#s-25-p3ld\" />\n",
       "                                                                                                                                                                                                                                                                                                                                  <g transform=\"scale(0.8 0.8) rotate(10)\">\n",
       "                                                                                                                                                                                                                                                                                                                                    <use xlink:href=\"#s-25-p3ld\" />\n",
       "                                                                                                                                                                                                                                                                                                                                    <g transform=\"scale(0.8 0.8) rotate(10)\">\n",
       "                                                                                                                                                                                                                                                                                                                                      <use xlink:href=\"#s-25-p3ld\" />\n",
       "                                                                                                                                                                                                                                                                                                                                      <g transform=\"scale(0.8 0.8) rotate(10)\">\n",
       "                                                                                                                                                                                                                                                                                                                                        <use xlink:href=\"#s-25-p3ld\" />\n",
       "                                                                                                                                                                                                                                                                                                                                        <g transform=\"scale(0.8 0.8) rotate(10)\">\n",
       "                                                                                                                                                                                                                                                                                                                                          <use xlink:href=\"#s-25-p3ld\" />\n",
       "                                                                                                                                                                                                                                                                                                                                          <g transform=\"scale(0.8 0.8) rotate(10)\">\n",
       "                                                                                                                                                                                                                                                                                                                                            <use xlink:href=\"#s-25-p3ld\" />\n",
       "                                                                                                                                                                                                                                                                                                                                            <g transform=\"scale(0.8 0.8) rotate(10)\">\n",
       "                                                                                                                                                                                                                                                                                                                                              <use xlink:href=\"#s-25-p3ld\" />\n",
       "                                                                                                                                                                                                                                                                                                                                              <g transform=\"scale(0.8 0.8) rotate(10)\">\n",
       "                                                                                                                                                                                                                                                                                                                                                <use xlink:href=\"#s-25-p3ld\" />\n",
       "                                                                                                                                                                                                                                                                                                                                                <g transform=\"scale(0.8 0.8) rotate(10)\">\n",
       "                                                                                                                                                                                                                                                                                                                                                  <use xlink:href=\"#s-25-p3ld\" />\n",
       "                                                                                                                                                                                                                                                                                                                                                  <g transform=\"scale(0.8 0.8) rotate(10)\">\n",
       "                                                                                                                                                                                                                                                                                                                                                    <use xlink:href=\"#s-25-p3ld\" />\n",
       "                                                                                                                                                                                                                                                                                                                                                    <g transform=\"scale(0.8 0.8) rotate(10)\">\n",
       "                                                                                                                                                                                                                                                                                                                                                      <use xlink:href=\"#s-25-p3ld\" />\n",
       "                                                                                                                                                                                                                                                                                                                                                      <g transform=\"scale(0.8 0.8) rotate(10)\">\n",
       "                                                                                                                                                                                                                                                                                                                                                        <use xlink:href=\"#s-25-p3ld\" />\n",
       "                                                                                                                                                                                                                                                                                                                                                        <g transform=\"scale(0.8 0.8) rotate(10)\">\n",
       "                                                                                                                                                                                                                                                                                                                                                          <use xlink:href=\"#s-25-p3ld\" />\n",
       "                                                                                                                                                                                                                                                                                                                                                          <g transform=\"scale(0.8 0.8) rotate(10)\">\n",
       "                                                                                                                                                                                                                                                                                                                                                            <use xlink:href=\"#s-25-p3ld\" />\n",
       "                                                                                                                                                                                                                                                                                                                                                            <g transform=\"scale(0.8 0.8) rotate(10)\">\n",
       "                                                                                                                                                                                                                                                                                                                                                              <use xlink:href=\"#s-25-p3ld\" />\n",
       "                                                                                                                                                                                                                                                                                                                                                              <g transform=\"scale(0.8 0.8) rotate(10)\">\n",
       "                                                                                                                                                                                                                                                                                                                                                                <use xlink:href=\"#s-25-p3ld\" />\n",
       "                                                                                                                                                                                                                                                                                                                                                                <g transform=\"scale(0.8 0.8) rotate(10)\">\n",
       "                                                                                                                                                                                                                                                                                                                                                                  <use xlink:href=\"#s-25-p3ld\" />\n",
       "                                                                                                                                                                                                                                                                                                                                                                  <g transform=\"scale(0.8 0.8) rotate(10)\">\n",
       "                                                                                                                                                                                                                                                                                                                                                                    <use xlink:href=\"#s-25-p3ld\" />\n",
       "                                                                                                                                                                                                                                                                                                                                                                    <g transform=\"scale(0.8 0.8) rotate(10)\">\n",
       "                                                                                                                                                                                                                                                                                                                                                                      <use xlink:href=\"#s-25-p3ld\" />\n",
       "                                                                                                                                                                                                                                                                                                                                                                      <g transform=\"scale(0.8 0.8) rotate(10)\">\n",
       "                                                                                                                                                                                                                                                                                                                                                                        <use xlink:href=\"#s-25-p3ld\" />\n",
       "                                                                                                                                                                                                                                                                                                                                                                        <g transform=\"scale(0.8 0.8) rotate(10)\">\n",
       "                                                                                                                                                                                                                                                                                                                                                                          <use xlink:href=\"#s-25-p3ld\" />\n",
       "                                                                                                                                                                                                                                                                                                                                                                          <g transform=\"scale(0.8 0.8) rotate(10)\">\n",
       "                                                                                                                                                                                                                                                                                                                                                                            <use xlink:href=\"#s-25-p3ld\" />\n",
       "                                                                                                                                                                                                                                                                                                                                                                            <g transform=\"scale(0.8 0.8) rotate(10)\">\n",
       "                                                                                                                                                                                                                                                                                                                                                                              <use xlink:href=\"#s-25-p3ld\" />\n",
       "                                                                                                                                                                                                                                                                                                                                                                              <g transform=\"scale(0.8 0.8) rotate(10)\">\n",
       "                                                                                                                                                                                                                                                                                                                                                                                <use xlink:href=\"#s-25-p3ld\" />\n",
       "                                                                                                                                                                                                                                                                                                                                                                                <g transform=\"scale(0.8 0.8) rotate(10)\">\n",
       "                                                                                                                                                                                                                                                                                                                                                                                  <use xlink:href=\"#s-25-p3ld\" />\n",
       "                                                                                                                                                                                                                                                                                                                                                                                  <g transform=\"scale(0.8 0.8) rotate(10)\">\n",
       "                                                                                                                                                                                                                                                                                                                                                                                    <use xlink:href=\"#s-25-p3ld\" />\n",
       "                                                                                                                                                                                                                                                                                                                                                                                    <g transform=\"scale(0.8 0.8) rotate(10)\">\n",
       "                                                                                                                                                                                                                                                                                                                                                                                      <use xlink:href=\"#s-25-p3ld\" />\n",
       "                                                                                                                                                                                                                                                                                                                                                                                      <g transform=\"scale(0.8 0.8) rotate(10)\">\n",
       "                                                                                                                                                                                                                                                                                                                                                                                        <use xlink:href=\"#s-25-p3ld\" />\n",
       "                                                                                                                                                                                                                                                                                                                                                                                        <g transform=\"scale(0.8 0.8) rotate(10)\">\n",
       "                                                                                                                                                                                                                                                                                                                                                                                          <use xlink:href=\"#s-25-p3ld\" />\n",
       "                                                                                                                                                                                                                                                                                                                                                                                          <g transform=\"scale(0.8 0.8) rotate(10)\">\n",
       "                                                                                                                                                                                                                                                                                                                                                                                            <use xlink:href=\"#s-25-p3ld\" />\n",
       "                                                                                                                                                                                                                                                                                                                                                                                            <g transform=\"scale(0.8 0.8) rotate(10)\">\n",
       "                                                                                                                                                                                                                                                                                                                                                                                              <use xlink:href=\"#s-25-p3ld\" />\n",
       "                                                                                                                                                                                                                                                                                                                                                                                              <g transform=\"scale(0.8 0.8) rotate(10)\">\n",
       "                                                                                                                                                                                                                                                                                                                                                                                                <use xlink:href=\"#s-25-p3ld\" />\n",
       "                                                                                                                                                                                                                                                                                                                                                                                                <g transform=\"scale(0.8 0.8) rotate(10)\">\n",
       "                                                                                                                                                                                                                                                                                                                                                                                                  <use xlink:href=\"#s-25-p3ld\" />\n",
       "                                                                                                                                                                                                                                                                                                                                                                                                  <g transform=\"scale(0.8 0.8) rotate(10)\">\n",
       "                                                                                                                                                                                                                                                                                                                                                                                                    <use xlink:href=\"#s-25-p3ld\" />\n",
       "                                                                                                                                                                                                                                                                                                                                                                                                    <g transform=\"scale(0.8 0.8) rotate(10)\">\n",
       "                                                                                                                                                                                                                                                                                                                                                                                                      <use xlink:href=\"#s-25-p3ld\" />\n",
       "                                                                                                                                                                                                                                                                                                                                                                                                      <g transform=\"scale(0.8 0.8) rotate(10)\">\n",
       "                                                                                                                                                                                                                                                                                                                                                                                                        <use xlink:href=\"#s-25-p3ld\" />\n",
       "                                                                                                                                                                                                                                                                                                                                                                                                        <g transform=\"scale(0.8 0.8) rotate(10)\">\n",
       "                                                                                                                                                                                                                                                                                                                                                                                                          <use xlink:href=\"#s-25-p3ld\" />\n",
       "                                                                                                                                                                                                                                                                                                                                                                                                          <g transform=\"scale(0.8 0.8) rotate(10)\">\n",
       "                                                                                                                                                                                                                                                                                                                                                                                                            <use xlink:href=\"#s-25-p3ld\" />\n",
       "                                                                                                                                                                                                                                                                                                                                                                                                            <g transform=\"scale(0.8 0.8) rotate(10)\">\n",
       "                                                                                                                                                                                                                                                                                                                                                                                                              <use xlink:href=\"#s-25-p3ld\" />\n",
       "                                                                                                                                                                                                                                                                                                                                                                                                              <g transform=\"scale(0.8 0.8) rotate(10)\">\n",
       "                                                                                                                                                                                                                                                                                                                                                                                                                <use xlink:href=\"#s-25-p3ld\" />\n",
       "                                                                                                                                                                                                                                                                                                                                                                                                                <g transform=\"scale(0.8 0.8) rotate(10)\">\n",
       "                                                                                                                                                                                                                                                                                                                                                                                                                  <use xlink:href=\"#s-25-p3ld\" />\n",
       "                                                                                                                                                                                                                                                                                                                                                                                                                  <use xlink:href=\"#s-25-p3ld\" transform=\"scale(0.8 0.8) rotate(10)\" />\n",
       "                                                                                                                                                                                                                                                                                                                                                                                                                </g>\n",
       "                                                                                                                                                                                                                                                                                                                                                                                                              </g>\n",
       "                                                                                                                                                                                                                                                                                                                                                                                                            </g>\n",
       "                                                                                                                                                                                                                                                                                                                                                                                                          </g>\n",
       "                                                                                                                                                                                                                                                                                                                                                                                                        </g>\n",
       "                                                                                                                                                                                                                                                                                                                                                                                                      </g>\n",
       "                                                                                                                                                                                                                                                                                                                                                                                                    </g>\n",
       "                                                                                                                                                                                                                                                                                                                                                                                                  </g>\n",
       "                                                                                                                                                                                                                                                                                                                                                                                                </g>\n",
       "                                                                                                                                                                                                                                                                                                                                                                                              </g>\n",
       "                                                                                                                                                                                                                                                                                                                                                                                            </g>\n",
       "                                                                                                                                                                                                                                                                                                                                                                                          </g>\n",
       "                                                                                                                                                                                                                                                                                                                                                                                        </g>\n",
       "                                                                                                                                                                                                                                                                                                                                                                                      </g>\n",
       "                                                                                                                                                                                                                                                                                                                                                                                    </g>\n",
       "                                                                                                                                                                                                                                                                                                                                                                                  </g>\n",
       "                                                                                                                                                                                                                                                                                                                                                                                </g>\n",
       "                                                                                                                                                                                                                                                                                                                                                                              </g>\n",
       "                                                                                                                                                                                                                                                                                                                                                                            </g>\n",
       "                                                                                                                                                                                                                                                                                                                                                                          </g>\n",
       "                                                                                                                                                                                                                                                                                                                                                                        </g>\n",
       "                                                                                                                                                                                                                                                                                                                                                                      </g>\n",
       "                                                                                                                                                                                                                                                                                                                                                                    </g>\n",
       "                                                                                                                                                                                                                                                                                                                                                                  </g>\n",
       "                                                                                                                                                                                                                                                                                                                                                                </g>\n",
       "                                                                                                                                                                                                                                                                                                                                                              </g>\n",
       "                                                                                                                                                                                                                                                                                                                                                            </g>\n",
       "                                                                                                                                                                                                                                                                                                                                                          </g>\n",
       "                                                                                                                                                                                                                                                                                                                                                        </g>\n",
       "                                                                                                                                                                                                                                                                                                                                                      </g>\n",
       "                                                                                                                                                                                                                                                                                                                                                    </g>\n",
       "                                                                                                                                                                                                                                                                                                                                                  </g>\n",
       "                                                                                                                                                                                                                                                                                                                                                </g>\n",
       "                                                                                                                                                                                                                                                                                                                                              </g>\n",
       "                                                                                                                                                                                                                                                                                                                                            </g>\n",
       "                                                                                                                                                                                                                                                                                                                                          </g>\n",
       "                                                                                                                                                                                                                                                                                                                                        </g>\n",
       "                                                                                                                                                                                                                                                                                                                                      </g>\n",
       "                                                                                                                                                                                                                                                                                                                                    </g>\n",
       "                                                                                                                                                                                                                                                                                                                                  </g>\n",
       "                                                                                                                                                                                                                                                                                                                                </g>\n",
       "                                                                                                                                                                                                                                                                                                                              </g>\n",
       "                                                                                                                                                                                                                                                                                                                            </g>\n",
       "                                                                                                                                                                                                                                                                                                                          </g>\n",
       "                                                                                                                                                                                                                                                                                                                        </g>\n",
       "                                                                                                                                                                                                                                                                                                                      </g>\n",
       "                                                                                                                                                                                                                                                                                                                    </g>\n",
       "                                                                                                                                                                                                                                                                                                                  </g>\n",
       "                                                                                                                                                                                                                                                                                                                </g>\n",
       "                                                                                                                                                                                                                                                                                                              </g>\n",
       "                                                                                                                                                                                                                                                                                                            </g>\n",
       "                                                                                                                                                                                                                                                                                                          </g>\n",
       "                                                                                                                                                                                                                                                                                                        </g>\n",
       "                                                                                                                                                                                                                                                                                                      </g>\n",
       "                                                                                                                                                                                                                                                                                                    </g>\n",
       "                                                                                                                                                                                                                                                                                                  </g>\n",
       "                                                                                                                                                                                                                                                                                                </g>\n",
       "                                                                                                                                                                                                                                                                                              </g>\n",
       "                                                                                                                                                                                                                                                                                            </g>\n",
       "                                                                                                                                                                                                                                                                                          </g>\n",
       "                                                                                                                                                                                                                                                                                        </g>\n",
       "                                                                                                                                                                                                                                                                                      </g>\n",
       "                                                                                                                                                                                                                                                                                    </g>\n",
       "                                                                                                                                                                                                                                                                                  </g>\n",
       "                                                                                                                                                                                                                                                                                </g>\n",
       "                                                                                                                                                                                                                                                                              </g>\n",
       "                                                                                                                                                                                                                                                                            </g>\n",
       "                                                                                                                                                                                                                                                                          </g>\n",
       "                                                                                                                                                                                                                                                                        </g>\n",
       "                                                                                                                                                                                                                                                                      </g>\n",
       "                                                                                                                                                                                                                                                                    </g>\n",
       "                                                                                                                                                                                                                                                                  </g>\n",
       "                                                                                                                                                                                                                                                                </g>\n",
       "                                                                                                                                                                                                                                                              </g>\n",
       "                                                                                                                                                                                                                                                            </g>\n",
       "                                                                                                                                                                                                                                                          </g>\n",
       "                                                                                                                                                                                                                                                        </g>\n",
       "                                                                                                                                                                                                                                                      </g>\n",
       "                                                                                                                                                                                                                                                    </g>\n",
       "                                                                                                                                                                                                                                                  </g>\n",
       "                                                                                                                                                                                                                                                </g>\n",
       "                                                                                                                                                                                                                                              </g>\n",
       "                                                                                                                                                                                                                                            </g>\n",
       "                                                                                                                                                                                                                                          </g>\n",
       "                                                                                                                                                                                                                                        </g>\n",
       "                                                                                                                                                                                                                                      </g>\n",
       "                                                                                                                                                                                                                                    </g>\n",
       "                                                                                                                                                                                                                                  </g>\n",
       "                                                                                                                                                                                                                                </g>\n",
       "                                                                                                                                                                                                                              </g>\n",
       "                                                                                                                                                                                                                            </g>\n",
       "                                                                                                                                                                                                                          </g>\n",
       "                                                                                                                                                                                                                        </g>\n",
       "                                                                                                                                                                                                                      </g>\n",
       "                                                                                                                                                                                                                    </g>\n",
       "                                                                                                                                                                                                                  </g>\n",
       "                                                                                                                                                                                                                </g>\n",
       "                                                                                                                                                                                                              </g>\n",
       "                                                                                                                                                                                                            </g>\n",
       "                                                                                                                                                                                                          </g>\n",
       "                                                                                                                                                                                                        </g>\n",
       "                                                                                                                                                                                                      </g>\n",
       "                                                                                                                                                                                                    </g>\n",
       "                                                                                                                                                                                                  </g>\n",
       "                                                                                                                                                                                                </g>\n",
       "                                                                                                                                                                                              </g>\n",
       "                                                                                                                                                                                            </g>\n",
       "                                                                                                                                                                                          </g>\n",
       "                                                                                                                                                                                        </g>\n",
       "                                                                                                                                                                                      </g>\n",
       "                                                                                                                                                                                    </g>\n",
       "                                                                                                                                                                                  </g>\n",
       "                                                                                                                                                                                </g>\n",
       "                                                                                                                                                                              </g>\n",
       "                                                                                                                                                                            </g>\n",
       "                                                                                                                                                                          </g>\n",
       "                                                                                                                                                                        </g>\n",
       "                                                                                                                                                                      </g>\n",
       "                                                                                                                                                                    </g>\n",
       "                                                                                                                                                                  </g>\n",
       "                                                                                                                                                                </g>\n",
       "                                                                                                                                                              </g>\n",
       "                                                                                                                                                            </g>\n",
       "                                                                                                                                                          </g>\n",
       "                                                                                                                                                        </g>\n",
       "                                                                                                                                                      </g>\n",
       "                                                                                                                                                    </g>\n",
       "                                                                                                                                                  </g>\n",
       "                                                                                                                                                </g>\n",
       "                                                                                                                                              </g>\n",
       "                                                                                                                                            </g>\n",
       "                                                                                                                                          </g>\n",
       "                                                                                                                                        </g>\n",
       "                                                                                                                                      </g>\n",
       "                                                                                                                                    </g>\n",
       "                                                                                                                                  </g>\n",
       "                                                                                                                                </g>\n",
       "                                                                                                                              </g>\n",
       "                                                                                                                            </g>\n",
       "                                                                                                                          </g>\n",
       "                                                                                                                        </g>\n",
       "                                                                                                                      </g>\n",
       "                                                                                                                    </g>\n",
       "                                                                                                                  </g>\n",
       "                                                                                                                </g>\n",
       "                                                                                                              </g>\n",
       "                                                                                                            </g>\n",
       "                                                                                                          </g>\n",
       "                                                                                                        </g>\n",
       "                                                                                                      </g>\n",
       "                                                                                                    </g>\n",
       "                                                                                                  </g>\n",
       "                                                                                                </g>\n",
       "                                                                                              </g>\n",
       "                                                                                            </g>\n",
       "                                                                                          </g>\n",
       "                                                                                        </g>\n",
       "                                                                                      </g>\n",
       "                                                                                    </g>\n",
       "                                                                                  </g>\n",
       "                                                                                </g>\n",
       "                                                                              </g>\n",
       "                                                                            </g>\n",
       "                                                                          </g>\n",
       "                                                                        </g>\n",
       "                                                                      </g>\n",
       "                                                                    </g>\n",
       "                                                                  </g>\n",
       "                                                                </g>\n",
       "                                                              </g>\n",
       "                                                            </g>\n",
       "                                                          </g>\n",
       "                                                        </g>\n",
       "                                                      </g>\n",
       "                                                    </g>\n",
       "                                                  </g>\n",
       "                                                </g>\n",
       "                                              </g>\n",
       "                                            </g>\n",
       "                                          </g>\n",
       "                                        </g>\n",
       "                                      </g>\n",
       "                                    </g>\n",
       "                                  </g>\n",
       "                                </g>\n",
       "                              </g>\n",
       "                            </g>\n",
       "                          </g>\n",
       "                        </g>\n",
       "                      </g>\n",
       "                    </g>\n",
       "                  </g>\n",
       "                </g>\n",
       "              </g>\n",
       "            </g>\n",
       "          </g>\n",
       "        </g>\n",
       "      </g>\n",
       "    </g>\n",
       "  </g>\n",
       "</g>\n",
       "</svg>\n"
      ],
      "text/plain": [
       "<g {}>"
      ]
     },
     "execution_count": 136,
     "metadata": {},
     "output_type": "execute_result"
    }
   ],
   "source": [
    "rectangle(w=250, h=250) | repeat(200, rotate(10)|scale(0.8))"
   ]
  },
  {
   "cell_type": "markdown",
   "id": "b0b3f7d7-140a-4e79-8b1d-2a40cd6711e5",
   "metadata": {},
   "source": [
    "Can you convert that into an interactive widget?"
   ]
  },
  {
   "cell_type": "code",
   "execution_count": 137,
   "id": "104a1412-5d35-4058-9788-273e6bc55a51",
   "metadata": {
    "execution": {
     "iopub.execute_input": "2023-10-17T13:49:16.884652Z",
     "iopub.status.busy": "2023-10-17T13:49:16.884379Z",
     "iopub.status.idle": "2023-10-17T13:49:16.888817Z",
     "shell.execute_reply": "2023-10-17T13:49:16.887953Z",
     "shell.execute_reply.started": "2023-10-17T13:49:16.884626Z"
    }
   },
   "outputs": [],
   "source": [
    "def magic_squares(scale_factor):\n",
    "    return rectangle(w=250, h=250)|repeat(200, rotate(10)|scale(scale_factor))"
   ]
  },
  {
   "cell_type": "code",
   "execution_count": 138,
   "id": "4e39c8d0-e038-4457-a760-549cfab23dbd",
   "metadata": {
    "execution": {
     "iopub.execute_input": "2023-10-17T13:49:16.889965Z",
     "iopub.status.busy": "2023-10-17T13:49:16.889727Z",
     "iopub.status.idle": "2023-10-17T13:49:16.913965Z",
     "shell.execute_reply": "2023-10-17T13:49:16.913042Z",
     "shell.execute_reply.started": "2023-10-17T13:49:16.889941Z"
    }
   },
   "outputs": [
    {
     "data": {
      "application/vnd.jupyter.widget-view+json": {
       "model_id": "96f0a286f49343029e09e40cf6ad6654",
       "version_major": 2,
       "version_minor": 0
      },
      "text/plain": [
       "interactive(children=(FloatSlider(value=0.9, description='scale_factor', max=1.0, min=0.1, step=0.01), Output(…"
      ]
     },
     "metadata": {},
     "output_type": "display_data"
    },
    {
     "data": {
      "text/plain": [
       "<function __main__.magic_squares(scale_factor)>"
      ]
     },
     "execution_count": 138,
     "metadata": {},
     "output_type": "execute_result"
    }
   ],
   "source": [
    "interact(magic_squares,\n",
    "         scale_factor = FloatSlider(value=0.9, min=0.1, max=1.0, step=0.01))"
   ]
  },
  {
   "cell_type": "code",
   "execution_count": 139,
   "id": "38fa4c44-e6c5-4f92-8679-50e02076aa81",
   "metadata": {
    "execution": {
     "iopub.execute_input": "2023-10-17T13:49:16.915592Z",
     "iopub.status.busy": "2023-10-17T13:49:16.915012Z",
     "iopub.status.idle": "2023-10-17T13:49:16.920395Z",
     "shell.execute_reply": "2023-10-17T13:49:16.919605Z",
     "shell.execute_reply.started": "2023-10-17T13:49:16.915554Z"
    }
   },
   "outputs": [],
   "source": [
    "def magic_ellipse(scale_factor, n, s):\n",
    "    return ellipse(w=150, h=300)|scale(s)|repeat(n, rotate(10)|scale(scale_factor))"
   ]
  },
  {
   "cell_type": "code",
   "execution_count": 140,
   "id": "63f611e6-e3db-460d-a451-760c5c66a987",
   "metadata": {
    "execution": {
     "iopub.execute_input": "2023-10-17T13:49:16.925365Z",
     "iopub.status.busy": "2023-10-17T13:49:16.924770Z",
     "iopub.status.idle": "2023-10-17T13:49:16.952446Z",
     "shell.execute_reply": "2023-10-17T13:49:16.951632Z",
     "shell.execute_reply.started": "2023-10-17T13:49:16.925326Z"
    }
   },
   "outputs": [
    {
     "data": {
      "application/vnd.jupyter.widget-view+json": {
       "model_id": "187925eaf91c46d5a03010e314ef847d",
       "version_major": 2,
       "version_minor": 0
      },
      "text/plain": [
       "interactive(children=(FloatSlider(value=0.9, description='scale_factor', max=1.0, min=0.6, step=0.01), IntSlid…"
      ]
     },
     "metadata": {},
     "output_type": "display_data"
    },
    {
     "data": {
      "text/plain": [
       "<function __main__.magic_ellipse(scale_factor, n, s)>"
      ]
     },
     "execution_count": 140,
     "metadata": {},
     "output_type": "execute_result"
    }
   ],
   "source": [
    "interact(magic_ellipse, \n",
    "         scale_factor=FloatSlider(value=0.9, min=0.6, max=1.0, step=0.01),\n",
    "        n=IntSlider(value=100, min=1, max=150),\n",
    "        s=FloatSlider(value=0.20, min=0.01, max=1.00, step=0.01),)"
   ]
  },
  {
   "cell_type": "code",
   "execution_count": 141,
   "id": "847829f2-de29-4e5c-87cb-73cf68b29119",
   "metadata": {
    "execution": {
     "iopub.execute_input": "2023-10-17T13:49:16.953736Z",
     "iopub.status.busy": "2023-10-17T13:49:16.953489Z",
     "iopub.status.idle": "2023-10-17T13:49:16.957764Z",
     "shell.execute_reply": "2023-10-17T13:49:16.956910Z",
     "shell.execute_reply.started": "2023-10-17T13:49:16.953709Z"
    }
   },
   "outputs": [],
   "source": [
    "names = [\"Alice\", \"Bob\", \"Carol\", \"Dave\"]"
   ]
  },
  {
   "cell_type": "code",
   "execution_count": 142,
   "id": "17fe34ad-cf3c-4812-8087-27d45610944f",
   "metadata": {
    "execution": {
     "iopub.execute_input": "2023-10-17T13:49:16.958910Z",
     "iopub.status.busy": "2023-10-17T13:49:16.958610Z",
     "iopub.status.idle": "2023-10-17T13:49:16.964074Z",
     "shell.execute_reply": "2023-10-17T13:49:16.963287Z",
     "shell.execute_reply.started": "2023-10-17T13:49:16.958877Z"
    }
   },
   "outputs": [
    {
     "name": "stdout",
     "output_type": "stream",
     "text": [
      "Hello Alice\n",
      "Hello Bob\n",
      "Hello Carol\n",
      "Hello Dave\n"
     ]
    }
   ],
   "source": [
    "for name in names:\n",
    "    print(\"Hello\", name)"
   ]
  },
  {
   "cell_type": "code",
   "execution_count": 143,
   "id": "c39c2797-ee9d-4689-90a4-19f0e5a62238",
   "metadata": {
    "execution": {
     "iopub.execute_input": "2023-10-17T13:49:16.965637Z",
     "iopub.status.busy": "2023-10-17T13:49:16.965188Z",
     "iopub.status.idle": "2023-10-17T13:49:16.969731Z",
     "shell.execute_reply": "2023-10-17T13:49:16.968878Z",
     "shell.execute_reply.started": "2023-10-17T13:49:16.965604Z"
    }
   },
   "outputs": [],
   "source": [
    "names.append(\"Elly\")"
   ]
  },
  {
   "cell_type": "code",
   "execution_count": 144,
   "id": "fe74e7fb-346f-4007-9b18-3db7c156a641",
   "metadata": {
    "execution": {
     "iopub.execute_input": "2023-10-17T13:49:16.971058Z",
     "iopub.status.busy": "2023-10-17T13:49:16.970771Z",
     "iopub.status.idle": "2023-10-17T13:49:16.977100Z",
     "shell.execute_reply": "2023-10-17T13:49:16.976314Z",
     "shell.execute_reply.started": "2023-10-17T13:49:16.971029Z"
    }
   },
   "outputs": [
    {
     "data": {
      "text/plain": [
       "['Alice', 'Bob', 'Carol', 'Dave', 'Elly']"
      ]
     },
     "execution_count": 144,
     "metadata": {},
     "output_type": "execute_result"
    }
   ],
   "source": [
    "names"
   ]
  },
  {
   "cell_type": "code",
   "execution_count": 145,
   "id": "4dc08cb1-9de9-4b79-b4f1-0d2225833efa",
   "metadata": {
    "execution": {
     "iopub.execute_input": "2023-10-17T13:49:16.978472Z",
     "iopub.status.busy": "2023-10-17T13:49:16.978054Z",
     "iopub.status.idle": "2023-10-17T13:49:16.982270Z",
     "shell.execute_reply": "2023-10-17T13:49:16.981513Z",
     "shell.execute_reply.started": "2023-10-17T13:49:16.978441Z"
    }
   },
   "outputs": [],
   "source": [
    "numbers = [1, 2, 3, 4, 5]"
   ]
  },
  {
   "cell_type": "code",
   "execution_count": 146,
   "id": "587508be-c481-4be3-bf5a-f1e80be0ce78",
   "metadata": {
    "execution": {
     "iopub.execute_input": "2023-10-17T13:49:16.983714Z",
     "iopub.status.busy": "2023-10-17T13:49:16.983308Z",
     "iopub.status.idle": "2023-10-17T13:49:16.988376Z",
     "shell.execute_reply": "2023-10-17T13:49:16.987653Z",
     "shell.execute_reply.started": "2023-10-17T13:49:16.983684Z"
    }
   },
   "outputs": [],
   "source": [
    "result = []\n",
    "for n in numbers:\n",
    "    result.append(n*n)"
   ]
  },
  {
   "cell_type": "code",
   "execution_count": 147,
   "id": "378a328d-c3b6-47de-aa93-051b4ed9c12b",
   "metadata": {
    "execution": {
     "iopub.execute_input": "2023-10-17T13:49:16.989486Z",
     "iopub.status.busy": "2023-10-17T13:49:16.989213Z",
     "iopub.status.idle": "2023-10-17T13:49:16.994524Z",
     "shell.execute_reply": "2023-10-17T13:49:16.993933Z",
     "shell.execute_reply.started": "2023-10-17T13:49:16.989461Z"
    }
   },
   "outputs": [
    {
     "data": {
      "text/plain": [
       "[1, 4, 9, 16, 25]"
      ]
     },
     "execution_count": 147,
     "metadata": {},
     "output_type": "execute_result"
    }
   ],
   "source": [
    "result"
   ]
  },
  {
   "cell_type": "code",
   "execution_count": 148,
   "id": "13b989cf-ae34-4d4d-98d9-82103a220661",
   "metadata": {
    "execution": {
     "iopub.execute_input": "2023-10-17T13:49:16.995703Z",
     "iopub.status.busy": "2023-10-17T13:49:16.995470Z",
     "iopub.status.idle": "2023-10-17T13:49:17.001215Z",
     "shell.execute_reply": "2023-10-17T13:49:17.000611Z",
     "shell.execute_reply.started": "2023-10-17T13:49:16.995677Z"
    }
   },
   "outputs": [
    {
     "data": {
      "text/plain": [
       "[1, 4, 9, 16, 25]"
      ]
     },
     "execution_count": 148,
     "metadata": {},
     "output_type": "execute_result"
    }
   ],
   "source": [
    "[n*n for n in numbers]"
   ]
  },
  {
   "cell_type": "code",
   "execution_count": 149,
   "id": "c204387a-3509-4f16-967d-7f94f617db54",
   "metadata": {
    "execution": {
     "iopub.execute_input": "2023-10-17T13:49:17.002473Z",
     "iopub.status.busy": "2023-10-17T13:49:17.002245Z",
     "iopub.status.idle": "2023-10-17T13:49:17.006663Z",
     "shell.execute_reply": "2023-10-17T13:49:17.006050Z",
     "shell.execute_reply.started": "2023-10-17T13:49:17.002449Z"
    }
   },
   "outputs": [],
   "source": [
    "circles = [circle(r=r) for r in range(10, 100, 10)]"
   ]
  },
  {
   "cell_type": "code",
   "execution_count": 150,
   "id": "a12711ba-d844-46ea-b8f7-7c94ad4c0f07",
   "metadata": {
    "execution": {
     "iopub.execute_input": "2023-10-17T13:49:17.007548Z",
     "iopub.status.busy": "2023-10-17T13:49:17.007322Z",
     "iopub.status.idle": "2023-10-17T13:49:17.013579Z",
     "shell.execute_reply": "2023-10-17T13:49:17.012539Z",
     "shell.execute_reply.started": "2023-10-17T13:49:17.007523Z"
    }
   },
   "outputs": [
    {
     "data": {
      "image/svg+xml": [
       "<svg width=\"300\" height=\"300\" viewBox=\"-150 -150 300 300\" fill=\"none\" stroke=\"black\" xmlns=\"http://www.w3.org/2000/svg\" xmlns:xlink=\"http://www.w3.org/1999/xlink\">\n",
       "<g transform=\"scale(1 -1)\">\n",
       "  <g>\n",
       "    <circle cx=\"0\" cy=\"0\" r=\"10\" />\n",
       "    <circle cx=\"0\" cy=\"0\" r=\"20\" />\n",
       "    <circle cx=\"0\" cy=\"0\" r=\"30\" />\n",
       "    <circle cx=\"0\" cy=\"0\" r=\"40\" />\n",
       "    <circle cx=\"0\" cy=\"0\" r=\"50\" />\n",
       "    <circle cx=\"0\" cy=\"0\" r=\"60\" />\n",
       "    <circle cx=\"0\" cy=\"0\" r=\"70\" />\n",
       "    <circle cx=\"0\" cy=\"0\" r=\"80\" />\n",
       "    <circle cx=\"0\" cy=\"0\" r=\"90\" />\n",
       "  </g>\n",
       "</g>\n",
       "</svg>\n"
      ],
      "text/plain": [
       "<g {}>"
      ]
     },
     "execution_count": 150,
     "metadata": {},
     "output_type": "execute_result"
    }
   ],
   "source": [
    "combine(circles)"
   ]
  },
  {
   "cell_type": "code",
   "execution_count": 151,
   "id": "d514fe1e-fff4-497a-9831-df49fd7fde3a",
   "metadata": {
    "execution": {
     "iopub.execute_input": "2023-10-17T13:49:17.014919Z",
     "iopub.status.busy": "2023-10-17T13:49:17.014492Z",
     "iopub.status.idle": "2023-10-17T13:49:17.019665Z",
     "shell.execute_reply": "2023-10-17T13:49:17.018903Z",
     "shell.execute_reply.started": "2023-10-17T13:49:17.014893Z"
    }
   },
   "outputs": [
    {
     "data": {
      "text/plain": [
       "29.29376088736861"
      ]
     },
     "execution_count": 151,
     "metadata": {},
     "output_type": "execute_result"
    }
   ],
   "source": [
    "random(42)"
   ]
  },
  {
   "cell_type": "code",
   "execution_count": 152,
   "id": "3a17c42f-4e9d-4158-9136-d1a1aac2d2a5",
   "metadata": {
    "execution": {
     "iopub.execute_input": "2023-10-17T13:49:17.020887Z",
     "iopub.status.busy": "2023-10-17T13:49:17.020655Z",
     "iopub.status.idle": "2023-10-17T13:49:17.025782Z",
     "shell.execute_reply": "2023-10-17T13:49:17.025027Z",
     "shell.execute_reply.started": "2023-10-17T13:49:17.020862Z"
    }
   },
   "outputs": [],
   "source": [
    "def random_circles(r, n):\n",
    "    shapes = [circle(r=random(r)) for i in range(n)]\n",
    "    return combine(shapes)"
   ]
  },
  {
   "cell_type": "code",
   "execution_count": 153,
   "id": "562b312b-622f-4e5e-afa2-202027d4f97e",
   "metadata": {
    "execution": {
     "iopub.execute_input": "2023-10-17T13:49:17.027064Z",
     "iopub.status.busy": "2023-10-17T13:49:17.026832Z",
     "iopub.status.idle": "2023-10-17T13:49:17.032831Z",
     "shell.execute_reply": "2023-10-17T13:49:17.032194Z",
     "shell.execute_reply.started": "2023-10-17T13:49:17.027039Z"
    },
    "scrolled": true
   },
   "outputs": [
    {
     "data": {
      "image/svg+xml": [
       "<svg width=\"300\" height=\"300\" viewBox=\"-150 -150 300 300\" fill=\"none\" stroke=\"black\" xmlns=\"http://www.w3.org/2000/svg\" xmlns:xlink=\"http://www.w3.org/1999/xlink\">\n",
       "<g transform=\"scale(1 -1)\">\n",
       "  <g>\n",
       "    <circle cx=\"0\" cy=\"0\" r=\"10.42771135113173\" />\n",
       "    <circle cx=\"0\" cy=\"0\" r=\"149.21001569247002\" />\n",
       "    <circle cx=\"0\" cy=\"0\" r=\"10.080829546753394\" />\n",
       "    <circle cx=\"0\" cy=\"0\" r=\"53.32150261033841\" />\n",
       "    <circle cx=\"0\" cy=\"0\" r=\"104.22851765436288\" />\n",
       "    <circle cx=\"0\" cy=\"0\" r=\"11.039932247397772\" />\n",
       "    <circle cx=\"0\" cy=\"0\" r=\"38.017603369687286\" />\n",
       "    <circle cx=\"0\" cy=\"0\" r=\"82.76947178226654\" />\n",
       "    <circle cx=\"0\" cy=\"0\" r=\"73.53417192764593\" />\n",
       "    <circle cx=\"0\" cy=\"0\" r=\"20.78873327667704\" />\n",
       "    <circle cx=\"0\" cy=\"0\" r=\"117.93287280362887\" />\n",
       "    <circle cx=\"0\" cy=\"0\" r=\"83.93759261598257\" />\n",
       "    <circle cx=\"0\" cy=\"0\" r=\"95.2051269187838\" />\n",
       "    <circle cx=\"0\" cy=\"0\" r=\"118.03231093168972\" />\n",
       "    <circle cx=\"0\" cy=\"0\" r=\"38.54283825014859\" />\n",
       "    <circle cx=\"0\" cy=\"0\" r=\"42.80033354593535\" />\n",
       "    <circle cx=\"0\" cy=\"0\" r=\"139.5348201344961\" />\n",
       "    <circle cx=\"0\" cy=\"0\" r=\"42.17774312716387\" />\n",
       "    <circle cx=\"0\" cy=\"0\" r=\"74.98282517610431\" />\n",
       "    <circle cx=\"0\" cy=\"0\" r=\"23.07635742614028\" />\n",
       "    <circle cx=\"0\" cy=\"0\" r=\"7.402728689365362\" />\n",
       "    <circle cx=\"0\" cy=\"0\" r=\"41.536161088114696\" />\n",
       "    <circle cx=\"0\" cy=\"0\" r=\"60.1238249854458\" />\n",
       "    <circle cx=\"0\" cy=\"0\" r=\"44.83856007284992\" />\n",
       "    <circle cx=\"0\" cy=\"0\" r=\"43.21351437457769\" />\n",
       "    <circle cx=\"0\" cy=\"0\" r=\"125.47962690780727\" />\n",
       "    <circle cx=\"0\" cy=\"0\" r=\"8.609307852757848\" />\n",
       "    <circle cx=\"0\" cy=\"0\" r=\"104.28677068632794\" />\n",
       "    <circle cx=\"0\" cy=\"0\" r=\"40.60633755768587\" />\n",
       "    <circle cx=\"0\" cy=\"0\" r=\"91.62736015043933\" />\n",
       "  </g>\n",
       "</g>\n",
       "</svg>\n"
      ],
      "text/plain": [
       "<g {}>"
      ]
     },
     "execution_count": 153,
     "metadata": {},
     "output_type": "execute_result"
    }
   ],
   "source": [
    "random_circles(150, 30)"
   ]
  },
  {
   "cell_type": "markdown",
   "id": "35d4b90a-30dd-4d88-ad5f-24cd2e5e4b64",
   "metadata": {},
   "source": [
    "# Session 4, 06-10-2023"
   ]
  },
  {
   "cell_type": "code",
   "execution_count": 154,
   "id": "4abee8c5-2685-4eb9-b81d-c14f16e2020a",
   "metadata": {
    "execution": {
     "iopub.execute_input": "2023-10-17T13:49:17.034230Z",
     "iopub.status.busy": "2023-10-17T13:49:17.033995Z",
     "iopub.status.idle": "2023-10-17T13:49:17.037297Z",
     "shell.execute_reply": "2023-10-17T13:49:17.036688Z",
     "shell.execute_reply.started": "2023-10-17T13:49:17.034205Z"
    }
   },
   "outputs": [],
   "source": [
    "from wizard import *"
   ]
  },
  {
   "cell_type": "code",
   "execution_count": 155,
   "id": "8dd5d86d-ea01-44cd-9113-f3f75d0be3be",
   "metadata": {
    "execution": {
     "iopub.execute_input": "2023-10-17T13:49:17.038440Z",
     "iopub.status.busy": "2023-10-17T13:49:17.038216Z",
     "iopub.status.idle": "2023-10-17T13:49:17.043428Z",
     "shell.execute_reply": "2023-10-17T13:49:17.042728Z",
     "shell.execute_reply.started": "2023-10-17T13:49:17.038415Z"
    }
   },
   "outputs": [
    {
     "data": {
      "image/svg+xml": [
       "<svg width=\"300\" height=\"300\" viewBox=\"-150 -150 300 300\" fill=\"none\" stroke=\"black\" xmlns=\"http://www.w3.org/2000/svg\" xmlns:xlink=\"http://www.w3.org/1999/xlink\">\n",
       "<g transform=\"scale(1 -1)\">\n",
       "  <circle cx=\"0\" cy=\"0\" r=\"100\" />\n",
       "</g>\n",
       "</svg>\n"
      ],
      "text/plain": [
       "<circle {'cx': 0, 'cy': 0, 'r': 100}>"
      ]
     },
     "execution_count": 155,
     "metadata": {},
     "output_type": "execute_result"
    }
   ],
   "source": [
    "circle()"
   ]
  },
  {
   "cell_type": "code",
   "execution_count": 156,
   "id": "c52b382c-e7e2-42c4-82c3-929e0e69f286",
   "metadata": {
    "execution": {
     "iopub.execute_input": "2023-10-17T13:49:17.044606Z",
     "iopub.status.busy": "2023-10-17T13:49:17.044351Z",
     "iopub.status.idle": "2023-10-17T13:49:17.050397Z",
     "shell.execute_reply": "2023-10-17T13:49:17.049583Z",
     "shell.execute_reply.started": "2023-10-17T13:49:17.044550Z"
    }
   },
   "outputs": [
    {
     "data": {
      "image/svg+xml": [
       "<svg width=\"300\" height=\"300\" viewBox=\"-150 -150 300 300\" fill=\"none\" stroke=\"black\" xmlns=\"http://www.w3.org/2000/svg\" xmlns:xlink=\"http://www.w3.org/1999/xlink\">\n",
       "<g transform=\"scale(1 -1)\">\n",
       "  <g>\n",
       "    <rect x=\"-99.01825845067944\" y=\"-99.01825845067944\" width=\"198.03651690135888\" height=\"198.03651690135888\" />\n",
       "    <rect x=\"-7.208173777578056\" y=\"-7.208173777578056\" width=\"14.416347555156111\" height=\"14.416347555156111\" />\n",
       "    <rect x=\"-20.859945424977973\" y=\"-20.859945424977973\" width=\"41.719890849955945\" height=\"41.719890849955945\" />\n",
       "    <rect x=\"-54.16063556458405\" y=\"-54.16063556458405\" width=\"108.3212711291681\" height=\"108.3212711291681\" />\n",
       "    <rect x=\"-17.150420331514315\" y=\"-17.150420331514315\" width=\"34.30084066302863\" height=\"34.30084066302863\" />\n",
       "    <rect x=\"-12.472182722903652\" y=\"-12.472182722903652\" width=\"24.944365445807303\" height=\"24.944365445807303\" />\n",
       "    <rect x=\"-101.1582333472551\" y=\"-101.1582333472551\" width=\"202.3164666945102\" height=\"202.3164666945102\" />\n",
       "    <rect x=\"-9.826174553574763\" y=\"-9.826174553574763\" width=\"19.652349107149526\" height=\"19.652349107149526\" />\n",
       "    <rect x=\"-95.46629641546888\" y=\"-95.46629641546888\" width=\"190.93259283093775\" height=\"190.93259283093775\" />\n",
       "    <rect x=\"-19.585006882704175\" y=\"-19.585006882704175\" width=\"39.17001376540835\" height=\"39.17001376540835\" />\n",
       "    <rect x=\"-117.26061860999384\" y=\"-117.26061860999384\" width=\"234.52123721998768\" height=\"234.52123721998768\" />\n",
       "    <rect x=\"-98.25921750817278\" y=\"-98.25921750817278\" width=\"196.51843501634556\" height=\"196.51843501634556\" />\n",
       "    <rect x=\"-99.9337522343409\" y=\"-99.9337522343409\" width=\"199.8675044686818\" height=\"199.8675044686818\" />\n",
       "    <rect x=\"-45.88253455661943\" y=\"-45.88253455661943\" width=\"91.76506911323887\" height=\"91.76506911323887\" />\n",
       "    <rect x=\"-49.19754048788169\" y=\"-49.19754048788169\" width=\"98.39508097576338\" height=\"98.39508097576338\" />\n",
       "  </g>\n",
       "</g>\n",
       "</svg>\n"
      ],
      "text/plain": [
       "<g {}>"
      ]
     },
     "execution_count": 156,
     "metadata": {},
     "output_type": "execute_result"
    }
   ],
   "source": [
    "random_squares()"
   ]
  },
  {
   "cell_type": "code",
   "execution_count": 157,
   "id": "235aa052-7ee0-479e-93ab-d10ca8ded437",
   "metadata": {
    "execution": {
     "iopub.execute_input": "2023-10-17T13:49:17.051743Z",
     "iopub.status.busy": "2023-10-17T13:49:17.051466Z",
     "iopub.status.idle": "2023-10-17T13:49:17.077563Z",
     "shell.execute_reply": "2023-10-17T13:49:17.076848Z",
     "shell.execute_reply.started": "2023-10-17T13:49:17.051714Z"
    }
   },
   "outputs": [
    {
     "data": {
      "image/svg+xml": [
       "<svg width=\"300\" height=\"300\" viewBox=\"-150 -150 300 300\" fill=\"none\" stroke=\"black\" xmlns=\"http://www.w3.org/2000/svg\" xmlns:xlink=\"http://www.w3.org/1999/xlink\">\n",
       "<g transform=\"scale(1 -1)\">\n",
       "  <g>\n",
       "    <g transform=\"translate(0 75) scale(1 0.5)\">\n",
       "      <g transform=\"translate(-75 0) scale(0.5 1)\">\n",
       "        <g transform=\"translate(0 75) scale(1 0.5)\">\n",
       "          <g transform=\"translate(-75 0) scale(0.5 1)\">\n",
       "            <g transform=\"translate(0 75) scale(1 0.5)\">\n",
       "              <g transform=\"translate(-75 0) scale(0.5 1)\">\n",
       "                <rect x=\"-52.57635832445655\" y=\"-52.57635832445655\" width=\"105.1527166489131\" height=\"105.1527166489131\" />\n",
       "                <rect x=\"-24.048666303029833\" y=\"-24.048666303029833\" width=\"48.097332606059666\" height=\"48.097332606059666\" />\n",
       "                <rect x=\"-43.500298401252465\" y=\"-43.500298401252465\" width=\"87.00059680250493\" height=\"87.00059680250493\" />\n",
       "                <rect x=\"-85.92898799976473\" y=\"-85.92898799976473\" width=\"171.85797599952946\" height=\"171.85797599952946\" />\n",
       "                <rect x=\"-58.53965032808693\" y=\"-58.53965032808693\" width=\"117.07930065617386\" height=\"117.07930065617386\" />\n",
       "                <rect x=\"-86.20749782008853\" y=\"-86.20749782008853\" width=\"172.41499564017707\" height=\"172.41499564017707\" />\n",
       "                <rect x=\"-73.6406956862501\" y=\"-73.6406956862501\" width=\"147.2813913725002\" height=\"147.2813913725002\" />\n",
       "                <rect x=\"-68.95171946076526\" y=\"-68.95171946076526\" width=\"137.90343892153052\" height=\"137.90343892153052\" />\n",
       "                <rect x=\"-53.9911938000025\" y=\"-53.9911938000025\" width=\"107.982387600005\" height=\"107.982387600005\" />\n",
       "                <rect x=\"-112.69185018422583\" y=\"-112.69185018422583\" width=\"225.38370036845166\" height=\"225.38370036845166\" />\n",
       "                <rect x=\"-35.86083259667114\" y=\"-35.86083259667114\" width=\"71.72166519334228\" height=\"71.72166519334228\" />\n",
       "                <rect x=\"-55.544519270764745\" y=\"-55.544519270764745\" width=\"111.08903854152949\" height=\"111.08903854152949\" />\n",
       "                <rect x=\"-74.61379085979189\" y=\"-74.61379085979189\" width=\"149.22758171958378\" height=\"149.22758171958378\" />\n",
       "                <rect x=\"-45.957305606697005\" y=\"-45.957305606697005\" width=\"91.91461121339401\" height=\"91.91461121339401\" />\n",
       "                <rect x=\"-39.879787795223834\" y=\"-39.879787795223834\" width=\"79.75957559044767\" height=\"79.75957559044767\" />\n",
       "              </g>\n",
       "              <g transform=\"translate(75 0) scale(0.5 1)\">\n",
       "                <rect x=\"-30.541612694185925\" y=\"-30.541612694185925\" width=\"61.08322538837185\" height=\"61.08322538837185\" />\n",
       "                <rect x=\"-54.68613526982853\" y=\"-54.68613526982853\" width=\"109.37227053965707\" height=\"109.37227053965707\" />\n",
       "                <rect x=\"-27.99584922169934\" y=\"-27.99584922169934\" width=\"55.99169844339868\" height=\"55.99169844339868\" />\n",
       "                <rect x=\"-89.59404901878091\" y=\"-89.59404901878091\" width=\"179.18809803756182\" height=\"179.18809803756182\" />\n",
       "                <rect x=\"-107.52898199384394\" y=\"-107.52898199384394\" width=\"215.05796398768788\" height=\"215.05796398768788\" />\n",
       "                <rect x=\"-49.89493118210064\" y=\"-49.89493118210064\" width=\"99.78986236420128\" height=\"99.78986236420128\" />\n",
       "                <rect x=\"-16.507633809580465\" y=\"-16.507633809580465\" width=\"33.01526761916093\" height=\"33.01526761916093\" />\n",
       "                <rect x=\"-58.20057515501759\" y=\"-58.20057515501759\" width=\"116.40115031003518\" height=\"116.40115031003518\" />\n",
       "                <rect x=\"-53.59723114601715\" y=\"-53.59723114601715\" width=\"107.1944622920343\" height=\"107.1944622920343\" />\n",
       "                <rect x=\"-46.16235169458453\" y=\"-46.16235169458453\" width=\"92.32470338916906\" height=\"92.32470338916906\" />\n",
       "                <rect x=\"-86.59700395021298\" y=\"-86.59700395021298\" width=\"173.19400790042596\" height=\"173.19400790042596\" />\n",
       "                <rect x=\"-20.099415364232957\" y=\"-20.099415364232957\" width=\"40.198830728465914\" height=\"40.198830728465914\" />\n",
       "                <rect x=\"-84.26848201691658\" y=\"-84.26848201691658\" width=\"168.53696403383316\" height=\"168.53696403383316\" />\n",
       "                <rect x=\"-50.863108347135295\" y=\"-50.863108347135295\" width=\"101.72621669427059\" height=\"101.72621669427059\" />\n",
       "                <rect x=\"-50.24002920374397\" y=\"-50.24002920374397\" width=\"100.48005840748795\" height=\"100.48005840748795\" />\n",
       "              </g>\n",
       "            </g>\n",
       "            <g transform=\"translate(0 -75) scale(1 0.5)\">\n",
       "              <g transform=\"translate(-75 0) scale(0.5 1)\">\n",
       "                <rect x=\"-39.79580725194877\" y=\"-39.79580725194877\" width=\"79.59161450389755\" height=\"79.59161450389755\" />\n",
       "                <rect x=\"-41.230614541391155\" y=\"-41.230614541391155\" width=\"82.46122908278231\" height=\"82.46122908278231\" />\n",
       "                <rect x=\"-90.16632042850104\" y=\"-90.16632042850104\" width=\"180.33264085700208\" height=\"180.33264085700208\" />\n",
       "                <rect x=\"-64.15430139029274\" y=\"-64.15430139029274\" width=\"128.3086027805855\" height=\"128.3086027805855\" />\n",
       "                <rect x=\"-24.336759161607684\" y=\"-24.336759161607684\" width=\"48.67351832321537\" height=\"48.67351832321537\" />\n",
       "                <rect x=\"-86.59725561109364\" y=\"-86.59725561109364\" width=\"173.1945112221873\" height=\"173.1945112221873\" />\n",
       "                <rect x=\"-10.707000294115545\" y=\"-10.707000294115545\" width=\"21.41400058823109\" height=\"21.41400058823109\" />\n",
       "                <rect x=\"-113.70091173838426\" y=\"-113.70091173838426\" width=\"227.40182347676853\" height=\"227.40182347676853\" />\n",
       "                <rect x=\"-69.77810064790135\" y=\"-69.77810064790135\" width=\"139.5562012958027\" height=\"139.5562012958027\" />\n",
       "                <rect x=\"-73.10033798916892\" y=\"-73.10033798916892\" width=\"146.20067597833784\" height=\"146.20067597833784\" />\n",
       "                <rect x=\"-101.8378762348375\" y=\"-101.8378762348375\" width=\"203.675752469675\" height=\"203.675752469675\" />\n",
       "                <rect x=\"-112.35583529770992\" y=\"-112.35583529770992\" width=\"224.71167059541983\" height=\"224.71167059541983\" />\n",
       "                <rect x=\"-44.992268968295555\" y=\"-44.992268968295555\" width=\"89.98453793659111\" height=\"89.98453793659111\" />\n",
       "                <rect x=\"-9.96463873649836\" y=\"-9.96463873649836\" width=\"19.92927747299672\" height=\"19.92927747299672\" />\n",
       "                <rect x=\"-44.020792963828924\" y=\"-44.020792963828924\" width=\"88.04158592765785\" height=\"88.04158592765785\" />\n",
       "              </g>\n",
       "              <g transform=\"translate(75 0) scale(0.5 1)\">\n",
       "                <rect x=\"-108.9179802908153\" y=\"-108.9179802908153\" width=\"217.8359605816306\" height=\"217.8359605816306\" />\n",
       "                <rect x=\"-98.53253420890307\" y=\"-98.53253420890307\" width=\"197.06506841780615\" height=\"197.06506841780615\" />\n",
       "                <rect x=\"-32.85391495287528\" y=\"-32.85391495287528\" width=\"65.70782990575056\" height=\"65.70782990575056\" />\n",
       "                <rect x=\"-8.751864761177744\" y=\"-8.751864761177744\" width=\"17.50372952235549\" height=\"17.50372952235549\" />\n",
       "                <rect x=\"-93.14896143701436\" y=\"-93.14896143701436\" width=\"186.29792287402873\" height=\"186.29792287402873\" />\n",
       "                <rect x=\"-79.20386502813942\" y=\"-79.20386502813942\" width=\"158.40773005627884\" height=\"158.40773005627884\" />\n",
       "                <rect x=\"-48.03593261468685\" y=\"-48.03593261468685\" width=\"96.0718652293737\" height=\"96.0718652293737\" />\n",
       "                <rect x=\"-101.7466024649148\" y=\"-101.7466024649148\" width=\"203.4932049298296\" height=\"203.4932049298296\" />\n",
       "                <rect x=\"-90.06742970805094\" y=\"-90.06742970805094\" width=\"180.13485941610188\" height=\"180.13485941610188\" />\n",
       "                <rect x=\"-58.212431443125034\" y=\"-58.212431443125034\" width=\"116.42486288625007\" height=\"116.42486288625007\" />\n",
       "                <rect x=\"-27.904746389609837\" y=\"-27.904746389609837\" width=\"55.809492779219674\" height=\"55.809492779219674\" />\n",
       "                <rect x=\"-100.47348920505412\" y=\"-100.47348920505412\" width=\"200.94697841010824\" height=\"200.94697841010824\" />\n",
       "                <rect x=\"-67.08025138625894\" y=\"-67.08025138625894\" width=\"134.16050277251787\" height=\"134.16050277251787\" />\n",
       "                <rect x=\"-30.077151471874814\" y=\"-30.077151471874814\" width=\"60.15430294374963\" height=\"60.15430294374963\" />\n",
       "                <rect x=\"-115.15862216529601\" y=\"-115.15862216529601\" width=\"230.31724433059202\" height=\"230.31724433059202\" />\n",
       "              </g>\n",
       "            </g>\n",
       "          </g>\n",
       "          <g transform=\"translate(75 0) scale(0.5 1)\">\n",
       "            <g transform=\"translate(0 75) scale(1 0.5)\">\n",
       "              <g transform=\"translate(-75 0) scale(0.5 1)\">\n",
       "                <rect x=\"-120.40223385084845\" y=\"-120.40223385084845\" width=\"240.8044677016969\" height=\"240.8044677016969\" />\n",
       "                <rect x=\"-39.37557157690913\" y=\"-39.37557157690913\" width=\"78.75114315381826\" height=\"78.75114315381826\" />\n",
       "                <rect x=\"-123.29461525921974\" y=\"-123.29461525921974\" width=\"246.58923051843948\" height=\"246.58923051843948\" />\n",
       "                <rect x=\"-5.152901945107605\" y=\"-5.152901945107605\" width=\"10.30580389021521\" height=\"10.30580389021521\" />\n",
       "                <rect x=\"-104.13122676656288\" y=\"-104.13122676656288\" width=\"208.26245353312575\" height=\"208.26245353312575\" />\n",
       "                <rect x=\"-115.63501090271481\" y=\"-115.63501090271481\" width=\"231.27002180542962\" height=\"231.27002180542962\" />\n",
       "                <rect x=\"-45.07238261384644\" y=\"-45.07238261384644\" width=\"90.14476522769289\" height=\"90.14476522769289\" />\n",
       "                <rect x=\"-9.368558275244757\" y=\"-9.368558275244757\" width=\"18.737116550489514\" height=\"18.737116550489514\" />\n",
       "                <rect x=\"-59.603892792747\" y=\"-59.603892792747\" width=\"119.207785585494\" height=\"119.207785585494\" />\n",
       "                <rect x=\"-62.77073719840514\" y=\"-62.77073719840514\" width=\"125.54147439681029\" height=\"125.54147439681029\" />\n",
       "                <rect x=\"-99.34734371730559\" y=\"-99.34734371730559\" width=\"198.69468743461118\" height=\"198.69468743461118\" />\n",
       "                <rect x=\"-110.64494472844802\" y=\"-110.64494472844802\" width=\"221.28988945689605\" height=\"221.28988945689605\" />\n",
       "                <rect x=\"-96.46539089727057\" y=\"-96.46539089727057\" width=\"192.93078179454113\" height=\"192.93078179454113\" />\n",
       "                <rect x=\"-37.65681126185656\" y=\"-37.65681126185656\" width=\"75.31362252371312\" height=\"75.31362252371312\" />\n",
       "                <rect x=\"-28.11939303271717\" y=\"-28.11939303271717\" width=\"56.23878606543434\" height=\"56.23878606543434\" />\n",
       "              </g>\n",
       "              <g transform=\"translate(75 0) scale(0.5 1)\">\n",
       "                <rect x=\"-122.08689428953616\" y=\"-122.08689428953616\" width=\"244.17378857907232\" height=\"244.17378857907232\" />\n",
       "                <rect x=\"-111.49562328389949\" y=\"-111.49562328389949\" width=\"222.99124656779898\" height=\"222.99124656779898\" />\n",
       "                <rect x=\"-28.08849339964277\" y=\"-28.08849339964277\" width=\"56.17698679928554\" height=\"56.17698679928554\" />\n",
       "                <rect x=\"-13.682778959190637\" y=\"-13.682778959190637\" width=\"27.365557918381274\" height=\"27.365557918381274\" />\n",
       "                <rect x=\"-62.47759556129702\" y=\"-62.47759556129702\" width=\"124.95519112259404\" height=\"124.95519112259404\" />\n",
       "                <rect x=\"-76.9068553910585\" y=\"-76.9068553910585\" width=\"153.813710782117\" height=\"153.813710782117\" />\n",
       "                <rect x=\"-111.404420277279\" y=\"-111.404420277279\" width=\"222.808840554558\" height=\"222.808840554558\" />\n",
       "                <rect x=\"-70.06985787109939\" y=\"-70.06985787109939\" width=\"140.13971574219877\" height=\"140.13971574219877\" />\n",
       "                <rect x=\"-105.36243372419804\" y=\"-105.36243372419804\" width=\"210.72486744839608\" height=\"210.72486744839608\" />\n",
       "                <rect x=\"-110.45826654853714\" y=\"-110.45826654853714\" width=\"220.91653309707428\" height=\"220.91653309707428\" />\n",
       "                <rect x=\"-0.8488504589262286\" y=\"-0.8488504589262286\" width=\"1.6977009178524571\" height=\"1.6977009178524571\" />\n",
       "                <rect x=\"-104.62048790664106\" y=\"-104.62048790664106\" width=\"209.24097581328212\" height=\"209.24097581328212\" />\n",
       "                <rect x=\"-38.04638969613697\" y=\"-38.04638969613697\" width=\"76.09277939227394\" height=\"76.09277939227394\" />\n",
       "                <rect x=\"-80.38908300722048\" y=\"-80.38908300722048\" width=\"160.77816601444096\" height=\"160.77816601444096\" />\n",
       "                <rect x=\"-34.75723388058806\" y=\"-34.75723388058806\" width=\"69.51446776117612\" height=\"69.51446776117612\" />\n",
       "              </g>\n",
       "            </g>\n",
       "            <g transform=\"translate(0 -75) scale(1 0.5)\">\n",
       "              <g transform=\"translate(-75 0) scale(0.5 1)\">\n",
       "                <rect x=\"-57.319640072244454\" y=\"-57.319640072244454\" width=\"114.63928014448891\" height=\"114.63928014448891\" />\n",
       "                <rect x=\"-112.83880999714414\" y=\"-112.83880999714414\" width=\"225.67761999428828\" height=\"225.67761999428828\" />\n",
       "                <rect x=\"-83.80835251804437\" y=\"-83.80835251804437\" width=\"167.61670503608875\" height=\"167.61670503608875\" />\n",
       "                <rect x=\"-26.781962786901563\" y=\"-26.781962786901563\" width=\"53.563925573803125\" height=\"53.563925573803125\" />\n",
       "                <rect x=\"-117.54741714799493\" y=\"-117.54741714799493\" width=\"235.09483429598987\" height=\"235.09483429598987\" />\n",
       "                <rect x=\"-12.165638492738148\" y=\"-12.165638492738148\" width=\"24.331276985476297\" height=\"24.331276985476297\" />\n",
       "                <rect x=\"-2.4414841458989396\" y=\"-2.4414841458989396\" width=\"4.882968291797879\" height=\"4.882968291797879\" />\n",
       "                <rect x=\"-98.95091240657632\" y=\"-98.95091240657632\" width=\"197.90182481315264\" height=\"197.90182481315264\" />\n",
       "                <rect x=\"-51.02237027710875\" y=\"-51.02237027710875\" width=\"102.0447405542175\" height=\"102.0447405542175\" />\n",
       "                <rect x=\"-32.87377055481574\" y=\"-32.87377055481574\" width=\"65.74754110963148\" height=\"65.74754110963148\" />\n",
       "                <rect x=\"-60.93217973063111\" y=\"-60.93217973063111\" width=\"121.86435946126223\" height=\"121.86435946126223\" />\n",
       "                <rect x=\"-120.88126873402062\" y=\"-120.88126873402062\" width=\"241.76253746804124\" height=\"241.76253746804124\" />\n",
       "                <rect x=\"-78.61808202705932\" y=\"-78.61808202705932\" width=\"157.23616405411863\" height=\"157.23616405411863\" />\n",
       "                <rect x=\"-95.9212803090847\" y=\"-95.9212803090847\" width=\"191.8425606181694\" height=\"191.8425606181694\" />\n",
       "                <rect x=\"-100.68986928647594\" y=\"-100.68986928647594\" width=\"201.37973857295188\" height=\"201.37973857295188\" />\n",
       "              </g>\n",
       "              <g transform=\"translate(75 0) scale(0.5 1)\">\n",
       "                <rect x=\"-70.02483877966846\" y=\"-70.02483877966846\" width=\"140.0496775593369\" height=\"140.0496775593369\" />\n",
       "                <rect x=\"-49.952415451995705\" y=\"-49.952415451995705\" width=\"99.90483090399141\" height=\"99.90483090399141\" />\n",
       "                <rect x=\"-75.54721662074583\" y=\"-75.54721662074583\" width=\"151.09443324149166\" height=\"151.09443324149166\" />\n",
       "                <rect x=\"-58.613271050684574\" y=\"-58.613271050684574\" width=\"117.22654210136915\" height=\"117.22654210136915\" />\n",
       "                <rect x=\"-74.20039074998002\" y=\"-74.20039074998002\" width=\"148.40078149996003\" height=\"148.40078149996003\" />\n",
       "                <rect x=\"-56.51083707382491\" y=\"-56.51083707382491\" width=\"113.02167414764982\" height=\"113.02167414764982\" />\n",
       "                <rect x=\"-63.771078832852794\" y=\"-63.771078832852794\" width=\"127.54215766570559\" height=\"127.54215766570559\" />\n",
       "                <rect x=\"-35.78271423146227\" y=\"-35.78271423146227\" width=\"71.56542846292454\" height=\"71.56542846292454\" />\n",
       "                <rect x=\"-118.3772451820979\" y=\"-118.3772451820979\" width=\"236.7544903641958\" height=\"236.7544903641958\" />\n",
       "                <rect x=\"-79.51455319195945\" y=\"-79.51455319195945\" width=\"159.0291063839189\" height=\"159.0291063839189\" />\n",
       "                <rect x=\"-91.83746939200952\" y=\"-91.83746939200952\" width=\"183.67493878401905\" height=\"183.67493878401905\" />\n",
       "                <rect x=\"-20.109024876873423\" y=\"-20.109024876873423\" width=\"40.21804975374685\" height=\"40.21804975374685\" />\n",
       "                <rect x=\"-46.12513308542367\" y=\"-46.12513308542367\" width=\"92.25026617084734\" height=\"92.25026617084734\" />\n",
       "                <rect x=\"-90.92003651664162\" y=\"-90.92003651664162\" width=\"181.84007303328323\" height=\"181.84007303328323\" />\n",
       "                <rect x=\"-100.93695874312492\" y=\"-100.93695874312492\" width=\"201.87391748624984\" height=\"201.87391748624984\" />\n",
       "              </g>\n",
       "            </g>\n",
       "          </g>\n",
       "        </g>\n",
       "        <g transform=\"translate(0 -75) scale(1 0.5)\">\n",
       "          <g transform=\"translate(-75 0) scale(0.5 1)\">\n",
       "            <g transform=\"translate(0 75) scale(1 0.5)\">\n",
       "              <g transform=\"translate(-75 0) scale(0.5 1)\">\n",
       "                <rect x=\"-88.7658326501781\" y=\"-88.7658326501781\" width=\"177.5316653003562\" height=\"177.5316653003562\" />\n",
       "                <rect x=\"-120.42982843004373\" y=\"-120.42982843004373\" width=\"240.85965686008745\" height=\"240.85965686008745\" />\n",
       "                <rect x=\"-95.87013656477922\" y=\"-95.87013656477922\" width=\"191.74027312955843\" height=\"191.74027312955843\" />\n",
       "                <rect x=\"-91.94428084804161\" y=\"-91.94428084804161\" width=\"183.88856169608323\" height=\"183.88856169608323\" />\n",
       "                <rect x=\"-51.05943747057474\" y=\"-51.05943747057474\" width=\"102.11887494114949\" height=\"102.11887494114949\" />\n",
       "                <rect x=\"-22.26266094570066\" y=\"-22.26266094570066\" width=\"44.52532189140132\" height=\"44.52532189140132\" />\n",
       "                <rect x=\"-87.89375275854616\" y=\"-87.89375275854616\" width=\"175.7875055170923\" height=\"175.7875055170923\" />\n",
       "                <rect x=\"-58.621542779147326\" y=\"-58.621542779147326\" width=\"117.24308555829465\" height=\"117.24308555829465\" />\n",
       "                <rect x=\"-25.79204134252362\" y=\"-25.79204134252362\" width=\"51.58408268504724\" height=\"51.58408268504724\" />\n",
       "                <rect x=\"-37.48257271247539\" y=\"-37.48257271247539\" width=\"74.96514542495078\" height=\"74.96514542495078\" />\n",
       "                <rect x=\"-20.47952047212759\" y=\"-20.47952047212759\" width=\"40.95904094425518\" height=\"40.95904094425518\" />\n",
       "                <rect x=\"-101.40942300166247\" y=\"-101.40942300166247\" width=\"202.81884600332495\" height=\"202.81884600332495\" />\n",
       "                <rect x=\"-68.75133091796303\" y=\"-68.75133091796303\" width=\"137.50266183592606\" height=\"137.50266183592606\" />\n",
       "                <rect x=\"-111.16245331610737\" y=\"-111.16245331610737\" width=\"222.32490663221475\" height=\"222.32490663221475\" />\n",
       "                <rect x=\"-82.44895815519047\" y=\"-82.44895815519047\" width=\"164.89791631038094\" height=\"164.89791631038094\" />\n",
       "              </g>\n",
       "              <g transform=\"translate(75 0) scale(0.5 1)\">\n",
       "                <rect x=\"-20.484419695700375\" y=\"-20.484419695700375\" width=\"40.96883939140075\" height=\"40.96883939140075\" />\n",
       "                <rect x=\"-40.32296786506666\" y=\"-40.32296786506666\" width=\"80.64593573013332\" height=\"80.64593573013332\" />\n",
       "                <rect x=\"-83.5171640431013\" y=\"-83.5171640431013\" width=\"167.0343280862026\" height=\"167.0343280862026\" />\n",
       "                <rect x=\"-108.5223582071826\" y=\"-108.5223582071826\" width=\"217.0447164143652\" height=\"217.0447164143652\" />\n",
       "                <rect x=\"-84.22389444753436\" y=\"-84.22389444753436\" width=\"168.44778889506873\" height=\"168.44778889506873\" />\n",
       "                <rect x=\"-43.12255619811309\" y=\"-43.12255619811309\" width=\"86.24511239622618\" height=\"86.24511239622618\" />\n",
       "                <rect x=\"-120.00350159778286\" y=\"-120.00350159778286\" width=\"240.00700319556572\" height=\"240.00700319556572\" />\n",
       "                <rect x=\"-39.05566092413833\" y=\"-39.05566092413833\" width=\"78.11132184827666\" height=\"78.11132184827666\" />\n",
       "                <rect x=\"-73.3243712800111\" y=\"-73.3243712800111\" width=\"146.6487425600222\" height=\"146.6487425600222\" />\n",
       "                <rect x=\"-28.80369169393647\" y=\"-28.80369169393647\" width=\"57.60738338787294\" height=\"57.60738338787294\" />\n",
       "                <rect x=\"-45.791552854270485\" y=\"-45.791552854270485\" width=\"91.58310570854097\" height=\"91.58310570854097\" />\n",
       "                <rect x=\"-120.06387536273742\" y=\"-120.06387536273742\" width=\"240.12775072547484\" height=\"240.12775072547484\" />\n",
       "                <rect x=\"-9.030932297226125\" y=\"-9.030932297226125\" width=\"18.06186459445225\" height=\"18.06186459445225\" />\n",
       "                <rect x=\"-121.12803705837668\" y=\"-121.12803705837668\" width=\"242.25607411675335\" height=\"242.25607411675335\" />\n",
       "                <rect x=\"-89.21025109750188\" y=\"-89.21025109750188\" width=\"178.42050219500376\" height=\"178.42050219500376\" />\n",
       "              </g>\n",
       "            </g>\n",
       "            <g transform=\"translate(0 -75) scale(1 0.5)\">\n",
       "              <g transform=\"translate(-75 0) scale(0.5 1)\">\n",
       "                <rect x=\"-35.556803168993845\" y=\"-35.556803168993845\" width=\"71.11360633798769\" height=\"71.11360633798769\" />\n",
       "                <rect x=\"-97.35214181099883\" y=\"-97.35214181099883\" width=\"194.70428362199766\" height=\"194.70428362199766\" />\n",
       "                <rect x=\"-97.92550984527178\" y=\"-97.92550984527178\" width=\"195.85101969054355\" height=\"195.85101969054355\" />\n",
       "                <rect x=\"-80.37937798186945\" y=\"-80.37937798186945\" width=\"160.7587559637389\" height=\"160.7587559637389\" />\n",
       "                <rect x=\"-119.11203688997347\" y=\"-119.11203688997347\" width=\"238.22407377994693\" height=\"238.22407377994693\" />\n",
       "                <rect x=\"-100.70938758316834\" y=\"-100.70938758316834\" width=\"201.41877516633667\" height=\"201.41877516633667\" />\n",
       "                <rect x=\"-33.45394807835214\" y=\"-33.45394807835214\" width=\"66.90789615670428\" height=\"66.90789615670428\" />\n",
       "                <rect x=\"-94.09004048886918\" y=\"-94.09004048886918\" width=\"188.18008097773836\" height=\"188.18008097773836\" />\n",
       "                <rect x=\"-116.78263347035556\" y=\"-116.78263347035556\" width=\"233.56526694071113\" height=\"233.56526694071113\" />\n",
       "                <rect x=\"-1.6411190541023024\" y=\"-1.6411190541023024\" width=\"3.282238108204605\" height=\"3.282238108204605\" />\n",
       "                <rect x=\"-39.2839833398211\" y=\"-39.2839833398211\" width=\"78.5679666796422\" height=\"78.5679666796422\" />\n",
       "                <rect x=\"-78.0573476710269\" y=\"-78.0573476710269\" width=\"156.1146953420538\" height=\"156.1146953420538\" />\n",
       "                <rect x=\"-111.83999723804928\" y=\"-111.83999723804928\" width=\"223.67999447609856\" height=\"223.67999447609856\" />\n",
       "                <rect x=\"-5.989980594392833\" y=\"-5.989980594392833\" width=\"11.979961188785666\" height=\"11.979961188785666\" />\n",
       "                <rect x=\"-73.72801059944281\" y=\"-73.72801059944281\" width=\"147.45602119888562\" height=\"147.45602119888562\" />\n",
       "              </g>\n",
       "              <g transform=\"translate(75 0) scale(0.5 1)\">\n",
       "                <rect x=\"-101.25000749985894\" y=\"-101.25000749985894\" width=\"202.50001499971788\" height=\"202.50001499971788\" />\n",
       "                <rect x=\"-74.9539971324618\" y=\"-74.9539971324618\" width=\"149.9079942649236\" height=\"149.9079942649236\" />\n",
       "                <rect x=\"-86.2186432769016\" y=\"-86.2186432769016\" width=\"172.4372865538032\" height=\"172.4372865538032\" />\n",
       "                <rect x=\"-123.35041567780928\" y=\"-123.35041567780928\" width=\"246.70083135561856\" height=\"246.70083135561856\" />\n",
       "                <rect x=\"-90.1039095840517\" y=\"-90.1039095840517\" width=\"180.2078191681034\" height=\"180.2078191681034\" />\n",
       "                <rect x=\"-61.334670964438786\" y=\"-61.334670964438786\" width=\"122.66934192887757\" height=\"122.66934192887757\" />\n",
       "                <rect x=\"-123.0410628930086\" y=\"-123.0410628930086\" width=\"246.0821257860172\" height=\"246.0821257860172\" />\n",
       "                <rect x=\"-26.97672879949327\" y=\"-26.97672879949327\" width=\"53.95345759898654\" height=\"53.95345759898654\" />\n",
       "                <rect x=\"-83.539161324912\" y=\"-83.539161324912\" width=\"167.078322649824\" height=\"167.078322649824\" />\n",
       "                <rect x=\"-70.00870872667704\" y=\"-70.00870872667704\" width=\"140.01741745335408\" height=\"140.01741745335408\" />\n",
       "                <rect x=\"-69.72058736962937\" y=\"-69.72058736962937\" width=\"139.44117473925874\" height=\"139.44117473925874\" />\n",
       "                <rect x=\"-14.09456433947115\" y=\"-14.09456433947115\" width=\"28.1891286789423\" height=\"28.1891286789423\" />\n",
       "                <rect x=\"-79.06479406536081\" y=\"-79.06479406536081\" width=\"158.12958813072163\" height=\"158.12958813072163\" />\n",
       "                <rect x=\"-112.6465243523863\" y=\"-112.6465243523863\" width=\"225.2930487047726\" height=\"225.2930487047726\" />\n",
       "                <rect x=\"-77.97112468043326\" y=\"-77.97112468043326\" width=\"155.94224936086653\" height=\"155.94224936086653\" />\n",
       "              </g>\n",
       "            </g>\n",
       "          </g>\n",
       "          <g transform=\"translate(75 0) scale(0.5 1)\">\n",
       "            <g transform=\"translate(0 75) scale(1 0.5)\">\n",
       "              <g transform=\"translate(-75 0) scale(0.5 1)\">\n",
       "                <rect x=\"-119.86707478271732\" y=\"-119.86707478271732\" width=\"239.73414956543465\" height=\"239.73414956543465\" />\n",
       "                <rect x=\"-70.4622525450074\" y=\"-70.4622525450074\" width=\"140.9245050900148\" height=\"140.9245050900148\" />\n",
       "                <rect x=\"-76.21914855555636\" y=\"-76.21914855555636\" width=\"152.43829711111272\" height=\"152.43829711111272\" />\n",
       "                <rect x=\"-8.78090932528841\" y=\"-8.78090932528841\" width=\"17.56181865057682\" height=\"17.56181865057682\" />\n",
       "                <rect x=\"-71.67947395612342\" y=\"-71.67947395612342\" width=\"143.35894791224683\" height=\"143.35894791224683\" />\n",
       "                <rect x=\"-5.444542523935766\" y=\"-5.444542523935766\" width=\"10.889085047871532\" height=\"10.889085047871532\" />\n",
       "                <rect x=\"-3.2183121349739356\" y=\"-3.2183121349739356\" width=\"6.436624269947871\" height=\"6.436624269947871\" />\n",
       "                <rect x=\"-80.52630113751243\" y=\"-80.52630113751243\" width=\"161.05260227502487\" height=\"161.05260227502487\" />\n",
       "                <rect x=\"-25.212369211879192\" y=\"-25.212369211879192\" width=\"50.424738423758384\" height=\"50.424738423758384\" />\n",
       "                <rect x=\"-95.93663474969867\" y=\"-95.93663474969867\" width=\"191.87326949939734\" height=\"191.87326949939734\" />\n",
       "                <rect x=\"-77.64626225766736\" y=\"-77.64626225766736\" width=\"155.29252451533472\" height=\"155.29252451533472\" />\n",
       "                <rect x=\"-85.61512495092205\" y=\"-85.61512495092205\" width=\"171.2302499018441\" height=\"171.2302499018441\" />\n",
       "                <rect x=\"-78.174352903721\" y=\"-78.174352903721\" width=\"156.348705807442\" height=\"156.348705807442\" />\n",
       "                <rect x=\"-43.92350870542061\" y=\"-43.92350870542061\" width=\"87.84701741084122\" height=\"87.84701741084122\" />\n",
       "                <rect x=\"-76.19514225885351\" y=\"-76.19514225885351\" width=\"152.39028451770702\" height=\"152.39028451770702\" />\n",
       "              </g>\n",
       "              <g transform=\"translate(75 0) scale(0.5 1)\">\n",
       "                <rect x=\"-18.113525766678613\" y=\"-18.113525766678613\" width=\"36.227051533357226\" height=\"36.227051533357226\" />\n",
       "                <rect x=\"-23.354752508390405\" y=\"-23.354752508390405\" width=\"46.70950501678081\" height=\"46.70950501678081\" />\n",
       "                <rect x=\"-116.66841163091007\" y=\"-116.66841163091007\" width=\"233.33682326182014\" height=\"233.33682326182014\" />\n",
       "                <rect x=\"-81.99121256864815\" y=\"-81.99121256864815\" width=\"163.9824251372963\" height=\"163.9824251372963\" />\n",
       "                <rect x=\"-114.31539874175283\" y=\"-114.31539874175283\" width=\"228.63079748350566\" height=\"228.63079748350566\" />\n",
       "                <rect x=\"-94.65640575631905\" y=\"-94.65640575631905\" width=\"189.3128115126381\" height=\"189.3128115126381\" />\n",
       "                <rect x=\"-20.100042204052563\" y=\"-20.100042204052563\" width=\"40.20008440810513\" height=\"40.20008440810513\" />\n",
       "                <rect x=\"-12.173520506034388\" y=\"-12.173520506034388\" width=\"24.347041012068775\" height=\"24.347041012068775\" />\n",
       "                <rect x=\"-21.355100187942817\" y=\"-21.355100187942817\" width=\"42.710200375885634\" height=\"42.710200375885634\" />\n",
       "                <rect x=\"-48.94639722076133\" y=\"-48.94639722076133\" width=\"97.89279444152265\" height=\"97.89279444152265\" />\n",
       "                <rect x=\"-101.02756810856454\" y=\"-101.02756810856454\" width=\"202.05513621712907\" height=\"202.05513621712907\" />\n",
       "                <rect x=\"-71.78781558850253\" y=\"-71.78781558850253\" width=\"143.57563117700505\" height=\"143.57563117700505\" />\n",
       "                <rect x=\"-112.20854256259597\" y=\"-112.20854256259597\" width=\"224.41708512519193\" height=\"224.41708512519193\" />\n",
       "                <rect x=\"-58.167133447605174\" y=\"-58.167133447605174\" width=\"116.33426689521035\" height=\"116.33426689521035\" />\n",
       "                <rect x=\"-19.653954803130176\" y=\"-19.653954803130176\" width=\"39.30790960626035\" height=\"39.30790960626035\" />\n",
       "              </g>\n",
       "            </g>\n",
       "            <g transform=\"translate(0 -75) scale(1 0.5)\">\n",
       "              <g transform=\"translate(-75 0) scale(0.5 1)\">\n",
       "                <rect x=\"-108.63142490722338\" y=\"-108.63142490722338\" width=\"217.26284981444675\" height=\"217.26284981444675\" />\n",
       "                <rect x=\"-70.35030356534017\" y=\"-70.35030356534017\" width=\"140.70060713068034\" height=\"140.70060713068034\" />\n",
       "                <rect x=\"-82.4959736556131\" y=\"-82.4959736556131\" width=\"164.9919473112262\" height=\"164.9919473112262\" />\n",
       "                <rect x=\"-60.17831008958599\" y=\"-60.17831008958599\" width=\"120.35662017917198\" height=\"120.35662017917198\" />\n",
       "                <rect x=\"-56.74595318939629\" y=\"-56.74595318939629\" width=\"113.49190637879258\" height=\"113.49190637879258\" />\n",
       "                <rect x=\"-0.1498245956230715\" y=\"-0.1498245956230715\" width=\"0.299649191246143\" height=\"0.299649191246143\" />\n",
       "                <rect x=\"-99.00649073446128\" y=\"-99.00649073446128\" width=\"198.01298146892256\" height=\"198.01298146892256\" />\n",
       "                <rect x=\"-40.46754935353976\" y=\"-40.46754935353976\" width=\"80.93509870707952\" height=\"80.93509870707952\" />\n",
       "                <rect x=\"-99.95982418661856\" y=\"-99.95982418661856\" width=\"199.91964837323712\" height=\"199.91964837323712\" />\n",
       "                <rect x=\"-10.91130540028186\" y=\"-10.91130540028186\" width=\"21.82261080056372\" height=\"21.82261080056372\" />\n",
       "                <rect x=\"-66.73728852980548\" y=\"-66.73728852980548\" width=\"133.47457705961097\" height=\"133.47457705961097\" />\n",
       "                <rect x=\"-29.672504547728323\" y=\"-29.672504547728323\" width=\"59.345009095456646\" height=\"59.345009095456646\" />\n",
       "                <rect x=\"-124.46390395744044\" y=\"-124.46390395744044\" width=\"248.92780791488087\" height=\"248.92780791488087\" />\n",
       "                <rect x=\"-103.56766530287155\" y=\"-103.56766530287155\" width=\"207.1353306057431\" height=\"207.1353306057431\" />\n",
       "                <rect x=\"-90.28918107187201\" y=\"-90.28918107187201\" width=\"180.57836214374402\" height=\"180.57836214374402\" />\n",
       "              </g>\n",
       "              <g transform=\"translate(75 0) scale(0.5 1)\">\n",
       "                <rect x=\"-41.15346622426951\" y=\"-41.15346622426951\" width=\"82.30693244853902\" height=\"82.30693244853902\" />\n",
       "                <rect x=\"-90.42579777656454\" y=\"-90.42579777656454\" width=\"180.85159555312907\" height=\"180.85159555312907\" />\n",
       "                <rect x=\"-19.62455518200111\" y=\"-19.62455518200111\" width=\"39.24911036400222\" height=\"39.24911036400222\" />\n",
       "                <rect x=\"-104.34241137558361\" y=\"-104.34241137558361\" width=\"208.68482275116722\" height=\"208.68482275116722\" />\n",
       "                <rect x=\"-19.202301007793896\" y=\"-19.202301007793896\" width=\"38.40460201558779\" height=\"38.40460201558779\" />\n",
       "                <rect x=\"-55.544106186619594\" y=\"-55.544106186619594\" width=\"111.08821237323919\" height=\"111.08821237323919\" />\n",
       "                <rect x=\"-64.84518043912901\" y=\"-64.84518043912901\" width=\"129.69036087825802\" height=\"129.69036087825802\" />\n",
       "                <rect x=\"-93.39688757009654\" y=\"-93.39688757009654\" width=\"186.79377514019308\" height=\"186.79377514019308\" />\n",
       "                <rect x=\"-123.83036014142861\" y=\"-123.83036014142861\" width=\"247.66072028285723\" height=\"247.66072028285723\" />\n",
       "                <rect x=\"-120.590194370501\" y=\"-120.590194370501\" width=\"241.180388741002\" height=\"241.180388741002\" />\n",
       "                <rect x=\"-4.933494148795334\" y=\"-4.933494148795334\" width=\"9.866988297590668\" height=\"9.866988297590668\" />\n",
       "                <rect x=\"-15.474599835941849\" y=\"-15.474599835941849\" width=\"30.949199671883697\" height=\"30.949199671883697\" />\n",
       "                <rect x=\"-68.75196969150305\" y=\"-68.75196969150305\" width=\"137.5039393830061\" height=\"137.5039393830061\" />\n",
       "                <rect x=\"-72.0301266222536\" y=\"-72.0301266222536\" width=\"144.0602532445072\" height=\"144.0602532445072\" />\n",
       "                <rect x=\"-86.83335668797604\" y=\"-86.83335668797604\" width=\"173.66671337595207\" height=\"173.66671337595207\" />\n",
       "              </g>\n",
       "            </g>\n",
       "          </g>\n",
       "        </g>\n",
       "      </g>\n",
       "      <g transform=\"translate(75 0) scale(0.5 1)\">\n",
       "        <g transform=\"translate(0 75) scale(1 0.5)\">\n",
       "          <g transform=\"translate(-75 0) scale(0.5 1)\">\n",
       "            <g transform=\"translate(0 75) scale(1 0.5)\">\n",
       "              <g transform=\"translate(-75 0) scale(0.5 1)\">\n",
       "                <rect x=\"-98.09379536765076\" y=\"-98.09379536765076\" width=\"196.1875907353015\" height=\"196.1875907353015\" />\n",
       "                <rect x=\"-26.540692551170807\" y=\"-26.540692551170807\" width=\"53.08138510234161\" height=\"53.08138510234161\" />\n",
       "                <rect x=\"-39.42120099432786\" y=\"-39.42120099432786\" width=\"78.84240198865572\" height=\"78.84240198865572\" />\n",
       "                <rect x=\"-116.376032389118\" y=\"-116.376032389118\" width=\"232.752064778236\" height=\"232.752064778236\" />\n",
       "                <rect x=\"-59.071991934209905\" y=\"-59.071991934209905\" width=\"118.14398386841981\" height=\"118.14398386841981\" />\n",
       "                <rect x=\"-122.06084608950016\" y=\"-122.06084608950016\" width=\"244.12169217900032\" height=\"244.12169217900032\" />\n",
       "                <rect x=\"-102.55266498929105\" y=\"-102.55266498929105\" width=\"205.1053299785821\" height=\"205.1053299785821\" />\n",
       "                <rect x=\"-94.70300135926537\" y=\"-94.70300135926537\" width=\"189.40600271853074\" height=\"189.40600271853074\" />\n",
       "                <rect x=\"-64.08417625714971\" y=\"-64.08417625714971\" width=\"128.16835251429941\" height=\"128.16835251429941\" />\n",
       "                <rect x=\"-69.27375247492881\" y=\"-69.27375247492881\" width=\"138.54750494985763\" height=\"138.54750494985763\" />\n",
       "                <rect x=\"-13.713464950556878\" y=\"-13.713464950556878\" width=\"27.426929901113756\" height=\"27.426929901113756\" />\n",
       "                <rect x=\"-34.11678508507772\" y=\"-34.11678508507772\" width=\"68.23357017015545\" height=\"68.23357017015545\" />\n",
       "                <rect x=\"-4.790593120911097\" y=\"-4.790593120911097\" width=\"9.581186241822193\" height=\"9.581186241822193\" />\n",
       "                <rect x=\"-38.460806560748765\" y=\"-38.460806560748765\" width=\"76.92161312149753\" height=\"76.92161312149753\" />\n",
       "                <rect x=\"-114.91664315811454\" y=\"-114.91664315811454\" width=\"229.83328631622908\" height=\"229.83328631622908\" />\n",
       "              </g>\n",
       "              <g transform=\"translate(75 0) scale(0.5 1)\">\n",
       "                <rect x=\"-19.174379272361346\" y=\"-19.174379272361346\" width=\"38.34875854472269\" height=\"38.34875854472269\" />\n",
       "                <rect x=\"-83.33853202268658\" y=\"-83.33853202268658\" width=\"166.67706404537316\" height=\"166.67706404537316\" />\n",
       "                <rect x=\"-73.29233136431066\" y=\"-73.29233136431066\" width=\"146.5846627286213\" height=\"146.5846627286213\" />\n",
       "                <rect x=\"-64.34748114271927\" y=\"-64.34748114271927\" width=\"128.69496228543855\" height=\"128.69496228543855\" />\n",
       "                <rect x=\"-74.51699864323754\" y=\"-74.51699864323754\" width=\"149.03399728647508\" height=\"149.03399728647508\" />\n",
       "                <rect x=\"-114.95132016246654\" y=\"-114.95132016246654\" width=\"229.9026403249331\" height=\"229.9026403249331\" />\n",
       "                <rect x=\"-44.21217229197986\" y=\"-44.21217229197986\" width=\"88.42434458395972\" height=\"88.42434458395972\" />\n",
       "                <rect x=\"-96.67579422260975\" y=\"-96.67579422260975\" width=\"193.3515884452195\" height=\"193.3515884452195\" />\n",
       "                <rect x=\"-92.22770040254039\" y=\"-92.22770040254039\" width=\"184.45540080508079\" height=\"184.45540080508079\" />\n",
       "                <rect x=\"-105.85604482798745\" y=\"-105.85604482798745\" width=\"211.7120896559749\" height=\"211.7120896559749\" />\n",
       "                <rect x=\"-85.83969394089999\" y=\"-85.83969394089999\" width=\"171.67938788179998\" height=\"171.67938788179998\" />\n",
       "                <rect x=\"-124.15993904915803\" y=\"-124.15993904915803\" width=\"248.31987809831605\" height=\"248.31987809831605\" />\n",
       "                <rect x=\"-109.3657907198273\" y=\"-109.3657907198273\" width=\"218.7315814396546\" height=\"218.7315814396546\" />\n",
       "                <rect x=\"-74.74261905054067\" y=\"-74.74261905054067\" width=\"149.48523810108134\" height=\"149.48523810108134\" />\n",
       "                <rect x=\"-98.46799185385838\" y=\"-98.46799185385838\" width=\"196.93598370771676\" height=\"196.93598370771676\" />\n",
       "              </g>\n",
       "            </g>\n",
       "            <g transform=\"translate(0 -75) scale(1 0.5)\">\n",
       "              <g transform=\"translate(-75 0) scale(0.5 1)\">\n",
       "                <rect x=\"-89.28529588971767\" y=\"-89.28529588971767\" width=\"178.57059177943535\" height=\"178.57059177943535\" />\n",
       "                <rect x=\"-13.901406464744928\" y=\"-13.901406464744928\" width=\"27.802812929489857\" height=\"27.802812929489857\" />\n",
       "                <rect x=\"-104.30940578527849\" y=\"-104.30940578527849\" width=\"208.61881157055697\" height=\"208.61881157055697\" />\n",
       "                <rect x=\"-53.88195072323694\" y=\"-53.88195072323694\" width=\"107.76390144647388\" height=\"107.76390144647388\" />\n",
       "                <rect x=\"-87.49886430320527\" y=\"-87.49886430320527\" width=\"174.99772860641053\" height=\"174.99772860641053\" />\n",
       "                <rect x=\"-123.56933791278313\" y=\"-123.56933791278313\" width=\"247.13867582556625\" height=\"247.13867582556625\" />\n",
       "                <rect x=\"-40.85335144705958\" y=\"-40.85335144705958\" width=\"81.70670289411916\" height=\"81.70670289411916\" />\n",
       "                <rect x=\"-33.386382224231525\" y=\"-33.386382224231525\" width=\"66.77276444846305\" height=\"66.77276444846305\" />\n",
       "                <rect x=\"-89.76877376965744\" y=\"-89.76877376965744\" width=\"179.5375475393149\" height=\"179.5375475393149\" />\n",
       "                <rect x=\"-102.01079609334207\" y=\"-102.01079609334207\" width=\"204.02159218668413\" height=\"204.02159218668413\" />\n",
       "                <rect x=\"-108.56727380121505\" y=\"-108.56727380121505\" width=\"217.1345476024301\" height=\"217.1345476024301\" />\n",
       "                <rect x=\"-94.58934721777787\" y=\"-94.58934721777787\" width=\"189.17869443555574\" height=\"189.17869443555574\" />\n",
       "                <rect x=\"-71.11427263969722\" y=\"-71.11427263969722\" width=\"142.22854527939444\" height=\"142.22854527939444\" />\n",
       "                <rect x=\"-115.39912975896094\" y=\"-115.39912975896094\" width=\"230.79825951792188\" height=\"230.79825951792188\" />\n",
       "                <rect x=\"-115.71761586280704\" y=\"-115.71761586280704\" width=\"231.43523172561407\" height=\"231.43523172561407\" />\n",
       "              </g>\n",
       "              <g transform=\"translate(75 0) scale(0.5 1)\">\n",
       "                <rect x=\"-107.75404667596314\" y=\"-107.75404667596314\" width=\"215.50809335192628\" height=\"215.50809335192628\" />\n",
       "                <rect x=\"-56.78036459821593\" y=\"-56.78036459821593\" width=\"113.56072919643186\" height=\"113.56072919643186\" />\n",
       "                <rect x=\"-29.174472484774395\" y=\"-29.174472484774395\" width=\"58.34894496954879\" height=\"58.34894496954879\" />\n",
       "                <rect x=\"-124.25350902263253\" y=\"-124.25350902263253\" width=\"248.50701804526506\" height=\"248.50701804526506\" />\n",
       "                <rect x=\"-98.76663721951245\" y=\"-98.76663721951245\" width=\"197.5332744390249\" height=\"197.5332744390249\" />\n",
       "                <rect x=\"-117.2062579540928\" y=\"-117.2062579540928\" width=\"234.4125159081856\" height=\"234.4125159081856\" />\n",
       "                <rect x=\"-36.32894764035582\" y=\"-36.32894764035582\" width=\"72.65789528071164\" height=\"72.65789528071164\" />\n",
       "                <rect x=\"-33.23557280755918\" y=\"-33.23557280755918\" width=\"66.47114561511836\" height=\"66.47114561511836\" />\n",
       "                <rect x=\"-72.12668006120943\" y=\"-72.12668006120943\" width=\"144.25336012241885\" height=\"144.25336012241885\" />\n",
       "                <rect x=\"-50.871403433204286\" y=\"-50.871403433204286\" width=\"101.74280686640857\" height=\"101.74280686640857\" />\n",
       "                <rect x=\"-16.547811952152852\" y=\"-16.547811952152852\" width=\"33.095623904305704\" height=\"33.095623904305704\" />\n",
       "                <rect x=\"-45.534174392928655\" y=\"-45.534174392928655\" width=\"91.06834878585731\" height=\"91.06834878585731\" />\n",
       "                <rect x=\"-111.30534476409767\" y=\"-111.30534476409767\" width=\"222.61068952819534\" height=\"222.61068952819534\" />\n",
       "                <rect x=\"-64.319652975314\" y=\"-64.319652975314\" width=\"128.639305950628\" height=\"128.639305950628\" />\n",
       "                <rect x=\"-4.745437602628369\" y=\"-4.745437602628369\" width=\"9.490875205256739\" height=\"9.490875205256739\" />\n",
       "              </g>\n",
       "            </g>\n",
       "          </g>\n",
       "          <g transform=\"translate(75 0) scale(0.5 1)\">\n",
       "            <g transform=\"translate(0 75) scale(1 0.5)\">\n",
       "              <g transform=\"translate(-75 0) scale(0.5 1)\">\n",
       "                <rect x=\"-122.88273060188685\" y=\"-122.88273060188685\" width=\"245.7654612037737\" height=\"245.7654612037737\" />\n",
       "                <rect x=\"-8.122756333791461\" y=\"-8.122756333791461\" width=\"16.245512667582922\" height=\"16.245512667582922\" />\n",
       "                <rect x=\"-106.8615181478352\" y=\"-106.8615181478352\" width=\"213.7230362956704\" height=\"213.7230362956704\" />\n",
       "                <rect x=\"-3.6414516201505043\" y=\"-3.6414516201505043\" width=\"7.2829032403010086\" height=\"7.2829032403010086\" />\n",
       "                <rect x=\"-73.315601420414\" y=\"-73.315601420414\" width=\"146.631202840828\" height=\"146.631202840828\" />\n",
       "                <rect x=\"-17.163406924206466\" y=\"-17.163406924206466\" width=\"34.32681384841293\" height=\"34.32681384841293\" />\n",
       "                <rect x=\"-69.78814515970329\" y=\"-69.78814515970329\" width=\"139.57629031940658\" height=\"139.57629031940658\" />\n",
       "                <rect x=\"-84.68888288366502\" y=\"-84.68888288366502\" width=\"169.37776576733003\" height=\"169.37776576733003\" />\n",
       "                <rect x=\"-96.39392347529464\" y=\"-96.39392347529464\" width=\"192.78784695058928\" height=\"192.78784695058928\" />\n",
       "                <rect x=\"-5.989694256409189\" y=\"-5.989694256409189\" width=\"11.979388512818378\" height=\"11.979388512818378\" />\n",
       "                <rect x=\"-32.90277034736949\" y=\"-32.90277034736949\" width=\"65.80554069473898\" height=\"65.80554069473898\" />\n",
       "                <rect x=\"-114.35275027656597\" y=\"-114.35275027656597\" width=\"228.70550055313194\" height=\"228.70550055313194\" />\n",
       "                <rect x=\"-76.2557521427669\" y=\"-76.2557521427669\" width=\"152.5115042855338\" height=\"152.5115042855338\" />\n",
       "                <rect x=\"-13.578649664483217\" y=\"-13.578649664483217\" width=\"27.157299328966435\" height=\"27.157299328966435\" />\n",
       "                <rect x=\"-23.365375281670307\" y=\"-23.365375281670307\" width=\"46.730750563340614\" height=\"46.730750563340614\" />\n",
       "              </g>\n",
       "              <g transform=\"translate(75 0) scale(0.5 1)\">\n",
       "                <rect x=\"-62.592917445626355\" y=\"-62.592917445626355\" width=\"125.18583489125271\" height=\"125.18583489125271\" />\n",
       "                <rect x=\"-8.160316433759446\" y=\"-8.160316433759446\" width=\"16.320632867518892\" height=\"16.320632867518892\" />\n",
       "                <rect x=\"-55.43575249480069\" y=\"-55.43575249480069\" width=\"110.87150498960138\" height=\"110.87150498960138\" />\n",
       "                <rect x=\"-25.77475741713657\" y=\"-25.77475741713657\" width=\"51.54951483427314\" height=\"51.54951483427314\" />\n",
       "                <rect x=\"-106.37550299486415\" y=\"-106.37550299486415\" width=\"212.7510059897283\" height=\"212.7510059897283\" />\n",
       "                <rect x=\"-28.49421614495588\" y=\"-28.49421614495588\" width=\"56.98843228991176\" height=\"56.98843228991176\" />\n",
       "                <rect x=\"-57.51844077648077\" y=\"-57.51844077648077\" width=\"115.03688155296155\" height=\"115.03688155296155\" />\n",
       "                <rect x=\"-106.72958289156558\" y=\"-106.72958289156558\" width=\"213.45916578313117\" height=\"213.45916578313117\" />\n",
       "                <rect x=\"-6.173781238712456\" y=\"-6.173781238712456\" width=\"12.347562477424912\" height=\"12.347562477424912\" />\n",
       "                <rect x=\"-13.041130759524053\" y=\"-13.041130759524053\" width=\"26.082261519048107\" height=\"26.082261519048107\" />\n",
       "                <rect x=\"-78.32950376724287\" y=\"-78.32950376724287\" width=\"156.65900753448574\" height=\"156.65900753448574\" />\n",
       "                <rect x=\"-87.55190244148405\" y=\"-87.55190244148405\" width=\"175.1038048829681\" height=\"175.1038048829681\" />\n",
       "                <rect x=\"-9.935630833837624\" y=\"-9.935630833837624\" width=\"19.87126166767525\" height=\"19.87126166767525\" />\n",
       "                <rect x=\"-11.707704480983349\" y=\"-11.707704480983349\" width=\"23.415408961966698\" height=\"23.415408961966698\" />\n",
       "                <rect x=\"-57.13256798200079\" y=\"-57.13256798200079\" width=\"114.26513596400159\" height=\"114.26513596400159\" />\n",
       "              </g>\n",
       "            </g>\n",
       "            <g transform=\"translate(0 -75) scale(1 0.5)\">\n",
       "              <g transform=\"translate(-75 0) scale(0.5 1)\">\n",
       "                <rect x=\"-75.20868482812203\" y=\"-75.20868482812203\" width=\"150.41736965624406\" height=\"150.41736965624406\" />\n",
       "                <rect x=\"-100.14486329802203\" y=\"-100.14486329802203\" width=\"200.28972659604406\" height=\"200.28972659604406\" />\n",
       "                <rect x=\"-47.19738306909847\" y=\"-47.19738306909847\" width=\"94.39476613819694\" height=\"94.39476613819694\" />\n",
       "                <rect x=\"-108.16794491449741\" y=\"-108.16794491449741\" width=\"216.33588982899482\" height=\"216.33588982899482\" />\n",
       "                <rect x=\"-63.44705240495838\" y=\"-63.44705240495838\" width=\"126.89410480991675\" height=\"126.89410480991675\" />\n",
       "                <rect x=\"-20.229585505614654\" y=\"-20.229585505614654\" width=\"40.45917101122931\" height=\"40.45917101122931\" />\n",
       "                <rect x=\"-57.54456986597881\" y=\"-57.54456986597881\" width=\"115.08913973195762\" height=\"115.08913973195762\" />\n",
       "                <rect x=\"-66.70392464982787\" y=\"-66.70392464982787\" width=\"133.40784929965574\" height=\"133.40784929965574\" />\n",
       "                <rect x=\"-54.92620492869485\" y=\"-54.92620492869485\" width=\"109.8524098573897\" height=\"109.8524098573897\" />\n",
       "                <rect x=\"-94.19103637797225\" y=\"-94.19103637797225\" width=\"188.3820727559445\" height=\"188.3820727559445\" />\n",
       "                <rect x=\"-58.402790089935344\" y=\"-58.402790089935344\" width=\"116.80558017987069\" height=\"116.80558017987069\" />\n",
       "                <rect x=\"-83.0418189945088\" y=\"-83.0418189945088\" width=\"166.0836379890176\" height=\"166.0836379890176\" />\n",
       "                <rect x=\"-108.93840982087764\" y=\"-108.93840982087764\" width=\"217.87681964175528\" height=\"217.87681964175528\" />\n",
       "                <rect x=\"-11.350526056820382\" y=\"-11.350526056820382\" width=\"22.701052113640763\" height=\"22.701052113640763\" />\n",
       "                <rect x=\"-55.292690182741275\" y=\"-55.292690182741275\" width=\"110.58538036548255\" height=\"110.58538036548255\" />\n",
       "              </g>\n",
       "              <g transform=\"translate(75 0) scale(0.5 1)\">\n",
       "                <rect x=\"-38.997034345068585\" y=\"-38.997034345068585\" width=\"77.99406869013717\" height=\"77.99406869013717\" />\n",
       "                <rect x=\"-8.113256853578207\" y=\"-8.113256853578207\" width=\"16.226513707156414\" height=\"16.226513707156414\" />\n",
       "                <rect x=\"-102.86315732960853\" y=\"-102.86315732960853\" width=\"205.72631465921705\" height=\"205.72631465921705\" />\n",
       "                <rect x=\"-97.12677343390303\" y=\"-97.12677343390303\" width=\"194.25354686780605\" height=\"194.25354686780605\" />\n",
       "                <rect x=\"-44.723775606238625\" y=\"-44.723775606238625\" width=\"89.44755121247725\" height=\"89.44755121247725\" />\n",
       "                <rect x=\"-76.24149930134786\" y=\"-76.24149930134786\" width=\"152.48299860269572\" height=\"152.48299860269572\" />\n",
       "                <rect x=\"-43.238727051597785\" y=\"-43.238727051597785\" width=\"86.47745410319557\" height=\"86.47745410319557\" />\n",
       "                <rect x=\"-22.753316479627696\" y=\"-22.753316479627696\" width=\"45.50663295925539\" height=\"45.50663295925539\" />\n",
       "                <rect x=\"-37.2915531937304\" y=\"-37.2915531937304\" width=\"74.5831063874608\" height=\"74.5831063874608\" />\n",
       "                <rect x=\"-42.760630808229116\" y=\"-42.760630808229116\" width=\"85.52126161645823\" height=\"85.52126161645823\" />\n",
       "                <rect x=\"-73.23514457419829\" y=\"-73.23514457419829\" width=\"146.47028914839657\" height=\"146.47028914839657\" />\n",
       "                <rect x=\"-89.86599332187585\" y=\"-89.86599332187585\" width=\"179.7319866437517\" height=\"179.7319866437517\" />\n",
       "                <rect x=\"-26.996301681378135\" y=\"-26.996301681378135\" width=\"53.99260336275627\" height=\"53.99260336275627\" />\n",
       "                <rect x=\"-76.12018385009337\" y=\"-76.12018385009337\" width=\"152.24036770018674\" height=\"152.24036770018674\" />\n",
       "                <rect x=\"-32.85697990358108\" y=\"-32.85697990358108\" width=\"65.71395980716215\" height=\"65.71395980716215\" />\n",
       "              </g>\n",
       "            </g>\n",
       "          </g>\n",
       "        </g>\n",
       "        <g transform=\"translate(0 -75) scale(1 0.5)\">\n",
       "          <g transform=\"translate(-75 0) scale(0.5 1)\">\n",
       "            <g transform=\"translate(0 75) scale(1 0.5)\">\n",
       "              <g transform=\"translate(-75 0) scale(0.5 1)\">\n",
       "                <rect x=\"-95.42541911258377\" y=\"-95.42541911258377\" width=\"190.85083822516754\" height=\"190.85083822516754\" />\n",
       "                <rect x=\"-29.189597468211925\" y=\"-29.189597468211925\" width=\"58.37919493642385\" height=\"58.37919493642385\" />\n",
       "                <rect x=\"-12.551605928160154\" y=\"-12.551605928160154\" width=\"25.103211856320307\" height=\"25.103211856320307\" />\n",
       "                <rect x=\"-86.48708222152442\" y=\"-86.48708222152442\" width=\"172.97416444304883\" height=\"172.97416444304883\" />\n",
       "                <rect x=\"-17.244039040900937\" y=\"-17.244039040900937\" width=\"34.48807808180187\" height=\"34.48807808180187\" />\n",
       "                <rect x=\"-0.7671304170567689\" y=\"-0.7671304170567689\" width=\"1.5342608341135378\" height=\"1.5342608341135378\" />\n",
       "                <rect x=\"-113.72061950525615\" y=\"-113.72061950525615\" width=\"227.4412390105123\" height=\"227.4412390105123\" />\n",
       "                <rect x=\"-78.71339385270606\" y=\"-78.71339385270606\" width=\"157.42678770541212\" height=\"157.42678770541212\" />\n",
       "                <rect x=\"-73.31118176542853\" y=\"-73.31118176542853\" width=\"146.62236353085706\" height=\"146.62236353085706\" />\n",
       "                <rect x=\"-58.657791672208695\" y=\"-58.657791672208695\" width=\"117.31558334441739\" height=\"117.31558334441739\" />\n",
       "                <rect x=\"-83.31023471229284\" y=\"-83.31023471229284\" width=\"166.62046942458568\" height=\"166.62046942458568\" />\n",
       "                <rect x=\"-24.355444674715095\" y=\"-24.355444674715095\" width=\"48.71088934943019\" height=\"48.71088934943019\" />\n",
       "                <rect x=\"-66.54812559166656\" y=\"-66.54812559166656\" width=\"133.09625118333312\" height=\"133.09625118333312\" />\n",
       "                <rect x=\"-86.50480766866977\" y=\"-86.50480766866977\" width=\"173.00961533733954\" height=\"173.00961533733954\" />\n",
       "                <rect x=\"-58.432601560425596\" y=\"-58.432601560425596\" width=\"116.86520312085119\" height=\"116.86520312085119\" />\n",
       "              </g>\n",
       "              <g transform=\"translate(75 0) scale(0.5 1)\">\n",
       "                <rect x=\"-84.11360613486268\" y=\"-84.11360613486268\" width=\"168.22721226972536\" height=\"168.22721226972536\" />\n",
       "                <rect x=\"-2.8238903981571695\" y=\"-2.8238903981571695\" width=\"5.647780796314339\" height=\"5.647780796314339\" />\n",
       "                <rect x=\"-68.8009129633847\" y=\"-68.8009129633847\" width=\"137.6018259267694\" height=\"137.6018259267694\" />\n",
       "                <rect x=\"-6.410046003785655\" y=\"-6.410046003785655\" width=\"12.82009200757131\" height=\"12.82009200757131\" />\n",
       "                <rect x=\"-87.33014719021502\" y=\"-87.33014719021502\" width=\"174.66029438043003\" height=\"174.66029438043003\" />\n",
       "                <rect x=\"-9.493338411337149\" y=\"-9.493338411337149\" width=\"18.986676822674298\" height=\"18.986676822674298\" />\n",
       "                <rect x=\"-2.0157912695673854\" y=\"-2.0157912695673854\" width=\"4.031582539134771\" height=\"4.031582539134771\" />\n",
       "                <rect x=\"-85.29996645896318\" y=\"-85.29996645896318\" width=\"170.59993291792637\" height=\"170.59993291792637\" />\n",
       "                <rect x=\"-90.39867852104105\" y=\"-90.39867852104105\" width=\"180.7973570420821\" height=\"180.7973570420821\" />\n",
       "                <rect x=\"-14.762090398463295\" y=\"-14.762090398463295\" width=\"29.52418079692659\" height=\"29.52418079692659\" />\n",
       "                <rect x=\"-7.391537691746983\" y=\"-7.391537691746983\" width=\"14.783075383493966\" height=\"14.783075383493966\" />\n",
       "                <rect x=\"-15.974194710490163\" y=\"-15.974194710490163\" width=\"31.948389420980327\" height=\"31.948389420980327\" />\n",
       "                <rect x=\"-32.68375229126955\" y=\"-32.68375229126955\" width=\"65.3675045825391\" height=\"65.3675045825391\" />\n",
       "                <rect x=\"-68.30422437528804\" y=\"-68.30422437528804\" width=\"136.6084487505761\" height=\"136.6084487505761\" />\n",
       "                <rect x=\"-46.71842254962928\" y=\"-46.71842254962928\" width=\"93.43684509925856\" height=\"93.43684509925856\" />\n",
       "              </g>\n",
       "            </g>\n",
       "            <g transform=\"translate(0 -75) scale(1 0.5)\">\n",
       "              <g transform=\"translate(-75 0) scale(0.5 1)\">\n",
       "                <rect x=\"-30.95527705243764\" y=\"-30.95527705243764\" width=\"61.91055410487528\" height=\"61.91055410487528\" />\n",
       "                <rect x=\"-67.83706615910289\" y=\"-67.83706615910289\" width=\"135.67413231820578\" height=\"135.67413231820578\" />\n",
       "                <rect x=\"-119.41111922867977\" y=\"-119.41111922867977\" width=\"238.82223845735953\" height=\"238.82223845735953\" />\n",
       "                <rect x=\"-61.432463713986365\" y=\"-61.432463713986365\" width=\"122.86492742797273\" height=\"122.86492742797273\" />\n",
       "                <rect x=\"-11.962239328379573\" y=\"-11.962239328379573\" width=\"23.924478656759145\" height=\"23.924478656759145\" />\n",
       "                <rect x=\"-122.58510089790471\" y=\"-122.58510089790471\" width=\"245.17020179580942\" height=\"245.17020179580942\" />\n",
       "                <rect x=\"-92.94691728951184\" y=\"-92.94691728951184\" width=\"185.8938345790237\" height=\"185.8938345790237\" />\n",
       "                <rect x=\"-80.10501741953215\" y=\"-80.10501741953215\" width=\"160.2100348390643\" height=\"160.2100348390643\" />\n",
       "                <rect x=\"-6.606571765523622\" y=\"-6.606571765523622\" width=\"13.213143531047244\" height=\"13.213143531047244\" />\n",
       "                <rect x=\"-63.34525722493142\" y=\"-63.34525722493142\" width=\"126.69051444986285\" height=\"126.69051444986285\" />\n",
       "                <rect x=\"-55.874166850175335\" y=\"-55.874166850175335\" width=\"111.74833370035067\" height=\"111.74833370035067\" />\n",
       "                <rect x=\"-36.964378448936245\" y=\"-36.964378448936245\" width=\"73.92875689787249\" height=\"73.92875689787249\" />\n",
       "                <rect x=\"-27.83897342502492\" y=\"-27.83897342502492\" width=\"55.67794685004984\" height=\"55.67794685004984\" />\n",
       "                <rect x=\"-120.96140781578727\" y=\"-120.96140781578727\" width=\"241.92281563157454\" height=\"241.92281563157454\" />\n",
       "                <rect x=\"-53.1613152295866\" y=\"-53.1613152295866\" width=\"106.3226304591732\" height=\"106.3226304591732\" />\n",
       "              </g>\n",
       "              <g transform=\"translate(75 0) scale(0.5 1)\">\n",
       "                <rect x=\"-40.914518932294555\" y=\"-40.914518932294555\" width=\"81.82903786458911\" height=\"81.82903786458911\" />\n",
       "                <rect x=\"-86.4757314170265\" y=\"-86.4757314170265\" width=\"172.951462834053\" height=\"172.951462834053\" />\n",
       "                <rect x=\"-67.81501201923723\" y=\"-67.81501201923723\" width=\"135.63002403847446\" height=\"135.63002403847446\" />\n",
       "                <rect x=\"-40.66124335913203\" y=\"-40.66124335913203\" width=\"81.32248671826406\" height=\"81.32248671826406\" />\n",
       "                <rect x=\"-5.962054895720367\" y=\"-5.962054895720367\" width=\"11.924109791440735\" height=\"11.924109791440735\" />\n",
       "                <rect x=\"-96.95991618208144\" y=\"-96.95991618208144\" width=\"193.9198323641629\" height=\"193.9198323641629\" />\n",
       "                <rect x=\"-60.09590192281404\" y=\"-60.09590192281404\" width=\"120.19180384562809\" height=\"120.19180384562809\" />\n",
       "                <rect x=\"-41.092238501580944\" y=\"-41.092238501580944\" width=\"82.18447700316189\" height=\"82.18447700316189\" />\n",
       "                <rect x=\"-2.703270741569841\" y=\"-2.703270741569841\" width=\"5.406541483139682\" height=\"5.406541483139682\" />\n",
       "                <rect x=\"-38.98016350677493\" y=\"-38.98016350677493\" width=\"77.96032701354986\" height=\"77.96032701354986\" />\n",
       "                <rect x=\"-49.88238327273214\" y=\"-49.88238327273214\" width=\"99.76476654546428\" height=\"99.76476654546428\" />\n",
       "                <rect x=\"-105.7633929587488\" y=\"-105.7633929587488\" width=\"211.5267859174976\" height=\"211.5267859174976\" />\n",
       "                <rect x=\"-106.29127508896673\" y=\"-106.29127508896673\" width=\"212.58255017793346\" height=\"212.58255017793346\" />\n",
       "                <rect x=\"-15.302638911508861\" y=\"-15.302638911508861\" width=\"30.605277823017722\" height=\"30.605277823017722\" />\n",
       "                <rect x=\"-4.960983528405308\" y=\"-4.960983528405308\" width=\"9.921967056810615\" height=\"9.921967056810615\" />\n",
       "              </g>\n",
       "            </g>\n",
       "          </g>\n",
       "          <g transform=\"translate(75 0) scale(0.5 1)\">\n",
       "            <g transform=\"translate(0 75) scale(1 0.5)\">\n",
       "              <g transform=\"translate(-75 0) scale(0.5 1)\">\n",
       "                <rect x=\"-31.149506189004068\" y=\"-31.149506189004068\" width=\"62.299012378008136\" height=\"62.299012378008136\" />\n",
       "                <rect x=\"-18.69847371452571\" y=\"-18.69847371452571\" width=\"37.39694742905142\" height=\"37.39694742905142\" />\n",
       "                <rect x=\"-86.13389904133994\" y=\"-86.13389904133994\" width=\"172.2677980826799\" height=\"172.2677980826799\" />\n",
       "                <rect x=\"-123.86005002617247\" y=\"-123.86005002617247\" width=\"247.72010005234495\" height=\"247.72010005234495\" />\n",
       "                <rect x=\"-87.82391499861973\" y=\"-87.82391499861973\" width=\"175.64782999723946\" height=\"175.64782999723946\" />\n",
       "                <rect x=\"-42.101587561523715\" y=\"-42.101587561523715\" width=\"84.20317512304743\" height=\"84.20317512304743\" />\n",
       "                <rect x=\"-43.383667659681464\" y=\"-43.383667659681464\" width=\"86.76733531936293\" height=\"86.76733531936293\" />\n",
       "                <rect x=\"-97.81046711145962\" y=\"-97.81046711145962\" width=\"195.62093422291923\" height=\"195.62093422291923\" />\n",
       "                <rect x=\"-17.631593199236296\" y=\"-17.631593199236296\" width=\"35.26318639847259\" height=\"35.26318639847259\" />\n",
       "                <rect x=\"-60.0631841788254\" y=\"-60.0631841788254\" width=\"120.1263683576508\" height=\"120.1263683576508\" />\n",
       "                <rect x=\"-10.853375985344165\" y=\"-10.853375985344165\" width=\"21.70675197068833\" height=\"21.70675197068833\" />\n",
       "                <rect x=\"-34.1456322823263\" y=\"-34.1456322823263\" width=\"68.2912645646526\" height=\"68.2912645646526\" />\n",
       "                <rect x=\"-120.07680653903628\" y=\"-120.07680653903628\" width=\"240.15361307807257\" height=\"240.15361307807257\" />\n",
       "                <rect x=\"-76.97778372024062\" y=\"-76.97778372024062\" width=\"153.95556744048125\" height=\"153.95556744048125\" />\n",
       "                <rect x=\"-85.66137771095053\" y=\"-85.66137771095053\" width=\"171.32275542190106\" height=\"171.32275542190106\" />\n",
       "              </g>\n",
       "              <g transform=\"translate(75 0) scale(0.5 1)\">\n",
       "                <rect x=\"-19.64833638990239\" y=\"-19.64833638990239\" width=\"39.29667277980478\" height=\"39.29667277980478\" />\n",
       "                <rect x=\"-96.51144366230822\" y=\"-96.51144366230822\" width=\"193.02288732461645\" height=\"193.02288732461645\" />\n",
       "                <rect x=\"-107.15115781984818\" y=\"-107.15115781984818\" width=\"214.30231563969636\" height=\"214.30231563969636\" />\n",
       "                <rect x=\"-72.66288373863645\" y=\"-72.66288373863645\" width=\"145.3257674772729\" height=\"145.3257674772729\" />\n",
       "                <rect x=\"-121.35491786271395\" y=\"-121.35491786271395\" width=\"242.7098357254279\" height=\"242.7098357254279\" />\n",
       "                <rect x=\"-66.11390503887228\" y=\"-66.11390503887228\" width=\"132.22781007774455\" height=\"132.22781007774455\" />\n",
       "                <rect x=\"-115.95719889917457\" y=\"-115.95719889917457\" width=\"231.91439779834914\" height=\"231.91439779834914\" />\n",
       "                <rect x=\"-33.17342804549123\" y=\"-33.17342804549123\" width=\"66.34685609098246\" height=\"66.34685609098246\" />\n",
       "                <rect x=\"-84.270896223624\" y=\"-84.270896223624\" width=\"168.541792447248\" height=\"168.541792447248\" />\n",
       "                <rect x=\"-89.28650677384233\" y=\"-89.28650677384233\" width=\"178.57301354768467\" height=\"178.57301354768467\" />\n",
       "                <rect x=\"-27.438188636663018\" y=\"-27.438188636663018\" width=\"54.876377273326035\" height=\"54.876377273326035\" />\n",
       "                <rect x=\"-51.077526928682104\" y=\"-51.077526928682104\" width=\"102.15505385736421\" height=\"102.15505385736421\" />\n",
       "                <rect x=\"-40.51085649260853\" y=\"-40.51085649260853\" width=\"81.02171298521706\" height=\"81.02171298521706\" />\n",
       "                <rect x=\"-22.64626573479983\" y=\"-22.64626573479983\" width=\"45.29253146959966\" height=\"45.29253146959966\" />\n",
       "                <rect x=\"-69.23876387526327\" y=\"-69.23876387526327\" width=\"138.47752775052655\" height=\"138.47752775052655\" />\n",
       "              </g>\n",
       "            </g>\n",
       "            <g transform=\"translate(0 -75) scale(1 0.5)\">\n",
       "              <g transform=\"translate(-75 0) scale(0.5 1)\">\n",
       "                <rect x=\"-31.177607249193773\" y=\"-31.177607249193773\" width=\"62.35521449838755\" height=\"62.35521449838755\" />\n",
       "                <rect x=\"-83.27938899604631\" y=\"-83.27938899604631\" width=\"166.55877799209262\" height=\"166.55877799209262\" />\n",
       "                <rect x=\"-88.5345418768991\" y=\"-88.5345418768991\" width=\"177.0690837537982\" height=\"177.0690837537982\" />\n",
       "                <rect x=\"-114.75304432617052\" y=\"-114.75304432617052\" width=\"229.50608865234105\" height=\"229.50608865234105\" />\n",
       "                <rect x=\"-104.29738862793\" y=\"-104.29738862793\" width=\"208.59477725586\" height=\"208.59477725586\" />\n",
       "                <rect x=\"-7.479945983512301\" y=\"-7.479945983512301\" width=\"14.959891967024602\" height=\"14.959891967024602\" />\n",
       "                <rect x=\"-116.70998308625917\" y=\"-116.70998308625917\" width=\"233.41996617251834\" height=\"233.41996617251834\" />\n",
       "                <rect x=\"-100.94000670775998\" y=\"-100.94000670775998\" width=\"201.88001341551995\" height=\"201.88001341551995\" />\n",
       "                <rect x=\"-58.643842317801216\" y=\"-58.643842317801216\" width=\"117.28768463560243\" height=\"117.28768463560243\" />\n",
       "                <rect x=\"-72.36482250944492\" y=\"-72.36482250944492\" width=\"144.72964501888984\" height=\"144.72964501888984\" />\n",
       "                <rect x=\"-81.79593247363889\" y=\"-81.79593247363889\" width=\"163.59186494727777\" height=\"163.59186494727777\" />\n",
       "                <rect x=\"-30.02783647242681\" y=\"-30.02783647242681\" width=\"60.05567294485362\" height=\"60.05567294485362\" />\n",
       "                <rect x=\"-120.23005567852675\" y=\"-120.23005567852675\" width=\"240.4601113570535\" height=\"240.4601113570535\" />\n",
       "                <rect x=\"-10.70284849335748\" y=\"-10.70284849335748\" width=\"21.40569698671496\" height=\"21.40569698671496\" />\n",
       "                <rect x=\"-109.77607438203067\" y=\"-109.77607438203067\" width=\"219.55214876406134\" height=\"219.55214876406134\" />\n",
       "              </g>\n",
       "              <g transform=\"translate(75 0) scale(0.5 1)\">\n",
       "                <rect x=\"-72.22935133877984\" y=\"-72.22935133877984\" width=\"144.45870267755967\" height=\"144.45870267755967\" />\n",
       "                <rect x=\"-122.01198694743823\" y=\"-122.01198694743823\" width=\"244.02397389487646\" height=\"244.02397389487646\" />\n",
       "                <rect x=\"-25.10113622104433\" y=\"-25.10113622104433\" width=\"50.20227244208866\" height=\"50.20227244208866\" />\n",
       "                <rect x=\"-103.16686122211925\" y=\"-103.16686122211925\" width=\"206.3337224442385\" height=\"206.3337224442385\" />\n",
       "                <rect x=\"-66.28517435273362\" y=\"-66.28517435273362\" width=\"132.57034870546724\" height=\"132.57034870546724\" />\n",
       "                <rect x=\"-48.320270337488886\" y=\"-48.320270337488886\" width=\"96.64054067497777\" height=\"96.64054067497777\" />\n",
       "                <rect x=\"-106.3388667616053\" y=\"-106.3388667616053\" width=\"212.6777335232106\" height=\"212.6777335232106\" />\n",
       "                <rect x=\"-20.26905126549995\" y=\"-20.26905126549995\" width=\"40.5381025309999\" height=\"40.5381025309999\" />\n",
       "                <rect x=\"-118.18061833849883\" y=\"-118.18061833849883\" width=\"236.36123667699766\" height=\"236.36123667699766\" />\n",
       "                <rect x=\"-36.95020228900808\" y=\"-36.95020228900808\" width=\"73.90040457801616\" height=\"73.90040457801616\" />\n",
       "                <rect x=\"-116.54004938588297\" y=\"-116.54004938588297\" width=\"233.08009877176593\" height=\"233.08009877176593\" />\n",
       "                <rect x=\"-81.48384767632334\" y=\"-81.48384767632334\" width=\"162.96769535264667\" height=\"162.96769535264667\" />\n",
       "                <rect x=\"-122.29174429583826\" y=\"-122.29174429583826\" width=\"244.5834885916765\" height=\"244.5834885916765\" />\n",
       "                <rect x=\"-15.092655344527376\" y=\"-15.092655344527376\" width=\"30.185310689054752\" height=\"30.185310689054752\" />\n",
       "                <rect x=\"-109.60720746829048\" y=\"-109.60720746829048\" width=\"219.21441493658097\" height=\"219.21441493658097\" />\n",
       "              </g>\n",
       "            </g>\n",
       "          </g>\n",
       "        </g>\n",
       "      </g>\n",
       "    </g>\n",
       "    <g transform=\"translate(0 -75) scale(1 0.5)\">\n",
       "      <g transform=\"translate(-75 0) scale(0.5 1)\">\n",
       "        <g transform=\"translate(0 75) scale(1 0.5)\">\n",
       "          <g transform=\"translate(-75 0) scale(0.5 1)\">\n",
       "            <g transform=\"translate(0 75) scale(1 0.5)\">\n",
       "              <g transform=\"translate(-75 0) scale(0.5 1)\">\n",
       "                <rect x=\"-46.73754673965597\" y=\"-46.73754673965597\" width=\"93.47509347931194\" height=\"93.47509347931194\" />\n",
       "                <rect x=\"-59.585543336327056\" y=\"-59.585543336327056\" width=\"119.17108667265411\" height=\"119.17108667265411\" />\n",
       "                <rect x=\"-36.271230420927395\" y=\"-36.271230420927395\" width=\"72.54246084185479\" height=\"72.54246084185479\" />\n",
       "                <rect x=\"-117.2568571522346\" y=\"-117.2568571522346\" width=\"234.5137143044692\" height=\"234.5137143044692\" />\n",
       "                <rect x=\"-27.02201135063825\" y=\"-27.02201135063825\" width=\"54.0440227012765\" height=\"54.0440227012765\" />\n",
       "                <rect x=\"-35.87568444557465\" y=\"-35.87568444557465\" width=\"71.7513688911493\" height=\"71.7513688911493\" />\n",
       "                <rect x=\"-69.37360014086488\" y=\"-69.37360014086488\" width=\"138.74720028172976\" height=\"138.74720028172976\" />\n",
       "                <rect x=\"-91.42180043599802\" y=\"-91.42180043599802\" width=\"182.84360087199605\" height=\"182.84360087199605\" />\n",
       "                <rect x=\"-116.79027622554557\" y=\"-116.79027622554557\" width=\"233.58055245109114\" height=\"233.58055245109114\" />\n",
       "                <rect x=\"-37.05197659227427\" y=\"-37.05197659227427\" width=\"74.10395318454854\" height=\"74.10395318454854\" />\n",
       "                <rect x=\"-121.63081297699168\" y=\"-121.63081297699168\" width=\"243.26162595398335\" height=\"243.26162595398335\" />\n",
       "                <rect x=\"-112.72489428648028\" y=\"-112.72489428648028\" width=\"225.44978857296056\" height=\"225.44978857296056\" />\n",
       "                <rect x=\"-86.51080211545249\" y=\"-86.51080211545249\" width=\"173.02160423090498\" height=\"173.02160423090498\" />\n",
       "                <rect x=\"-4.732214584565616\" y=\"-4.732214584565616\" width=\"9.464429169131233\" height=\"9.464429169131233\" />\n",
       "                <rect x=\"-93.78578228032696\" y=\"-93.78578228032696\" width=\"187.5715645606539\" height=\"187.5715645606539\" />\n",
       "              </g>\n",
       "              <g transform=\"translate(75 0) scale(0.5 1)\">\n",
       "                <rect x=\"-117.02500386036336\" y=\"-117.02500386036336\" width=\"234.0500077207267\" height=\"234.0500077207267\" />\n",
       "                <rect x=\"-124.52701749580433\" y=\"-124.52701749580433\" width=\"249.05403499160866\" height=\"249.05403499160866\" />\n",
       "                <rect x=\"-41.863300922706614\" y=\"-41.863300922706614\" width=\"83.72660184541323\" height=\"83.72660184541323\" />\n",
       "                <rect x=\"-115.5384849978722\" y=\"-115.5384849978722\" width=\"231.0769699957444\" height=\"231.0769699957444\" />\n",
       "                <rect x=\"-31.107538856425435\" y=\"-31.107538856425435\" width=\"62.21507771285087\" height=\"62.21507771285087\" />\n",
       "                <rect x=\"-44.65642049042061\" y=\"-44.65642049042061\" width=\"89.31284098084122\" height=\"89.31284098084122\" />\n",
       "                <rect x=\"-67.37074993148207\" y=\"-67.37074993148207\" width=\"134.74149986296413\" height=\"134.74149986296413\" />\n",
       "                <rect x=\"-48.72752354143923\" y=\"-48.72752354143923\" width=\"97.45504708287847\" height=\"97.45504708287847\" />\n",
       "                <rect x=\"-0.910400436698447\" y=\"-0.910400436698447\" width=\"1.820800873396894\" height=\"1.820800873396894\" />\n",
       "                <rect x=\"-58.72529331112858\" y=\"-58.72529331112858\" width=\"117.45058662225716\" height=\"117.45058662225716\" />\n",
       "                <rect x=\"-115.06938467000026\" y=\"-115.06938467000026\" width=\"230.13876934000052\" height=\"230.13876934000052\" />\n",
       "                <rect x=\"-98.41194629781161\" y=\"-98.41194629781161\" width=\"196.82389259562322\" height=\"196.82389259562322\" />\n",
       "                <rect x=\"-84.43884307568977\" y=\"-84.43884307568977\" width=\"168.87768615137955\" height=\"168.87768615137955\" />\n",
       "                <rect x=\"-69.95046915453598\" y=\"-69.95046915453598\" width=\"139.90093830907196\" height=\"139.90093830907196\" />\n",
       "                <rect x=\"-122.4694396351385\" y=\"-122.4694396351385\" width=\"244.938879270277\" height=\"244.938879270277\" />\n",
       "              </g>\n",
       "            </g>\n",
       "            <g transform=\"translate(0 -75) scale(1 0.5)\">\n",
       "              <g transform=\"translate(-75 0) scale(0.5 1)\">\n",
       "                <rect x=\"-36.6409550295462\" y=\"-36.6409550295462\" width=\"73.2819100590924\" height=\"73.2819100590924\" />\n",
       "                <rect x=\"-59.952504907834005\" y=\"-59.952504907834005\" width=\"119.90500981566801\" height=\"119.90500981566801\" />\n",
       "                <rect x=\"-41.952828100270594\" y=\"-41.952828100270594\" width=\"83.90565620054119\" height=\"83.90565620054119\" />\n",
       "                <rect x=\"-84.15718816751281\" y=\"-84.15718816751281\" width=\"168.31437633502563\" height=\"168.31437633502563\" />\n",
       "                <rect x=\"-20.883808690192392\" y=\"-20.883808690192392\" width=\"41.767617380384785\" height=\"41.767617380384785\" />\n",
       "                <rect x=\"-70.79361952775919\" y=\"-70.79361952775919\" width=\"141.58723905551838\" height=\"141.58723905551838\" />\n",
       "                <rect x=\"-88.70687108966882\" y=\"-88.70687108966882\" width=\"177.41374217933765\" height=\"177.41374217933765\" />\n",
       "                <rect x=\"-98.20872606209409\" y=\"-98.20872606209409\" width=\"196.41745212418817\" height=\"196.41745212418817\" />\n",
       "                <rect x=\"-63.58656600744155\" y=\"-63.58656600744155\" width=\"127.1731320148831\" height=\"127.1731320148831\" />\n",
       "                <rect x=\"-10.524388938158394\" y=\"-10.524388938158394\" width=\"21.048777876316787\" height=\"21.048777876316787\" />\n",
       "                <rect x=\"-23.19523134466092\" y=\"-23.19523134466092\" width=\"46.39046268932184\" height=\"46.39046268932184\" />\n",
       "                <rect x=\"-33.8806347064754\" y=\"-33.8806347064754\" width=\"67.7612694129508\" height=\"67.7612694129508\" />\n",
       "                <rect x=\"-51.19753289606288\" y=\"-51.19753289606288\" width=\"102.39506579212576\" height=\"102.39506579212576\" />\n",
       "                <rect x=\"-15.251626702692075\" y=\"-15.251626702692075\" width=\"30.50325340538415\" height=\"30.50325340538415\" />\n",
       "                <rect x=\"-69.36976915864263\" y=\"-69.36976915864263\" width=\"138.73953831728525\" height=\"138.73953831728525\" />\n",
       "              </g>\n",
       "              <g transform=\"translate(75 0) scale(0.5 1)\">\n",
       "                <rect x=\"-54.55473938434208\" y=\"-54.55473938434208\" width=\"109.10947876868416\" height=\"109.10947876868416\" />\n",
       "                <rect x=\"-120.47743957028533\" y=\"-120.47743957028533\" width=\"240.95487914057065\" height=\"240.95487914057065\" />\n",
       "                <rect x=\"-82.15056148540613\" y=\"-82.15056148540613\" width=\"164.30112297081226\" height=\"164.30112297081226\" />\n",
       "                <rect x=\"-65.00877690226132\" y=\"-65.00877690226132\" width=\"130.01755380452263\" height=\"130.01755380452263\" />\n",
       "                <rect x=\"-104.6458399550684\" y=\"-104.6458399550684\" width=\"209.2916799101368\" height=\"209.2916799101368\" />\n",
       "                <rect x=\"-119.86756714355909\" y=\"-119.86756714355909\" width=\"239.73513428711817\" height=\"239.73513428711817\" />\n",
       "                <rect x=\"-112.4969722668435\" y=\"-112.4969722668435\" width=\"224.993944533687\" height=\"224.993944533687\" />\n",
       "                <rect x=\"-98.35604462554684\" y=\"-98.35604462554684\" width=\"196.7120892510937\" height=\"196.7120892510937\" />\n",
       "                <rect x=\"-49.540383769378025\" y=\"-49.540383769378025\" width=\"99.08076753875605\" height=\"99.08076753875605\" />\n",
       "                <rect x=\"-24.433359373396925\" y=\"-24.433359373396925\" width=\"48.86671874679385\" height=\"48.86671874679385\" />\n",
       "                <rect x=\"-71.95710027663202\" y=\"-71.95710027663202\" width=\"143.91420055326404\" height=\"143.91420055326404\" />\n",
       "                <rect x=\"-92.37176262436836\" y=\"-92.37176262436836\" width=\"184.74352524873672\" height=\"184.74352524873672\" />\n",
       "                <rect x=\"-96.22347077689075\" y=\"-96.22347077689075\" width=\"192.4469415537815\" height=\"192.4469415537815\" />\n",
       "                <rect x=\"-65.61419133995247\" y=\"-65.61419133995247\" width=\"131.22838267990494\" height=\"131.22838267990494\" />\n",
       "                <rect x=\"-9.875799194776436\" y=\"-9.875799194776436\" width=\"19.75159838955287\" height=\"19.75159838955287\" />\n",
       "              </g>\n",
       "            </g>\n",
       "          </g>\n",
       "          <g transform=\"translate(75 0) scale(0.5 1)\">\n",
       "            <g transform=\"translate(0 75) scale(1 0.5)\">\n",
       "              <g transform=\"translate(-75 0) scale(0.5 1)\">\n",
       "                <rect x=\"-109.85079112346548\" y=\"-109.85079112346548\" width=\"219.70158224693097\" height=\"219.70158224693097\" />\n",
       "                <rect x=\"-112.71803262753781\" y=\"-112.71803262753781\" width=\"225.43606525507562\" height=\"225.43606525507562\" />\n",
       "                <rect x=\"-124.63507628724815\" y=\"-124.63507628724815\" width=\"249.2701525744963\" height=\"249.2701525744963\" />\n",
       "                <rect x=\"-53.79215113523153\" y=\"-53.79215113523153\" width=\"107.58430227046306\" height=\"107.58430227046306\" />\n",
       "                <rect x=\"-69.51745506527377\" y=\"-69.51745506527377\" width=\"139.03491013054753\" height=\"139.03491013054753\" />\n",
       "                <rect x=\"-57.41287467101654\" y=\"-57.41287467101654\" width=\"114.82574934203308\" height=\"114.82574934203308\" />\n",
       "                <rect x=\"-6.13098056565628\" y=\"-6.13098056565628\" width=\"12.26196113131256\" height=\"12.26196113131256\" />\n",
       "                <rect x=\"-7.796557055251202\" y=\"-7.796557055251202\" width=\"15.593114110502404\" height=\"15.593114110502404\" />\n",
       "                <rect x=\"-122.26031403664277\" y=\"-122.26031403664277\" width=\"244.52062807328554\" height=\"244.52062807328554\" />\n",
       "                <rect x=\"-75.37771540140484\" y=\"-75.37771540140484\" width=\"150.75543080280968\" height=\"150.75543080280968\" />\n",
       "                <rect x=\"-91.94014418982715\" y=\"-91.94014418982715\" width=\"183.8802883796543\" height=\"183.8802883796543\" />\n",
       "                <rect x=\"-78.92262933796408\" y=\"-78.92262933796408\" width=\"157.84525867592816\" height=\"157.84525867592816\" />\n",
       "                <rect x=\"-34.525994498612725\" y=\"-34.525994498612725\" width=\"69.05198899722545\" height=\"69.05198899722545\" />\n",
       "                <rect x=\"-41.29540494415884\" y=\"-41.29540494415884\" width=\"82.59080988831768\" height=\"82.59080988831768\" />\n",
       "                <rect x=\"-55.76840311057317\" y=\"-55.76840311057317\" width=\"111.53680622114634\" height=\"111.53680622114634\" />\n",
       "              </g>\n",
       "              <g transform=\"translate(75 0) scale(0.5 1)\">\n",
       "                <rect x=\"-123.00705191448284\" y=\"-123.00705191448284\" width=\"246.0141038289657\" height=\"246.0141038289657\" />\n",
       "                <rect x=\"-57.297907005631785\" y=\"-57.297907005631785\" width=\"114.59581401126357\" height=\"114.59581401126357\" />\n",
       "                <rect x=\"-69.52694196690138\" y=\"-69.52694196690138\" width=\"139.05388393380275\" height=\"139.05388393380275\" />\n",
       "                <rect x=\"-28.174317958017266\" y=\"-28.174317958017266\" width=\"56.34863591603453\" height=\"56.34863591603453\" />\n",
       "                <rect x=\"-83.32352869776345\" y=\"-83.32352869776345\" width=\"166.6470573955269\" height=\"166.6470573955269\" />\n",
       "                <rect x=\"-85.5418579185138\" y=\"-85.5418579185138\" width=\"171.0837158370276\" height=\"171.0837158370276\" />\n",
       "                <rect x=\"-4.304844501412525\" y=\"-4.304844501412525\" width=\"8.60968900282505\" height=\"8.60968900282505\" />\n",
       "                <rect x=\"-39.41749920687135\" y=\"-39.41749920687135\" width=\"78.8349984137427\" height=\"78.8349984137427\" />\n",
       "                <rect x=\"-89.68786008583065\" y=\"-89.68786008583065\" width=\"179.3757201716613\" height=\"179.3757201716613\" />\n",
       "                <rect x=\"-53.00514825787582\" y=\"-53.00514825787582\" width=\"106.01029651575163\" height=\"106.01029651575163\" />\n",
       "                <rect x=\"-96.82276819317633\" y=\"-96.82276819317633\" width=\"193.64553638635266\" height=\"193.64553638635266\" />\n",
       "                <rect x=\"-36.77547931356118\" y=\"-36.77547931356118\" width=\"73.55095862712236\" height=\"73.55095862712236\" />\n",
       "                <rect x=\"-35.3099107394384\" y=\"-35.3099107394384\" width=\"70.6198214788768\" height=\"70.6198214788768\" />\n",
       "                <rect x=\"-35.6662246985017\" y=\"-35.6662246985017\" width=\"71.3324493970034\" height=\"71.3324493970034\" />\n",
       "                <rect x=\"-41.1315641833466\" y=\"-41.1315641833466\" width=\"82.2631283666932\" height=\"82.2631283666932\" />\n",
       "              </g>\n",
       "            </g>\n",
       "            <g transform=\"translate(0 -75) scale(1 0.5)\">\n",
       "              <g transform=\"translate(-75 0) scale(0.5 1)\">\n",
       "                <rect x=\"-70.75030970636513\" y=\"-70.75030970636513\" width=\"141.50061941273026\" height=\"141.50061941273026\" />\n",
       "                <rect x=\"-99.91032714689771\" y=\"-99.91032714689771\" width=\"199.82065429379543\" height=\"199.82065429379543\" />\n",
       "                <rect x=\"-122.79910862429838\" y=\"-122.79910862429838\" width=\"245.59821724859677\" height=\"245.59821724859677\" />\n",
       "                <rect x=\"-89.5423421046298\" y=\"-89.5423421046298\" width=\"179.0846842092596\" height=\"179.0846842092596\" />\n",
       "                <rect x=\"-27.54844395432228\" y=\"-27.54844395432228\" width=\"55.09688790864456\" height=\"55.09688790864456\" />\n",
       "                <rect x=\"-117.85938519717627\" y=\"-117.85938519717627\" width=\"235.71877039435253\" height=\"235.71877039435253\" />\n",
       "                <rect x=\"-112.98504283418798\" y=\"-112.98504283418798\" width=\"225.97008566837596\" height=\"225.97008566837596\" />\n",
       "                <rect x=\"-105.93289479707647\" y=\"-105.93289479707647\" width=\"211.86578959415294\" height=\"211.86578959415294\" />\n",
       "                <rect x=\"-120.16980599887714\" y=\"-120.16980599887714\" width=\"240.33961199775428\" height=\"240.33961199775428\" />\n",
       "                <rect x=\"-114.3237693829922\" y=\"-114.3237693829922\" width=\"228.6475387659844\" height=\"228.6475387659844\" />\n",
       "                <rect x=\"-57.61871920944626\" y=\"-57.61871920944626\" width=\"115.23743841889252\" height=\"115.23743841889252\" />\n",
       "                <rect x=\"-52.99963348217899\" y=\"-52.99963348217899\" width=\"105.99926696435799\" height=\"105.99926696435799\" />\n",
       "                <rect x=\"-63.060885944629355\" y=\"-63.060885944629355\" width=\"126.12177188925871\" height=\"126.12177188925871\" />\n",
       "                <rect x=\"-71.65140001867029\" y=\"-71.65140001867029\" width=\"143.30280003734057\" height=\"143.30280003734057\" />\n",
       "                <rect x=\"-82.75110009613181\" y=\"-82.75110009613181\" width=\"165.50220019226362\" height=\"165.50220019226362\" />\n",
       "              </g>\n",
       "              <g transform=\"translate(75 0) scale(0.5 1)\">\n",
       "                <rect x=\"-32.31899532329012\" y=\"-32.31899532329012\" width=\"64.63799064658023\" height=\"64.63799064658023\" />\n",
       "                <rect x=\"-5.449225477895461\" y=\"-5.449225477895461\" width=\"10.898450955790922\" height=\"10.898450955790922\" />\n",
       "                <rect x=\"-43.839847562578946\" y=\"-43.839847562578946\" width=\"87.67969512515789\" height=\"87.67969512515789\" />\n",
       "                <rect x=\"-11.969960801409801\" y=\"-11.969960801409801\" width=\"23.939921602819602\" height=\"23.939921602819602\" />\n",
       "                <rect x=\"-9.658518509840826\" y=\"-9.658518509840826\" width=\"19.317037019681653\" height=\"19.317037019681653\" />\n",
       "                <rect x=\"-63.467037073890566\" y=\"-63.467037073890566\" width=\"126.93407414778113\" height=\"126.93407414778113\" />\n",
       "                <rect x=\"-24.572388728232834\" y=\"-24.572388728232834\" width=\"49.14477745646567\" height=\"49.14477745646567\" />\n",
       "                <rect x=\"-114.02692312083101\" y=\"-114.02692312083101\" width=\"228.05384624166203\" height=\"228.05384624166203\" />\n",
       "                <rect x=\"-71.27856042974788\" y=\"-71.27856042974788\" width=\"142.55712085949577\" height=\"142.55712085949577\" />\n",
       "                <rect x=\"-105.87516747996706\" y=\"-105.87516747996706\" width=\"211.75033495993412\" height=\"211.75033495993412\" />\n",
       "                <rect x=\"-112.75402202939065\" y=\"-112.75402202939065\" width=\"225.5080440587813\" height=\"225.5080440587813\" />\n",
       "                <rect x=\"-41.572751319936664\" y=\"-41.572751319936664\" width=\"83.14550263987333\" height=\"83.14550263987333\" />\n",
       "                <rect x=\"-78.47324349151296\" y=\"-78.47324349151296\" width=\"156.94648698302592\" height=\"156.94648698302592\" />\n",
       "                <rect x=\"-1.1768631671547207\" y=\"-1.1768631671547207\" width=\"2.3537263343094414\" height=\"2.3537263343094414\" />\n",
       "                <rect x=\"-23.55683191886454\" y=\"-23.55683191886454\" width=\"47.11366383772908\" height=\"47.11366383772908\" />\n",
       "              </g>\n",
       "            </g>\n",
       "          </g>\n",
       "        </g>\n",
       "        <g transform=\"translate(0 -75) scale(1 0.5)\">\n",
       "          <g transform=\"translate(-75 0) scale(0.5 1)\">\n",
       "            <g transform=\"translate(0 75) scale(1 0.5)\">\n",
       "              <g transform=\"translate(-75 0) scale(0.5 1)\">\n",
       "                <rect x=\"-111.48303159123577\" y=\"-111.48303159123577\" width=\"222.96606318247154\" height=\"222.96606318247154\" />\n",
       "                <rect x=\"-2.3461866408807515\" y=\"-2.3461866408807515\" width=\"4.692373281761503\" height=\"4.692373281761503\" />\n",
       "                <rect x=\"-106.95942593505029\" y=\"-106.95942593505029\" width=\"213.91885187010058\" height=\"213.91885187010058\" />\n",
       "                <rect x=\"-5.064394434557334\" y=\"-5.064394434557334\" width=\"10.128788869114668\" height=\"10.128788869114668\" />\n",
       "                <rect x=\"-121.08744043917376\" y=\"-121.08744043917376\" width=\"242.17488087834752\" height=\"242.17488087834752\" />\n",
       "                <rect x=\"-87.4165602361506\" y=\"-87.4165602361506\" width=\"174.8331204723012\" height=\"174.8331204723012\" />\n",
       "                <rect x=\"-1.3787540614565303\" y=\"-1.3787540614565303\" width=\"2.7575081229130607\" height=\"2.7575081229130607\" />\n",
       "                <rect x=\"-72.60829350043039\" y=\"-72.60829350043039\" width=\"145.21658700086078\" height=\"145.21658700086078\" />\n",
       "                <rect x=\"-33.21325493251956\" y=\"-33.21325493251956\" width=\"66.42650986503912\" height=\"66.42650986503912\" />\n",
       "                <rect x=\"-107.36082066005656\" y=\"-107.36082066005656\" width=\"214.72164132011312\" height=\"214.72164132011312\" />\n",
       "                <rect x=\"-110.73080099096302\" y=\"-110.73080099096302\" width=\"221.46160198192604\" height=\"221.46160198192604\" />\n",
       "                <rect x=\"-62.92031542916164\" y=\"-62.92031542916164\" width=\"125.84063085832328\" height=\"125.84063085832328\" />\n",
       "                <rect x=\"-58.83120584432007\" y=\"-58.83120584432007\" width=\"117.66241168864013\" height=\"117.66241168864013\" />\n",
       "                <rect x=\"-97.84838513647591\" y=\"-97.84838513647591\" width=\"195.69677027295182\" height=\"195.69677027295182\" />\n",
       "                <rect x=\"-6.813928977411357\" y=\"-6.813928977411357\" width=\"13.627857954822714\" height=\"13.627857954822714\" />\n",
       "              </g>\n",
       "              <g transform=\"translate(75 0) scale(0.5 1)\">\n",
       "                <rect x=\"-79.07381456043727\" y=\"-79.07381456043727\" width=\"158.14762912087454\" height=\"158.14762912087454\" />\n",
       "                <rect x=\"-118.64209439999733\" y=\"-118.64209439999733\" width=\"237.28418879999467\" height=\"237.28418879999467\" />\n",
       "                <rect x=\"-13.956875200248021\" y=\"-13.956875200248021\" width=\"27.913750400496042\" height=\"27.913750400496042\" />\n",
       "                <rect x=\"-21.401113399662414\" y=\"-21.401113399662414\" width=\"42.80222679932483\" height=\"42.80222679932483\" />\n",
       "                <rect x=\"-67.36911090116803\" y=\"-67.36911090116803\" width=\"134.73822180233606\" height=\"134.73822180233606\" />\n",
       "                <rect x=\"-32.10977983068723\" y=\"-32.10977983068723\" width=\"64.21955966137446\" height=\"64.21955966137446\" />\n",
       "                <rect x=\"-103.41019510863755\" y=\"-103.41019510863755\" width=\"206.8203902172751\" height=\"206.8203902172751\" />\n",
       "                <rect x=\"-106.90308483303052\" y=\"-106.90308483303052\" width=\"213.80616966606104\" height=\"213.80616966606104\" />\n",
       "                <rect x=\"-104.83256802349088\" y=\"-104.83256802349088\" width=\"209.66513604698176\" height=\"209.66513604698176\" />\n",
       "                <rect x=\"-21.269652569238684\" y=\"-21.269652569238684\" width=\"42.53930513847737\" height=\"42.53930513847737\" />\n",
       "                <rect x=\"-97.03819414003013\" y=\"-97.03819414003013\" width=\"194.07638828006026\" height=\"194.07638828006026\" />\n",
       "                <rect x=\"-2.6271570892556633\" y=\"-2.6271570892556633\" width=\"5.2543141785113265\" height=\"5.2543141785113265\" />\n",
       "                <rect x=\"-21.496837796253956\" y=\"-21.496837796253956\" width=\"42.99367559250791\" height=\"42.99367559250791\" />\n",
       "                <rect x=\"-48.623097454818826\" y=\"-48.623097454818826\" width=\"97.24619490963765\" height=\"97.24619490963765\" />\n",
       "                <rect x=\"-92.37193029493469\" y=\"-92.37193029493469\" width=\"184.74386058986937\" height=\"184.74386058986937\" />\n",
       "              </g>\n",
       "            </g>\n",
       "            <g transform=\"translate(0 -75) scale(1 0.5)\">\n",
       "              <g transform=\"translate(-75 0) scale(0.5 1)\">\n",
       "                <rect x=\"-76.3687625022125\" y=\"-76.3687625022125\" width=\"152.737525004425\" height=\"152.737525004425\" />\n",
       "                <rect x=\"-106.10174661637372\" y=\"-106.10174661637372\" width=\"212.20349323274743\" height=\"212.20349323274743\" />\n",
       "                <rect x=\"-18.54538700702911\" y=\"-18.54538700702911\" width=\"37.09077401405822\" height=\"37.09077401405822\" />\n",
       "                <rect x=\"-111.05528672298296\" y=\"-111.05528672298296\" width=\"222.1105734459659\" height=\"222.1105734459659\" />\n",
       "                <rect x=\"-16.301985684206556\" y=\"-16.301985684206556\" width=\"32.60397136841311\" height=\"32.60397136841311\" />\n",
       "                <rect x=\"-107.52985417366368\" y=\"-107.52985417366368\" width=\"215.05970834732736\" height=\"215.05970834732736\" />\n",
       "                <rect x=\"-44.85273091206314\" y=\"-44.85273091206314\" width=\"89.70546182412627\" height=\"89.70546182412627\" />\n",
       "                <rect x=\"-117.72908609179903\" y=\"-117.72908609179903\" width=\"235.45817218359807\" height=\"235.45817218359807\" />\n",
       "                <rect x=\"-8.415128450525735\" y=\"-8.415128450525735\" width=\"16.83025690105147\" height=\"16.83025690105147\" />\n",
       "                <rect x=\"-44.010542535899724\" y=\"-44.010542535899724\" width=\"88.02108507179945\" height=\"88.02108507179945\" />\n",
       "                <rect x=\"-14.779807816969761\" y=\"-14.779807816969761\" width=\"29.559615633939522\" height=\"29.559615633939522\" />\n",
       "                <rect x=\"-41.0071212869816\" y=\"-41.0071212869816\" width=\"82.0142425739632\" height=\"82.0142425739632\" />\n",
       "                <rect x=\"-2.0188607810142924\" y=\"-2.0188607810142924\" width=\"4.037721562028585\" height=\"4.037721562028585\" />\n",
       "                <rect x=\"-43.04137704137391\" y=\"-43.04137704137391\" width=\"86.08275408274783\" height=\"86.08275408274783\" />\n",
       "                <rect x=\"-84.69834188883044\" y=\"-84.69834188883044\" width=\"169.39668377766088\" height=\"169.39668377766088\" />\n",
       "              </g>\n",
       "              <g transform=\"translate(75 0) scale(0.5 1)\">\n",
       "                <rect x=\"-75.26231555646923\" y=\"-75.26231555646923\" width=\"150.52463111293847\" height=\"150.52463111293847\" />\n",
       "                <rect x=\"-104.27339793227273\" y=\"-104.27339793227273\" width=\"208.54679586454546\" height=\"208.54679586454546\" />\n",
       "                <rect x=\"-112.7924793420321\" y=\"-112.7924793420321\" width=\"225.5849586840642\" height=\"225.5849586840642\" />\n",
       "                <rect x=\"-34.11819832071733\" y=\"-34.11819832071733\" width=\"68.23639664143467\" height=\"68.23639664143467\" />\n",
       "                <rect x=\"-84.72498638664888\" y=\"-84.72498638664888\" width=\"169.44997277329776\" height=\"169.44997277329776\" />\n",
       "                <rect x=\"-44.914473945047106\" y=\"-44.914473945047106\" width=\"89.82894789009421\" height=\"89.82894789009421\" />\n",
       "                <rect x=\"-38.684919355610816\" y=\"-38.684919355610816\" width=\"77.36983871122163\" height=\"77.36983871122163\" />\n",
       "                <rect x=\"-58.654007055198704\" y=\"-58.654007055198704\" width=\"117.30801411039741\" height=\"117.30801411039741\" />\n",
       "                <rect x=\"-101.07016588857118\" y=\"-101.07016588857118\" width=\"202.14033177714236\" height=\"202.14033177714236\" />\n",
       "                <rect x=\"-45.226100171832314\" y=\"-45.226100171832314\" width=\"90.45220034366463\" height=\"90.45220034366463\" />\n",
       "                <rect x=\"-37.3422197899691\" y=\"-37.3422197899691\" width=\"74.6844395799382\" height=\"74.6844395799382\" />\n",
       "                <rect x=\"-26.965432809537713\" y=\"-26.965432809537713\" width=\"53.930865619075426\" height=\"53.930865619075426\" />\n",
       "                <rect x=\"-9.548378476310237\" y=\"-9.548378476310237\" width=\"19.096756952620474\" height=\"19.096756952620474\" />\n",
       "                <rect x=\"-61.89319091031499\" y=\"-61.89319091031499\" width=\"123.78638182062998\" height=\"123.78638182062998\" />\n",
       "                <rect x=\"-1.1856446779764522\" y=\"-1.1856446779764522\" width=\"2.3712893559529045\" height=\"2.3712893559529045\" />\n",
       "              </g>\n",
       "            </g>\n",
       "          </g>\n",
       "          <g transform=\"translate(75 0) scale(0.5 1)\">\n",
       "            <g transform=\"translate(0 75) scale(1 0.5)\">\n",
       "              <g transform=\"translate(-75 0) scale(0.5 1)\">\n",
       "                <rect x=\"-1.5547506163615943\" y=\"-1.5547506163615943\" width=\"3.1095012327231886\" height=\"3.1095012327231886\" />\n",
       "                <rect x=\"-81.57553058104007\" y=\"-81.57553058104007\" width=\"163.15106116208014\" height=\"163.15106116208014\" />\n",
       "                <rect x=\"-38.42515291049293\" y=\"-38.42515291049293\" width=\"76.85030582098587\" height=\"76.85030582098587\" />\n",
       "                <rect x=\"-108.310326441784\" y=\"-108.310326441784\" width=\"216.620652883568\" height=\"216.620652883568\" />\n",
       "                <rect x=\"-31.088085352550685\" y=\"-31.088085352550685\" width=\"62.17617070510137\" height=\"62.17617070510137\" />\n",
       "                <rect x=\"-76.85458651051235\" y=\"-76.85458651051235\" width=\"153.7091730210247\" height=\"153.7091730210247\" />\n",
       "                <rect x=\"-6.9800847426207815\" y=\"-6.9800847426207815\" width=\"13.960169485241563\" height=\"13.960169485241563\" />\n",
       "                <rect x=\"-44.22708041353459\" y=\"-44.22708041353459\" width=\"88.45416082706917\" height=\"88.45416082706917\" />\n",
       "                <rect x=\"-19.128852368634153\" y=\"-19.128852368634153\" width=\"38.257704737268305\" height=\"38.257704737268305\" />\n",
       "                <rect x=\"-96.36784170987578\" y=\"-96.36784170987578\" width=\"192.73568341975155\" height=\"192.73568341975155\" />\n",
       "                <rect x=\"-54.11668426718742\" y=\"-54.11668426718742\" width=\"108.23336853437485\" height=\"108.23336853437485\" />\n",
       "                <rect x=\"-93.32441107931656\" y=\"-93.32441107931656\" width=\"186.64882215863312\" height=\"186.64882215863312\" />\n",
       "                <rect x=\"-31.017193312718142\" y=\"-31.017193312718142\" width=\"62.034386625436284\" height=\"62.034386625436284\" />\n",
       "                <rect x=\"-67.04521821970265\" y=\"-67.04521821970265\" width=\"134.0904364394053\" height=\"134.0904364394053\" />\n",
       "                <rect x=\"-64.39991288861415\" y=\"-64.39991288861415\" width=\"128.7998257772283\" height=\"128.7998257772283\" />\n",
       "              </g>\n",
       "              <g transform=\"translate(75 0) scale(0.5 1)\">\n",
       "                <rect x=\"-109.60716165625783\" y=\"-109.60716165625783\" width=\"219.21432331251566\" height=\"219.21432331251566\" />\n",
       "                <rect x=\"-54.01082229219398\" y=\"-54.01082229219398\" width=\"108.02164458438796\" height=\"108.02164458438796\" />\n",
       "                <rect x=\"-111.31317709783387\" y=\"-111.31317709783387\" width=\"222.62635419566774\" height=\"222.62635419566774\" />\n",
       "                <rect x=\"-111.02845583586132\" y=\"-111.02845583586132\" width=\"222.05691167172264\" height=\"222.05691167172264\" />\n",
       "                <rect x=\"-122.44801152788816\" y=\"-122.44801152788816\" width=\"244.8960230557763\" height=\"244.8960230557763\" />\n",
       "                <rect x=\"-27.132990071936064\" y=\"-27.132990071936064\" width=\"54.26598014387213\" height=\"54.26598014387213\" />\n",
       "                <rect x=\"-23.70494925713591\" y=\"-23.70494925713591\" width=\"47.40989851427182\" height=\"47.40989851427182\" />\n",
       "                <rect x=\"-56.98622247405991\" y=\"-56.98622247405991\" width=\"113.97244494811981\" height=\"113.97244494811981\" />\n",
       "                <rect x=\"-43.31894839486232\" y=\"-43.31894839486232\" width=\"86.63789678972464\" height=\"86.63789678972464\" />\n",
       "                <rect x=\"-68.59572543351547\" y=\"-68.59572543351547\" width=\"137.19145086703094\" height=\"137.19145086703094\" />\n",
       "                <rect x=\"-58.80257406441805\" y=\"-58.80257406441805\" width=\"117.6051481288361\" height=\"117.6051481288361\" />\n",
       "                <rect x=\"-20.154997159724992\" y=\"-20.154997159724992\" width=\"40.309994319449984\" height=\"40.309994319449984\" />\n",
       "                <rect x=\"-66.51261376611771\" y=\"-66.51261376611771\" width=\"133.02522753223542\" height=\"133.02522753223542\" />\n",
       "                <rect x=\"-72.23661911584763\" y=\"-72.23661911584763\" width=\"144.47323823169526\" height=\"144.47323823169526\" />\n",
       "                <rect x=\"-93.38585429303244\" y=\"-93.38585429303244\" width=\"186.77170858606488\" height=\"186.77170858606488\" />\n",
       "              </g>\n",
       "            </g>\n",
       "            <g transform=\"translate(0 -75) scale(1 0.5)\">\n",
       "              <g transform=\"translate(-75 0) scale(0.5 1)\">\n",
       "                <rect x=\"-122.25002167479987\" y=\"-122.25002167479987\" width=\"244.50004334959974\" height=\"244.50004334959974\" />\n",
       "                <rect x=\"-104.18785102509169\" y=\"-104.18785102509169\" width=\"208.37570205018338\" height=\"208.37570205018338\" />\n",
       "                <rect x=\"-41.46040533577283\" y=\"-41.46040533577283\" width=\"82.92081067154567\" height=\"82.92081067154567\" />\n",
       "                <rect x=\"-73.22855840084013\" y=\"-73.22855840084013\" width=\"146.45711680168026\" height=\"146.45711680168026\" />\n",
       "                <rect x=\"-119.19154114350991\" y=\"-119.19154114350991\" width=\"238.38308228701982\" height=\"238.38308228701982\" />\n",
       "                <rect x=\"-103.9606169722828\" y=\"-103.9606169722828\" width=\"207.9212339445656\" height=\"207.9212339445656\" />\n",
       "                <rect x=\"-63.115706512723776\" y=\"-63.115706512723776\" width=\"126.23141302544755\" height=\"126.23141302544755\" />\n",
       "                <rect x=\"-18.376012345343458\" y=\"-18.376012345343458\" width=\"36.752024690686916\" height=\"36.752024690686916\" />\n",
       "                <rect x=\"-65.75875142417947\" y=\"-65.75875142417947\" width=\"131.51750284835893\" height=\"131.51750284835893\" />\n",
       "                <rect x=\"-52.36813188094094\" y=\"-52.36813188094094\" width=\"104.73626376188189\" height=\"104.73626376188189\" />\n",
       "                <rect x=\"-104.3532183238644\" y=\"-104.3532183238644\" width=\"208.7064366477288\" height=\"208.7064366477288\" />\n",
       "                <rect x=\"-25.494866453264738\" y=\"-25.494866453264738\" width=\"50.989732906529476\" height=\"50.989732906529476\" />\n",
       "                <rect x=\"-75.96468160221515\" y=\"-75.96468160221515\" width=\"151.9293632044303\" height=\"151.9293632044303\" />\n",
       "                <rect x=\"-71.2500897728475\" y=\"-71.2500897728475\" width=\"142.500179545695\" height=\"142.500179545695\" />\n",
       "                <rect x=\"-24.87276929634828\" y=\"-24.87276929634828\" width=\"49.74553859269656\" height=\"49.74553859269656\" />\n",
       "              </g>\n",
       "              <g transform=\"translate(75 0) scale(0.5 1)\">\n",
       "                <rect x=\"-7.041610713530752\" y=\"-7.041610713530752\" width=\"14.083221427061504\" height=\"14.083221427061504\" />\n",
       "                <rect x=\"-87.9338715952978\" y=\"-87.9338715952978\" width=\"175.8677431905956\" height=\"175.8677431905956\" />\n",
       "                <rect x=\"-47.83263589857445\" y=\"-47.83263589857445\" width=\"95.6652717971489\" height=\"95.6652717971489\" />\n",
       "                <rect x=\"-109.61057148747362\" y=\"-109.61057148747362\" width=\"219.22114297494724\" height=\"219.22114297494724\" />\n",
       "                <rect x=\"-54.270027263810334\" y=\"-54.270027263810334\" width=\"108.54005452762067\" height=\"108.54005452762067\" />\n",
       "                <rect x=\"-58.17539314597532\" y=\"-58.17539314597532\" width=\"116.35078629195064\" height=\"116.35078629195064\" />\n",
       "                <rect x=\"-28.559415622401357\" y=\"-28.559415622401357\" width=\"57.11883124480271\" height=\"57.11883124480271\" />\n",
       "                <rect x=\"-28.047095103961915\" y=\"-28.047095103961915\" width=\"56.09419020792383\" height=\"56.09419020792383\" />\n",
       "                <rect x=\"-1.0175595482061621\" y=\"-1.0175595482061621\" width=\"2.0351190964123242\" height=\"2.0351190964123242\" />\n",
       "                <rect x=\"-39.21590642799033\" y=\"-39.21590642799033\" width=\"78.43181285598067\" height=\"78.43181285598067\" />\n",
       "                <rect x=\"-111.5181102167221\" y=\"-111.5181102167221\" width=\"223.0362204334442\" height=\"223.0362204334442\" />\n",
       "                <rect x=\"-2.398951159292437\" y=\"-2.398951159292437\" width=\"4.797902318584874\" height=\"4.797902318584874\" />\n",
       "                <rect x=\"-84.4357852780647\" y=\"-84.4357852780647\" width=\"168.8715705561294\" height=\"168.8715705561294\" />\n",
       "                <rect x=\"-59.27748474759385\" y=\"-59.27748474759385\" width=\"118.5549694951877\" height=\"118.5549694951877\" />\n",
       "                <rect x=\"-93.38305666690253\" y=\"-93.38305666690253\" width=\"186.76611333380507\" height=\"186.76611333380507\" />\n",
       "              </g>\n",
       "            </g>\n",
       "          </g>\n",
       "        </g>\n",
       "      </g>\n",
       "      <g transform=\"translate(75 0) scale(0.5 1)\">\n",
       "        <g transform=\"translate(0 75) scale(1 0.5)\">\n",
       "          <g transform=\"translate(-75 0) scale(0.5 1)\">\n",
       "            <g transform=\"translate(0 75) scale(1 0.5)\">\n",
       "              <g transform=\"translate(-75 0) scale(0.5 1)\">\n",
       "                <rect x=\"-48.95492825049119\" y=\"-48.95492825049119\" width=\"97.90985650098239\" height=\"97.90985650098239\" />\n",
       "                <rect x=\"-66.29675678553001\" y=\"-66.29675678553001\" width=\"132.59351357106002\" height=\"132.59351357106002\" />\n",
       "                <rect x=\"-67.5245649930846\" y=\"-67.5245649930846\" width=\"135.0491299861692\" height=\"135.0491299861692\" />\n",
       "                <rect x=\"-77.44323600355449\" y=\"-77.44323600355449\" width=\"154.88647200710898\" height=\"154.88647200710898\" />\n",
       "                <rect x=\"-1.413413688164722\" y=\"-1.413413688164722\" width=\"2.826827376329444\" height=\"2.826827376329444\" />\n",
       "                <rect x=\"-119.48874683723925\" y=\"-119.48874683723925\" width=\"238.9774936744785\" height=\"238.9774936744785\" />\n",
       "                <rect x=\"-103.66607225729324\" y=\"-103.66607225729324\" width=\"207.33214451458647\" height=\"207.33214451458647\" />\n",
       "                <rect x=\"-60.65723650585657\" y=\"-60.65723650585657\" width=\"121.31447301171313\" height=\"121.31447301171313\" />\n",
       "                <rect x=\"-4.259308408044116\" y=\"-4.259308408044116\" width=\"8.518616816088231\" height=\"8.518616816088231\" />\n",
       "                <rect x=\"-69.1035837881501\" y=\"-69.1035837881501\" width=\"138.2071675763002\" height=\"138.2071675763002\" />\n",
       "                <rect x=\"-62.60849713600178\" y=\"-62.60849713600178\" width=\"125.21699427200356\" height=\"125.21699427200356\" />\n",
       "                <rect x=\"-19.011859053334106\" y=\"-19.011859053334106\" width=\"38.02371810666821\" height=\"38.02371810666821\" />\n",
       "                <rect x=\"-70.41531028612489\" y=\"-70.41531028612489\" width=\"140.83062057224979\" height=\"140.83062057224979\" />\n",
       "                <rect x=\"-93.24704776599071\" y=\"-93.24704776599071\" width=\"186.49409553198143\" height=\"186.49409553198143\" />\n",
       "                <rect x=\"-43.35145866570859\" y=\"-43.35145866570859\" width=\"86.70291733141718\" height=\"86.70291733141718\" />\n",
       "              </g>\n",
       "              <g transform=\"translate(75 0) scale(0.5 1)\">\n",
       "                <rect x=\"-123.86594172020186\" y=\"-123.86594172020186\" width=\"247.73188344040372\" height=\"247.73188344040372\" />\n",
       "                <rect x=\"-75.71026889038767\" y=\"-75.71026889038767\" width=\"151.42053778077533\" height=\"151.42053778077533\" />\n",
       "                <rect x=\"-84.88775977915004\" y=\"-84.88775977915004\" width=\"169.7755195583001\" height=\"169.7755195583001\" />\n",
       "                <rect x=\"-1.00067303641041\" y=\"-1.00067303641041\" width=\"2.00134607282082\" height=\"2.00134607282082\" />\n",
       "                <rect x=\"-73.5322816786076\" y=\"-73.5322816786076\" width=\"147.0645633572152\" height=\"147.0645633572152\" />\n",
       "                <rect x=\"-99.48137712653305\" y=\"-99.48137712653305\" width=\"198.9627542530661\" height=\"198.9627542530661\" />\n",
       "                <rect x=\"-121.43898605209253\" y=\"-121.43898605209253\" width=\"242.87797210418506\" height=\"242.87797210418506\" />\n",
       "                <rect x=\"-19.03310042247186\" y=\"-19.03310042247186\" width=\"38.06620084494372\" height=\"38.06620084494372\" />\n",
       "                <rect x=\"-47.76358605210255\" y=\"-47.76358605210255\" width=\"95.5271721042051\" height=\"95.5271721042051\" />\n",
       "                <rect x=\"-101.93445269383038\" y=\"-101.93445269383038\" width=\"203.86890538766076\" height=\"203.86890538766076\" />\n",
       "                <rect x=\"-47.215711986575606\" y=\"-47.215711986575606\" width=\"94.43142397315121\" height=\"94.43142397315121\" />\n",
       "                <rect x=\"-18.91424829926705\" y=\"-18.91424829926705\" width=\"37.8284965985341\" height=\"37.8284965985341\" />\n",
       "                <rect x=\"-114.37983731761962\" y=\"-114.37983731761962\" width=\"228.75967463523924\" height=\"228.75967463523924\" />\n",
       "                <rect x=\"-7.2254122373954095\" y=\"-7.2254122373954095\" width=\"14.450824474790819\" height=\"14.450824474790819\" />\n",
       "                <rect x=\"-50.45494679135662\" y=\"-50.45494679135662\" width=\"100.90989358271324\" height=\"100.90989358271324\" />\n",
       "              </g>\n",
       "            </g>\n",
       "            <g transform=\"translate(0 -75) scale(1 0.5)\">\n",
       "              <g transform=\"translate(-75 0) scale(0.5 1)\">\n",
       "                <rect x=\"-117.0305377332857\" y=\"-117.0305377332857\" width=\"234.0610754665714\" height=\"234.0610754665714\" />\n",
       "                <rect x=\"-76.67302901808344\" y=\"-76.67302901808344\" width=\"153.34605803616688\" height=\"153.34605803616688\" />\n",
       "                <rect x=\"-1.4171951670563092\" y=\"-1.4171951670563092\" width=\"2.8343903341126184\" height=\"2.8343903341126184\" />\n",
       "                <rect x=\"-7.567565337223275\" y=\"-7.567565337223275\" width=\"15.13513067444655\" height=\"15.13513067444655\" />\n",
       "                <rect x=\"-108.30765907010415\" y=\"-108.30765907010415\" width=\"216.6153181402083\" height=\"216.6153181402083\" />\n",
       "                <rect x=\"-16.544782911395647\" y=\"-16.544782911395647\" width=\"33.08956582279129\" height=\"33.08956582279129\" />\n",
       "                <rect x=\"-85.38258037700624\" y=\"-85.38258037700624\" width=\"170.76516075401247\" height=\"170.76516075401247\" />\n",
       "                <rect x=\"-9.41826331775157\" y=\"-9.41826331775157\" width=\"18.83652663550314\" height=\"18.83652663550314\" />\n",
       "                <rect x=\"-61.420125914749576\" y=\"-61.420125914749576\" width=\"122.84025182949915\" height=\"122.84025182949915\" />\n",
       "                <rect x=\"-108.03483528541489\" y=\"-108.03483528541489\" width=\"216.06967057082977\" height=\"216.06967057082977\" />\n",
       "                <rect x=\"-34.31880137758128\" y=\"-34.31880137758128\" width=\"68.63760275516256\" height=\"68.63760275516256\" />\n",
       "                <rect x=\"-0.12392105834742317\" y=\"-0.12392105834742317\" width=\"0.24784211669484635\" height=\"0.24784211669484635\" />\n",
       "                <rect x=\"-52.6680087521029\" y=\"-52.6680087521029\" width=\"105.3360175042058\" height=\"105.3360175042058\" />\n",
       "                <rect x=\"-9.50839712331543\" y=\"-9.50839712331543\" width=\"19.01679424663086\" height=\"19.01679424663086\" />\n",
       "                <rect x=\"-15.932335260087028\" y=\"-15.932335260087028\" width=\"31.864670520174055\" height=\"31.864670520174055\" />\n",
       "              </g>\n",
       "              <g transform=\"translate(75 0) scale(0.5 1)\">\n",
       "                <rect x=\"-84.65173634742172\" y=\"-84.65173634742172\" width=\"169.30347269484344\" height=\"169.30347269484344\" />\n",
       "                <rect x=\"-15.225112887532005\" y=\"-15.225112887532005\" width=\"30.45022577506401\" height=\"30.45022577506401\" />\n",
       "                <rect x=\"-50.36184264892606\" y=\"-50.36184264892606\" width=\"100.72368529785211\" height=\"100.72368529785211\" />\n",
       "                <rect x=\"-24.529309626420456\" y=\"-24.529309626420456\" width=\"49.05861925284091\" height=\"49.05861925284091\" />\n",
       "                <rect x=\"-29.69840965103479\" y=\"-29.69840965103479\" width=\"59.39681930206958\" height=\"59.39681930206958\" />\n",
       "                <rect x=\"-52.88582385242741\" y=\"-52.88582385242741\" width=\"105.77164770485481\" height=\"105.77164770485481\" />\n",
       "                <rect x=\"-33.37858576960896\" y=\"-33.37858576960896\" width=\"66.75717153921792\" height=\"66.75717153921792\" />\n",
       "                <rect x=\"-113.76516761139115\" y=\"-113.76516761139115\" width=\"227.5303352227823\" height=\"227.5303352227823\" />\n",
       "                <rect x=\"-85.03298841502195\" y=\"-85.03298841502195\" width=\"170.0659768300439\" height=\"170.0659768300439\" />\n",
       "                <rect x=\"-21.054456516720276\" y=\"-21.054456516720276\" width=\"42.10891303344055\" height=\"42.10891303344055\" />\n",
       "                <rect x=\"-3.9122660002340464\" y=\"-3.9122660002340464\" width=\"7.824532000468093\" height=\"7.824532000468093\" />\n",
       "                <rect x=\"-21.36265263094138\" y=\"-21.36265263094138\" width=\"42.72530526188276\" height=\"42.72530526188276\" />\n",
       "                <rect x=\"-65.02832542516096\" y=\"-65.02832542516096\" width=\"130.05665085032192\" height=\"130.05665085032192\" />\n",
       "                <rect x=\"-81.74811903018941\" y=\"-81.74811903018941\" width=\"163.49623806037883\" height=\"163.49623806037883\" />\n",
       "                <rect x=\"-26.30183299857855\" y=\"-26.30183299857855\" width=\"52.6036659971571\" height=\"52.6036659971571\" />\n",
       "              </g>\n",
       "            </g>\n",
       "          </g>\n",
       "          <g transform=\"translate(75 0) scale(0.5 1)\">\n",
       "            <g transform=\"translate(0 75) scale(1 0.5)\">\n",
       "              <g transform=\"translate(-75 0) scale(0.5 1)\">\n",
       "                <rect x=\"-112.77013975016641\" y=\"-112.77013975016641\" width=\"225.54027950033282\" height=\"225.54027950033282\" />\n",
       "                <rect x=\"-77.06200869573169\" y=\"-77.06200869573169\" width=\"154.12401739146338\" height=\"154.12401739146338\" />\n",
       "                <rect x=\"-113.96378829680062\" y=\"-113.96378829680062\" width=\"227.92757659360123\" height=\"227.92757659360123\" />\n",
       "                <rect x=\"-76.61328176152149\" y=\"-76.61328176152149\" width=\"153.22656352304298\" height=\"153.22656352304298\" />\n",
       "                <rect x=\"-63.89580068636199\" y=\"-63.89580068636199\" width=\"127.79160137272397\" height=\"127.79160137272397\" />\n",
       "                <rect x=\"-116.54345293138638\" y=\"-116.54345293138638\" width=\"233.08690586277277\" height=\"233.08690586277277\" />\n",
       "                <rect x=\"-53.59542525530809\" y=\"-53.59542525530809\" width=\"107.19085051061619\" height=\"107.19085051061619\" />\n",
       "                <rect x=\"-106.1943451353106\" y=\"-106.1943451353106\" width=\"212.3886902706212\" height=\"212.3886902706212\" />\n",
       "                <rect x=\"-5.239866042623984\" y=\"-5.239866042623984\" width=\"10.479732085247967\" height=\"10.479732085247967\" />\n",
       "                <rect x=\"-19.68100073925867\" y=\"-19.68100073925867\" width=\"39.36200147851734\" height=\"39.36200147851734\" />\n",
       "                <rect x=\"-87.25691884044011\" y=\"-87.25691884044011\" width=\"174.51383768088021\" height=\"174.51383768088021\" />\n",
       "                <rect x=\"-29.33691907568582\" y=\"-29.33691907568582\" width=\"58.67383815137164\" height=\"58.67383815137164\" />\n",
       "                <rect x=\"-43.901840195233106\" y=\"-43.901840195233106\" width=\"87.80368039046621\" height=\"87.80368039046621\" />\n",
       "                <rect x=\"-55.842183698333116\" y=\"-55.842183698333116\" width=\"111.68436739666623\" height=\"111.68436739666623\" />\n",
       "                <rect x=\"-105.08553610425338\" y=\"-105.08553610425338\" width=\"210.17107220850676\" height=\"210.17107220850676\" />\n",
       "              </g>\n",
       "              <g transform=\"translate(75 0) scale(0.5 1)\">\n",
       "                <rect x=\"-112.26991895371317\" y=\"-112.26991895371317\" width=\"224.53983790742635\" height=\"224.53983790742635\" />\n",
       "                <rect x=\"-28.357876189916198\" y=\"-28.357876189916198\" width=\"56.715752379832395\" height=\"56.715752379832395\" />\n",
       "                <rect x=\"-85.1748204732779\" y=\"-85.1748204732779\" width=\"170.3496409465558\" height=\"170.3496409465558\" />\n",
       "                <rect x=\"-103.4034808690454\" y=\"-103.4034808690454\" width=\"206.8069617380908\" height=\"206.8069617380908\" />\n",
       "                <rect x=\"-105.52241691748375\" y=\"-105.52241691748375\" width=\"211.0448338349675\" height=\"211.0448338349675\" />\n",
       "                <rect x=\"-63.62971129084197\" y=\"-63.62971129084197\" width=\"127.25942258168394\" height=\"127.25942258168394\" />\n",
       "                <rect x=\"-74.94918348495469\" y=\"-74.94918348495469\" width=\"149.89836696990938\" height=\"149.89836696990938\" />\n",
       "                <rect x=\"-9.7940726391358\" y=\"-9.7940726391358\" width=\"19.5881452782716\" height=\"19.5881452782716\" />\n",
       "                <rect x=\"-99.26955429816336\" y=\"-99.26955429816336\" width=\"198.5391085963267\" height=\"198.5391085963267\" />\n",
       "                <rect x=\"-117.86867027838785\" y=\"-117.86867027838785\" width=\"235.7373405567757\" height=\"235.7373405567757\" />\n",
       "                <rect x=\"-78.96647623490084\" y=\"-78.96647623490084\" width=\"157.93295246980168\" height=\"157.93295246980168\" />\n",
       "                <rect x=\"-66.10005183476892\" y=\"-66.10005183476892\" width=\"132.20010366953784\" height=\"132.20010366953784\" />\n",
       "                <rect x=\"-53.38407221234849\" y=\"-53.38407221234849\" width=\"106.76814442469698\" height=\"106.76814442469698\" />\n",
       "                <rect x=\"-84.25777562020714\" y=\"-84.25777562020714\" width=\"168.51555124041428\" height=\"168.51555124041428\" />\n",
       "                <rect x=\"-43.69017934234924\" y=\"-43.69017934234924\" width=\"87.38035868469848\" height=\"87.38035868469848\" />\n",
       "              </g>\n",
       "            </g>\n",
       "            <g transform=\"translate(0 -75) scale(1 0.5)\">\n",
       "              <g transform=\"translate(-75 0) scale(0.5 1)\">\n",
       "                <rect x=\"-113.45009337057215\" y=\"-113.45009337057215\" width=\"226.9001867411443\" height=\"226.9001867411443\" />\n",
       "                <rect x=\"-124.46799329548762\" y=\"-124.46799329548762\" width=\"248.93598659097523\" height=\"248.93598659097523\" />\n",
       "                <rect x=\"-16.828889659351642\" y=\"-16.828889659351642\" width=\"33.657779318703284\" height=\"33.657779318703284\" />\n",
       "                <rect x=\"-11.92279667627448\" y=\"-11.92279667627448\" width=\"23.84559335254896\" height=\"23.84559335254896\" />\n",
       "                <rect x=\"-9.648839494480033\" y=\"-9.648839494480033\" width=\"19.297678988960065\" height=\"19.297678988960065\" />\n",
       "                <rect x=\"-34.68999242996858\" y=\"-34.68999242996858\" width=\"69.37998485993715\" height=\"69.37998485993715\" />\n",
       "                <rect x=\"-19.952066935865055\" y=\"-19.952066935865055\" width=\"39.90413387173011\" height=\"39.90413387173011\" />\n",
       "                <rect x=\"-34.02801076971463\" y=\"-34.02801076971463\" width=\"68.05602153942927\" height=\"68.05602153942927\" />\n",
       "                <rect x=\"-13.949366051367097\" y=\"-13.949366051367097\" width=\"27.898732102734193\" height=\"27.898732102734193\" />\n",
       "                <rect x=\"-11.608408085583402\" y=\"-11.608408085583402\" width=\"23.216816171166805\" height=\"23.216816171166805\" />\n",
       "                <rect x=\"-54.878077686409426\" y=\"-54.878077686409426\" width=\"109.75615537281885\" height=\"109.75615537281885\" />\n",
       "                <rect x=\"-56.69819009106987\" y=\"-56.69819009106987\" width=\"113.39638018213974\" height=\"113.39638018213974\" />\n",
       "                <rect x=\"-48.134731674765284\" y=\"-48.134731674765284\" width=\"96.26946334953057\" height=\"96.26946334953057\" />\n",
       "                <rect x=\"-50.2339597925818\" y=\"-50.2339597925818\" width=\"100.4679195851636\" height=\"100.4679195851636\" />\n",
       "                <rect x=\"-97.82854399886519\" y=\"-97.82854399886519\" width=\"195.65708799773037\" height=\"195.65708799773037\" />\n",
       "              </g>\n",
       "              <g transform=\"translate(75 0) scale(0.5 1)\">\n",
       "                <rect x=\"-95.24059230700855\" y=\"-95.24059230700855\" width=\"190.4811846140171\" height=\"190.4811846140171\" />\n",
       "                <rect x=\"-52.168425637425784\" y=\"-52.168425637425784\" width=\"104.33685127485157\" height=\"104.33685127485157\" />\n",
       "                <rect x=\"-117.18405959724768\" y=\"-117.18405959724768\" width=\"234.36811919449536\" height=\"234.36811919449536\" />\n",
       "                <rect x=\"-101.5782894638935\" y=\"-101.5782894638935\" width=\"203.156578927787\" height=\"203.156578927787\" />\n",
       "                <rect x=\"-54.40265325310267\" y=\"-54.40265325310267\" width=\"108.80530650620534\" height=\"108.80530650620534\" />\n",
       "                <rect x=\"-82.24009808833992\" y=\"-82.24009808833992\" width=\"164.48019617667984\" height=\"164.48019617667984\" />\n",
       "                <rect x=\"-82.76363798803412\" y=\"-82.76363798803412\" width=\"165.52727597606824\" height=\"165.52727597606824\" />\n",
       "                <rect x=\"-91.32513644167014\" y=\"-91.32513644167014\" width=\"182.65027288334028\" height=\"182.65027288334028\" />\n",
       "                <rect x=\"-84.17175082860722\" y=\"-84.17175082860722\" width=\"168.34350165721443\" height=\"168.34350165721443\" />\n",
       "                <rect x=\"-124.8799889273209\" y=\"-124.8799889273209\" width=\"249.7599778546418\" height=\"249.7599778546418\" />\n",
       "                <rect x=\"-13.261711336713653\" y=\"-13.261711336713653\" width=\"26.523422673427305\" height=\"26.523422673427305\" />\n",
       "                <rect x=\"-60.27121966478823\" y=\"-60.27121966478823\" width=\"120.54243932957645\" height=\"120.54243932957645\" />\n",
       "                <rect x=\"-108.4151693120656\" y=\"-108.4151693120656\" width=\"216.8303386241312\" height=\"216.8303386241312\" />\n",
       "                <rect x=\"-9.006138757023955\" y=\"-9.006138757023955\" width=\"18.01227751404791\" height=\"18.01227751404791\" />\n",
       "                <rect x=\"-39.7388176707661\" y=\"-39.7388176707661\" width=\"79.4776353415322\" height=\"79.4776353415322\" />\n",
       "              </g>\n",
       "            </g>\n",
       "          </g>\n",
       "        </g>\n",
       "        <g transform=\"translate(0 -75) scale(1 0.5)\">\n",
       "          <g transform=\"translate(-75 0) scale(0.5 1)\">\n",
       "            <g transform=\"translate(0 75) scale(1 0.5)\">\n",
       "              <g transform=\"translate(-75 0) scale(0.5 1)\">\n",
       "                <rect x=\"-39.302181577039754\" y=\"-39.302181577039754\" width=\"78.60436315407951\" height=\"78.60436315407951\" />\n",
       "                <rect x=\"-11.598149188699267\" y=\"-11.598149188699267\" width=\"23.196298377398534\" height=\"23.196298377398534\" />\n",
       "                <rect x=\"-7.5949498192666995\" y=\"-7.5949498192666995\" width=\"15.189899638533399\" height=\"15.189899638533399\" />\n",
       "                <rect x=\"-31.79768291290207\" y=\"-31.79768291290207\" width=\"63.59536582580414\" height=\"63.59536582580414\" />\n",
       "                <rect x=\"-98.95609034714309\" y=\"-98.95609034714309\" width=\"197.91218069428618\" height=\"197.91218069428618\" />\n",
       "                <rect x=\"-49.191770934929686\" y=\"-49.191770934929686\" width=\"98.38354186985937\" height=\"98.38354186985937\" />\n",
       "                <rect x=\"-27.989244868418346\" y=\"-27.989244868418346\" width=\"55.97848973683669\" height=\"55.97848973683669\" />\n",
       "                <rect x=\"-39.2787975581317\" y=\"-39.2787975581317\" width=\"78.5575951162634\" height=\"78.5575951162634\" />\n",
       "                <rect x=\"-42.68943621512838\" y=\"-42.68943621512838\" width=\"85.37887243025676\" height=\"85.37887243025676\" />\n",
       "                <rect x=\"-12.53299761015511\" y=\"-12.53299761015511\" width=\"25.06599522031022\" height=\"25.06599522031022\" />\n",
       "                <rect x=\"-17.842572420585192\" y=\"-17.842572420585192\" width=\"35.685144841170384\" height=\"35.685144841170384\" />\n",
       "                <rect x=\"-89.77280578893553\" y=\"-89.77280578893553\" width=\"179.54561157787106\" height=\"179.54561157787106\" />\n",
       "                <rect x=\"-14.450327002831887\" y=\"-14.450327002831887\" width=\"28.900654005663775\" height=\"28.900654005663775\" />\n",
       "                <rect x=\"-49.8383971858809\" y=\"-49.8383971858809\" width=\"99.6767943717618\" height=\"99.6767943717618\" />\n",
       "                <rect x=\"-32.89167369148266\" y=\"-32.89167369148266\" width=\"65.78334738296532\" height=\"65.78334738296532\" />\n",
       "              </g>\n",
       "              <g transform=\"translate(75 0) scale(0.5 1)\">\n",
       "                <rect x=\"-99.72207352016943\" y=\"-99.72207352016943\" width=\"199.44414704033886\" height=\"199.44414704033886\" />\n",
       "                <rect x=\"-89.05946777418673\" y=\"-89.05946777418673\" width=\"178.11893554837346\" height=\"178.11893554837346\" />\n",
       "                <rect x=\"-25.480662611092413\" y=\"-25.480662611092413\" width=\"50.961325222184826\" height=\"50.961325222184826\" />\n",
       "                <rect x=\"-30.65744738101646\" y=\"-30.65744738101646\" width=\"61.31489476203292\" height=\"61.31489476203292\" />\n",
       "                <rect x=\"-7.157867639747684\" y=\"-7.157867639747684\" width=\"14.315735279495367\" height=\"14.315735279495367\" />\n",
       "                <rect x=\"-100.23422346835721\" y=\"-100.23422346835721\" width=\"200.46844693671443\" height=\"200.46844693671443\" />\n",
       "                <rect x=\"-114.68501992195667\" y=\"-114.68501992195667\" width=\"229.37003984391333\" height=\"229.37003984391333\" />\n",
       "                <rect x=\"-112.89436626396585\" y=\"-112.89436626396585\" width=\"225.7887325279317\" height=\"225.7887325279317\" />\n",
       "                <rect x=\"-7.814850108205457\" y=\"-7.814850108205457\" width=\"15.629700216410914\" height=\"15.629700216410914\" />\n",
       "                <rect x=\"-23.047698244200664\" y=\"-23.047698244200664\" width=\"46.09539648840133\" height=\"46.09539648840133\" />\n",
       "                <rect x=\"-68.37847402184816\" y=\"-68.37847402184816\" width=\"136.75694804369633\" height=\"136.75694804369633\" />\n",
       "                <rect x=\"-116.24229310193778\" y=\"-116.24229310193778\" width=\"232.48458620387555\" height=\"232.48458620387555\" />\n",
       "                <rect x=\"-59.250584788624465\" y=\"-59.250584788624465\" width=\"118.50116957724893\" height=\"118.50116957724893\" />\n",
       "                <rect x=\"-30.061785133971508\" y=\"-30.061785133971508\" width=\"60.123570267943016\" height=\"60.123570267943016\" />\n",
       "                <rect x=\"-110.29345355979508\" y=\"-110.29345355979508\" width=\"220.58690711959017\" height=\"220.58690711959017\" />\n",
       "              </g>\n",
       "            </g>\n",
       "            <g transform=\"translate(0 -75) scale(1 0.5)\">\n",
       "              <g transform=\"translate(-75 0) scale(0.5 1)\">\n",
       "                <rect x=\"-122.76129234554183\" y=\"-122.76129234554183\" width=\"245.52258469108367\" height=\"245.52258469108367\" />\n",
       "                <rect x=\"-0.31997366346937783\" y=\"-0.31997366346937783\" width=\"0.6399473269387557\" height=\"0.6399473269387557\" />\n",
       "                <rect x=\"-41.230355290590865\" y=\"-41.230355290590865\" width=\"82.46071058118173\" height=\"82.46071058118173\" />\n",
       "                <rect x=\"-38.74213274978234\" y=\"-38.74213274978234\" width=\"77.48426549956469\" height=\"77.48426549956469\" />\n",
       "                <rect x=\"-9.394312611665054\" y=\"-9.394312611665054\" width=\"18.788625223330108\" height=\"18.788625223330108\" />\n",
       "                <rect x=\"-80.00579262752603\" y=\"-80.00579262752603\" width=\"160.01158525505207\" height=\"160.01158525505207\" />\n",
       "                <rect x=\"-57.603999865218455\" y=\"-57.603999865218455\" width=\"115.20799973043691\" height=\"115.20799973043691\" />\n",
       "                <rect x=\"-21.203633368842013\" y=\"-21.203633368842013\" width=\"42.407266737684026\" height=\"42.407266737684026\" />\n",
       "                <rect x=\"-13.021286670510197\" y=\"-13.021286670510197\" width=\"26.042573341020393\" height=\"26.042573341020393\" />\n",
       "                <rect x=\"-69.42154054923782\" y=\"-69.42154054923782\" width=\"138.84308109847564\" height=\"138.84308109847564\" />\n",
       "                <rect x=\"-83.92184935042374\" y=\"-83.92184935042374\" width=\"167.84369870084748\" height=\"167.84369870084748\" />\n",
       "                <rect x=\"-10.377696383531754\" y=\"-10.377696383531754\" width=\"20.75539276706351\" height=\"20.75539276706351\" />\n",
       "                <rect x=\"-123.96075388621708\" y=\"-123.96075388621708\" width=\"247.92150777243415\" height=\"247.92150777243415\" />\n",
       "                <rect x=\"-104.93303763372812\" y=\"-104.93303763372812\" width=\"209.86607526745624\" height=\"209.86607526745624\" />\n",
       "                <rect x=\"-89.90305226523057\" y=\"-89.90305226523057\" width=\"179.80610453046114\" height=\"179.80610453046114\" />\n",
       "              </g>\n",
       "              <g transform=\"translate(75 0) scale(0.5 1)\">\n",
       "                <rect x=\"-122.52572809112398\" y=\"-122.52572809112398\" width=\"245.05145618224796\" height=\"245.05145618224796\" />\n",
       "                <rect x=\"-5.191579275147601\" y=\"-5.191579275147601\" width=\"10.383158550295201\" height=\"10.383158550295201\" />\n",
       "                <rect x=\"-114.90299949866588\" y=\"-114.90299949866588\" width=\"229.80599899733176\" height=\"229.80599899733176\" />\n",
       "                <rect x=\"-69.76062444176337\" y=\"-69.76062444176337\" width=\"139.52124888352674\" height=\"139.52124888352674\" />\n",
       "                <rect x=\"-60.86108799750404\" y=\"-60.86108799750404\" width=\"121.72217599500809\" height=\"121.72217599500809\" />\n",
       "                <rect x=\"-36.65203671802436\" y=\"-36.65203671802436\" width=\"73.30407343604872\" height=\"73.30407343604872\" />\n",
       "                <rect x=\"-110.95388004137745\" y=\"-110.95388004137745\" width=\"221.9077600827549\" height=\"221.9077600827549\" />\n",
       "                <rect x=\"-68.13594389044555\" y=\"-68.13594389044555\" width=\"136.2718877808911\" height=\"136.2718877808911\" />\n",
       "                <rect x=\"-112.512839015126\" y=\"-112.512839015126\" width=\"225.025678030252\" height=\"225.025678030252\" />\n",
       "                <rect x=\"-115.82576839206372\" y=\"-115.82576839206372\" width=\"231.65153678412744\" height=\"231.65153678412744\" />\n",
       "                <rect x=\"-123.51604421649643\" y=\"-123.51604421649643\" width=\"247.03208843299285\" height=\"247.03208843299285\" />\n",
       "                <rect x=\"-97.89596633269156\" y=\"-97.89596633269156\" width=\"195.79193266538311\" height=\"195.79193266538311\" />\n",
       "                <rect x=\"-88.54749140194353\" y=\"-88.54749140194353\" width=\"177.09498280388706\" height=\"177.09498280388706\" />\n",
       "                <rect x=\"-29.21588204796266\" y=\"-29.21588204796266\" width=\"58.43176409592532\" height=\"58.43176409592532\" />\n",
       "                <rect x=\"-32.68733079698433\" y=\"-32.68733079698433\" width=\"65.37466159396865\" height=\"65.37466159396865\" />\n",
       "              </g>\n",
       "            </g>\n",
       "          </g>\n",
       "          <g transform=\"translate(75 0) scale(0.5 1)\">\n",
       "            <g transform=\"translate(0 75) scale(1 0.5)\">\n",
       "              <g transform=\"translate(-75 0) scale(0.5 1)\">\n",
       "                <rect x=\"-122.82243000393167\" y=\"-122.82243000393167\" width=\"245.64486000786334\" height=\"245.64486000786334\" />\n",
       "                <rect x=\"-104.22880208888562\" y=\"-104.22880208888562\" width=\"208.45760417777123\" height=\"208.45760417777123\" />\n",
       "                <rect x=\"-3.5826631647478404\" y=\"-3.5826631647478404\" width=\"7.165326329495681\" height=\"7.165326329495681\" />\n",
       "                <rect x=\"-73.39466265508278\" y=\"-73.39466265508278\" width=\"146.78932531016557\" height=\"146.78932531016557\" />\n",
       "                <rect x=\"-104.10007061903944\" y=\"-104.10007061903944\" width=\"208.20014123807888\" height=\"208.20014123807888\" />\n",
       "                <rect x=\"-55.741330044321664\" y=\"-55.741330044321664\" width=\"111.48266008864333\" height=\"111.48266008864333\" />\n",
       "                <rect x=\"-85.68071389625396\" y=\"-85.68071389625396\" width=\"171.36142779250793\" height=\"171.36142779250793\" />\n",
       "                <rect x=\"-37.21864560608459\" y=\"-37.21864560608459\" width=\"74.43729121216919\" height=\"74.43729121216919\" />\n",
       "                <rect x=\"-40.61583843675805\" y=\"-40.61583843675805\" width=\"81.2316768735161\" height=\"81.2316768735161\" />\n",
       "                <rect x=\"-68.65330601508325\" y=\"-68.65330601508325\" width=\"137.3066120301665\" height=\"137.3066120301665\" />\n",
       "                <rect x=\"-58.022405745244434\" y=\"-58.022405745244434\" width=\"116.04481149048887\" height=\"116.04481149048887\" />\n",
       "                <rect x=\"-9.616746840683685\" y=\"-9.616746840683685\" width=\"19.23349368136737\" height=\"19.23349368136737\" />\n",
       "                <rect x=\"-115.50006510711346\" y=\"-115.50006510711346\" width=\"231.0001302142269\" height=\"231.0001302142269\" />\n",
       "                <rect x=\"-74.62561793189758\" y=\"-74.62561793189758\" width=\"149.25123586379516\" height=\"149.25123586379516\" />\n",
       "                <rect x=\"-74.74416945859626\" y=\"-74.74416945859626\" width=\"149.48833891719252\" height=\"149.48833891719252\" />\n",
       "              </g>\n",
       "              <g transform=\"translate(75 0) scale(0.5 1)\">\n",
       "                <rect x=\"-77.89393643904883\" y=\"-77.89393643904883\" width=\"155.78787287809766\" height=\"155.78787287809766\" />\n",
       "                <rect x=\"-116.22964764729169\" y=\"-116.22964764729169\" width=\"232.45929529458337\" height=\"232.45929529458337\" />\n",
       "                <rect x=\"-46.694410526798066\" y=\"-46.694410526798066\" width=\"93.38882105359613\" height=\"93.38882105359613\" />\n",
       "                <rect x=\"-51.40621942010973\" y=\"-51.40621942010973\" width=\"102.81243884021946\" height=\"102.81243884021946\" />\n",
       "                <rect x=\"-88.22156687608374\" y=\"-88.22156687608374\" width=\"176.44313375216748\" height=\"176.44313375216748\" />\n",
       "                <rect x=\"-124.14138163852022\" y=\"-124.14138163852022\" width=\"248.28276327704043\" height=\"248.28276327704043\" />\n",
       "                <rect x=\"-37.90397562923144\" y=\"-37.90397562923144\" width=\"75.80795125846288\" height=\"75.80795125846288\" />\n",
       "                <rect x=\"-40.797745178418594\" y=\"-40.797745178418594\" width=\"81.59549035683719\" height=\"81.59549035683719\" />\n",
       "                <rect x=\"-49.23595583130312\" y=\"-49.23595583130312\" width=\"98.47191166260625\" height=\"98.47191166260625\" />\n",
       "                <rect x=\"-107.65985146319433\" y=\"-107.65985146319433\" width=\"215.31970292638866\" height=\"215.31970292638866\" />\n",
       "                <rect x=\"-63.8039093492522\" y=\"-63.8039093492522\" width=\"127.6078186985044\" height=\"127.6078186985044\" />\n",
       "                <rect x=\"-84.01872176687881\" y=\"-84.01872176687881\" width=\"168.03744353375762\" height=\"168.03744353375762\" />\n",
       "                <rect x=\"-121.1843384470977\" y=\"-121.1843384470977\" width=\"242.3686768941954\" height=\"242.3686768941954\" />\n",
       "                <rect x=\"-99.11432367889617\" y=\"-99.11432367889617\" width=\"198.22864735779234\" height=\"198.22864735779234\" />\n",
       "                <rect x=\"-17.22802382736434\" y=\"-17.22802382736434\" width=\"34.45604765472868\" height=\"34.45604765472868\" />\n",
       "              </g>\n",
       "            </g>\n",
       "            <g transform=\"translate(0 -75) scale(1 0.5)\">\n",
       "              <g transform=\"translate(-75 0) scale(0.5 1)\">\n",
       "                <rect x=\"-5.321322144942603\" y=\"-5.321322144942603\" width=\"10.642644289885206\" height=\"10.642644289885206\" />\n",
       "                <rect x=\"-70.84010496318527\" y=\"-70.84010496318527\" width=\"141.68020992637054\" height=\"141.68020992637054\" />\n",
       "                <rect x=\"-122.45836399285041\" y=\"-122.45836399285041\" width=\"244.91672798570082\" height=\"244.91672798570082\" />\n",
       "                <rect x=\"-106.64993015831716\" y=\"-106.64993015831716\" width=\"213.29986031663432\" height=\"213.29986031663432\" />\n",
       "                <rect x=\"-60.353274348824996\" y=\"-60.353274348824996\" width=\"120.70654869764999\" height=\"120.70654869764999\" />\n",
       "                <rect x=\"-124.88544451355074\" y=\"-124.88544451355074\" width=\"249.77088902710148\" height=\"249.77088902710148\" />\n",
       "                <rect x=\"-17.9920896118501\" y=\"-17.9920896118501\" width=\"35.9841792237002\" height=\"35.9841792237002\" />\n",
       "                <rect x=\"-60.55444273674247\" y=\"-60.55444273674247\" width=\"121.10888547348495\" height=\"121.10888547348495\" />\n",
       "                <rect x=\"-27.56005068659853\" y=\"-27.56005068659853\" width=\"55.12010137319706\" height=\"55.12010137319706\" />\n",
       "                <rect x=\"-106.9143817864035\" y=\"-106.9143817864035\" width=\"213.828763572807\" height=\"213.828763572807\" />\n",
       "                <rect x=\"-123.34842710376314\" y=\"-123.34842710376314\" width=\"246.6968542075263\" height=\"246.6968542075263\" />\n",
       "                <rect x=\"-44.12820196308917\" y=\"-44.12820196308917\" width=\"88.25640392617834\" height=\"88.25640392617834\" />\n",
       "                <rect x=\"-105.34820852978758\" y=\"-105.34820852978758\" width=\"210.69641705957517\" height=\"210.69641705957517\" />\n",
       "                <rect x=\"-63.32837785658996\" y=\"-63.32837785658996\" width=\"126.65675571317992\" height=\"126.65675571317992\" />\n",
       "                <rect x=\"-110.3792157567562\" y=\"-110.3792157567562\" width=\"220.7584315135124\" height=\"220.7584315135124\" />\n",
       "              </g>\n",
       "              <g transform=\"translate(75 0) scale(0.5 1)\">\n",
       "                <rect x=\"-69.96064933563275\" y=\"-69.96064933563275\" width=\"139.9212986712655\" height=\"139.9212986712655\" />\n",
       "                <rect x=\"-107.21063127742406\" y=\"-107.21063127742406\" width=\"214.4212625548481\" height=\"214.4212625548481\" />\n",
       "                <rect x=\"-99.09164286377317\" y=\"-99.09164286377317\" width=\"198.18328572754635\" height=\"198.18328572754635\" />\n",
       "                <rect x=\"-81.52883123059982\" y=\"-81.52883123059982\" width=\"163.05766246119964\" height=\"163.05766246119964\" />\n",
       "                <rect x=\"-35.51080934556959\" y=\"-35.51080934556959\" width=\"71.02161869113918\" height=\"71.02161869113918\" />\n",
       "                <rect x=\"-97.53917012584571\" y=\"-97.53917012584571\" width=\"195.07834025169143\" height=\"195.07834025169143\" />\n",
       "                <rect x=\"-20.78360563189144\" y=\"-20.78360563189144\" width=\"41.56721126378288\" height=\"41.56721126378288\" />\n",
       "                <rect x=\"-18.819058412001905\" y=\"-18.819058412001905\" width=\"37.63811682400381\" height=\"37.63811682400381\" />\n",
       "                <rect x=\"-21.76971738063799\" y=\"-21.76971738063799\" width=\"43.53943476127598\" height=\"43.53943476127598\" />\n",
       "                <rect x=\"-20.310318314747946\" y=\"-20.310318314747946\" width=\"40.62063662949589\" height=\"40.62063662949589\" />\n",
       "                <rect x=\"-43.58967128586007\" y=\"-43.58967128586007\" width=\"87.17934257172014\" height=\"87.17934257172014\" />\n",
       "                <rect x=\"-76.4259852277095\" y=\"-76.4259852277095\" width=\"152.851970455419\" height=\"152.851970455419\" />\n",
       "                <rect x=\"-49.678131911637486\" y=\"-49.678131911637486\" width=\"99.35626382327497\" height=\"99.35626382327497\" />\n",
       "                <rect x=\"-5.70153098241942\" y=\"-5.70153098241942\" width=\"11.40306196483884\" height=\"11.40306196483884\" />\n",
       "                <rect x=\"-77.00071420306142\" y=\"-77.00071420306142\" width=\"154.00142840612284\" height=\"154.00142840612284\" />\n",
       "              </g>\n",
       "            </g>\n",
       "          </g>\n",
       "        </g>\n",
       "      </g>\n",
       "    </g>\n",
       "  </g>\n",
       "</g>\n",
       "</svg>\n"
      ],
      "text/plain": [
       "<g {}>"
      ]
     },
     "execution_count": 157,
     "metadata": {},
     "output_type": "execute_result"
    }
   ],
   "source": [
    "grid_3(random_squares)"
   ]
  },
  {
   "cell_type": "code",
   "execution_count": 158,
   "id": "625e309a-d0af-4ffe-8265-421871a9be6e",
   "metadata": {
    "execution": {
     "iopub.execute_input": "2023-10-17T13:49:17.078589Z",
     "iopub.status.busy": "2023-10-17T13:49:17.078355Z",
     "iopub.status.idle": "2023-10-17T13:49:17.083206Z",
     "shell.execute_reply": "2023-10-17T13:49:17.082341Z",
     "shell.execute_reply.started": "2023-10-17T13:49:17.078563Z"
    }
   },
   "outputs": [],
   "source": [
    "def decorate(shape):\n",
    "    shape=shape|scale(250/300)\n",
    "    return rectangle(w=280, h=280, stroke_width=5)+shape"
   ]
  },
  {
   "cell_type": "code",
   "execution_count": 159,
   "id": "9a6e773a-d01f-4e61-98fb-2d57b0712d49",
   "metadata": {
    "execution": {
     "iopub.execute_input": "2023-10-17T13:49:17.084759Z",
     "iopub.status.busy": "2023-10-17T13:49:17.084412Z",
     "iopub.status.idle": "2023-10-17T13:49:17.090164Z",
     "shell.execute_reply": "2023-10-17T13:49:17.089531Z",
     "shell.execute_reply.started": "2023-10-17T13:49:17.084729Z"
    }
   },
   "outputs": [
    {
     "data": {
      "image/svg+xml": [
       "<svg width=\"300\" height=\"300\" viewBox=\"-150 -150 300 300\" fill=\"none\" stroke=\"black\" xmlns=\"http://www.w3.org/2000/svg\" xmlns:xlink=\"http://www.w3.org/1999/xlink\">\n",
       "<g transform=\"scale(1 -1)\">\n",
       "  <g>\n",
       "    <rect x=\"-140.0\" y=\"-140.0\" width=\"280\" height=\"280\" stroke-width=\"5\" />\n",
       "    <circle cx=\"0\" cy=\"0\" r=\"150\" transform=\"scale(0.8333333333333334 0.8333333333333334)\" />\n",
       "  </g>\n",
       "</g>\n",
       "</svg>\n"
      ],
      "text/plain": [
       "<g {}>"
      ]
     },
     "execution_count": 159,
     "metadata": {},
     "output_type": "execute_result"
    }
   ],
   "source": [
    "decorate(circle(r=150))"
   ]
  },
  {
   "cell_type": "code",
   "execution_count": 160,
   "id": "374ff7d9-0b35-40a1-a274-7f3f53c7bc12",
   "metadata": {
    "execution": {
     "iopub.execute_input": "2023-10-17T13:49:17.091532Z",
     "iopub.status.busy": "2023-10-17T13:49:17.091290Z",
     "iopub.status.idle": "2023-10-17T13:49:17.096272Z",
     "shell.execute_reply": "2023-10-17T13:49:17.095631Z",
     "shell.execute_reply.started": "2023-10-17T13:49:17.091508Z"
    }
   },
   "outputs": [],
   "source": [
    "def gallery(s1, s2, s3, s4):\n",
    "    return grid(decorate(s1), decorate(s2), decorate(s3), decorate(s4))"
   ]
  },
  {
   "cell_type": "code",
   "execution_count": 161,
   "id": "2e59ec5e-b087-4d7c-9d55-a9b8c35dcaed",
   "metadata": {
    "execution": {
     "iopub.execute_input": "2023-10-17T13:49:17.097617Z",
     "iopub.status.busy": "2023-10-17T13:49:17.097307Z",
     "iopub.status.idle": "2023-10-17T13:49:17.101720Z",
     "shell.execute_reply": "2023-10-17T13:49:17.101025Z",
     "shell.execute_reply.started": "2023-10-17T13:49:17.097586Z"
    }
   },
   "outputs": [],
   "source": [
    "def ellipse_star(n):\n",
    "    return ellipse(w=250, h=120)|repeat(n, rotate(180/n))"
   ]
  },
  {
   "cell_type": "code",
   "execution_count": 162,
   "id": "998ea583-6f7d-4dec-bace-11b3f737ee91",
   "metadata": {
    "execution": {
     "iopub.execute_input": "2023-10-17T13:49:17.102985Z",
     "iopub.status.busy": "2023-10-17T13:49:17.102760Z",
     "iopub.status.idle": "2023-10-17T13:49:17.108216Z",
     "shell.execute_reply": "2023-10-17T13:49:17.107581Z",
     "shell.execute_reply.started": "2023-10-17T13:49:17.102962Z"
    }
   },
   "outputs": [],
   "source": [
    "def random_ellipse_star():\n",
    "    n= int(random(3, 10))\n",
    "    return ellipse_star(n)"
   ]
  },
  {
   "cell_type": "code",
   "execution_count": 163,
   "id": "2be10fb0-6f85-4cf8-b340-57dbb31314a8",
   "metadata": {
    "execution": {
     "iopub.execute_input": "2023-10-17T13:49:17.114611Z",
     "iopub.status.busy": "2023-10-17T13:49:17.114356Z",
     "iopub.status.idle": "2023-10-17T13:49:17.122161Z",
     "shell.execute_reply": "2023-10-17T13:49:17.121307Z",
     "shell.execute_reply.started": "2023-10-17T13:49:17.114588Z"
    }
   },
   "outputs": [
    {
     "data": {
      "image/svg+xml": [
       "<svg width=\"300\" height=\"300\" viewBox=\"-150 -150 300 300\" fill=\"none\" stroke=\"black\" xmlns=\"http://www.w3.org/2000/svg\" xmlns:xlink=\"http://www.w3.org/1999/xlink\">\n",
       "<g transform=\"scale(1 -1)\">\n",
       "  <g>\n",
       "    <g transform=\"translate(0 75) scale(1 0.5)\">\n",
       "      <g transform=\"translate(-75 0) scale(0.5 1)\">\n",
       "        <rect x=\"-140.0\" y=\"-140.0\" width=\"280\" height=\"280\" stroke-width=\"5\" />\n",
       "        <g transform=\"scale(0.8333333333333334 0.8333333333333334)\">\n",
       "          <circle cx=\"0\" cy=\"0\" r=\"47.193779677902185\" />\n",
       "          <circle cx=\"0\" cy=\"0\" r=\"83.0441463243762\" />\n",
       "          <circle cx=\"0\" cy=\"0\" r=\"59.535613285095366\" />\n",
       "          <circle cx=\"0\" cy=\"0\" r=\"91.28623145845656\" />\n",
       "          <circle cx=\"0\" cy=\"0\" r=\"32.32324389102309\" />\n",
       "          <circle cx=\"0\" cy=\"0\" r=\"89.42797746107665\" />\n",
       "          <circle cx=\"0\" cy=\"0\" r=\"0.356357580437186\" />\n",
       "          <circle cx=\"0\" cy=\"0\" r=\"124.22212673977387\" />\n",
       "          <circle cx=\"0\" cy=\"0\" r=\"83.00443072178048\" />\n",
       "          <circle cx=\"0\" cy=\"0\" r=\"4.711509145747833\" />\n",
       "        </g>\n",
       "      </g>\n",
       "      <g transform=\"translate(75 0) scale(0.5 1)\">\n",
       "        <rect x=\"-140.0\" y=\"-140.0\" width=\"280\" height=\"280\" stroke-width=\"5\" />\n",
       "        <g transform=\"scale(0.8333333333333334 0.8333333333333334)\">\n",
       "          <rect x=\"-27.194672636140893\" y=\"-27.194672636140893\" width=\"54.38934527228179\" height=\"54.38934527228179\" />\n",
       "          <rect x=\"-84.14276297116405\" y=\"-84.14276297116405\" width=\"168.2855259423281\" height=\"168.2855259423281\" />\n",
       "          <rect x=\"-57.486374025270514\" y=\"-57.486374025270514\" width=\"114.97274805054103\" height=\"114.97274805054103\" />\n",
       "          <rect x=\"-82.24168313057723\" y=\"-82.24168313057723\" width=\"164.48336626115446\" height=\"164.48336626115446\" />\n",
       "          <rect x=\"-77.54629095376143\" y=\"-77.54629095376143\" width=\"155.09258190752286\" height=\"155.09258190752286\" />\n",
       "          <rect x=\"-102.43577810540518\" y=\"-102.43577810540518\" width=\"204.87155621081035\" height=\"204.87155621081035\" />\n",
       "          <rect x=\"-66.19723533514112\" y=\"-66.19723533514112\" width=\"132.39447067028223\" height=\"132.39447067028223\" />\n",
       "          <rect x=\"-88.90881210130453\" y=\"-88.90881210130453\" width=\"177.81762420260907\" height=\"177.81762420260907\" />\n",
       "          <rect x=\"-45.92148821430478\" y=\"-45.92148821430478\" width=\"91.84297642860956\" height=\"91.84297642860956\" />\n",
       "          <rect x=\"-97.79750614314952\" y=\"-97.79750614314952\" width=\"195.59501228629904\" height=\"195.59501228629904\" />\n",
       "          <rect x=\"-65.89175594454076\" y=\"-65.89175594454076\" width=\"131.78351188908152\" height=\"131.78351188908152\" />\n",
       "          <rect x=\"-46.60361556912814\" y=\"-46.60361556912814\" width=\"93.20723113825628\" height=\"93.20723113825628\" />\n",
       "          <rect x=\"-10.153889954972017\" y=\"-10.153889954972017\" width=\"20.307779909944035\" height=\"20.307779909944035\" />\n",
       "          <rect x=\"-73.79209915472585\" y=\"-73.79209915472585\" width=\"147.5841983094517\" height=\"147.5841983094517\" />\n",
       "          <rect x=\"-35.16172007038568\" y=\"-35.16172007038568\" width=\"70.32344014077135\" height=\"70.32344014077135\" />\n",
       "        </g>\n",
       "      </g>\n",
       "    </g>\n",
       "    <g transform=\"translate(0 -75) scale(1 0.5)\">\n",
       "      <g transform=\"translate(-75 0) scale(0.5 1)\">\n",
       "        <rect x=\"-140.0\" y=\"-140.0\" width=\"280\" height=\"280\" stroke-width=\"5\" />\n",
       "        <g transform=\"scale(0.8333333333333334 0.8333333333333334)\">\n",
       "          <defs>\n",
       "            <ellipse cx=\"0\" cy=\"0\" rx=\"125.0\" ry=\"60.0\" id=\"s-28-p3ld\" />\n",
       "          </defs>\n",
       "          <g>\n",
       "            <use xlink:href=\"#s-28-p3ld\" />\n",
       "            <g transform=\"rotate(22.5)\">\n",
       "              <use xlink:href=\"#s-28-p3ld\" />\n",
       "              <g transform=\"rotate(22.5)\">\n",
       "                <use xlink:href=\"#s-28-p3ld\" />\n",
       "                <g transform=\"rotate(22.5)\">\n",
       "                  <use xlink:href=\"#s-28-p3ld\" />\n",
       "                  <g transform=\"rotate(22.5)\">\n",
       "                    <use xlink:href=\"#s-28-p3ld\" />\n",
       "                    <g transform=\"rotate(22.5)\">\n",
       "                      <use xlink:href=\"#s-28-p3ld\" />\n",
       "                      <g transform=\"rotate(22.5)\">\n",
       "                        <use xlink:href=\"#s-28-p3ld\" />\n",
       "                        <use xlink:href=\"#s-28-p3ld\" transform=\"rotate(22.5)\" />\n",
       "                      </g>\n",
       "                    </g>\n",
       "                  </g>\n",
       "                </g>\n",
       "              </g>\n",
       "            </g>\n",
       "          </g>\n",
       "        </g>\n",
       "      </g>\n",
       "      <g transform=\"translate(75 0) scale(0.5 1)\">\n",
       "        <rect x=\"-140.0\" y=\"-140.0\" width=\"280\" height=\"280\" stroke-width=\"5\" />\n",
       "        <g transform=\"scale(0.8333333333333334 0.8333333333333334)\">\n",
       "          <g transform=\"translate(0 75) scale(1 0.5)\">\n",
       "            <g transform=\"translate(-75 0) scale(0.5 1)\">\n",
       "              <rect x=\"-26.9335740306616\" y=\"-26.9335740306616\" width=\"53.8671480613232\" height=\"53.8671480613232\" />\n",
       "              <rect x=\"-77.82883464820307\" y=\"-77.82883464820307\" width=\"155.65766929640614\" height=\"155.65766929640614\" />\n",
       "              <rect x=\"-65.21102048533147\" y=\"-65.21102048533147\" width=\"130.42204097066295\" height=\"130.42204097066295\" />\n",
       "              <rect x=\"-65.78845390183379\" y=\"-65.78845390183379\" width=\"131.57690780366758\" height=\"131.57690780366758\" />\n",
       "              <rect x=\"-85.61388342069776\" y=\"-85.61388342069776\" width=\"171.22776684139552\" height=\"171.22776684139552\" />\n",
       "              <rect x=\"-27.51141456321217\" y=\"-27.51141456321217\" width=\"55.02282912642434\" height=\"55.02282912642434\" />\n",
       "              <rect x=\"-15.398841055359089\" y=\"-15.398841055359089\" width=\"30.797682110718178\" height=\"30.797682110718178\" />\n",
       "              <rect x=\"-62.56979930215815\" y=\"-62.56979930215815\" width=\"125.1395986043163\" height=\"125.1395986043163\" />\n",
       "              <rect x=\"-26.525508939982693\" y=\"-26.525508939982693\" width=\"53.051017879965386\" height=\"53.051017879965386\" />\n",
       "              <rect x=\"-44.93044557991538\" y=\"-44.93044557991538\" width=\"89.86089115983076\" height=\"89.86089115983076\" />\n",
       "              <rect x=\"-29.73620234193869\" y=\"-29.73620234193869\" width=\"59.47240468387738\" height=\"59.47240468387738\" />\n",
       "              <rect x=\"-123.28289757476644\" y=\"-123.28289757476644\" width=\"246.56579514953287\" height=\"246.56579514953287\" />\n",
       "              <rect x=\"-115.83084925736742\" y=\"-115.83084925736742\" width=\"231.66169851473484\" height=\"231.66169851473484\" />\n",
       "              <rect x=\"-55.19851022898466\" y=\"-55.19851022898466\" width=\"110.39702045796932\" height=\"110.39702045796932\" />\n",
       "              <rect x=\"-44.02806838539962\" y=\"-44.02806838539962\" width=\"88.05613677079924\" height=\"88.05613677079924\" />\n",
       "            </g>\n",
       "            <g transform=\"translate(75 0) scale(0.5 1)\">\n",
       "              <rect x=\"-116.57626363479231\" y=\"-116.57626363479231\" width=\"233.15252726958462\" height=\"233.15252726958462\" />\n",
       "              <rect x=\"-115.10090544547246\" y=\"-115.10090544547246\" width=\"230.20181089094493\" height=\"230.20181089094493\" />\n",
       "              <rect x=\"-82.11710123486402\" y=\"-82.11710123486402\" width=\"164.23420246972805\" height=\"164.23420246972805\" />\n",
       "              <rect x=\"-83.00677766818762\" y=\"-83.00677766818762\" width=\"166.01355533637525\" height=\"166.01355533637525\" />\n",
       "              <rect x=\"-38.58622194301281\" y=\"-38.58622194301281\" width=\"77.17244388602562\" height=\"77.17244388602562\" />\n",
       "              <rect x=\"-124.14498851240309\" y=\"-124.14498851240309\" width=\"248.28997702480618\" height=\"248.28997702480618\" />\n",
       "              <rect x=\"-52.69433556278209\" y=\"-52.69433556278209\" width=\"105.38867112556419\" height=\"105.38867112556419\" />\n",
       "              <rect x=\"-67.13425343715008\" y=\"-67.13425343715008\" width=\"134.26850687430016\" height=\"134.26850687430016\" />\n",
       "              <rect x=\"-21.654854023531943\" y=\"-21.654854023531943\" width=\"43.309708047063886\" height=\"43.309708047063886\" />\n",
       "              <rect x=\"-78.84604712761212\" y=\"-78.84604712761212\" width=\"157.69209425522425\" height=\"157.69209425522425\" />\n",
       "              <rect x=\"-40.3831123772117\" y=\"-40.3831123772117\" width=\"80.7662247544234\" height=\"80.7662247544234\" />\n",
       "              <rect x=\"-102.88461336993889\" y=\"-102.88461336993889\" width=\"205.76922673987778\" height=\"205.76922673987778\" />\n",
       "              <rect x=\"-46.43276256508945\" y=\"-46.43276256508945\" width=\"92.8655251301789\" height=\"92.8655251301789\" />\n",
       "              <rect x=\"-81.92913614293943\" y=\"-81.92913614293943\" width=\"163.85827228587885\" height=\"163.85827228587885\" />\n",
       "              <rect x=\"-25.198208928976396\" y=\"-25.198208928976396\" width=\"50.39641785795279\" height=\"50.39641785795279\" />\n",
       "            </g>\n",
       "          </g>\n",
       "          <g transform=\"translate(0 -75) scale(1 0.5)\">\n",
       "            <g transform=\"translate(-75 0) scale(0.5 1)\">\n",
       "              <rect x=\"-12.864265595861443\" y=\"-12.864265595861443\" width=\"25.728531191722887\" height=\"25.728531191722887\" />\n",
       "              <rect x=\"-92.19310604502343\" y=\"-92.19310604502343\" width=\"184.38621209004685\" height=\"184.38621209004685\" />\n",
       "              <rect x=\"-76.735844076108\" y=\"-76.735844076108\" width=\"153.471688152216\" height=\"153.471688152216\" />\n",
       "              <rect x=\"-39.31761321484598\" y=\"-39.31761321484598\" width=\"78.63522642969195\" height=\"78.63522642969195\" />\n",
       "              <rect x=\"-75.34807221110997\" y=\"-75.34807221110997\" width=\"150.69614442221993\" height=\"150.69614442221993\" />\n",
       "              <rect x=\"-57.48141838726596\" y=\"-57.48141838726596\" width=\"114.96283677453192\" height=\"114.96283677453192\" />\n",
       "              <rect x=\"-15.688191862477163\" y=\"-15.688191862477163\" width=\"31.376383724954326\" height=\"31.376383724954326\" />\n",
       "              <rect x=\"-80.31950654034402\" y=\"-80.31950654034402\" width=\"160.63901308068804\" height=\"160.63901308068804\" />\n",
       "              <rect x=\"-123.03888544808885\" y=\"-123.03888544808885\" width=\"246.0777708961777\" height=\"246.0777708961777\" />\n",
       "              <rect x=\"-101.90251582247464\" y=\"-101.90251582247464\" width=\"203.80503164494928\" height=\"203.80503164494928\" />\n",
       "              <rect x=\"-88.10716332883547\" y=\"-88.10716332883547\" width=\"176.21432665767094\" height=\"176.21432665767094\" />\n",
       "              <rect x=\"-57.32072597738635\" y=\"-57.32072597738635\" width=\"114.6414519547727\" height=\"114.6414519547727\" />\n",
       "              <rect x=\"-72.64155064975621\" y=\"-72.64155064975621\" width=\"145.28310129951242\" height=\"145.28310129951242\" />\n",
       "              <rect x=\"-78.35207577944065\" y=\"-78.35207577944065\" width=\"156.7041515588813\" height=\"156.7041515588813\" />\n",
       "              <rect x=\"-109.66951936228067\" y=\"-109.66951936228067\" width=\"219.33903872456133\" height=\"219.33903872456133\" />\n",
       "            </g>\n",
       "            <g transform=\"translate(75 0) scale(0.5 1)\">\n",
       "              <rect x=\"-17.23677694428359\" y=\"-17.23677694428359\" width=\"34.47355388856718\" height=\"34.47355388856718\" />\n",
       "              <rect x=\"-52.44711544962778\" y=\"-52.44711544962778\" width=\"104.89423089925556\" height=\"104.89423089925556\" />\n",
       "              <rect x=\"-99.50420858273418\" y=\"-99.50420858273418\" width=\"199.00841716546836\" height=\"199.00841716546836\" />\n",
       "              <rect x=\"-12.08945933916522\" y=\"-12.08945933916522\" width=\"24.17891867833044\" height=\"24.17891867833044\" />\n",
       "              <rect x=\"-65.27723771556234\" y=\"-65.27723771556234\" width=\"130.55447543112467\" height=\"130.55447543112467\" />\n",
       "              <rect x=\"-101.2480083752786\" y=\"-101.2480083752786\" width=\"202.4960167505572\" height=\"202.4960167505572\" />\n",
       "              <rect x=\"-108.82174874901165\" y=\"-108.82174874901165\" width=\"217.6434974980233\" height=\"217.6434974980233\" />\n",
       "              <rect x=\"-88.7508210891945\" y=\"-88.7508210891945\" width=\"177.501642178389\" height=\"177.501642178389\" />\n",
       "              <rect x=\"-106.3915199828878\" y=\"-106.3915199828878\" width=\"212.7830399657756\" height=\"212.7830399657756\" />\n",
       "              <rect x=\"-88.73198731710312\" y=\"-88.73198731710312\" width=\"177.46397463420624\" height=\"177.46397463420624\" />\n",
       "              <rect x=\"-50.370672387983845\" y=\"-50.370672387983845\" width=\"100.74134477596769\" height=\"100.74134477596769\" />\n",
       "              <rect x=\"-106.79677635225494\" y=\"-106.79677635225494\" width=\"213.59355270450988\" height=\"213.59355270450988\" />\n",
       "              <rect x=\"-33.845410495561374\" y=\"-33.845410495561374\" width=\"67.69082099112275\" height=\"67.69082099112275\" />\n",
       "              <rect x=\"-57.57701077031889\" y=\"-57.57701077031889\" width=\"115.15402154063779\" height=\"115.15402154063779\" />\n",
       "              <rect x=\"-22.162673767853622\" y=\"-22.162673767853622\" width=\"44.325347535707245\" height=\"44.325347535707245\" />\n",
       "            </g>\n",
       "          </g>\n",
       "        </g>\n",
       "      </g>\n",
       "    </g>\n",
       "  </g>\n",
       "</g>\n",
       "</svg>\n"
      ],
      "text/plain": [
       "<g {}>"
      ]
     },
     "execution_count": 163,
     "metadata": {},
     "output_type": "execute_result"
    }
   ],
   "source": [
    "gallery(random_circles(), random_squares(), random_ellipse_star(), grid_1(random_squares))"
   ]
  },
  {
   "cell_type": "code",
   "execution_count": 164,
   "id": "3169826b-7f2b-4e7e-ae60-208d08117442",
   "metadata": {
    "execution": {
     "iopub.execute_input": "2023-10-17T13:49:17.123577Z",
     "iopub.status.busy": "2023-10-17T13:49:17.123116Z",
     "iopub.status.idle": "2023-10-17T13:49:17.129534Z",
     "shell.execute_reply": "2023-10-17T13:49:17.128761Z",
     "shell.execute_reply.started": "2023-10-17T13:49:17.123550Z"
    }
   },
   "outputs": [
    {
     "data": {
      "text/plain": [
       "7"
      ]
     },
     "execution_count": 164,
     "metadata": {},
     "output_type": "execute_result"
    }
   ],
   "source": [
    "int(random(1, 10))"
   ]
  },
  {
   "cell_type": "code",
   "execution_count": 165,
   "id": "33518ba5-fdc5-4583-8dee-cbd24125d84b",
   "metadata": {
    "execution": {
     "iopub.execute_input": "2023-10-17T13:49:17.131119Z",
     "iopub.status.busy": "2023-10-17T13:49:17.130593Z",
     "iopub.status.idle": "2023-10-17T13:49:17.137764Z",
     "shell.execute_reply": "2023-10-17T13:49:17.137024Z",
     "shell.execute_reply.started": "2023-10-17T13:49:17.131081Z"
    }
   },
   "outputs": [
    {
     "data": {
      "image/svg+xml": [
       "<svg width=\"300\" height=\"300\" viewBox=\"-150 -150 300 300\" fill=\"none\" stroke=\"black\" xmlns=\"http://www.w3.org/2000/svg\" xmlns:xlink=\"http://www.w3.org/1999/xlink\">\n",
       "<g transform=\"scale(1 -1)\">\n",
       "  <g>\n",
       "    <g transform=\"translate(0 75) scale(1 0.5)\">\n",
       "      <g transform=\"translate(-75 0) scale(0.5 1)\">\n",
       "        <g transform=\"translate(0 75) scale(1 0.5)\">\n",
       "          <circle cx=\"0\" cy=\"0\" r=\"100\" transform=\"translate(-75 0) scale(0.5 1)\" />\n",
       "          <circle cx=\"0\" cy=\"0\" r=\"100\" transform=\"translate(75 0) scale(0.5 1)\" />\n",
       "        </g>\n",
       "        <g transform=\"translate(0 -75) scale(1 0.5)\">\n",
       "          <circle cx=\"0\" cy=\"0\" r=\"100\" transform=\"translate(-75 0) scale(0.5 1)\" />\n",
       "          <circle cx=\"0\" cy=\"0\" r=\"100\" transform=\"translate(75 0) scale(0.5 1)\" />\n",
       "        </g>\n",
       "      </g>\n",
       "      <g transform=\"translate(75 0) scale(0.5 1)\">\n",
       "        <g transform=\"translate(0 75) scale(1 0.5)\">\n",
       "          <circle cx=\"0\" cy=\"0\" r=\"100\" transform=\"translate(-75 0) scale(0.5 1)\" />\n",
       "          <circle cx=\"0\" cy=\"0\" r=\"100\" transform=\"translate(75 0) scale(0.5 1)\" />\n",
       "        </g>\n",
       "        <g transform=\"translate(0 -75) scale(1 0.5)\">\n",
       "          <circle cx=\"0\" cy=\"0\" r=\"100\" transform=\"translate(-75 0) scale(0.5 1)\" />\n",
       "          <circle cx=\"0\" cy=\"0\" r=\"100\" transform=\"translate(75 0) scale(0.5 1)\" />\n",
       "        </g>\n",
       "      </g>\n",
       "    </g>\n",
       "    <g transform=\"translate(0 -75) scale(1 0.5)\">\n",
       "      <g transform=\"translate(-75 0) scale(0.5 1)\">\n",
       "        <g transform=\"translate(0 75) scale(1 0.5)\">\n",
       "          <circle cx=\"0\" cy=\"0\" r=\"100\" transform=\"translate(-75 0) scale(0.5 1)\" />\n",
       "          <circle cx=\"0\" cy=\"0\" r=\"100\" transform=\"translate(75 0) scale(0.5 1)\" />\n",
       "        </g>\n",
       "        <g transform=\"translate(0 -75) scale(1 0.5)\">\n",
       "          <circle cx=\"0\" cy=\"0\" r=\"100\" transform=\"translate(-75 0) scale(0.5 1)\" />\n",
       "          <circle cx=\"0\" cy=\"0\" r=\"100\" transform=\"translate(75 0) scale(0.5 1)\" />\n",
       "        </g>\n",
       "      </g>\n",
       "      <g transform=\"translate(75 0) scale(0.5 1)\">\n",
       "        <g transform=\"translate(0 75) scale(1 0.5)\">\n",
       "          <circle cx=\"0\" cy=\"0\" r=\"100\" transform=\"translate(-75 0) scale(0.5 1)\" />\n",
       "          <circle cx=\"0\" cy=\"0\" r=\"100\" transform=\"translate(75 0) scale(0.5 1)\" />\n",
       "        </g>\n",
       "        <g transform=\"translate(0 -75) scale(1 0.5)\">\n",
       "          <circle cx=\"0\" cy=\"0\" r=\"100\" transform=\"translate(-75 0) scale(0.5 1)\" />\n",
       "          <circle cx=\"0\" cy=\"0\" r=\"100\" transform=\"translate(75 0) scale(0.5 1)\" />\n",
       "        </g>\n",
       "      </g>\n",
       "    </g>\n",
       "  </g>\n",
       "</g>\n",
       "</svg>\n"
      ],
      "text/plain": [
       "<g {}>"
      ]
     },
     "execution_count": 165,
     "metadata": {},
     "output_type": "execute_result"
    }
   ],
   "source": [
    "grid_2(circle)"
   ]
  },
  {
   "cell_type": "code",
   "execution_count": 166,
   "id": "5855b1be-8d51-4ca5-86f9-581b37906d95",
   "metadata": {
    "execution": {
     "iopub.execute_input": "2023-10-17T13:49:17.138938Z",
     "iopub.status.busy": "2023-10-17T13:49:17.138689Z",
     "iopub.status.idle": "2023-10-17T13:49:17.144332Z",
     "shell.execute_reply": "2023-10-17T13:49:17.143692Z",
     "shell.execute_reply.started": "2023-10-17T13:49:17.138913Z"
    }
   },
   "outputs": [
    {
     "data": {
      "text/plain": [
       "\u001b[0;31mSignature:\u001b[0m \u001b[0mcircle\u001b[0m\u001b[0;34m(\u001b[0m\u001b[0mx\u001b[0m\u001b[0;34m=\u001b[0m\u001b[0;36m0\u001b[0m\u001b[0;34m,\u001b[0m \u001b[0my\u001b[0m\u001b[0;34m=\u001b[0m\u001b[0;36m0\u001b[0m\u001b[0;34m,\u001b[0m \u001b[0mr\u001b[0m\u001b[0;34m=\u001b[0m\u001b[0;36m100\u001b[0m\u001b[0;34m,\u001b[0m \u001b[0;34m**\u001b[0m\u001b[0mkwargs\u001b[0m\u001b[0;34m)\u001b[0m\u001b[0;34m\u001b[0m\u001b[0;34m\u001b[0m\u001b[0m\n",
       "\u001b[0;31mDocstring:\u001b[0m\n",
       "Creates a circle with center at (x, y) and radius of r.\n",
       "\n",
       "Examples:\n",
       "\n",
       "Draw a circle.\n",
       "\n",
       "    c = circle()\n",
       "    show(c)\n",
       "\n",
       "Draw a circle with radius 50.\n",
       "\n",
       "    c = circle(r=50)\n",
       "    show(c)\n",
       "\n",
       "Draw a circle with center at (10, 20) and a radius of 50.\n",
       "\n",
       "    c = circle(x=10, y=20, r=50)\n",
       "    show(c)\n",
       "\u001b[0;31mFile:\u001b[0m      ~/joy.py\n",
       "\u001b[0;31mType:\u001b[0m      function"
      ]
     },
     "metadata": {},
     "output_type": "display_data"
    }
   ],
   "source": [
    "circle?"
   ]
  },
  {
   "cell_type": "code",
   "execution_count": 167,
   "id": "c307c15a-6f96-469c-8110-14727bc0e5be",
   "metadata": {
    "execution": {
     "iopub.execute_input": "2023-10-17T13:49:17.145567Z",
     "iopub.status.busy": "2023-10-17T13:49:17.145336Z",
     "iopub.status.idle": "2023-10-17T13:49:17.150558Z",
     "shell.execute_reply": "2023-10-17T13:49:17.149922Z",
     "shell.execute_reply.started": "2023-10-17T13:49:17.145543Z"
    }
   },
   "outputs": [
    {
     "data": {
      "text/plain": [
       "\u001b[0;31mSignature:\u001b[0m \u001b[0mellipse_star\u001b[0m\u001b[0;34m(\u001b[0m\u001b[0mn\u001b[0m\u001b[0;34m)\u001b[0m\u001b[0;34m\u001b[0m\u001b[0;34m\u001b[0m\u001b[0m\n",
       "\u001b[0;31mDocstring:\u001b[0m <no docstring>\n",
       "\u001b[0;31mFile:\u001b[0m      /tmp/ipykernel_1151176/2975163437.py\n",
       "\u001b[0;31mType:\u001b[0m      function"
      ]
     },
     "metadata": {},
     "output_type": "display_data"
    }
   ],
   "source": [
    "ellipse_star?"
   ]
  },
  {
   "cell_type": "code",
   "execution_count": 168,
   "id": "58042284-8b27-44f0-8b26-fcbcf829ff5c",
   "metadata": {
    "execution": {
     "iopub.execute_input": "2023-10-17T13:49:17.151919Z",
     "iopub.status.busy": "2023-10-17T13:49:17.151622Z",
     "iopub.status.idle": "2023-10-17T13:49:17.157529Z",
     "shell.execute_reply": "2023-10-17T13:49:17.156512Z",
     "shell.execute_reply.started": "2023-10-17T13:49:17.151888Z"
    }
   },
   "outputs": [
    {
     "data": {
      "text/plain": [
       "\u001b[0;31mSignature:\u001b[0m \u001b[0msquare\u001b[0m\u001b[0;34m(\u001b[0m\u001b[0mw\u001b[0m\u001b[0;34m)\u001b[0m\u001b[0;34m\u001b[0m\u001b[0;34m\u001b[0m\u001b[0m\n",
       "\u001b[0;31mDocstring:\u001b[0m\n",
       "Creates a rectangle with a given width, and height equal to the given width.\n",
       "\n",
       "Example:\n",
       "\n",
       "square(100)\n",
       "Gives a rectangle with width=100, and height equal to width that is, equal to 100.\n",
       "\u001b[0;31mFile:\u001b[0m      ~/wizard.py\n",
       "\u001b[0;31mType:\u001b[0m      function"
      ]
     },
     "metadata": {},
     "output_type": "display_data"
    }
   ],
   "source": [
    "square?"
   ]
  },
  {
   "cell_type": "markdown",
   "id": "a9339e94-309e-4c60-9c31-886a10d22b30",
   "metadata": {},
   "source": [
    "# Session 5 - 13-10-2023"
   ]
  },
  {
   "cell_type": "code",
   "execution_count": 169,
   "id": "dc07f643-9538-41d0-9e85-78ddcd813913",
   "metadata": {
    "execution": {
     "iopub.execute_input": "2023-10-17T13:49:17.158987Z",
     "iopub.status.busy": "2023-10-17T13:49:17.158673Z",
     "iopub.status.idle": "2023-10-17T13:49:17.162813Z",
     "shell.execute_reply": "2023-10-17T13:49:17.162066Z",
     "shell.execute_reply.started": "2023-10-17T13:49:17.158957Z"
    }
   },
   "outputs": [],
   "source": [
    "numbers = [1, 2, 3, 4, 5]"
   ]
  },
  {
   "cell_type": "code",
   "execution_count": 170,
   "id": "571cb4de-d45e-41ab-b6ab-af75c841b850",
   "metadata": {
    "execution": {
     "iopub.execute_input": "2023-10-17T13:49:17.164229Z",
     "iopub.status.busy": "2023-10-17T13:49:17.163994Z",
     "iopub.status.idle": "2023-10-17T13:49:17.167873Z",
     "shell.execute_reply": "2023-10-17T13:49:17.166750Z",
     "shell.execute_reply.started": "2023-10-17T13:49:17.164206Z"
    }
   },
   "outputs": [],
   "source": [
    "numbers.append(6)"
   ]
  },
  {
   "cell_type": "code",
   "execution_count": 171,
   "id": "48eb75b6-5d8a-4082-8bc0-00f75fd94498",
   "metadata": {
    "execution": {
     "iopub.execute_input": "2023-10-17T13:49:17.169003Z",
     "iopub.status.busy": "2023-10-17T13:49:17.168775Z",
     "iopub.status.idle": "2023-10-17T13:49:17.174112Z",
     "shell.execute_reply": "2023-10-17T13:49:17.173262Z",
     "shell.execute_reply.started": "2023-10-17T13:49:17.168980Z"
    }
   },
   "outputs": [
    {
     "data": {
      "text/plain": [
       "[1, 2, 3, 4, 5, 6]"
      ]
     },
     "execution_count": 171,
     "metadata": {},
     "output_type": "execute_result"
    }
   ],
   "source": [
    "numbers"
   ]
  },
  {
   "cell_type": "code",
   "execution_count": 172,
   "id": "24c8238a-25b7-4058-a07c-eb4b05980816",
   "metadata": {
    "execution": {
     "iopub.execute_input": "2023-10-17T13:49:17.175293Z",
     "iopub.status.busy": "2023-10-17T13:49:17.175046Z",
     "iopub.status.idle": "2023-10-17T13:49:17.179685Z",
     "shell.execute_reply": "2023-10-17T13:49:17.178896Z",
     "shell.execute_reply.started": "2023-10-17T13:49:17.175269Z"
    }
   },
   "outputs": [],
   "source": [
    "def squares(numbers):\n",
    "    result = []\n",
    "    for n in numbers:\n",
    "        result.append(n*n)\n",
    "    return result"
   ]
  },
  {
   "cell_type": "code",
   "execution_count": 173,
   "id": "acc0e7c2-4e6d-443d-a89b-abc46492c809",
   "metadata": {
    "execution": {
     "iopub.execute_input": "2023-10-17T13:49:17.180995Z",
     "iopub.status.busy": "2023-10-17T13:49:17.180750Z",
     "iopub.status.idle": "2023-10-17T13:49:17.186340Z",
     "shell.execute_reply": "2023-10-17T13:49:17.185601Z",
     "shell.execute_reply.started": "2023-10-17T13:49:17.180970Z"
    }
   },
   "outputs": [
    {
     "data": {
      "text/plain": [
       "[361, 64, 256]"
      ]
     },
     "execution_count": 173,
     "metadata": {},
     "output_type": "execute_result"
    }
   ],
   "source": [
    "squares([19, 8, 16])"
   ]
  },
  {
   "cell_type": "code",
   "execution_count": 174,
   "id": "82914c01-ae4a-41cf-a938-900be7cf2289",
   "metadata": {
    "execution": {
     "iopub.execute_input": "2023-10-17T13:49:17.187611Z",
     "iopub.status.busy": "2023-10-17T13:49:17.187366Z",
     "iopub.status.idle": "2023-10-17T13:49:17.191679Z",
     "shell.execute_reply": "2023-10-17T13:49:17.190913Z",
     "shell.execute_reply.started": "2023-10-17T13:49:17.187586Z"
    }
   },
   "outputs": [],
   "source": [
    "def new_squares(numbers):\n",
    "    return [n*n for n in numbers]"
   ]
  },
  {
   "cell_type": "code",
   "execution_count": 175,
   "id": "eeb92dde-0303-4f76-bb1f-b113ecc10dcd",
   "metadata": {
    "execution": {
     "iopub.execute_input": "2023-10-17T13:49:17.192951Z",
     "iopub.status.busy": "2023-10-17T13:49:17.192709Z",
     "iopub.status.idle": "2023-10-17T13:49:17.198457Z",
     "shell.execute_reply": "2023-10-17T13:49:17.197708Z",
     "shell.execute_reply.started": "2023-10-17T13:49:17.192926Z"
    }
   },
   "outputs": [
    {
     "data": {
      "text/plain": [
       "[4225, 400, 1156]"
      ]
     },
     "execution_count": 175,
     "metadata": {},
     "output_type": "execute_result"
    }
   ],
   "source": [
    "new_squares([65, 20, 34])"
   ]
  },
  {
   "cell_type": "code",
   "execution_count": 176,
   "id": "70a1a6c7-5132-48a8-b5c9-897b6ba19bac",
   "metadata": {
    "execution": {
     "iopub.execute_input": "2023-10-17T13:49:17.199608Z",
     "iopub.status.busy": "2023-10-17T13:49:17.199379Z",
     "iopub.status.idle": "2023-10-17T13:49:17.204382Z",
     "shell.execute_reply": "2023-10-17T13:49:17.203635Z",
     "shell.execute_reply.started": "2023-10-17T13:49:17.199584Z"
    }
   },
   "outputs": [
    {
     "data": {
      "text/plain": [
       "30"
      ]
     },
     "execution_count": 176,
     "metadata": {},
     "output_type": "execute_result"
    }
   ],
   "source": [
    "sum(new_squares(range(5)))"
   ]
  },
  {
   "cell_type": "code",
   "execution_count": 177,
   "id": "8a0ea905-9f23-40b6-b194-2ffad8c3bbfc",
   "metadata": {
    "execution": {
     "iopub.execute_input": "2023-10-17T13:49:17.205965Z",
     "iopub.status.busy": "2023-10-17T13:49:17.205657Z",
     "iopub.status.idle": "2023-10-17T13:49:17.302321Z",
     "shell.execute_reply": "2023-10-17T13:49:17.301619Z",
     "shell.execute_reply.started": "2023-10-17T13:49:17.205934Z"
    }
   },
   "outputs": [
    {
     "data": {
      "text/plain": [
       "333332833333500000"
      ]
     },
     "execution_count": 177,
     "metadata": {},
     "output_type": "execute_result"
    }
   ],
   "source": [
    "sum(new_squares(range(1000000)))"
   ]
  },
  {
   "cell_type": "code",
   "execution_count": 178,
   "id": "fd78fc8a-a1af-4b2c-8c72-a28507c19632",
   "metadata": {
    "execution": {
     "iopub.execute_input": "2023-10-17T13:49:17.304344Z",
     "iopub.status.busy": "2023-10-17T13:49:17.304124Z",
     "iopub.status.idle": "2023-10-17T13:49:17.310408Z",
     "shell.execute_reply": "2023-10-17T13:49:17.309619Z",
     "shell.execute_reply.started": "2023-10-17T13:49:17.304321Z"
    }
   },
   "outputs": [
    {
     "data": {
      "text/plain": [
       "[0, 4, 16, 36, 64]"
      ]
     },
     "execution_count": 178,
     "metadata": {},
     "output_type": "execute_result"
    }
   ],
   "source": [
    "[n*n for n in range(10) if n%2==0]"
   ]
  },
  {
   "cell_type": "code",
   "execution_count": 179,
   "id": "79a7dd22-8163-4040-b1a5-78272d12093b",
   "metadata": {
    "execution": {
     "iopub.execute_input": "2023-10-17T13:49:17.311663Z",
     "iopub.status.busy": "2023-10-17T13:49:17.311441Z",
     "iopub.status.idle": "2023-10-17T13:49:17.416808Z",
     "shell.execute_reply": "2023-10-17T13:49:17.416126Z",
     "shell.execute_reply.started": "2023-10-17T13:49:17.311640Z"
    }
   },
   "outputs": [
    {
     "data": {
      "text/plain": [
       "166666166667000000"
      ]
     },
     "execution_count": 179,
     "metadata": {},
     "output_type": "execute_result"
    }
   ],
   "source": [
    "sum([n*n for n in range(1000000) if n%2==0])"
   ]
  },
  {
   "cell_type": "code",
   "execution_count": 180,
   "id": "25615806-5d9f-4d07-83ea-356b9c101a49",
   "metadata": {
    "execution": {
     "iopub.execute_input": "2023-10-17T13:49:17.419476Z",
     "iopub.status.busy": "2023-10-17T13:49:17.418667Z",
     "iopub.status.idle": "2023-10-17T13:49:17.425321Z",
     "shell.execute_reply": "2023-10-17T13:49:17.424739Z",
     "shell.execute_reply.started": "2023-10-17T13:49:17.419446Z"
    }
   },
   "outputs": [
    {
     "data": {
      "text/plain": [
       "[0, 5, 10, 15, 20, 25, 30, 35, 40, 45, 50, 55, 60, 65, 70, 75, 80, 85, 90, 95]"
      ]
     },
     "execution_count": 180,
     "metadata": {},
     "output_type": "execute_result"
    }
   ],
   "source": [
    "[n for n in range(100) if n%5==0]"
   ]
  },
  {
   "cell_type": "code",
   "execution_count": 181,
   "id": "dce15366-a0bb-49d1-850b-1f94311e8cee",
   "metadata": {
    "execution": {
     "iopub.execute_input": "2023-10-17T13:49:17.426161Z",
     "iopub.status.busy": "2023-10-17T13:49:17.425949Z",
     "iopub.status.idle": "2023-10-17T13:49:17.431866Z",
     "shell.execute_reply": "2023-10-17T13:49:17.431120Z",
     "shell.execute_reply.started": "2023-10-17T13:49:17.426139Z"
    }
   },
   "outputs": [
    {
     "data": {
      "text/plain": [
       "[0, 5, 10, 15, 20, 25, 30, 35, 40, 45, 50, 55, 60, 65, 70, 75, 80, 85, 90, 95]"
      ]
     },
     "execution_count": 181,
     "metadata": {},
     "output_type": "execute_result"
    }
   ],
   "source": [
    "list(range(0, 100, 5))"
   ]
  },
  {
   "cell_type": "code",
   "execution_count": 182,
   "id": "0c2184cb-2f79-427a-be7a-4a9f886b7221",
   "metadata": {
    "execution": {
     "iopub.execute_input": "2023-10-17T13:49:17.432976Z",
     "iopub.status.busy": "2023-10-17T13:49:17.432743Z",
     "iopub.status.idle": "2023-10-17T13:49:17.436602Z",
     "shell.execute_reply": "2023-10-17T13:49:17.435678Z",
     "shell.execute_reply.started": "2023-10-17T13:49:17.432954Z"
    }
   },
   "outputs": [],
   "source": [
    "import math"
   ]
  },
  {
   "cell_type": "code",
   "execution_count": 183,
   "id": "255f9363-a30d-4a29-b5e9-2e2e399614dd",
   "metadata": {
    "execution": {
     "iopub.execute_input": "2023-10-17T13:49:17.437589Z",
     "iopub.status.busy": "2023-10-17T13:49:17.437350Z",
     "iopub.status.idle": "2023-10-17T13:49:17.442032Z",
     "shell.execute_reply": "2023-10-17T13:49:17.441092Z",
     "shell.execute_reply.started": "2023-10-17T13:49:17.437565Z"
    }
   },
   "outputs": [],
   "source": [
    "step = 4.5\n",
    "n=math.ceil(100/step)"
   ]
  },
  {
   "cell_type": "code",
   "execution_count": 184,
   "id": "c51f028a-d605-49e3-baf3-bdb3c680b239",
   "metadata": {
    "execution": {
     "iopub.execute_input": "2023-10-17T13:49:17.443662Z",
     "iopub.status.busy": "2023-10-17T13:49:17.443154Z",
     "iopub.status.idle": "2023-10-17T13:49:17.448629Z",
     "shell.execute_reply": "2023-10-17T13:49:17.447482Z",
     "shell.execute_reply.started": "2023-10-17T13:49:17.443630Z"
    }
   },
   "outputs": [
    {
     "data": {
      "text/plain": [
       "23"
      ]
     },
     "execution_count": 184,
     "metadata": {},
     "output_type": "execute_result"
    }
   ],
   "source": [
    "n"
   ]
  },
  {
   "cell_type": "code",
   "execution_count": 185,
   "id": "1cca981b-c8c0-4c82-8519-05399227965a",
   "metadata": {
    "execution": {
     "iopub.execute_input": "2023-10-17T13:49:17.449690Z",
     "iopub.status.busy": "2023-10-17T13:49:17.449449Z",
     "iopub.status.idle": "2023-10-17T13:49:17.456007Z",
     "shell.execute_reply": "2023-10-17T13:49:17.455235Z",
     "shell.execute_reply.started": "2023-10-17T13:49:17.449665Z"
    }
   },
   "outputs": [
    {
     "data": {
      "text/plain": [
       "[0.0,\n",
       " 4.5,\n",
       " 9.0,\n",
       " 13.5,\n",
       " 18.0,\n",
       " 22.5,\n",
       " 27.0,\n",
       " 31.5,\n",
       " 36.0,\n",
       " 40.5,\n",
       " 45.0,\n",
       " 49.5,\n",
       " 54.0,\n",
       " 58.5,\n",
       " 63.0,\n",
       " 67.5,\n",
       " 72.0,\n",
       " 76.5,\n",
       " 81.0,\n",
       " 85.5,\n",
       " 90.0,\n",
       " 94.5,\n",
       " 99.0]"
      ]
     },
     "execution_count": 185,
     "metadata": {},
     "output_type": "execute_result"
    }
   ],
   "source": [
    "[i*step for i in range(n)]"
   ]
  },
  {
   "cell_type": "code",
   "execution_count": 186,
   "id": "1757b26c-e63a-42cf-80bb-0882471b23a3",
   "metadata": {
    "execution": {
     "iopub.execute_input": "2023-10-17T13:49:17.457249Z",
     "iopub.status.busy": "2023-10-17T13:49:17.457010Z",
     "iopub.status.idle": "2023-10-17T13:49:17.462700Z",
     "shell.execute_reply": "2023-10-17T13:49:17.462067Z",
     "shell.execute_reply.started": "2023-10-17T13:49:17.457224Z"
    }
   },
   "outputs": [
    {
     "data": {
      "text/plain": [
       "23"
      ]
     },
     "execution_count": 186,
     "metadata": {},
     "output_type": "execute_result"
    }
   ],
   "source": [
    "math.ceil(22.22)"
   ]
  },
  {
   "cell_type": "code",
   "execution_count": 187,
   "id": "17a4c68e-8de0-4ff6-908c-5f0c9ccbaf8c",
   "metadata": {
    "execution": {
     "iopub.execute_input": "2023-10-17T13:49:17.463993Z",
     "iopub.status.busy": "2023-10-17T13:49:17.463760Z",
     "iopub.status.idle": "2023-10-17T13:49:17.468597Z",
     "shell.execute_reply": "2023-10-17T13:49:17.467979Z",
     "shell.execute_reply.started": "2023-10-17T13:49:17.463968Z"
    }
   },
   "outputs": [
    {
     "data": {
      "text/plain": [
       "22"
      ]
     },
     "execution_count": 187,
     "metadata": {},
     "output_type": "execute_result"
    }
   ],
   "source": [
    "math.floor(22.22)"
   ]
  },
  {
   "cell_type": "markdown",
   "id": "7cfa13f0-4d5b-4688-88f4-33793895ec2b",
   "metadata": {},
   "source": [
    "## Concentric Circles"
   ]
  },
  {
   "cell_type": "code",
   "execution_count": 188,
   "id": "d734a6cd-0b54-4bc4-b928-639d76b5a6d0",
   "metadata": {
    "execution": {
     "iopub.execute_input": "2023-10-17T13:49:17.469678Z",
     "iopub.status.busy": "2023-10-17T13:49:17.469447Z",
     "iopub.status.idle": "2023-10-17T13:49:17.473614Z",
     "shell.execute_reply": "2023-10-17T13:49:17.472820Z",
     "shell.execute_reply.started": "2023-10-17T13:49:17.469653Z"
    }
   },
   "outputs": [],
   "source": [
    "radius = 100\n",
    "n=4"
   ]
  },
  {
   "cell_type": "code",
   "execution_count": 189,
   "id": "1698822f-45fe-4150-ada1-e1d28b07bab1",
   "metadata": {
    "execution": {
     "iopub.execute_input": "2023-10-17T13:49:17.475252Z",
     "iopub.status.busy": "2023-10-17T13:49:17.474879Z",
     "iopub.status.idle": "2023-10-17T13:49:17.481786Z",
     "shell.execute_reply": "2023-10-17T13:49:17.481029Z",
     "shell.execute_reply.started": "2023-10-17T13:49:17.475212Z"
    }
   },
   "outputs": [
    {
     "data": {
      "image/svg+xml": [
       "<svg width=\"300\" height=\"300\" viewBox=\"-150 -150 300 300\" fill=\"none\" stroke=\"black\" xmlns=\"http://www.w3.org/2000/svg\" xmlns:xlink=\"http://www.w3.org/1999/xlink\">\n",
       "<g transform=\"scale(1 -1)\">\n",
       "  <g>\n",
       "    <g>\n",
       "      <g>\n",
       "        <circle cx=\"0\" cy=\"0\" r=\"100\" />\n",
       "        <circle cx=\"0\" cy=\"0\" r=\"90\" />\n",
       "      </g>\n",
       "      <circle cx=\"0\" cy=\"0\" r=\"80\" />\n",
       "    </g>\n",
       "    <circle cx=\"0\" cy=\"0\" r=\"70\" />\n",
       "  </g>\n",
       "</g>\n",
       "</svg>\n"
      ],
      "text/plain": [
       "<g {}>"
      ]
     },
     "execution_count": 189,
     "metadata": {},
     "output_type": "execute_result"
    }
   ],
   "source": [
    "circle(r=100)+circle(r=90)+circle(r=80)+circle(r=70)"
   ]
  },
  {
   "cell_type": "code",
   "execution_count": 190,
   "id": "815321ae-b405-4599-83b8-59a6b6c77a34",
   "metadata": {
    "execution": {
     "iopub.execute_input": "2023-10-17T13:49:17.482748Z",
     "iopub.status.busy": "2023-10-17T13:49:17.482518Z",
     "iopub.status.idle": "2023-10-17T13:49:17.488903Z",
     "shell.execute_reply": "2023-10-17T13:49:17.488060Z",
     "shell.execute_reply.started": "2023-10-17T13:49:17.482724Z"
    }
   },
   "outputs": [
    {
     "data": {
      "image/svg+xml": [
       "<svg width=\"300\" height=\"300\" viewBox=\"-150 -150 300 300\" fill=\"none\" stroke=\"black\" xmlns=\"http://www.w3.org/2000/svg\" xmlns:xlink=\"http://www.w3.org/1999/xlink\">\n",
       "<g transform=\"scale(1 -1)\">\n",
       "  <g>\n",
       "    <g>\n",
       "      <g>\n",
       "        <circle cx=\"0\" cy=\"0\" r=\"100\" />\n",
       "        <circle cx=\"0\" cy=\"0\" r=\"75\" />\n",
       "      </g>\n",
       "      <circle cx=\"0\" cy=\"0\" r=\"50\" />\n",
       "    </g>\n",
       "    <circle cx=\"0\" cy=\"0\" r=\"25\" />\n",
       "  </g>\n",
       "</g>\n",
       "</svg>\n"
      ],
      "text/plain": [
       "<g {}>"
      ]
     },
     "execution_count": 190,
     "metadata": {},
     "output_type": "execute_result"
    }
   ],
   "source": [
    "circle(r=100)+circle(r=75)+circle(r=50)+circle(r=25)"
   ]
  },
  {
   "cell_type": "code",
   "execution_count": 191,
   "id": "fb8b3a32-a1a2-4961-b190-b21261352a36",
   "metadata": {
    "execution": {
     "iopub.execute_input": "2023-10-17T13:49:17.490031Z",
     "iopub.status.busy": "2023-10-17T13:49:17.489758Z",
     "iopub.status.idle": "2023-10-17T13:49:17.496164Z",
     "shell.execute_reply": "2023-10-17T13:49:17.495435Z",
     "shell.execute_reply.started": "2023-10-17T13:49:17.490006Z"
    }
   },
   "outputs": [
    {
     "data": {
      "image/svg+xml": [
       "<svg width=\"300\" height=\"300\" viewBox=\"-150 -150 300 300\" fill=\"none\" stroke=\"black\" xmlns=\"http://www.w3.org/2000/svg\" xmlns:xlink=\"http://www.w3.org/1999/xlink\">\n",
       "<g transform=\"scale(1 -1)\">\n",
       "  <g>\n",
       "    <g>\n",
       "      <g>\n",
       "        <g>\n",
       "          <circle cx=\"0\" cy=\"0\" r=\"100\" />\n",
       "          <circle cx=\"0\" cy=\"0\" r=\"80\" />\n",
       "        </g>\n",
       "        <circle cx=\"0\" cy=\"0\" r=\"60\" />\n",
       "      </g>\n",
       "      <circle cx=\"0\" cy=\"0\" r=\"40\" />\n",
       "    </g>\n",
       "    <circle cx=\"0\" cy=\"0\" r=\"20\" />\n",
       "  </g>\n",
       "</g>\n",
       "</svg>\n"
      ],
      "text/plain": [
       "<g {}>"
      ]
     },
     "execution_count": 191,
     "metadata": {},
     "output_type": "execute_result"
    }
   ],
   "source": [
    "circle(r=100)+circle(r=80)+circle(r=60)+circle(r=40)+circle(r=20)"
   ]
  },
  {
   "cell_type": "code",
   "execution_count": 192,
   "id": "383fa553-5c25-4bd3-aba2-b93a2c4b80e7",
   "metadata": {
    "execution": {
     "iopub.execute_input": "2023-10-17T13:49:17.497508Z",
     "iopub.status.busy": "2023-10-17T13:49:17.497262Z",
     "iopub.status.idle": "2023-10-17T13:49:17.501011Z",
     "shell.execute_reply": "2023-10-17T13:49:17.500262Z",
     "shell.execute_reply.started": "2023-10-17T13:49:17.497483Z"
    }
   },
   "outputs": [],
   "source": [
    "radius = 100\n",
    "n=4\n",
    "\n",
    "delta = radius/n"
   ]
  },
  {
   "cell_type": "code",
   "execution_count": 193,
   "id": "7bb12f88-e193-4c5b-80ce-aca4c0897d1e",
   "metadata": {
    "execution": {
     "iopub.execute_input": "2023-10-17T13:49:17.502099Z",
     "iopub.status.busy": "2023-10-17T13:49:17.501870Z",
     "iopub.status.idle": "2023-10-17T13:49:17.506490Z",
     "shell.execute_reply": "2023-10-17T13:49:17.505890Z",
     "shell.execute_reply.started": "2023-10-17T13:49:17.502075Z"
    }
   },
   "outputs": [
    {
     "data": {
      "text/plain": [
       "25.0"
      ]
     },
     "execution_count": 193,
     "metadata": {},
     "output_type": "execute_result"
    }
   ],
   "source": [
    "delta"
   ]
  },
  {
   "cell_type": "code",
   "execution_count": 194,
   "id": "18b1ce83-e20a-443f-9926-f2abce315c6b",
   "metadata": {
    "execution": {
     "iopub.execute_input": "2023-10-17T13:49:17.507498Z",
     "iopub.status.busy": "2023-10-17T13:49:17.507281Z",
     "iopub.status.idle": "2023-10-17T13:49:17.513562Z",
     "shell.execute_reply": "2023-10-17T13:49:17.512969Z",
     "shell.execute_reply.started": "2023-10-17T13:49:17.507474Z"
    }
   },
   "outputs": [
    {
     "data": {
      "text/plain": [
       "[25.0, 50.0, 75.0, 100.0]"
      ]
     },
     "execution_count": 194,
     "metadata": {},
     "output_type": "execute_result"
    }
   ],
   "source": [
    "[i*delta for i in range(1, n+1)]"
   ]
  },
  {
   "cell_type": "code",
   "execution_count": 195,
   "id": "b60fe524-ec14-4e1f-a947-f7fdd06c5d1a",
   "metadata": {
    "execution": {
     "iopub.execute_input": "2023-10-17T13:49:17.514720Z",
     "iopub.status.busy": "2023-10-17T13:49:17.514492Z",
     "iopub.status.idle": "2023-10-17T13:49:17.518461Z",
     "shell.execute_reply": "2023-10-17T13:49:17.517581Z",
     "shell.execute_reply.started": "2023-10-17T13:49:17.514696Z"
    }
   },
   "outputs": [],
   "source": [
    "circles = [circle(r = i*delta) for i in range(1, n+1)]"
   ]
  },
  {
   "cell_type": "code",
   "execution_count": 196,
   "id": "aaf27e73-63c0-4d3e-93a1-85f4a6e4223c",
   "metadata": {
    "execution": {
     "iopub.execute_input": "2023-10-17T13:49:17.520060Z",
     "iopub.status.busy": "2023-10-17T13:49:17.519759Z",
     "iopub.status.idle": "2023-10-17T13:49:17.525345Z",
     "shell.execute_reply": "2023-10-17T13:49:17.524503Z",
     "shell.execute_reply.started": "2023-10-17T13:49:17.520029Z"
    }
   },
   "outputs": [
    {
     "data": {
      "text/plain": [
       "[<circle {'cx': 0, 'cy': 0, 'r': 25.0}>,\n",
       " <circle {'cx': 0, 'cy': 0, 'r': 50.0}>,\n",
       " <circle {'cx': 0, 'cy': 0, 'r': 75.0}>,\n",
       " <circle {'cx': 0, 'cy': 0, 'r': 100.0}>]"
      ]
     },
     "execution_count": 196,
     "metadata": {},
     "output_type": "execute_result"
    }
   ],
   "source": [
    "circles"
   ]
  },
  {
   "cell_type": "code",
   "execution_count": 197,
   "id": "3663ac2e-ff18-4ad9-b495-5bbcaf2e6686",
   "metadata": {
    "execution": {
     "iopub.execute_input": "2023-10-17T13:49:17.532535Z",
     "iopub.status.busy": "2023-10-17T13:49:17.532262Z",
     "iopub.status.idle": "2023-10-17T13:49:17.538280Z",
     "shell.execute_reply": "2023-10-17T13:49:17.537461Z",
     "shell.execute_reply.started": "2023-10-17T13:49:17.532508Z"
    }
   },
   "outputs": [
    {
     "data": {
      "image/svg+xml": [
       "<svg width=\"300\" height=\"300\" viewBox=\"-150 -150 300 300\" fill=\"none\" stroke=\"black\" xmlns=\"http://www.w3.org/2000/svg\" xmlns:xlink=\"http://www.w3.org/1999/xlink\">\n",
       "<g transform=\"scale(1 -1)\">\n",
       "  <circle cx=\"0\" cy=\"0\" r=\"100.0\" />\n",
       "</g>\n",
       "</svg>\n"
      ],
      "text/plain": [
       "<circle {'cx': 0, 'cy': 0, 'r': 100.0}>"
      ]
     },
     "execution_count": 197,
     "metadata": {},
     "output_type": "execute_result"
    }
   ],
   "source": [
    "circles[3]"
   ]
  },
  {
   "cell_type": "code",
   "execution_count": 198,
   "id": "b8458259-f172-45ab-b24b-ae7cdae549cf",
   "metadata": {
    "execution": {
     "iopub.execute_input": "2023-10-17T13:49:17.539716Z",
     "iopub.status.busy": "2023-10-17T13:49:17.539418Z",
     "iopub.status.idle": "2023-10-17T13:49:17.545091Z",
     "shell.execute_reply": "2023-10-17T13:49:17.544293Z",
     "shell.execute_reply.started": "2023-10-17T13:49:17.539685Z"
    }
   },
   "outputs": [
    {
     "data": {
      "image/svg+xml": [
       "<svg width=\"300\" height=\"300\" viewBox=\"-150 -150 300 300\" fill=\"none\" stroke=\"black\" xmlns=\"http://www.w3.org/2000/svg\" xmlns:xlink=\"http://www.w3.org/1999/xlink\">\n",
       "<g transform=\"scale(1 -1)\">\n",
       "  <g>\n",
       "    <circle cx=\"0\" cy=\"0\" r=\"25.0\" />\n",
       "    <circle cx=\"0\" cy=\"0\" r=\"50.0\" />\n",
       "    <circle cx=\"0\" cy=\"0\" r=\"75.0\" />\n",
       "    <circle cx=\"0\" cy=\"0\" r=\"100.0\" />\n",
       "  </g>\n",
       "</g>\n",
       "</svg>\n"
      ],
      "text/plain": [
       "<g {}>"
      ]
     },
     "execution_count": 198,
     "metadata": {},
     "output_type": "execute_result"
    }
   ],
   "source": [
    "combine(circles)"
   ]
  },
  {
   "cell_type": "code",
   "execution_count": 199,
   "id": "6463667e-2ce1-4370-b651-df1c920ce42d",
   "metadata": {
    "execution": {
     "iopub.execute_input": "2023-10-17T13:49:17.546474Z",
     "iopub.status.busy": "2023-10-17T13:49:17.546226Z",
     "iopub.status.idle": "2023-10-17T13:49:17.551222Z",
     "shell.execute_reply": "2023-10-17T13:49:17.550408Z",
     "shell.execute_reply.started": "2023-10-17T13:49:17.546449Z"
    }
   },
   "outputs": [],
   "source": [
    "def concentric_circles(radius, n):\n",
    "    delta = radius/n\n",
    "    circles = [circle(r=i*delta) for i in range(1, n+1)]\n",
    "    return combine(circles)"
   ]
  },
  {
   "cell_type": "code",
   "execution_count": 200,
   "id": "6f394531-9829-4cdb-99b6-967b566de3b7",
   "metadata": {
    "execution": {
     "iopub.execute_input": "2023-10-17T13:49:17.552732Z",
     "iopub.status.busy": "2023-10-17T13:49:17.552239Z",
     "iopub.status.idle": "2023-10-17T13:49:17.558335Z",
     "shell.execute_reply": "2023-10-17T13:49:17.557666Z",
     "shell.execute_reply.started": "2023-10-17T13:49:17.552700Z"
    }
   },
   "outputs": [
    {
     "data": {
      "image/svg+xml": [
       "<svg width=\"300\" height=\"300\" viewBox=\"-150 -150 300 300\" fill=\"none\" stroke=\"black\" xmlns=\"http://www.w3.org/2000/svg\" xmlns:xlink=\"http://www.w3.org/1999/xlink\">\n",
       "<g transform=\"scale(1 -1)\">\n",
       "  <g>\n",
       "    <circle cx=\"0\" cy=\"0\" r=\"20.0\" />\n",
       "    <circle cx=\"0\" cy=\"0\" r=\"40.0\" />\n",
       "    <circle cx=\"0\" cy=\"0\" r=\"60.0\" />\n",
       "    <circle cx=\"0\" cy=\"0\" r=\"80.0\" />\n",
       "    <circle cx=\"0\" cy=\"0\" r=\"100.0\" />\n",
       "  </g>\n",
       "</g>\n",
       "</svg>\n"
      ],
      "text/plain": [
       "<g {}>"
      ]
     },
     "execution_count": 200,
     "metadata": {},
     "output_type": "execute_result"
    }
   ],
   "source": [
    "concentric_circles(100, 5)"
   ]
  },
  {
   "cell_type": "code",
   "execution_count": 201,
   "id": "1287dbef-1446-453f-8c61-6c78a5d4cc45",
   "metadata": {
    "execution": {
     "iopub.execute_input": "2023-10-17T13:49:17.559281Z",
     "iopub.status.busy": "2023-10-17T13:49:17.559047Z",
     "iopub.status.idle": "2023-10-17T13:49:17.564213Z",
     "shell.execute_reply": "2023-10-17T13:49:17.563607Z",
     "shell.execute_reply.started": "2023-10-17T13:49:17.559257Z"
    }
   },
   "outputs": [
    {
     "data": {
      "image/svg+xml": [
       "<svg width=\"300\" height=\"300\" viewBox=\"-150 -150 300 300\" fill=\"none\" stroke=\"black\" xmlns=\"http://www.w3.org/2000/svg\" xmlns:xlink=\"http://www.w3.org/1999/xlink\">\n",
       "<g transform=\"scale(1 -1)\">\n",
       "  <g>\n",
       "    <circle cx=\"0\" cy=\"0\" r=\"2.0\" />\n",
       "    <circle cx=\"0\" cy=\"0\" r=\"4.0\" />\n",
       "    <circle cx=\"0\" cy=\"0\" r=\"6.0\" />\n",
       "    <circle cx=\"0\" cy=\"0\" r=\"8.0\" />\n",
       "    <circle cx=\"0\" cy=\"0\" r=\"10.0\" />\n",
       "  </g>\n",
       "</g>\n",
       "</svg>\n"
      ],
      "text/plain": [
       "<g {}>"
      ]
     },
     "execution_count": 201,
     "metadata": {},
     "output_type": "execute_result"
    }
   ],
   "source": [
    "concentric_circles(10, 5)"
   ]
  },
  {
   "cell_type": "code",
   "execution_count": 202,
   "id": "6d982a60-c8bd-48d7-b34c-6bd2f5c4473b",
   "metadata": {
    "execution": {
     "iopub.execute_input": "2023-10-17T13:49:17.565165Z",
     "iopub.status.busy": "2023-10-17T13:49:17.564934Z",
     "iopub.status.idle": "2023-10-17T13:49:17.571439Z",
     "shell.execute_reply": "2023-10-17T13:49:17.570600Z",
     "shell.execute_reply.started": "2023-10-17T13:49:17.565140Z"
    }
   },
   "outputs": [
    {
     "data": {
      "image/svg+xml": [
       "<svg width=\"300\" height=\"300\" viewBox=\"-150 -150 300 300\" fill=\"none\" stroke=\"black\" xmlns=\"http://www.w3.org/2000/svg\" xmlns:xlink=\"http://www.w3.org/1999/xlink\">\n",
       "<g transform=\"scale(1 -1)\">\n",
       "  <g>\n",
       "    <circle cx=\"0\" cy=\"0\" r=\"5.0\" />\n",
       "    <circle cx=\"0\" cy=\"0\" r=\"10.0\" />\n",
       "    <circle cx=\"0\" cy=\"0\" r=\"15.0\" />\n",
       "    <circle cx=\"0\" cy=\"0\" r=\"20.0\" />\n",
       "    <circle cx=\"0\" cy=\"0\" r=\"25.0\" />\n",
       "    <circle cx=\"0\" cy=\"0\" r=\"30.0\" />\n",
       "    <circle cx=\"0\" cy=\"0\" r=\"35.0\" />\n",
       "    <circle cx=\"0\" cy=\"0\" r=\"40.0\" />\n",
       "    <circle cx=\"0\" cy=\"0\" r=\"45.0\" />\n",
       "    <circle cx=\"0\" cy=\"0\" r=\"50.0\" />\n",
       "    <circle cx=\"0\" cy=\"0\" r=\"55.0\" />\n",
       "    <circle cx=\"0\" cy=\"0\" r=\"60.0\" />\n",
       "    <circle cx=\"0\" cy=\"0\" r=\"65.0\" />\n",
       "    <circle cx=\"0\" cy=\"0\" r=\"70.0\" />\n",
       "    <circle cx=\"0\" cy=\"0\" r=\"75.0\" />\n",
       "    <circle cx=\"0\" cy=\"0\" r=\"80.0\" />\n",
       "    <circle cx=\"0\" cy=\"0\" r=\"85.0\" />\n",
       "    <circle cx=\"0\" cy=\"0\" r=\"90.0\" />\n",
       "    <circle cx=\"0\" cy=\"0\" r=\"95.0\" />\n",
       "    <circle cx=\"0\" cy=\"0\" r=\"100.0\" />\n",
       "  </g>\n",
       "</g>\n",
       "</svg>\n"
      ],
      "text/plain": [
       "<g {}>"
      ]
     },
     "execution_count": 202,
     "metadata": {},
     "output_type": "execute_result"
    }
   ],
   "source": [
    "concentric_circles(100, 20)"
   ]
  },
  {
   "cell_type": "markdown",
   "id": "65d3cbff-89e4-401c-839c-1a5962804e11",
   "metadata": {},
   "source": [
    "## A Row of Shapes"
   ]
  },
  {
   "cell_type": "code",
   "execution_count": 203,
   "id": "1497bbf9-2cc6-4a8d-a501-af02583bb6a5",
   "metadata": {
    "execution": {
     "iopub.execute_input": "2023-10-17T13:49:17.572988Z",
     "iopub.status.busy": "2023-10-17T13:49:17.572676Z",
     "iopub.status.idle": "2023-10-17T13:49:17.576937Z",
     "shell.execute_reply": "2023-10-17T13:49:17.576118Z",
     "shell.execute_reply.started": "2023-10-17T13:49:17.572956Z"
    }
   },
   "outputs": [],
   "source": [
    "s1=circle()\n",
    "s2=rectangle()"
   ]
  },
  {
   "cell_type": "code",
   "execution_count": 204,
   "id": "f135845f-e965-4455-9eca-326bab290be4",
   "metadata": {
    "execution": {
     "iopub.execute_input": "2023-10-17T13:49:17.578064Z",
     "iopub.status.busy": "2023-10-17T13:49:17.577845Z",
     "iopub.status.idle": "2023-10-17T13:49:17.582554Z",
     "shell.execute_reply": "2023-10-17T13:49:17.582005Z",
     "shell.execute_reply.started": "2023-10-17T13:49:17.578041Z"
    }
   },
   "outputs": [
    {
     "data": {
      "image/svg+xml": [
       "<svg width=\"300\" height=\"300\" viewBox=\"-150 -150 300 300\" fill=\"none\" stroke=\"black\" xmlns=\"http://www.w3.org/2000/svg\" xmlns:xlink=\"http://www.w3.org/1999/xlink\">\n",
       "<g transform=\"scale(1 -1)\">\n",
       "  <g>\n",
       "    <circle cx=\"0\" cy=\"0\" r=\"100\" />\n",
       "    <rect x=\"-100.0\" y=\"-50.0\" width=\"200\" height=\"100\" />\n",
       "  </g>\n",
       "</g>\n",
       "</svg>\n"
      ],
      "text/plain": [
       "<g {}>"
      ]
     },
     "execution_count": 204,
     "metadata": {},
     "output_type": "execute_result"
    }
   ],
   "source": [
    "s1+s2"
   ]
  },
  {
   "cell_type": "code",
   "execution_count": 205,
   "id": "4159adc8-083e-4c6b-91d8-b0ea76c0d050",
   "metadata": {
    "execution": {
     "iopub.execute_input": "2023-10-17T13:49:17.583699Z",
     "iopub.status.busy": "2023-10-17T13:49:17.583480Z",
     "iopub.status.idle": "2023-10-17T13:49:17.589176Z",
     "shell.execute_reply": "2023-10-17T13:49:17.588615Z",
     "shell.execute_reply.started": "2023-10-17T13:49:17.583677Z"
    }
   },
   "outputs": [
    {
     "data": {
      "image/svg+xml": [
       "<svg width=\"300\" height=\"300\" viewBox=\"-150 -150 300 300\" fill=\"none\" stroke=\"black\" xmlns=\"http://www.w3.org/2000/svg\" xmlns:xlink=\"http://www.w3.org/1999/xlink\">\n",
       "<g transform=\"scale(1 -1)\">\n",
       "  <g>\n",
       "    <circle cx=\"0\" cy=\"0\" r=\"100\" transform=\"translate(-100 0) scale(0.5 0.5)\" />\n",
       "    <rect x=\"-100.0\" y=\"-50.0\" width=\"200\" height=\"100\" transform=\"translate(100 0) scale(0.5 0.5)\" />\n",
       "  </g>\n",
       "</g>\n",
       "</svg>\n"
      ],
      "text/plain": [
       "<g {}>"
      ]
     },
     "execution_count": 205,
     "metadata": {},
     "output_type": "execute_result"
    }
   ],
   "source": [
    "a=s1|scale(0.5)|translate(x=-100)\n",
    "\n",
    "b=s2|scale(0.5)|translate(x=100)\n",
    "\n",
    "a+b"
   ]
  },
  {
   "cell_type": "code",
   "execution_count": 206,
   "id": "23fad770-969a-4794-8d35-89c18b3dea81",
   "metadata": {
    "execution": {
     "iopub.execute_input": "2023-10-17T13:49:17.590276Z",
     "iopub.status.busy": "2023-10-17T13:49:17.590053Z",
     "iopub.status.idle": "2023-10-17T13:49:17.594475Z",
     "shell.execute_reply": "2023-10-17T13:49:17.593589Z",
     "shell.execute_reply.started": "2023-10-17T13:49:17.590254Z"
    }
   },
   "outputs": [],
   "source": [
    "s1=concentric_circles(150, 1)\n",
    "s2=concentric_circles(150, 2)\n",
    "s3=concentric_circles(150, 3)\n",
    "s4=concentric_circles(150, 4)"
   ]
  },
  {
   "cell_type": "code",
   "execution_count": 207,
   "id": "831420c1-829a-4bd8-b81f-7977423e79c8",
   "metadata": {
    "execution": {
     "iopub.execute_input": "2023-10-17T13:49:17.595625Z",
     "iopub.status.busy": "2023-10-17T13:49:17.595388Z",
     "iopub.status.idle": "2023-10-17T13:49:17.602375Z",
     "shell.execute_reply": "2023-10-17T13:49:17.601574Z",
     "shell.execute_reply.started": "2023-10-17T13:49:17.595601Z"
    }
   },
   "outputs": [
    {
     "data": {
      "image/svg+xml": [
       "<svg width=\"300\" height=\"300\" viewBox=\"-150 -150 300 300\" fill=\"none\" stroke=\"black\" xmlns=\"http://www.w3.org/2000/svg\" xmlns:xlink=\"http://www.w3.org/1999/xlink\">\n",
       "<g transform=\"scale(1 -1)\">\n",
       "  <g>\n",
       "    <g>\n",
       "      <g transform=\"translate(-100 0) scale(0.3333333333333333 0.3333333333333333)\">\n",
       "        <circle cx=\"0\" cy=\"0\" r=\"150.0\" />\n",
       "      </g>\n",
       "      <g transform=\"scale(0.3333333333333333 0.3333333333333333)\">\n",
       "        <circle cx=\"0\" cy=\"0\" r=\"75.0\" />\n",
       "        <circle cx=\"0\" cy=\"0\" r=\"150.0\" />\n",
       "      </g>\n",
       "    </g>\n",
       "    <g transform=\"translate(100 0) scale(0.3333333333333333 0.3333333333333333)\">\n",
       "      <circle cx=\"0\" cy=\"0\" r=\"50.0\" />\n",
       "      <circle cx=\"0\" cy=\"0\" r=\"100.0\" />\n",
       "      <circle cx=\"0\" cy=\"0\" r=\"150.0\" />\n",
       "    </g>\n",
       "  </g>\n",
       "</g>\n",
       "</svg>\n"
      ],
      "text/plain": [
       "<g {}>"
      ]
     },
     "execution_count": 207,
     "metadata": {},
     "output_type": "execute_result"
    }
   ],
   "source": [
    "a=s1|scale(1/3)|translate(x=-100)\n",
    "b=s2|scale(1/3)\n",
    "c=s3|scale(1/3)|translate(x=100)\n",
    "\n",
    "a+b+c"
   ]
  },
  {
   "cell_type": "code",
   "execution_count": 208,
   "id": "4d39c78b-f76d-4481-bc4a-14ad47c369b1",
   "metadata": {
    "execution": {
     "iopub.execute_input": "2023-10-17T13:49:17.603503Z",
     "iopub.status.busy": "2023-10-17T13:49:17.603200Z",
     "iopub.status.idle": "2023-10-17T13:49:17.611538Z",
     "shell.execute_reply": "2023-10-17T13:49:17.610546Z",
     "shell.execute_reply.started": "2023-10-17T13:49:17.603471Z"
    }
   },
   "outputs": [
    {
     "data": {
      "image/svg+xml": [
       "<svg width=\"300\" height=\"300\" viewBox=\"-150 -150 300 300\" fill=\"none\" stroke=\"black\" xmlns=\"http://www.w3.org/2000/svg\" xmlns:xlink=\"http://www.w3.org/1999/xlink\">\n",
       "<g transform=\"scale(1 -1)\">\n",
       "  <g transform=\"translate(-112.5 0)\">\n",
       "    <g>\n",
       "      <g>\n",
       "        <g transform=\"translate(0 0) scale(0.25 0.25)\">\n",
       "          <circle cx=\"0\" cy=\"0\" r=\"150.0\" />\n",
       "        </g>\n",
       "        <g transform=\"translate(75.0 0) scale(0.25 0.25)\">\n",
       "          <circle cx=\"0\" cy=\"0\" r=\"75.0\" />\n",
       "          <circle cx=\"0\" cy=\"0\" r=\"150.0\" />\n",
       "        </g>\n",
       "      </g>\n",
       "      <g transform=\"translate(150.0 0) scale(0.25 0.25)\">\n",
       "        <circle cx=\"0\" cy=\"0\" r=\"50.0\" />\n",
       "        <circle cx=\"0\" cy=\"0\" r=\"100.0\" />\n",
       "        <circle cx=\"0\" cy=\"0\" r=\"150.0\" />\n",
       "      </g>\n",
       "    </g>\n",
       "    <g transform=\"translate(225.0 0) scale(0.25 0.25)\">\n",
       "      <circle cx=\"0\" cy=\"0\" r=\"37.5\" />\n",
       "      <circle cx=\"0\" cy=\"0\" r=\"75.0\" />\n",
       "      <circle cx=\"0\" cy=\"0\" r=\"112.5\" />\n",
       "      <circle cx=\"0\" cy=\"0\" r=\"150.0\" />\n",
       "    </g>\n",
       "  </g>\n",
       "</g>\n",
       "</svg>\n"
      ],
      "text/plain": [
       "<g {}>"
      ]
     },
     "execution_count": 208,
     "metadata": {},
     "output_type": "execute_result"
    }
   ],
   "source": [
    "dx = 300/4\n",
    "a=s1|scale(1/4)|translate(x=0)\n",
    "b=s2|scale(1/4)|translate(x=dx)\n",
    "c=s3|scale(1/4)|translate(x=2*dx)\n",
    "d=s4|scale(1/4)|translate(x=3*dx)\n",
    "\n",
    "shape = a+b+c+d\n",
    "\n",
    "shape|translate(x=-150+dx/2)"
   ]
  },
  {
   "cell_type": "code",
   "execution_count": 209,
   "id": "d1bcbbeb-be97-45bd-8238-3588c5266537",
   "metadata": {
    "execution": {
     "iopub.execute_input": "2023-10-17T13:49:17.613198Z",
     "iopub.status.busy": "2023-10-17T13:49:17.612904Z",
     "iopub.status.idle": "2023-10-17T13:49:17.618543Z",
     "shell.execute_reply": "2023-10-17T13:49:17.617626Z",
     "shell.execute_reply.started": "2023-10-17T13:49:17.613165Z"
    }
   },
   "outputs": [],
   "source": [
    "def row(shapes):\n",
    "    n=len(shapes)\n",
    "    dx=300/n\n",
    "    offset=-150 + dx/2\n",
    "    new_shapes=[shapes[i]|scale(1/n)|translate(x=dx*i) for i in range(n)]\n",
    "    return combine(new_shapes)|translate(x=offset)"
   ]
  },
  {
   "cell_type": "code",
   "execution_count": 210,
   "id": "7c4b397d-1eaa-4314-83dc-437a01bcf38b",
   "metadata": {
    "execution": {
     "iopub.execute_input": "2023-10-17T13:49:17.619543Z",
     "iopub.status.busy": "2023-10-17T13:49:17.619311Z",
     "iopub.status.idle": "2023-10-17T13:49:17.624783Z",
     "shell.execute_reply": "2023-10-17T13:49:17.623809Z",
     "shell.execute_reply.started": "2023-10-17T13:49:17.619520Z"
    }
   },
   "outputs": [
    {
     "data": {
      "image/svg+xml": [
       "<svg width=\"300\" height=\"300\" viewBox=\"-150 -150 300 300\" fill=\"none\" stroke=\"black\" xmlns=\"http://www.w3.org/2000/svg\" xmlns:xlink=\"http://www.w3.org/1999/xlink\">\n",
       "<g transform=\"scale(1 -1)\">\n",
       "  <g transform=\"translate(-75.0 0)\">\n",
       "    <g transform=\"translate(0.0 0) scale(0.5 0.5)\">\n",
       "      <circle cx=\"0\" cy=\"0\" r=\"150.0\" />\n",
       "    </g>\n",
       "    <g transform=\"translate(150.0 0) scale(0.5 0.5)\">\n",
       "      <circle cx=\"0\" cy=\"0\" r=\"75.0\" />\n",
       "      <circle cx=\"0\" cy=\"0\" r=\"150.0\" />\n",
       "    </g>\n",
       "  </g>\n",
       "</g>\n",
       "</svg>\n"
      ],
      "text/plain": [
       "<g {}>"
      ]
     },
     "execution_count": 210,
     "metadata": {},
     "output_type": "execute_result"
    }
   ],
   "source": [
    "row([s1, s2])"
   ]
  },
  {
   "cell_type": "code",
   "execution_count": 211,
   "id": "b0d8de2c-6e03-482f-859f-fd84706cc16c",
   "metadata": {
    "execution": {
     "iopub.execute_input": "2023-10-17T13:49:17.626213Z",
     "iopub.status.busy": "2023-10-17T13:49:17.625932Z",
     "iopub.status.idle": "2023-10-17T13:49:17.631823Z",
     "shell.execute_reply": "2023-10-17T13:49:17.631122Z",
     "shell.execute_reply.started": "2023-10-17T13:49:17.626184Z"
    }
   },
   "outputs": [
    {
     "data": {
      "image/svg+xml": [
       "<svg width=\"300\" height=\"300\" viewBox=\"-150 -150 300 300\" fill=\"none\" stroke=\"black\" xmlns=\"http://www.w3.org/2000/svg\" xmlns:xlink=\"http://www.w3.org/1999/xlink\">\n",
       "<g transform=\"scale(1 -1)\">\n",
       "  <g transform=\"translate(-75.0 0)\">\n",
       "    <g transform=\"translate(0.0 0) scale(0.5 0.5)\">\n",
       "      <circle cx=\"0\" cy=\"0\" r=\"15.0\" />\n",
       "      <circle cx=\"0\" cy=\"0\" r=\"30.0\" />\n",
       "      <circle cx=\"0\" cy=\"0\" r=\"45.0\" />\n",
       "      <circle cx=\"0\" cy=\"0\" r=\"60.0\" />\n",
       "      <circle cx=\"0\" cy=\"0\" r=\"75.0\" />\n",
       "      <circle cx=\"0\" cy=\"0\" r=\"90.0\" />\n",
       "      <circle cx=\"0\" cy=\"0\" r=\"105.0\" />\n",
       "      <circle cx=\"0\" cy=\"0\" r=\"120.0\" />\n",
       "      <circle cx=\"0\" cy=\"0\" r=\"135.0\" />\n",
       "      <circle cx=\"0\" cy=\"0\" r=\"150.0\" />\n",
       "    </g>\n",
       "    <g transform=\"translate(150.0 0) scale(0.5 0.5)\">\n",
       "      <circle cx=\"0\" cy=\"0\" r=\"37.5\" />\n",
       "      <circle cx=\"0\" cy=\"0\" r=\"75.0\" />\n",
       "      <circle cx=\"0\" cy=\"0\" r=\"112.5\" />\n",
       "      <circle cx=\"0\" cy=\"0\" r=\"150.0\" />\n",
       "    </g>\n",
       "  </g>\n",
       "</g>\n",
       "</svg>\n"
      ],
      "text/plain": [
       "<g {}>"
      ]
     },
     "execution_count": 211,
     "metadata": {},
     "output_type": "execute_result"
    }
   ],
   "source": [
    "row([concentric_circles(150, 10), concentric_circles(150, 4)])"
   ]
  },
  {
   "cell_type": "code",
   "execution_count": 212,
   "id": "fc306c30-13ca-4502-a5f0-994f2580246d",
   "metadata": {
    "execution": {
     "iopub.execute_input": "2023-10-17T13:49:17.633315Z",
     "iopub.status.busy": "2023-10-17T13:49:17.633009Z",
     "iopub.status.idle": "2023-10-17T13:49:17.640114Z",
     "shell.execute_reply": "2023-10-17T13:49:17.639277Z",
     "shell.execute_reply.started": "2023-10-17T13:49:17.633281Z"
    }
   },
   "outputs": [
    {
     "data": {
      "image/svg+xml": [
       "<svg width=\"300\" height=\"300\" viewBox=\"-150 -150 300 300\" fill=\"none\" stroke=\"black\" xmlns=\"http://www.w3.org/2000/svg\" xmlns:xlink=\"http://www.w3.org/1999/xlink\">\n",
       "<g transform=\"scale(1 -1)\">\n",
       "  <g transform=\"translate(-120.0 0)\">\n",
       "    <g transform=\"translate(0.0 0) scale(0.2 0.2)\">\n",
       "      <circle cx=\"0\" cy=\"0\" r=\"150.0\" />\n",
       "    </g>\n",
       "    <g transform=\"translate(60.0 0) scale(0.2 0.2)\">\n",
       "      <circle cx=\"0\" cy=\"0\" r=\"75.0\" />\n",
       "      <circle cx=\"0\" cy=\"0\" r=\"150.0\" />\n",
       "    </g>\n",
       "    <g transform=\"translate(120.0 0) scale(0.2 0.2)\">\n",
       "      <circle cx=\"0\" cy=\"0\" r=\"50.0\" />\n",
       "      <circle cx=\"0\" cy=\"0\" r=\"100.0\" />\n",
       "      <circle cx=\"0\" cy=\"0\" r=\"150.0\" />\n",
       "    </g>\n",
       "    <g transform=\"translate(180.0 0) scale(0.2 0.2)\">\n",
       "      <circle cx=\"0\" cy=\"0\" r=\"37.5\" />\n",
       "      <circle cx=\"0\" cy=\"0\" r=\"75.0\" />\n",
       "      <circle cx=\"0\" cy=\"0\" r=\"112.5\" />\n",
       "      <circle cx=\"0\" cy=\"0\" r=\"150.0\" />\n",
       "    </g>\n",
       "    <g transform=\"translate(240.0 0) scale(0.2 0.2)\">\n",
       "      <circle cx=\"0\" cy=\"0\" r=\"30.0\" />\n",
       "      <circle cx=\"0\" cy=\"0\" r=\"60.0\" />\n",
       "      <circle cx=\"0\" cy=\"0\" r=\"90.0\" />\n",
       "      <circle cx=\"0\" cy=\"0\" r=\"120.0\" />\n",
       "      <circle cx=\"0\" cy=\"0\" r=\"150.0\" />\n",
       "    </g>\n",
       "  </g>\n",
       "</g>\n",
       "</svg>\n"
      ],
      "text/plain": [
       "<g {}>"
      ]
     },
     "execution_count": 212,
     "metadata": {},
     "output_type": "execute_result"
    }
   ],
   "source": [
    "row([concentric_circles(150, 1),\n",
    "     concentric_circles(150, 2),\n",
    "     concentric_circles(150, 3),\n",
    "     concentric_circles(150, 4), \n",
    "     concentric_circles(150, 5)])"
   ]
  },
  {
   "cell_type": "code",
   "execution_count": 213,
   "id": "7b9c6258-1ed1-4a8a-9635-ca12e10e989b",
   "metadata": {
    "execution": {
     "iopub.execute_input": "2023-10-17T13:49:17.641117Z",
     "iopub.status.busy": "2023-10-17T13:49:17.640889Z",
     "iopub.status.idle": "2023-10-17T13:49:17.645442Z",
     "shell.execute_reply": "2023-10-17T13:49:17.644402Z",
     "shell.execute_reply.started": "2023-10-17T13:49:17.641093Z"
    }
   },
   "outputs": [],
   "source": [
    "def row_of_concentric_circles(n):\n",
    "    shapes=[concentric_circles(150, n-i) for i in range(n)]\n",
    "    return row(shapes)"
   ]
  },
  {
   "cell_type": "code",
   "execution_count": 214,
   "id": "9b1ee4f4-e327-4991-82b2-830a3dd03359",
   "metadata": {
    "execution": {
     "iopub.execute_input": "2023-10-17T13:49:17.646998Z",
     "iopub.status.busy": "2023-10-17T13:49:17.646752Z",
     "iopub.status.idle": "2023-10-17T13:49:17.653191Z",
     "shell.execute_reply": "2023-10-17T13:49:17.652420Z",
     "shell.execute_reply.started": "2023-10-17T13:49:17.646973Z"
    }
   },
   "outputs": [
    {
     "data": {
      "image/svg+xml": [
       "<svg width=\"300\" height=\"300\" viewBox=\"-150 -150 300 300\" fill=\"none\" stroke=\"black\" xmlns=\"http://www.w3.org/2000/svg\" xmlns:xlink=\"http://www.w3.org/1999/xlink\">\n",
       "<g transform=\"scale(1 -1)\">\n",
       "  <g transform=\"translate(-120.0 0)\">\n",
       "    <g transform=\"translate(0.0 0) scale(0.2 0.2)\">\n",
       "      <circle cx=\"0\" cy=\"0\" r=\"30.0\" />\n",
       "      <circle cx=\"0\" cy=\"0\" r=\"60.0\" />\n",
       "      <circle cx=\"0\" cy=\"0\" r=\"90.0\" />\n",
       "      <circle cx=\"0\" cy=\"0\" r=\"120.0\" />\n",
       "      <circle cx=\"0\" cy=\"0\" r=\"150.0\" />\n",
       "    </g>\n",
       "    <g transform=\"translate(60.0 0) scale(0.2 0.2)\">\n",
       "      <circle cx=\"0\" cy=\"0\" r=\"37.5\" />\n",
       "      <circle cx=\"0\" cy=\"0\" r=\"75.0\" />\n",
       "      <circle cx=\"0\" cy=\"0\" r=\"112.5\" />\n",
       "      <circle cx=\"0\" cy=\"0\" r=\"150.0\" />\n",
       "    </g>\n",
       "    <g transform=\"translate(120.0 0) scale(0.2 0.2)\">\n",
       "      <circle cx=\"0\" cy=\"0\" r=\"50.0\" />\n",
       "      <circle cx=\"0\" cy=\"0\" r=\"100.0\" />\n",
       "      <circle cx=\"0\" cy=\"0\" r=\"150.0\" />\n",
       "    </g>\n",
       "    <g transform=\"translate(180.0 0) scale(0.2 0.2)\">\n",
       "      <circle cx=\"0\" cy=\"0\" r=\"75.0\" />\n",
       "      <circle cx=\"0\" cy=\"0\" r=\"150.0\" />\n",
       "    </g>\n",
       "    <g transform=\"translate(240.0 0) scale(0.2 0.2)\">\n",
       "      <circle cx=\"0\" cy=\"0\" r=\"150.0\" />\n",
       "    </g>\n",
       "  </g>\n",
       "</g>\n",
       "</svg>\n"
      ],
      "text/plain": [
       "<g {}>"
      ]
     },
     "execution_count": 214,
     "metadata": {},
     "output_type": "execute_result"
    }
   ],
   "source": [
    "row_of_concentric_circles(5)"
   ]
  },
  {
   "cell_type": "code",
   "execution_count": 215,
   "id": "5d215b9d-df0a-48d7-bcb4-3818bb4a4cf3",
   "metadata": {
    "execution": {
     "iopub.execute_input": "2023-10-17T13:49:17.654693Z",
     "iopub.status.busy": "2023-10-17T13:49:17.654273Z",
     "iopub.status.idle": "2023-10-17T13:49:17.660587Z",
     "shell.execute_reply": "2023-10-17T13:49:17.659761Z",
     "shell.execute_reply.started": "2023-10-17T13:49:17.654662Z"
    }
   },
   "outputs": [
    {
     "data": {
      "text/plain": [
       "[1, 2, 3, 4, 5]"
      ]
     },
     "execution_count": 215,
     "metadata": {},
     "output_type": "execute_result"
    }
   ],
   "source": [
    "[i+1 for i in range(5)]"
   ]
  },
  {
   "cell_type": "code",
   "execution_count": 216,
   "id": "e5c5648b-4cbc-42a8-bf5a-9fbb0662d958",
   "metadata": {
    "execution": {
     "iopub.execute_input": "2023-10-17T13:49:17.661621Z",
     "iopub.status.busy": "2023-10-17T13:49:17.661387Z",
     "iopub.status.idle": "2023-10-17T13:49:17.667124Z",
     "shell.execute_reply": "2023-10-17T13:49:17.666493Z",
     "shell.execute_reply.started": "2023-10-17T13:49:17.661596Z"
    }
   },
   "outputs": [
    {
     "data": {
      "text/plain": [
       "[5, 4, 3, 2, 1]"
      ]
     },
     "execution_count": 216,
     "metadata": {},
     "output_type": "execute_result"
    }
   ],
   "source": [
    "[5-i for i in range(5)]"
   ]
  },
  {
   "cell_type": "code",
   "execution_count": null,
   "id": "2a5a8c92-86ee-4083-bc2a-2377136ac901",
   "metadata": {},
   "outputs": [],
   "source": []
  }
 ],
 "metadata": {
  "kernelspec": {
   "display_name": "Python 3 (ipykernel)",
   "language": "python",
   "name": "python3"
  },
  "language_info": {
   "codemirror_mode": {
    "name": "ipython",
    "version": 3
   },
   "file_extension": ".py",
   "mimetype": "text/x-python",
   "name": "python",
   "nbconvert_exporter": "python",
   "pygments_lexer": "ipython3",
   "version": "3.10.10"
  }
 },
 "nbformat": 4,
 "nbformat_minor": 5
}
